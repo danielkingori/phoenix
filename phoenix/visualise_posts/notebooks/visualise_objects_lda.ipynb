{
 "cells": [
  {
   "cell_type": "code",
   "execution_count": null,
   "id": "c58382e6",
   "metadata": {},
   "outputs": [],
   "source": [
    "%load_ext autoreload\n",
    "%autoreload 2"
   ]
  },
  {
   "cell_type": "code",
   "execution_count": null,
   "id": "09f68fb5",
   "metadata": {},
   "outputs": [],
   "source": [
    "import datetime\n",
    "\n",
    "import arabic_reshaper\n",
    "from bidi.algorithm import get_display\n",
    "import matplotlib.pyplot as plt\n",
    "import numpy as np\n",
    "import pandas as pd\n",
    "import seaborn as sns\n",
    "from snowballstemmer import stemmer\n",
    "from sklearn.feature_extraction.text import CountVectorizer\n",
    "from sklearn.model_selection import GridSearchCV\n",
    "from sklearn.decomposition import LatentDirichletAllocation\n",
    "import tentaclio\n",
    "\n",
    "from phoenix.common import artifacts\n",
    "from phoenix.common import utils\n",
    "from phoenix.visualise_posts import lda\n"
   ]
  },
  {
   "cell_type": "code",
   "execution_count": null,
   "id": "69fa0853",
   "metadata": {},
   "outputs": [],
   "source": [
    "utils.setup_notebook_output()\n",
    "utils.setup_notebook_logging()"
   ]
  },
  {
   "cell_type": "code",
   "execution_count": null,
   "id": "c4058dc9",
   "metadata": {},
   "outputs": [],
   "source": [
    "# Parametrise the run execution date.\n",
    "# Format of the run date\n",
    "RUN_DATE_FORMAT = \"%Y-%m-%d\"\n",
    "# This can be overwritten at execution time by Papermill to enable historic runs and backfills etc.\n",
    "RUN_DATE = datetime.datetime.today().strftime(RUN_DATE_FORMAT)\n",
    "RUN_DATE = \"2021-05-04\"\n",
    "\n",
    "# Set Artefacts URL\n",
    "ARTIFACTS_BASE_URL = f\"{artifacts.urls.get_local()}{RUN_DATE}/\"\n",
    "\n",
    "# Set dataset name\n",
    "DATASET_NAME = \"all_posts\"\n",
    "\n",
    "# Input CSV\n",
    "INPUT_CSV = f\"{artifacts.urls.get_local()}input.csv\"\n",
    "\n",
    "# Features artifact df\n",
    "\n",
    "FEATURES_URL = f\"{ARTIFACTS_BASE_URL}features_posts.parquet\""
   ]
  },
  {
   "cell_type": "code",
   "execution_count": null,
   "id": "2e9f1e9d",
   "metadata": {},
   "outputs": [],
   "source": [
    "# Display params.\n",
    "print(\n",
    "ARTIFACTS_BASE_URL,\n",
    "INPUT_CSV,\n",
    "FEATURES_URL,\n",
    "DATASET_NAME,\n",
    "RUN_DATE,\n",
    "sep='\\n',\n",
    ")"
   ]
  },
  {
   "cell_type": "code",
   "execution_count": null,
   "id": "b76dfccd",
   "metadata": {},
   "outputs": [],
   "source": [
    "features_df = artifacts.dataframes.get(FEATURES_URL).dataframe"
   ]
  },
  {
   "cell_type": "code",
   "execution_count": null,
   "id": "15441bca",
   "metadata": {},
   "outputs": [],
   "source": [
    "# This block will not be needed later on as we'll expect only a message/object_id?"
   ]
  },
  {
   "cell_type": "code",
   "execution_count": null,
   "id": "4a8f1b22",
   "metadata": {},
   "outputs": [],
   "source": [
    "# Split based on language.\n",
    "dfs = {lang:df for lang, df in features_df.groupby('language')}"
   ]
  },
  {
   "cell_type": "code",
   "execution_count": null,
   "id": "26b3ba2b",
   "metadata": {},
   "outputs": [],
   "source": [
    "df_big = dfs[\"ar\"]"
   ]
  },
  {
   "cell_type": "code",
   "execution_count": null,
   "id": "efca4184",
   "metadata": {},
   "outputs": [],
   "source": [
    "df_big = df_big.groupby(\"post_index\").first().reset_index()"
   ]
  },
  {
   "cell_type": "code",
   "execution_count": null,
   "id": "fd43b299",
   "metadata": {},
   "outputs": [],
   "source": [
    "df = df_big[[\"message\", \"post_index\"]]"
   ]
  },
  {
   "cell_type": "code",
   "execution_count": null,
   "id": "39f79a6a",
   "metadata": {},
   "outputs": [],
   "source": [
    "# This block will not be needed later on as we'll expect only a message + object_id?"
   ]
  },
  {
   "cell_type": "code",
   "execution_count": null,
   "id": "d43c517e",
   "metadata": {},
   "outputs": [],
   "source": [
    "df"
   ]
  },
  {
   "cell_type": "code",
   "execution_count": null,
   "id": "6f14da40",
   "metadata": {},
   "outputs": [],
   "source": [
    "clean_df = lda.remove_links(df, \"message\")"
   ]
  },
  {
   "cell_type": "code",
   "execution_count": null,
   "id": "5d40b646",
   "metadata": {},
   "outputs": [],
   "source": [
    "count_vectorizer = lda.StemmedCountVectorizer(stemmer(\"arabic\"), stop_words=lda.get_stopwords())"
   ]
  },
  {
   "cell_type": "code",
   "execution_count": null,
   "id": "19f3ec50",
   "metadata": {},
   "outputs": [],
   "source": [
    "word_matrix = count_vectorizer.fit_transform(clean_df[\"message\"])"
   ]
  },
  {
   "cell_type": "code",
   "execution_count": null,
   "id": "ea99affc",
   "metadata": {},
   "outputs": [],
   "source": [
    "word_matrix"
   ]
  },
  {
   "cell_type": "code",
   "execution_count": null,
   "id": "b0a44e0c",
   "metadata": {},
   "outputs": [],
   "source": [
    "count_vectorizer.plot_most_common_words(word_matrix, 15)"
   ]
  },
  {
   "cell_type": "code",
   "execution_count": null,
   "id": "75789f0d",
   "metadata": {},
   "outputs": [],
   "source": [
    "count_vectorizer.get_most_common_words(word_matrix)"
   ]
  },
  {
   "cell_type": "code",
   "execution_count": null,
   "id": "039590df",
   "metadata": {},
   "outputs": [],
   "source": [
    "# Future check: first 1-3k words in 'arabic' tagged language are roman alphabet  \n",
    "count_vectorizer.get_feature_names()"
   ]
  },
  {
   "cell_type": "code",
   "execution_count": null,
   "id": "47320647",
   "metadata": {},
   "outputs": [],
   "source": [
    "# Simple grid search of best hyperparams for the LDA model\n",
    "search_params = {'n_components': [10, 20, 30, 40], 'max_iter': [10, 20, 40]}\n",
    "\n",
    "model = GridSearchCV(LatentDirichletAllocation(), cv = None, param_grid = search_params)\n",
    "model.fit(word_matrix) "
   ]
  },
  {
   "cell_type": "code",
   "execution_count": null,
   "id": "842b8928",
   "metadata": {},
   "outputs": [],
   "source": [
    "with tentaclio.open(f\"{ARTIFACTS_BASE_URL}{DATASET_NAME}_lda_wordcloud.png\", mode='wb') as writer:\n",
    "    lda.save_plot_top_lda_words(\n",
    "        model.best_estimator_, count_vectorizer.get_feature_names(), 15, f\"{DATASET_NAME} Cloud Groupings\", writer\n",
    "    )"
   ]
  },
  {
   "cell_type": "code",
   "execution_count": null,
   "id": "fc4d4593",
   "metadata": {},
   "outputs": [],
   "source": [
    "tagged_df = lda.write_cloud_results(df, word_matrix, model.best_estimator_)"
   ]
  },
  {
   "cell_type": "code",
   "execution_count": null,
   "id": "e2c1307d",
   "metadata": {},
   "outputs": [],
   "source": [
    "tagged_df"
   ]
  },
  {
   "cell_type": "code",
   "execution_count": null,
   "id": "c604c512",
   "metadata": {},
   "outputs": [],
   "source": [
    "# Save the (Grid search of the) LDA model\n",
    "with tentaclio.open(f\"{ARTIFACTS_BASE_URL}{DATASET_NAME}_lda_model.sav\", mode='wb') as writer:\n",
    "    pickle.dump(model, writer)"
   ]
  },
  {
   "cell_type": "code",
   "execution_count": null,
   "id": "dd8ac622",
   "metadata": {},
   "outputs": [],
   "source": [
    "# Save the Count vectorizer model\n",
    "with tentaclio.open(f\"{ARTIFACTS_BASE_URL}{DATASET_NAME}_count_vectorizer.sav\", mode='wb') as writer:\n",
    "    pickle.dump(count_vectorizer, writer)"
   ]
  },
  {
   "cell_type": "code",
   "execution_count": null,
   "id": "576e2d4a",
   "metadata": {},
   "outputs": [],
   "source": [
    "# Save the tagged dataset\n",
    "lda.persist(f\"{ARTIFACTS_BASE_URL}{DATASET_NAME}_tagged_df\" ,tagged_df)"
   ]
  }
 ],
 "metadata": {
  "kernelspec": {
   "display_name": "Python 3",
   "language": "python",
   "name": "python3"
  },
  "language_info": {
   "codemirror_mode": {
    "name": "ipython",
    "version": 3
   },
   "file_extension": ".py",
   "mimetype": "text/x-python",
   "name": "python",
   "nbconvert_exporter": "python",
   "pygments_lexer": "ipython3",
   "version": "3.7.4"
  }
 },
 "nbformat": 4,
 "nbformat_minor": 5
}
