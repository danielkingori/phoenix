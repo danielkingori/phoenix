{
 "cells": [
  {
   "cell_type": "markdown",
   "id": "ee6b9aae-e9ca-427a-9e6f-08d8a92633c9",
   "metadata": {},
   "source": [
    "# Finalise facebook comments topics\n",
    "Finalises the facebook comments topics.\n",
    "And persists it to s3.\n",
    "See docs for more information."
   ]
  },
  {
   "cell_type": "code",
   "execution_count": null,
   "id": "d20f471a-a32b-4071-84d1-64cf435ceb27",
   "metadata": {},
   "outputs": [],
   "source": [
    "%load_ext autoreload\n",
    "%autoreload 2"
   ]
  },
  {
   "cell_type": "code",
   "execution_count": null,
   "id": "72f8c18b-ddf0-4b81-87a0-2c6947ad6d06",
   "metadata": {},
   "outputs": [],
   "source": [
    "import datetime\n",
    "\n",
    "import pandas as pd\n",
    "import tentaclio\n",
    "\n",
    "from phoenix.common import artifacts, run_params\n",
    "from phoenix.common import utils\n",
    "from phoenix.tag import export\n",
    "from phoenix.tag import finalise\n",
    "from phoenix.tag import object_filters"
   ]
  },
  {
   "cell_type": "code",
   "execution_count": null,
   "id": "f6e5ba25-e8b3-43de-ac2e-f9969d6da660",
   "metadata": {},
   "outputs": [],
   "source": [
    "utils.setup_notebook_output()\n",
    "utils.setup_notebook_logging()"
   ]
  },
  {
   "cell_type": "code",
   "execution_count": null,
   "id": "7f0f8264-bba9-4f73-bde8-fa415edebb0f",
   "metadata": {
    "tags": [
     "parameters"
    ]
   },
   "outputs": [],
   "source": [
    "# Parameters\n",
    "# See phoenix/common/run_datetime.py expected format of parameter\n",
    "RUN_DATETIME = None\n",
    "TENANT_ID = None\n",
    "\n",
    "# See phoenix/common/artifacts/registry_environment.py expected format of parameter\n",
    "ARTIFACTS_ENVIRONMENT_KEY = \"local\"\n",
    "\n",
    "# Filters for batch\n",
    "YEAR_FILTER = 2021\n",
    "# Without zero padding\n",
    "MONTH_FILTER = 8\n",
    "OBJECT_TYPE = \"facebook_comments\"\n",
    "\n",
    "# OUTPUT\n",
    "FINAL_URL_FACEBOOK_COMMENTS_TOPICS = None\n",
    "RENAME_TOPIC_TO_CLASS = False"
   ]
  },
  {
   "cell_type": "code",
   "execution_count": null,
   "id": "752325e5-c9ec-4b56-aba8-0f9c497c4799",
   "metadata": {},
   "outputs": [],
   "source": [
    "cur_run_params = run_params.general.create(ARTIFACTS_ENVIRONMENT_KEY, TENANT_ID, RUN_DATETIME)\n",
    "    \n",
    "url_config = {\n",
    "    \"YEAR_FILTER\": int(YEAR_FILTER),\n",
    "    \"MONTH_FILTER\": int(MONTH_FILTER),\n",
    "    \"OBJECT_TYPE\": OBJECT_TYPE\n",
    "}\n",
    "\n",
    "TAGGING_RUNS_URL_TOPICS = cur_run_params.art_url_reg.get_url(\"tagging_runs-topics\", url_config)\n",
    "TAGGING_RUNS_URL_FACEBOOK_POSTS_TOPICS_FINAL = cur_run_params.art_url_reg.get_url(\"tagging_runs-facebook_posts_topics_final\", url_config)\n",
    "TAGGING_RUNS_URL_FACEBOOK_COMMENTS_FINAL = cur_run_params.art_url_reg.get_url(\"tagging_runs-facebook_comments_final\", url_config)\n",
    "TAGGING_RUNS_URL_FACEBOOK_COMMENTS_TOPICS_FINAL = cur_run_params.art_url_reg.get_url(\"tagging_runs-facebook_comments_topics_final\", url_config)\n",
    "if not FINAL_URL_FACEBOOK_COMMENTS_TOPICS and not RENAME_TOPIC_TO_CLASS:\n",
    "    FINAL_URL_FACEBOOK_COMMENTS_TOPICS = cur_run_params.art_url_reg.get_url(\"final-facebook_comments_topics\", url_config)\n",
    "\n",
    "if not FINAL_URL_FACEBOOK_COMMENTS_TOPICS and RENAME_TOPIC_TO_CLASS:\n",
    "    FINAL_URL_FACEBOOK_COMMENTS_TOPICS = cur_run_params.art_url_reg.get_url(\"final-facebook_comments_classes\", url_config)"
   ]
  },
  {
   "cell_type": "code",
   "execution_count": null,
   "id": "eb190492-9a3c-4114-8bce-2729d6e9210a",
   "metadata": {},
   "outputs": [],
   "source": [
    "# Display params.\n",
    "print(\n",
    "TAGGING_RUNS_URL_TOPICS,\n",
    "TAGGING_RUNS_URL_FACEBOOK_POSTS_TOPICS_FINAL,\n",
    "TAGGING_RUNS_URL_FACEBOOK_COMMENTS_FINAL,\n",
    "TAGGING_RUNS_URL_FACEBOOK_COMMENTS_TOPICS_FINAL,\n",
    "FINAL_URL_FACEBOOK_COMMENTS_TOPICS,\n",
    "cur_run_params.run_dt.dt,\n",
    "sep='\\n',\n",
    ")"
   ]
  },
  {
   "cell_type": "code",
   "execution_count": null,
   "id": "cc5d1522-198b-42af-959a-ab128c6392ec",
   "metadata": {},
   "outputs": [],
   "source": [
    "facebook_comments_topics_df = artifacts.dataframes.get(TAGGING_RUNS_URL_FACEBOOK_COMMENTS_FINAL).dataframe"
   ]
  },
  {
   "cell_type": "code",
   "execution_count": null,
   "id": "38193ae8-7128-4b9f-8da4-a4c899e42b82",
   "metadata": {},
   "outputs": [],
   "source": [
    "facebook_comments_topics_df.head()"
   ]
  },
  {
   "cell_type": "code",
   "execution_count": null,
   "id": "08adca6a",
   "metadata": {},
   "outputs": [],
   "source": [
    "facebook_comments_topics_df.shape"
   ]
  },
  {
   "cell_type": "code",
   "execution_count": null,
   "id": "1e000e5e",
   "metadata": {},
   "outputs": [],
   "source": [
    "facebook_posts_topics_df = artifacts.dataframes.get(TAGGING_RUNS_URL_FACEBOOK_POSTS_TOPICS_FINAL).dataframe"
   ]
  },
  {
   "cell_type": "code",
   "execution_count": null,
   "id": "b87fb041",
   "metadata": {},
   "outputs": [],
   "source": [
    "facebook_posts_topics_df"
   ]
  },
  {
   "cell_type": "code",
   "execution_count": null,
   "id": "1ab18f63",
   "metadata": {},
   "outputs": [],
   "source": [
    "facebook_posts_topics_df.shape"
   ]
  },
  {
   "cell_type": "code",
   "execution_count": null,
   "id": "fc53aa3e",
   "metadata": {},
   "outputs": [],
   "source": [
    "facebook_comments_topics_final = finalise.inherit_facebook_comment_topics_from_facebook_posts_topics_df(\n",
    "    facebook_posts_topics_df, facebook_comments_topics_df, True, [\"topic\", \"has_topic\", \"features\", \"features_count\"], rename_topic_to_class=RENAME_TOPIC_TO_CLASS\n",
    ")"
   ]
  },
  {
   "cell_type": "code",
   "execution_count": null,
   "id": "9fbbfaa2-25be-495f-b0e0-4b979f6d3e7f",
   "metadata": {},
   "outputs": [],
   "source": [
    "facebook_comments_topics_final.head()"
   ]
  },
  {
   "cell_type": "code",
   "execution_count": null,
   "id": "49cce498",
   "metadata": {},
   "outputs": [],
   "source": [
    "facebook_comments_topics_final.shape"
   ]
  },
  {
   "cell_type": "code",
   "execution_count": null,
   "id": "db309d7f-8523-49d1-ad45-4dddda965da5",
   "metadata": {},
   "outputs": [],
   "source": [
    "facebook_comments_topics_final.dtypes"
   ]
  },
  {
   "cell_type": "code",
   "execution_count": null,
   "id": "25bf76a3-939c-4d12-aabb-e97c260b47f1",
   "metadata": {},
   "outputs": [],
   "source": [
    "_ = artifacts.dataframes.persist(FINAL_URL_FACEBOOK_COMMENTS_TOPICS, facebook_comments_topics_final)"
   ]
  },
  {
   "cell_type": "code",
   "execution_count": null,
   "id": "2d7f7acd-057b-4e60-81d5-e6cb824d8732",
   "metadata": {},
   "outputs": [],
   "source": [
    "_ = artifacts.dataframes.persist(TAGGING_RUNS_URL_FACEBOOK_COMMENTS_TOPICS_FINAL, facebook_comments_topics_final)"
   ]
  },
  {
   "cell_type": "code",
   "execution_count": null,
   "id": "2b988a6a",
   "metadata": {},
   "outputs": [],
   "source": [
    "artifacts.dataframes.read_schema(TAGGING_RUNS_URL_FACEBOOK_COMMENTS_TOPICS_FINAL)"
   ]
  },
  {
   "cell_type": "code",
   "execution_count": null,
   "id": "6f26fe41",
   "metadata": {},
   "outputs": [],
   "source": []
  }
 ],
 "metadata": {
  "kernelspec": {
   "display_name": "Python 3 (ipykernel)",
   "language": "python",
   "name": "python3"
  },
  "language_info": {
   "codemirror_mode": {
    "name": "ipython",
    "version": 3
   },
   "file_extension": ".py",
   "mimetype": "text/x-python",
   "name": "python",
   "nbconvert_exporter": "python",
   "pygments_lexer": "ipython3",
   "version": "3.9.2"
  }
 },
 "nbformat": 4,
 "nbformat_minor": 5
}
