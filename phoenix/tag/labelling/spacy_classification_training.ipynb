{
 "cells": [
  {
   "cell_type": "markdown",
   "id": "4d3c9530",
   "metadata": {},
   "source": [
    "## Notebook for creating a classifier using BERT\n",
    "\n",
    "- [x] Load data\n",
    "- [x] load spacy arabic model\n",
    "    - Used distiluse-base-multilingual-cased-v1 instead of spacy\n",
    "- [x] Add spacy model to sklearn pipeline\n",
    "    - Used huggingface through embetter to get BERT model\n",
    "- [] Train the model\n",
    "- [] Export/save model "
   ]
  },
  {
   "cell_type": "code",
   "execution_count": null,
   "id": "42c2da94",
   "metadata": {},
   "outputs": [],
   "source": [
    "%load_ext autoreload\n",
    "%autoreload 2"
   ]
  },
  {
   "cell_type": "code",
   "execution_count": null,
   "id": "eead87e3",
   "metadata": {},
   "outputs": [],
   "source": [
    "import datetime\n",
    "\n",
    "import pandas as pd\n",
    "import tentaclio\n",
    "import embetter\n",
    "from sklearn.feature_extraction.text import CountVectorizer\n",
    "from sklearn.pipeline import make_pipeline, make_union\n",
    "from sklearn.linear_model import LogisticRegression\n",
    "from sklearn.neighbors import KNeighborsClassifier\n",
    "\n",
    "from embetter.grab import ColumnGrabber\n",
    "from embetter.text import SentenceEncoder\n",
    "\n",
    "from phoenix.common import artifacts, run_params, utils\n",
    "from phoenix.tag.labelling import prodigy_utils"
   ]
  },
  {
   "cell_type": "code",
   "execution_count": null,
   "id": "610b3616",
   "metadata": {},
   "outputs": [],
   "source": [
    "utils.setup_notebook_output()\n",
    "utils.setup_notebook_logging()"
   ]
  },
  {
   "cell_type": "code",
   "execution_count": null,
   "id": "96204e0b",
   "metadata": {},
   "outputs": [],
   "source": [
    "prodigy_dmaps_df_path = f\"{artifacts.urls.get_local()}/prodigy/\"\n",
    "tweets_dmaps_path = f\"{artifacts.urls.get_local()}/prodigy/dmaps_jordan_tweets.csv\"\n",
    "written_path = \"/Users/andrewsutjahjo/git/python/phoenix/local_artifacts//prodigy/dmaps_jordan_tweets-11.csv\"\n",
    "\n",
    "output_path = f\"{artifacts.urls.get_local()}/prodigy/dmaps_jordan_tweets-11.csv\""
   ]
  },
  {
   "cell_type": "code",
   "execution_count": null,
   "id": "084bfcce",
   "metadata": {},
   "outputs": [],
   "source": [
    "df = pd.read_csv(written_path)"
   ]
  },
  {
   "cell_type": "code",
   "execution_count": null,
   "id": "24f194ec",
   "metadata": {},
   "outputs": [],
   "source": [
    "text_pred_pipeline = make_pipeline(\n",
    "    ColumnGrabber(\"text\"),\n",
    "    make_union(\n",
    "        SentenceEncoder(\"distiluse-base-multilingual-cased-v1\"),\n",
    "        CountVectorizer\n",
    "    ),\n",
    "    LogisticRegression()\n",
    ")"
   ]
  },
  {
   "cell_type": "code",
   "execution_count": null,
   "id": "e9cfd28e",
   "metadata": {},
   "outputs": [],
   "source": []
  }
 ],
 "metadata": {
  "kernelspec": {
   "display_name": "Python 3",
   "language": "python",
   "name": "python3"
  },
  "language_info": {
   "codemirror_mode": {
    "name": "ipython",
    "version": 3
   },
   "file_extension": ".py",
   "mimetype": "text/x-python",
   "name": "python",
   "nbconvert_exporter": "python",
   "pygments_lexer": "ipython3",
   "version": "3.9.2"
  }
 },
 "nbformat": 4,
 "nbformat_minor": 5
}
