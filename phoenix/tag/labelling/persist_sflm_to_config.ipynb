{
 "cells": [
  {
   "cell_type": "code",
   "execution_count": null,
   "id": "29d9d69a",
   "metadata": {},
   "outputs": [],
   "source": [
    "%load_ext autoreload\n",
    "%autoreload 2"
   ]
  },
  {
   "cell_type": "code",
   "execution_count": null,
   "id": "4ceac458",
   "metadata": {},
   "outputs": [],
   "source": [
    "import datetime\n",
    "\n",
    "import pandas as pd\n",
    "import tentaclio\n",
    "\n",
    "from phoenix.common import artifacts, run_params, utils\n",
    "from phoenix.tag.labelling import pull_label_sheet, sflm_processing"
   ]
  },
  {
   "cell_type": "code",
   "execution_count": null,
   "id": "c447245c",
   "metadata": {},
   "outputs": [],
   "source": [
    "utils.setup_notebook_output()\n",
    "utils.setup_notebook_logging()"
   ]
  },
  {
   "cell_type": "code",
   "execution_count": null,
   "id": "34d4bfe3",
   "metadata": {
    "tags": [
     "parameters"
    ]
   },
   "outputs": [],
   "source": [
    "# Parameters\n",
    "# See phoenix/common/run_datetime.py expected format of parameter\n",
    "RUN_DATETIME = None\n",
    "TENANT_ID = None\n",
    "\n",
    "# See phoenix/common/artifacts/registry_environment.py expected format of parameter\n",
    "ARTIFACTS_ENVIRONMENT_KEY = \"local\"\n",
    "\n",
    "OBJECT_TYPE = \"facebook_posts\"\n"
   ]
  },
  {
   "cell_type": "code",
   "execution_count": null,
   "id": "0c0cc8f3",
   "metadata": {},
   "outputs": [],
   "source": [
    "cur_run_params = run_params.general.create(ARTIFACTS_ENVIRONMENT_KEY, TENANT_ID, RUN_DATETIME)\n",
    "\n",
    "url_config = {\n",
    "    \"OBJECT_TYPE\": OBJECT_TYPE\n",
    "}\n",
    "\n",
    "# INPUT\n",
    "SPREADSHEET_NAME =f\"{TENANT_ID}_class_mappings\"\n",
    "WORKSHEET_NAME = f\"{OBJECT_TYPE}_feature_mappings\"\n",
    "\n",
    "TENANT_FOLDER_ID = cur_run_params.tenant_config.google_drive_folder_id\n",
    "\n",
    "# OUTPUT\n",
    "CONFIG_FILE_SINGLE_OBJECT_SFLM = cur_run_params.art_url_reg.get_url(\"sflm-single_object_type\", url_config)\n"
   ]
  },
  {
   "cell_type": "code",
   "execution_count": null,
   "id": "b0f04ec9",
   "metadata": {},
   "outputs": [],
   "source": [
    "# Display params.\n",
    "print(\n",
    "cur_run_params.run_dt.dt,\n",
    "cur_run_params.tenant_config,\n",
    "SPREADSHEET_NAME,\n",
    "WORKSHEET_NAME,\n",
    "TENANT_FOLDER_ID,\n",
    "CONFIG_FILE_SINGLE_OBJECT_SFLM,\n",
    "sep='\\n',\n",
    ")"
   ]
  },
  {
   "cell_type": "code",
   "execution_count": null,
   "id": "2bb73c07",
   "metadata": {},
   "outputs": [],
   "source": [
    "google_client = artifacts.google_sheets.get_client()"
   ]
  },
  {
   "cell_type": "code",
   "execution_count": null,
   "id": "f9277700",
   "metadata": {},
   "outputs": [],
   "source": [
    "validation_sflm = artifacts.google_sheets.get(\n",
    "    google_client, \n",
    "    TENANT_FOLDER_ID, \n",
    "    SPREADSHEET_NAME,\n",
    "    WORKSHEET_NAME\n",
    ")\n",
    "validation_sflm = sflm_processing.normalise_sflm_from_sheets(validation_sflm)"
   ]
  },
  {
   "cell_type": "code",
   "execution_count": null,
   "id": "4c71a5ca",
   "metadata": {},
   "outputs": [],
   "source": [
    "validation_sflm"
   ]
  },
  {
   "cell_type": "code",
   "execution_count": null,
   "id": "4d99ed6e",
   "metadata": {},
   "outputs": [],
   "source": [
    "artifacts.dataframes.persist(\n",
    "    CONFIG_FILE_SINGLE_OBJECT_SFLM, validation_sflm\n",
    ")"
   ]
  }
 ],
 "metadata": {
  "celltoolbar": "Tags",
  "kernelspec": {
   "display_name": "Python 3 (ipykernel)",
   "language": "python",
   "name": "python3"
  },
  "language_info": {
   "codemirror_mode": {
    "name": "ipython",
    "version": 3
   },
   "file_extension": ".py",
   "mimetype": "text/x-python",
   "name": "python",
   "nbconvert_exporter": "python",
   "pygments_lexer": "ipython3",
   "version": "3.9.2"
  }
 },
 "nbformat": 4,
 "nbformat_minor": 5
}
