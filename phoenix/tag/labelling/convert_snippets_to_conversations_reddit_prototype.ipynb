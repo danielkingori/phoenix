{
 "cells": [
  {
   "cell_type": "markdown",
   "id": "c442a47d-5b76-47f8-a3e0-43abbaf3c045",
   "metadata": {},
   "source": [
    "# Convert snippets to conversations\n",
    "\n",
    "## first pass:\n",
    "\n",
    " - [x] get posts + comments\n",
    " - [x] append toplevel posts and comments\n",
    " - [x] groupby root_id\n",
    " - [x] sort by root_id, parent_id, time?\n",
    " - [x] make a single row per post + comments with display text: f\"@{post_author}:{post_text} \\n @{reply_author}: {reply_text} etc.\" up to x00 words.\n",
    " - [x] Save on local_artifacts\n",
    " - [x] show in prodigy\n",
    " \n",
    "## second pass?\n",
    "\n",
    " Get a better way to annotate specific parts of the text? spancat? ccreate custom "
   ]
  },
  {
   "cell_type": "code",
   "execution_count": null,
   "id": "f3b6238c-08e7-4f96-95aa-fcd02e9bd632",
   "metadata": {},
   "outputs": [],
   "source": [
    "%load_ext autoreload\n",
    "%autoreload 2"
   ]
  },
  {
   "cell_type": "code",
   "execution_count": null,
   "id": "6c49747a-06f4-4922-bd86-b5c5625ade12",
   "metadata": {},
   "outputs": [],
   "source": [
    "import datetime\n",
    "\n",
    "import pandas as pd\n",
    "import tentaclio\n",
    "\n",
    "from phoenix.common import artifacts, run_params, utils"
   ]
  },
  {
   "cell_type": "code",
   "execution_count": null,
   "id": "6867e118-0af6-4d7f-8545-7593cf7ecba8",
   "metadata": {},
   "outputs": [],
   "source": [
    "utils.setup_notebook_output()\n",
    "utils.setup_notebook_logging()"
   ]
  },
  {
   "cell_type": "code",
   "execution_count": null,
   "id": "3216f421-b237-41b5-838e-eb224d101e5a",
   "metadata": {},
   "outputs": [],
   "source": [
    "# Files\n",
    "posts_df_path = f\"{artifacts.urls.get_local()}/prodigy/reddit_posts_2019_5.csv\"\n",
    "comments_df_path = f\"{artifacts.urls.get_local()}/prodigy/reddit_comments_2019_5.csv\"\n",
    "output_path = f\"{artifacts.urls.get_local()}/prodigy/reddit_conversations.csv\"\n",
    "\n",
    "with tentaclio.open(posts_df_path, \"r\") as fb:\n",
    "    posts_df = pd.read_csv(fb)\n",
    "    \n",
    "with tentaclio.open(comments_df_path, \"r\") as fb:\n",
    "    comments_df = pd.read_csv(fb)"
   ]
  },
  {
   "cell_type": "code",
   "execution_count": null,
   "id": "a266175b-9be2-4668-ad2f-825ee3c7b4da",
   "metadata": {},
   "outputs": [],
   "source": [
    "posts_df"
   ]
  },
  {
   "cell_type": "code",
   "execution_count": null,
   "id": "8a4726fb-f31c-4b97-afce-deca0dcee51e",
   "metadata": {},
   "outputs": [],
   "source": [
    "# if post, the root_id is its own ID.\n",
    "posts_df[\"root_id\"] = posts_df[\"id\"]"
   ]
  },
  {
   "cell_type": "code",
   "execution_count": null,
   "id": "79791456-29bd-486a-9745-e280d0fa612c",
   "metadata": {},
   "outputs": [],
   "source": [
    "posts_df"
   ]
  },
  {
   "cell_type": "code",
   "execution_count": null,
   "id": "aceee823-0f1a-40fd-9d89-378634dcbd45",
   "metadata": {},
   "outputs": [],
   "source": [
    "comments_df"
   ]
  },
  {
   "cell_type": "code",
   "execution_count": null,
   "id": "be52b9bf-ec5f-41fc-b22f-f23b3edbe377",
   "metadata": {},
   "outputs": [],
   "source": [
    "posts_df[\"created_utc\"] = pd.to_datetime(posts_df[\"created_utc\"])\n",
    "comments_df[\"created_utc\"] = pd.to_datetime(comments_df[\"created_utc\"])"
   ]
  },
  {
   "cell_type": "code",
   "execution_count": null,
   "id": "467f8e0a-ca73-491a-8c7c-e042b773b8eb",
   "metadata": {},
   "outputs": [],
   "source": [
    "all_text_df = pd.concat([posts_df, comments_df]).reset_index()"
   ]
  },
  {
   "cell_type": "code",
   "execution_count": null,
   "id": "3d30471d-f1a0-43af-b7a0-307d8c1543ee",
   "metadata": {},
   "outputs": [],
   "source": [
    "all_text_df"
   ]
  },
  {
   "cell_type": "code",
   "execution_count": null,
   "id": "2946b541-ebe7-41eb-a522-f6d887cb28a2",
   "metadata": {},
   "outputs": [],
   "source": [
    "# remove mod posts/comments\n",
    "all_text_df = all_text_df[all_text_df[\"author\"] !=\"AutoModerator\"]\n",
    "all_text_df = all_text_df[all_text_df[\"author\"] !=\"PoliticsModeratorBot\"]"
   ]
  },
  {
   "cell_type": "code",
   "execution_count": null,
   "id": "93aca3fa",
   "metadata": {},
   "outputs": [],
   "source": [
    "# Fill na for parent and root ids for posts\n",
    "all_text_df[\"parent_id\"] = all_text_df[\"parent_id\"].fillna(all_text_df[\"id\"]).astype(int) \n",
    "all_text_df[\"root_id\"] = all_text_df[\"root_id\"].fillna(all_text_df[\"id\"]).astype(int) "
   ]
  },
  {
   "cell_type": "code",
   "execution_count": null,
   "id": "71af6fd4-b686-4241-9923-dcc91161e00e",
   "metadata": {},
   "outputs": [],
   "source": [
    "# only show comments that have a root post\n",
    "all_text_df = all_text_df[all_text_df[\"root_id\"].isin(all_text_df[\"id\"])]"
   ]
  },
  {
   "cell_type": "code",
   "execution_count": null,
   "id": "3a9523b5-f0cb-45c0-aa11-01ae32ebe680",
   "metadata": {},
   "outputs": [],
   "source": [
    "# Add is_root to help with sorting\n",
    "all_text_df[\"is_root\"] = all_text_df[\"id\"] == all_text_df[\"root_id\"]"
   ]
  },
  {
   "cell_type": "code",
   "execution_count": null,
   "id": "04323345-1a9d-4e5c-a393-8de543d3e5be",
   "metadata": {},
   "outputs": [],
   "source": [
    "all_text_df[\"display_text\"] = \"Reply by @\" + all_text_df[\"author\"] + \": \\n\\t\" + all_text_df[\"text\"] + \" \\n\"\n",
    "\n",
    "all_text_df.loc[all_text_df[\"is_root\"], \"display_text\"] = \"Post by @\" + all_text_df[\"author\"] + \": \\n\\t\" + all_text_df[\"text\"] + \" \\n\""
   ]
  },
  {
   "cell_type": "code",
   "execution_count": null,
   "id": "3e277a13-256d-4b10-a0e6-374c5a076ff2",
   "metadata": {},
   "outputs": [],
   "source": [
    "all_text_df[\"word_count\"] = all_text_df[\"display_text\"].str.findall(r\"(\\w+)\").str.len()"
   ]
  },
  {
   "cell_type": "code",
   "execution_count": null,
   "id": "7e444514-9b96-4127-acf1-9ac5f8fbda00",
   "metadata": {},
   "outputs": [],
   "source": [
    "all_text_df.iloc[0][\"display_text\"]"
   ]
  },
  {
   "cell_type": "code",
   "execution_count": null,
   "id": "99afbc99-de0b-4ff0-ac39-8ea0b073c23b",
   "metadata": {},
   "outputs": [],
   "source": []
  },
  {
   "cell_type": "code",
   "execution_count": null,
   "id": "a6506b89-5041-4b71-aa64-c503e8189f75",
   "metadata": {},
   "outputs": [],
   "source": [
    "grouped_df = all_text_df.groupby(\"root_id\")"
   ]
  },
  {
   "cell_type": "code",
   "execution_count": null,
   "id": "9d22fafd-a202-4206-ab66-fbcc00e3e806",
   "metadata": {},
   "outputs": [],
   "source": [
    "conversation_sizes_df = grouped_df.size().to_frame(\"num_texts\").reset_index()"
   ]
  },
  {
   "cell_type": "code",
   "execution_count": null,
   "id": "b0ca0432-862e-4305-8aea-a1f065838726",
   "metadata": {},
   "outputs": [],
   "source": [
    "conversation_sizes_df"
   ]
  },
  {
   "cell_type": "code",
   "execution_count": null,
   "id": "fe1fd064",
   "metadata": {},
   "outputs": [],
   "source": [
    "conversation_sizes_df[conversation_sizes_df[\"num_texts\"] < 200].groupby(\"num_texts\").size().plot()"
   ]
  },
  {
   "cell_type": "code",
   "execution_count": null,
   "id": "a345eece",
   "metadata": {},
   "outputs": [],
   "source": [
    "conversation_sizes_df[conversation_sizes_df[\"num_texts\"] < 200].groupby(\"num_texts\").size()"
   ]
  },
  {
   "cell_type": "code",
   "execution_count": null,
   "id": "f3981922",
   "metadata": {},
   "outputs": [],
   "source": [
    "conversations_df = pd.merge(all_text_df, conversation_sizes_df[conversation_sizes_df[\"num_texts\"]>1])"
   ]
  },
  {
   "cell_type": "code",
   "execution_count": null,
   "id": "d847598f",
   "metadata": {},
   "outputs": [],
   "source": [
    "## Get cumulative sum of words to cut off extreneous words for display"
   ]
  },
  {
   "cell_type": "code",
   "execution_count": null,
   "id": "cd614e84",
   "metadata": {},
   "outputs": [],
   "source": [
    "## This is a first pass attempt to get threads: \n",
    "## the sort would not order based on threads, but on create time. there should be some way to \n",
    "## achieve this using some kind of graph sort, but it can't be done just with sort_values in pandas\n",
    "conversations_df = conversations_df.sort_values([\"root_id\", \"is_root\", \"created_utc\"], ascending=[True, False, True])"
   ]
  },
  {
   "cell_type": "code",
   "execution_count": null,
   "id": "fac29139",
   "metadata": {},
   "outputs": [],
   "source": [
    "conversations_df[\"cum_word_count\"] = conversations_df[[\"root_id\", \"word_count\"]].groupby(\"root_id\").cumsum()"
   ]
  },
  {
   "cell_type": "code",
   "execution_count": null,
   "id": "7adedc3b",
   "metadata": {},
   "outputs": [],
   "source": [
    "## Cut off less than 150 words \n",
    "conversations_df = conversations_df[conversations_df[\"cum_word_count\"] < 150]"
   ]
  },
  {
   "cell_type": "code",
   "execution_count": null,
   "id": "a68e8136",
   "metadata": {},
   "outputs": [],
   "source": [
    "conversations_display_df = conversations_df.groupby(\"root_id\").agg({\"display_text\": \"\\n\".join})"
   ]
  },
  {
   "cell_type": "code",
   "execution_count": null,
   "id": "8b57d488",
   "metadata": {},
   "outputs": [],
   "source": [
    "conversations_display_df = conversations_display_df.rename(columns={\"display_text\": \"text\"})"
   ]
  },
  {
   "cell_type": "code",
   "execution_count": null,
   "id": "e0567a12-2df4-4c1a-8c7c-285a68dbb9fc",
   "metadata": {},
   "outputs": [],
   "source": [
    "with tentaclio.open(output_path, \"w\") as fb:\n",
    "    conversations_display_df.to_csv(fb)"
   ]
  },
  {
   "cell_type": "code",
   "execution_count": null,
   "id": "bcc9e144",
   "metadata": {},
   "outputs": [],
   "source": [
    "conversations_display_df"
   ]
  },
  {
   "cell_type": "code",
   "execution_count": null,
   "id": "d81dc44f",
   "metadata": {},
   "outputs": [],
   "source": [
    "conversations_display_df[\"word_count\"] = conversations_display_df[\"text\"].str.findall(r\"(\\w+)\").str.len()"
   ]
  },
  {
   "cell_type": "code",
   "execution_count": null,
   "id": "028b9aa8",
   "metadata": {},
   "outputs": [],
   "source": [
    "conversations_display_df"
   ]
  },
  {
   "cell_type": "code",
   "execution_count": null,
   "id": "4817ec16",
   "metadata": {},
   "outputs": [],
   "source": []
  }
 ],
 "metadata": {
  "kernelspec": {
   "display_name": "Python 3 (ipykernel)",
   "language": "python",
   "name": "python3"
  },
  "language_info": {
   "codemirror_mode": {
    "name": "ipython",
    "version": 3
   },
   "file_extension": ".py",
   "mimetype": "text/x-python",
   "name": "python",
   "nbconvert_exporter": "python",
   "pygments_lexer": "ipython3",
   "version": "3.9.2"
  }
 },
 "nbformat": 4,
 "nbformat_minor": 5
}
