{
 "cells": [
  {
   "cell_type": "code",
   "execution_count": null,
   "id": "8680471c",
   "metadata": {},
   "outputs": [],
   "source": [
    "%load_ext autoreload\n",
    "%autoreload 2"
   ]
  },
  {
   "cell_type": "code",
   "execution_count": null,
   "id": "57935f66",
   "metadata": {},
   "outputs": [],
   "source": [
    "import datetime\n",
    "\n",
    "import pandas as pd\n",
    "import tentaclio\n",
    "\n",
    "from phoenix.common import artifacts, run_params, utils\n",
    "from phoenix.tag.topic import single_feature_match_topic_config as sfm_topic_config\n",
    "from phoenix.tag.labelling import pull_label_sheet\n",
    "from phoenix.tag.labelling import utils as labelling_utils"
   ]
  },
  {
   "cell_type": "code",
   "execution_count": null,
   "id": "66e4c724",
   "metadata": {},
   "outputs": [],
   "source": [
    "utils.setup_notebook_output()\n",
    "utils.setup_notebook_logging()"
   ]
  },
  {
   "cell_type": "code",
   "execution_count": null,
   "id": "e841c5a6",
   "metadata": {
    "tags": [
     "parameters"
    ]
   },
   "outputs": [],
   "source": [
    "# Parameters\n",
    "# See phoenix/common/run_datetime.py expected format of parameter\n",
    "RUN_DATETIME = None\n",
    "TENANT_ID = None\n",
    "\n",
    "# See phoenix/common/artifacts/registry_environment.py expected format of parameter\n",
    "ARTIFACTS_ENVIRONMENT_KEY = \"local\"\n",
    "\n",
    "OBJECT_TYPE = \"facebook_posts\""
   ]
  },
  {
   "cell_type": "code",
   "execution_count": null,
   "id": "40a17167",
   "metadata": {},
   "outputs": [],
   "source": [
    "cur_run_params = run_params.general.create(ARTIFACTS_ENVIRONMENT_KEY, TENANT_ID, RUN_DATETIME)\n",
    "\n",
    "# INPUT\n",
    "url_config = {\n",
    "    \"OBJECT_TYPE\": OBJECT_TYPE\n",
    "}\n",
    "\n",
    "ACCOUNT_OBJECT_TYPE = labelling_utils.get_account_object_type(OBJECT_TYPE)\n",
    "SPREADSHEET_NAME = f\"{TENANT_ID}_manual_data_labelling\"\n",
    "WORKSHEET_NAME = f\"{ACCOUNT_OBJECT_TYPE}_to_label\"\n",
    "TENANT_FOLDER_ID = cur_run_params.tenant_config.google_drive_folder_id\n",
    "\n",
    "# OUTPUT\n",
    "CONFIG_FILE_OBJECT_ACCOUNT_LABELS_URL = cur_run_params.art_url_reg.get_url(\"sflm-account-object_type\", url_config)"
   ]
  },
  {
   "cell_type": "code",
   "execution_count": null,
   "id": "ab21ab60",
   "metadata": {},
   "outputs": [],
   "source": [
    "# Display params.\n",
    "print(\n",
    "cur_run_params.run_dt.dt,\n",
    "cur_run_params.tenant_config,\n",
    "ACCOUNT_OBJECT_TYPE,\n",
    "SPREADSHEET_NAME,\n",
    "WORKSHEET_NAME,\n",
    "TENANT_FOLDER_ID,\n",
    "CONFIG_FILE_OBJECT_ACCOUNT_LABELS_URL,\n",
    "sep='\\n',\n",
    ")"
   ]
  },
  {
   "cell_type": "code",
   "execution_count": null,
   "id": "b79aabd0",
   "metadata": {},
   "outputs": [],
   "source": [
    "google_client = artifacts.google_sheets.get_client()"
   ]
  },
  {
   "cell_type": "code",
   "execution_count": null,
   "id": "88fa655d",
   "metadata": {},
   "outputs": [],
   "source": [
    "labeled_accounts_raw_df = artifacts.google_sheets.get(\n",
    "    google_client, TENANT_FOLDER_ID, SPREADSHEET_NAME, WORKSHEET_NAME\n",
    ")"
   ]
  },
  {
   "cell_type": "code",
   "execution_count": null,
   "id": "9eddfa0b",
   "metadata": {},
   "outputs": [],
   "source": [
    "labeled_accounts_raw_df"
   ]
  },
  {
   "cell_type": "code",
   "execution_count": null,
   "id": "d2eabf88",
   "metadata": {},
   "outputs": [],
   "source": [
    "account_labels_df = pull_label_sheet.get_account_labels(labeled_accounts_raw_df)"
   ]
  },
  {
   "cell_type": "code",
   "execution_count": null,
   "id": "3141b574",
   "metadata": {},
   "outputs": [],
   "source": [
    "account_labels_df"
   ]
  },
  {
   "cell_type": "code",
   "execution_count": null,
   "id": "c5f8bb80",
   "metadata": {},
   "outputs": [],
   "source": [
    "artifacts.dataframes.persist(\n",
    "    CONFIG_FILE_OBJECT_ACCOUNT_LABELS_URL, account_labels_df\n",
    ")"
   ]
  }
 ],
 "metadata": {
  "celltoolbar": "Tags",
  "kernelspec": {
   "display_name": "Python 3 (ipykernel)",
   "language": "python",
   "name": "python3"
  },
  "language_info": {
   "codemirror_mode": {
    "name": "ipython",
    "version": 3
   },
   "file_extension": ".py",
   "mimetype": "text/x-python",
   "name": "python",
   "nbconvert_exporter": "python",
   "pygments_lexer": "ipython3",
   "version": "3.9.2"
  }
 },
 "nbformat": 4,
 "nbformat_minor": 5
}
