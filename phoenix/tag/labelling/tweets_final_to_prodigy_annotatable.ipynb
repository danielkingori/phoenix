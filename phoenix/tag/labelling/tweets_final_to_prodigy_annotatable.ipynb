{
 "cells": [
  {
   "cell_type": "markdown",
   "id": "c442a47d-5b76-47f8-a3e0-43abbaf3c045",
   "metadata": {},
   "source": [
    "# Convert Tweets_final file to something that can be read by prodigy"
   ]
  },
  {
   "cell_type": "code",
   "execution_count": null,
   "id": "f3b6238c-08e7-4f96-95aa-fcd02e9bd632",
   "metadata": {},
   "outputs": [],
   "source": [
    "%load_ext autoreload\n",
    "%autoreload 2"
   ]
  },
  {
   "cell_type": "code",
   "execution_count": null,
   "id": "6c49747a-06f4-4922-bd86-b5c5625ade12",
   "metadata": {},
   "outputs": [],
   "source": [
    "import datetime\n",
    "\n",
    "import pandas as pd\n",
    "import tentaclio\n",
    "\n",
    "from phoenix.common import artifacts, run_params, utils"
   ]
  },
  {
   "cell_type": "code",
   "execution_count": null,
   "id": "6867e118-0af6-4d7f-8545-7593cf7ecba8",
   "metadata": {},
   "outputs": [],
   "source": [
    "utils.setup_notebook_output()\n",
    "utils.setup_notebook_logging()"
   ]
  },
  {
   "cell_type": "code",
   "execution_count": null,
   "id": "3216f421-b237-41b5-838e-eb224d101e5a",
   "metadata": {},
   "outputs": [],
   "source": [
    "# Files\n",
    "parquet_files = [\n",
    "    \"tweets_final_dmaps_2022-01.parquet\",\n",
    "    \"tweets_final_dmaps_2022-02.parquet\",\n",
    "    \"tweets_final_dmaps_2022-03.parquet\"\n",
    "]\n",
    "twitter_dmaps_df_path = f\"{artifacts.urls.get_local()}/prodigy/\"\n",
    "\n",
    "output_path = f\"{artifacts.urls.get_local()}/prodigy/dmaps_jordan_tweets.csv\""
   ]
  },
  {
   "cell_type": "code",
   "execution_count": null,
   "id": "a659bebd",
   "metadata": {},
   "outputs": [],
   "source": [
    "dfs = {}\n",
    "for file in parquet_files:\n",
    "    dfs[file] = artifacts.dataframes.get(twitter_dmaps_df_path+file).dataframe"
   ]
  },
  {
   "cell_type": "code",
   "execution_count": null,
   "id": "41bf6012",
   "metadata": {},
   "outputs": [],
   "source": [
    "df = pd.concat(list(dfs.values()))"
   ]
  },
  {
   "cell_type": "code",
   "execution_count": null,
   "id": "ee68bfe2",
   "metadata": {},
   "outputs": [],
   "source": [
    "df = df[df[\"language_from_api\"] != \"en\"]"
   ]
  },
  {
   "cell_type": "code",
   "execution_count": null,
   "id": "45715c27",
   "metadata": {},
   "outputs": [],
   "source": [
    "df = df[[\"id\", \"created_at\", \"user_screen_name\", \"text\"]]"
   ]
  },
  {
   "cell_type": "code",
   "execution_count": null,
   "id": "0b7a414e",
   "metadata": {},
   "outputs": [],
   "source": [
    "df"
   ]
  },
  {
   "cell_type": "code",
   "execution_count": null,
   "id": "328c78d7",
   "metadata": {},
   "outputs": [],
   "source": [
    "with tentaclio.open(output_path, \"w\") as fb:\n",
    "    df.to_csv(fb)"
   ]
  },
  {
   "cell_type": "code",
   "execution_count": null,
   "id": "4817ec16",
   "metadata": {},
   "outputs": [],
   "source": []
  }
 ],
 "metadata": {
  "kernelspec": {
   "display_name": "Python 3",
   "language": "python",
   "name": "python3"
  },
  "language_info": {
   "codemirror_mode": {
    "name": "ipython",
    "version": 3
   },
   "file_extension": ".py",
   "mimetype": "text/x-python",
   "name": "python",
   "nbconvert_exporter": "python",
   "pygments_lexer": "ipython3",
   "version": "3.9.2"
  }
 },
 "nbformat": 4,
 "nbformat_minor": 5
}
