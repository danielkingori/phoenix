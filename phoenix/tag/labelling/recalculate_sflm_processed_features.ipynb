{
 "cells": [
  {
   "cell_type": "markdown",
   "id": "3777b950",
   "metadata": {},
   "source": [
    "# recalculate_sflm_processed_features\n",
    "\n",
    "This notebook pulls the Single Feature to Label Mapping (SFLM) Google sheet and reprocesses the `unprocessed_features` column and writes back the `processed_features`. \n",
    "\n",
    "This is necessary as when running the `pull_objects_labelling_sheet.ipynb`, it will process any features from the `manual_data_labelling` sheet, and check for duplicates between the newly processed output and the current SFLM using its [`label` , `unprocessed_features`, `processed_features` ] columns. \n",
    "\n",
    "If the processing function is changed between runs of `pull_objects_labelling_sheet.ipynb`, it will mistakenly say that all previously added labels are new.\n",
    "\n",
    "The reprocess_sflm function will reprocess the SFLM google sheet, and update the sheet with newly processed features. If the changed row was active it will also change the `status` to `\"analyst_action_needed\"` and the `use_processed_features` to `False`. The analyst's action is to check if that newly processed feature should be used in its processed form, or if it should use the unprocessed feature. \n"
   ]
  },
  {
   "cell_type": "code",
   "execution_count": null,
   "id": "3b67f292",
   "metadata": {},
   "outputs": [],
   "source": [
    "%load_ext autoreload\n",
    "%autoreload 2"
   ]
  },
  {
   "cell_type": "code",
   "execution_count": null,
   "id": "4ab727f1",
   "metadata": {},
   "outputs": [],
   "source": [
    "import datetime\n",
    "import logging\n",
    "\n",
    "import pandas as pd\n",
    "\n",
    "from phoenix.common import artifacts, run_params, utils\n",
    "from phoenix.tag.labelling import sflm_processing\n"
   ]
  },
  {
   "cell_type": "code",
   "execution_count": null,
   "id": "27cd4489",
   "metadata": {},
   "outputs": [],
   "source": [
    "utils.setup_notebook_output()\n",
    "utils.setup_notebook_logging()\n",
    "papermill_logger = logging.getLogger(\"papermill\")"
   ]
  },
  {
   "cell_type": "code",
   "execution_count": null,
   "id": "8b5ff52a",
   "metadata": {
    "tags": [
     "parameters"
    ]
   },
   "outputs": [],
   "source": [
    "# Parameters\n",
    "# See phoenix/common/run_datetime.py expected format of parameter\n",
    "RUN_DATETIME = None\n",
    "TENANT_ID = \"test\"\n",
    "\n",
    "# See phoenix/common/artifacts/registry_environment.py expected format of parameter\n",
    "ARTIFACTS_ENVIRONMENT_KEY = \"local\"\n",
    "\n",
    "OBJECT_TYPE = \"facebook_posts\"\n"
   ]
  },
  {
   "cell_type": "code",
   "execution_count": null,
   "id": "dacebaa1",
   "metadata": {},
   "outputs": [],
   "source": [
    "cur_run_params = run_params.general.create(ARTIFACTS_ENVIRONMENT_KEY, TENANT_ID, RUN_DATETIME)\n",
    "\n",
    "# INPUT\n",
    "SPREADSHEET_NAME = f\"{TENANT_ID}_class_mappings\"\n",
    "WORKSHEET_NAME = f\"{OBJECT_TYPE}_feature_mappings\"\n",
    "\n",
    "TENANT_FOLDER_ID = cur_run_params.tenant_config.google_drive_folder_id\n"
   ]
  },
  {
   "cell_type": "code",
   "execution_count": null,
   "id": "d1c21854",
   "metadata": {},
   "outputs": [],
   "source": [
    "# Display params.\n",
    "print(\n",
    "cur_run_params.run_dt.dt,\n",
    "cur_run_params.tenant_config,\n",
    "SPREADSHEET_NAME,\n",
    "WORKSHEET_NAME,\n",
    "sep='\\n',\n",
    ")"
   ]
  },
  {
   "cell_type": "code",
   "execution_count": null,
   "id": "fa68f06f",
   "metadata": {},
   "outputs": [],
   "source": [
    "google_client = artifacts.google_sheets.get_client()"
   ]
  },
  {
   "cell_type": "code",
   "execution_count": null,
   "id": "b4fc07e0",
   "metadata": {},
   "outputs": [],
   "source": [
    "labelled_objects_df = artifacts.google_sheets.get(\n",
    "    google_client, TENANT_FOLDER_ID, SPREADSHEET_NAME, WORKSHEET_NAME\n",
    ")"
   ]
  },
  {
   "cell_type": "code",
   "execution_count": null,
   "id": "634cae2d",
   "metadata": {},
   "outputs": [],
   "source": [
    "labelled_objects_df"
   ]
  },
  {
   "cell_type": "code",
   "execution_count": null,
   "id": "fa35d0d0",
   "metadata": {},
   "outputs": [],
   "source": [
    "reprocessed_sflm = sflm_processing.reprocess_sflm(labelled_objects_df)"
   ]
  },
  {
   "cell_type": "code",
   "execution_count": null,
   "id": "14370a95",
   "metadata": {},
   "outputs": [],
   "source": [
    "num_action_needed_rows = reprocessed_sflm[reprocessed_sflm[\"status\"] == \"analyst_action_needed\"].shape[0]\n",
    "papermill_logger.info(f\"{num_action_needed_rows} processed features for active row changed, please notify analyst that action is needed\")"
   ]
  },
  {
   "cell_type": "code",
   "execution_count": null,
   "id": "2f4a3ea4",
   "metadata": {},
   "outputs": [],
   "source": [
    "artifacts.google_sheets.persist(\n",
    "    google_client, TENANT_FOLDER_ID, SPREADSHEET_NAME, WORKSHEET_NAME, reprocessed_sflm\n",
    ")"
   ]
  },
  {
   "cell_type": "code",
   "execution_count": null,
   "id": "d2997830",
   "metadata": {},
   "outputs": [],
   "source": []
  }
 ],
 "metadata": {
  "celltoolbar": "Tags",
  "kernelspec": {
   "display_name": "Python 3 (ipykernel)",
   "language": "python",
   "name": "python3"
  },
  "language_info": {
   "codemirror_mode": {
    "name": "ipython",
    "version": 3
   },
   "file_extension": ".py",
   "mimetype": "text/x-python",
   "name": "python",
   "nbconvert_exporter": "python",
   "pygments_lexer": "ipython3",
   "version": "3.9.2"
  }
 },
 "nbformat": 4,
 "nbformat_minor": 5
}
