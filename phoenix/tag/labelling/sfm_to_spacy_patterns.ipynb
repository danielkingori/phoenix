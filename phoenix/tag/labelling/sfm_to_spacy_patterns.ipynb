{
 "cells": [
  {
   "cell_type": "markdown",
   "id": "c442a47d-5b76-47f8-a3e0-43abbaf3c045",
   "metadata": {},
   "source": [
    "# SFM to spacy patterns\n",
    "\n",
    "## first pass:\n",
    "\n",
    " - [x] get sfm\n",
    " - [x] save sfm as spacy patterns on disk\n",
    " "
   ]
  },
  {
   "cell_type": "code",
   "execution_count": null,
   "id": "f3b6238c-08e7-4f96-95aa-fcd02e9bd632",
   "metadata": {},
   "outputs": [],
   "source": [
    "%load_ext autoreload\n",
    "%autoreload 2"
   ]
  },
  {
   "cell_type": "code",
   "execution_count": null,
   "id": "6c49747a-06f4-4922-bd86-b5c5625ade12",
   "metadata": {},
   "outputs": [],
   "source": [
    "import datetime\n",
    "\n",
    "import pandas as pd\n",
    "import tentaclio\n",
    "\n",
    "from phoenix.common import artifacts, run_params, utils\n",
    "from phoenix.tag.labelling import prodigy_utils"
   ]
  },
  {
   "cell_type": "code",
   "execution_count": null,
   "id": "6867e118-0af6-4d7f-8545-7593cf7ecba8",
   "metadata": {},
   "outputs": [],
   "source": [
    "utils.setup_notebook_output()\n",
    "utils.setup_notebook_logging()"
   ]
  },
  {
   "cell_type": "code",
   "execution_count": null,
   "id": "3216f421-b237-41b5-838e-eb224d101e5a",
   "metadata": {},
   "outputs": [],
   "source": [
    "# Files\n",
    "\n",
    "sfm_path = f\"{artifacts.urls.get_local()}/prodigy/dmaps_jordan_alternative_words.csv\"\n",
    "twitter_df_path = f\"{artifacts.urls.get_local()}/prodigy/2022-6.parquet\"\n",
    "twitter_dmaps_df_path = f\"{artifacts.urls.get_local()}/prodigy/tweets_final_dmaps.parquet\"\n",
    "\n",
    "pattern_output_path = f\"{artifacts.urls.get_local()}/prodigy/jordan_patterns\"\n",
    "\n"
   ]
  },
  {
   "cell_type": "code",
   "execution_count": null,
   "id": "5f1ed61d",
   "metadata": {},
   "outputs": [],
   "source": [
    "with tentaclio.open(sfm_path, \"r\") as fb:\n",
    "    sfm = pd.read_csv(fb)"
   ]
  },
  {
   "cell_type": "code",
   "execution_count": null,
   "id": "41bf6012",
   "metadata": {},
   "outputs": [],
   "source": [
    "df = artifacts.dataframes.get(twitter_dmaps_df_path).dataframe"
   ]
  },
  {
   "cell_type": "code",
   "execution_count": null,
   "id": "45715c27",
   "metadata": {},
   "outputs": [],
   "source": [
    "sfm = sfm[[\"class\", \"unprocessed_features\", \"alternative_words_1\", \"alternative_words_2\", \"alternative_words_3\", \"alternative_words_4\", \"alternative_words_5\"]]"
   ]
  },
  {
   "cell_type": "code",
   "execution_count": null,
   "id": "4817ec16",
   "metadata": {},
   "outputs": [],
   "source": [
    "sfm = sfm.set_index(\"class\").stack().reset_index().drop(\"level_1\", axis=1).rename({0: \"unprocessed_features\"}, axis=1)"
   ]
  },
  {
   "cell_type": "code",
   "execution_count": null,
   "id": "34de4598",
   "metadata": {},
   "outputs": [],
   "source": [
    "## Rename cols back to the SFM naming convention \n",
    "sfm = sfm.rename({\"class\": \"topic\", \"unprocessed_features\": \"features\"}, axis=1)"
   ]
  },
  {
   "cell_type": "code",
   "execution_count": null,
   "id": "812b2722",
   "metadata": {},
   "outputs": [],
   "source": [
    "patterns_file = prodigy_utils.sfm_to_patterns(sfm[sfm[\"topic\"] == \"gender\"])"
   ]
  },
  {
   "cell_type": "code",
   "execution_count": null,
   "id": "bbeed612",
   "metadata": {},
   "outputs": [],
   "source": [
    "patterns_file"
   ]
  },
  {
   "cell_type": "code",
   "execution_count": null,
   "id": "0673e143",
   "metadata": {},
   "outputs": [],
   "source": [
    "prodigy_utils.save_dicts_to_jsonl(patterns_file, pattern_output_path)"
   ]
  },
  {
   "cell_type": "code",
   "execution_count": null,
   "id": "9486bc55",
   "metadata": {},
   "outputs": [],
   "source": []
  }
 ],
 "metadata": {
  "kernelspec": {
   "display_name": "Python 3 (ipykernel)",
   "language": "python",
   "name": "python3"
  },
  "language_info": {
   "codemirror_mode": {
    "name": "ipython",
    "version": 3
   },
   "file_extension": ".py",
   "mimetype": "text/x-python",
   "name": "python",
   "nbconvert_exporter": "python",
   "pygments_lexer": "ipython3",
   "version": "3.9.2"
  }
 },
 "nbformat": 4,
 "nbformat_minor": 5
}
