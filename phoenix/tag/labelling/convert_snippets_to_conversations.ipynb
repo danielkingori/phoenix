{
 "cells": [
  {
   "cell_type": "markdown",
   "id": "c442a47d-5b76-47f8-a3e0-43abbaf3c045",
   "metadata": {},
   "source": [
    "# Convert snippets to conversations\n",
    "\n",
    "## first pass:\n",
    "\n",
    " - [x] get posts + comments\n",
    " - [x] append toplevel posts and comments\n",
    " - [x] groupby root_id\n",
    " - [x] sort by root_id, parent_id, time?\n",
    " - [x] make a single row per post + comments with display text: f\"@{post_author}:{post_text} \\n @{reply_author}: {reply_text} etc.\" up to x00 words.\n",
    " - [x] Save on local_artifacts\n",
    " - [x] show in prodigy\n",
    " \n",
    "## second pass?\n",
    "\n",
    " Get a better way to annotate specific parts of the text? spancat? ccreate custom "
   ]
  },
  {
   "cell_type": "code",
   "execution_count": null,
   "id": "f3b6238c-08e7-4f96-95aa-fcd02e9bd632",
   "metadata": {},
   "outputs": [],
   "source": [
    "%load_ext autoreload\n",
    "%autoreload 2"
   ]
  },
  {
   "cell_type": "code",
   "execution_count": null,
   "id": "6c49747a-06f4-4922-bd86-b5c5625ade12",
   "metadata": {},
   "outputs": [],
   "source": [
    "import datetime\n",
    "\n",
    "import pandas as pd\n",
    "import tentaclio\n",
    "\n",
    "from phoenix.common import artifacts, run_params, utils"
   ]
  },
  {
   "cell_type": "code",
   "execution_count": null,
   "id": "6867e118-0af6-4d7f-8545-7593cf7ecba8",
   "metadata": {},
   "outputs": [],
   "source": [
    "utils.setup_notebook_output()\n",
    "utils.setup_notebook_logging()"
   ]
  },
  {
   "cell_type": "code",
   "execution_count": null,
   "id": "3216f421-b237-41b5-838e-eb224d101e5a",
   "metadata": {},
   "outputs": [],
   "source": [
    "# Files\n",
    "posts_df_path = f\"{artifacts.urls.get_local()}/prodigy/reddit_posts_2019_5.csv\"\n",
    "comments_df_path = f\"{artifacts.urls.get_local()}/prodigy/reddit_comments_2019_5.csv\"\n",
    "twitter_df_path = f\"{artifacts.urls.get_local()}/prodigy/2022-6.parquet\"\n",
    "twitter_dmaps_df_path = f\"{artifacts.urls.get_local()}/prodigy/tweets_final_dmaps.parquet\"\n",
    "output_path = f\"{artifacts.urls.get_local()}/prodigy/reddit_conversations.csv\"\n",
    "twitter_output_path = f\"{artifacts.urls.get_local()}/prodigy/twitter_2022-6_conversations.csv\"\n",
    "\n",
    "with tentaclio.open(posts_df_path, \"r\") as fb:\n",
    "    posts_df = pd.read_csv(fb)\n",
    "    \n",
    "with tentaclio.open(comments_df_path, \"r\") as fb:\n",
    "    comments_df = pd.read_csv(fb)"
   ]
  },
  {
   "cell_type": "code",
   "execution_count": null,
   "id": "41bf6012",
   "metadata": {},
   "outputs": [],
   "source": [
    "df = artifacts.dataframes.get(twitter_dmaps_df_path).dataframe"
   ]
  },
  {
   "cell_type": "code",
   "execution_count": null,
   "id": "45715c27",
   "metadata": {},
   "outputs": [],
   "source": []
  },
  {
   "cell_type": "code",
   "execution_count": null,
   "id": "1412123f",
   "metadata": {},
   "outputs": [],
   "source": [
    "df[df[\"user_screen_name\"].isin([\"khaberni\", \"AddustourNews\", \"alwakeelnews\"])]"
   ]
  },
  {
   "cell_type": "code",
   "execution_count": null,
   "id": "e40a1d8c",
   "metadata": {},
   "outputs": [],
   "source": [
    "df.groupby(\"user_screen_name\").size().sort_values(ascending=False)"
   ]
  },
  {
   "cell_type": "code",
   "execution_count": null,
   "id": "c3334e60",
   "metadata": {},
   "outputs": [],
   "source": [
    "# This is horrible, but when there are NA's the parquet is automatically a float. So we turn the IDS into float, \n",
    "# and then to string\n",
    "df[\"id_str\"] = df[\"id_str\"].astype(float).astype(\"string\")\n",
    "df[\"in_reply_to_status_id_str\"] = df[\"in_reply_to_status_id_str\"].astype(\"string\")"
   ]
  },
  {
   "cell_type": "code",
   "execution_count": null,
   "id": "dc4d78ea",
   "metadata": {},
   "outputs": [],
   "source": [
    "df"
   ]
  },
  {
   "cell_type": "code",
   "execution_count": null,
   "id": "7197bcad",
   "metadata": {},
   "outputs": [],
   "source": [
    "df_replied_to_statuses = df[~df[\"in_reply_to_status_id\"].isna()].groupby(\"in_reply_to_status_id\").count().sort_values(\"object_id\", ascending=False).reset_index()"
   ]
  },
  {
   "cell_type": "code",
   "execution_count": null,
   "id": "9b7c3274",
   "metadata": {},
   "outputs": [],
   "source": [
    "df_replied_to_statuses"
   ]
  },
  {
   "cell_type": "code",
   "execution_count": null,
   "id": "3ed900df",
   "metadata": {},
   "outputs": [],
   "source": [
    "df_replied_to_statuses = df_replied_to_statuses.rename({\"object_id\": \"num_replies_in_dataset\"}, axis=1)"
   ]
  },
  {
   "cell_type": "code",
   "execution_count": null,
   "id": "fa40b76b",
   "metadata": {},
   "outputs": [],
   "source": [
    "df_tweets_with_replies = df_replied_to_statuses[[\"in_reply_to_status_id\",\"num_replies_in_dataset\"]].merge(df, left_on=\"in_reply_to_status_id\", right_on=\"id\")"
   ]
  },
  {
   "cell_type": "code",
   "execution_count": null,
   "id": "3b44216e",
   "metadata": {},
   "outputs": [],
   "source": [
    "df_tweets_with_replies[~df_tweets_with_replies[\"in_reply_to_status_id_y\"].isna()]"
   ]
  },
  {
   "cell_type": "code",
   "execution_count": null,
   "id": "14bd4534",
   "metadata": {},
   "outputs": [],
   "source": [
    "import numpy as np"
   ]
  },
  {
   "cell_type": "code",
   "execution_count": null,
   "id": "20c1bf7e",
   "metadata": {},
   "outputs": [],
   "source": []
  },
  {
   "cell_type": "code",
   "execution_count": null,
   "id": "5666573c",
   "metadata": {},
   "outputs": [],
   "source": [
    "def add_root_ids(df: pd.DataFrame) -> pd.DataFrame:\n",
    "    \"\"\"Traverse parent and child posts and add the root and parent ids to all posts.\"\"\"\n",
    "    tweets_df_with_root_ids = df.copy()\n",
    "    tweets_df_with_root_ids = tweets_df_with_root_ids[~tweets_df_with_root_ids[\"id_str\"].duplicated()]\n",
    "    tweets_df_with_root_ids[\"root_id\"] = np.nan\n",
    "    tweets_df_with_root_ids[\"parent_id\"] = tweets_df_with_root_ids[\"in_reply_to_status_id\"].astype(\"string\")\n",
    "    tweets_df_with_root_ids[\"parent_id\"] = tweets_df_with_root_ids[\"parent_id\"].fillna(tweets_df_with_root_ids[\"id_str\"].astype(\"string\"))\n",
    "    tweets_df_with_root_ids[\"is_root\"] = tweets_df_with_root_ids[\"id_str\"] == tweets_df_with_root_ids[\"parent_id\"]\n",
    "    tweets_df_with_root_ids.loc[tweets_df_with_root_ids[\"is_root\"], \"root_id\"] = tweets_df_with_root_ids.loc[tweets_df_with_root_ids[\"is_root\"], \"id_str\"]\n",
    "    \n",
    "    tweets_df_with_root_ids = traverse_parents_to_get_root_id(tweets_df_with_root_ids)\n",
    "    \n",
    "    return tweets_df_with_root_ids\n",
    "        "
   ]
  },
  {
   "cell_type": "code",
   "execution_count": null,
   "id": "deaf4266",
   "metadata": {},
   "outputs": [],
   "source": [
    "def traverse_parents_to_get_root_id(df:pd.DataFrame, recursion_iteration:int=0) -> pd.DataFrame:\n",
    "    \"\"\"\n",
    "    Traverse parents of posts to get the eventual root id. \n",
    "    This is a hacky way to do graph traversal in pandas, and probably should use networkx or something instead.\n",
    "    \"\"\"\n",
    "    ids_df = df[[\"parent_id\",\"root_id\", \"id_str\"]].copy()\n",
    "    ids_df = ids_df.rename(\n",
    "        {\"parent_id\": \"parent_parent_id\",\"root_id\":\"parent_root_id\",\"id_str\":\"parent_id_str\"}, axis=1\n",
    "    )\n",
    "    join_key = \"parent_id\" if recursion_iteration==0 else \"recursive_parent_id\"\n",
    "    self_joined_df = df.merge(ids_df, left_on=join_key, right_on=\"parent_id_str\", how=\"left\", indicator=True)\n",
    "    self_joined_df.loc[self_joined_df[\"_merge\"]==\"left_only\", \"root_id\"] = \"orphaned\"\n",
    "    self_joined_df.loc[self_joined_df[\"_merge\"]==\"left_only\", \"parent_parent_id\"] = \"orphaned\"\n",
    "    self_joined_df[\"recursive_parent_id\"] = self_joined_df[\"parent_parent_id\"]\n",
    "    root_found_mask = self_joined_df[\"recursive_parent_id\"] == self_joined_df[\"parent_id_str\"]\n",
    "    self_joined_df.loc[root_found_mask, \"root_id\"] = self_joined_df.loc[root_found_mask, \"parent_id_str\"]    \n",
    "    self_joined_df = self_joined_df.drop([\"parent_parent_id\", \"parent_root_id\", \"parent_id_str\", \"_merge\"], axis=1)\n",
    "    \n",
    "    if self_joined_df[\"root_id\"].isna().any():\n",
    "        recursion_iteration+=1\n",
    "        self_joined_df = traverse_parents_to_get_root_id(self_joined_df, recursion_iteration)\n",
    "\n",
    "    self_joined_df = self_joined_df.drop(\"recursive_parent_id\", axis=1, errors=\"ignore\")\n",
    "    return self_joined_df"
   ]
  },
  {
   "cell_type": "code",
   "execution_count": null,
   "id": "ac03c2eb",
   "metadata": {},
   "outputs": [],
   "source": [
    "df = add_root_ids(df)"
   ]
  },
  {
   "cell_type": "code",
   "execution_count": null,
   "id": "3155d2c5",
   "metadata": {},
   "outputs": [],
   "source": [
    "df"
   ]
  },
  {
   "cell_type": "code",
   "execution_count": null,
   "id": "2426f896",
   "metadata": {},
   "outputs": [],
   "source": [
    "df[~df[\"is_root\"]].groupby(\"root_id\").count()"
   ]
  },
  {
   "cell_type": "code",
   "execution_count": null,
   "id": "0a088979",
   "metadata": {},
   "outputs": [],
   "source": [
    "df[df[\"root_id\"].isna()]"
   ]
  },
  {
   "cell_type": "code",
   "execution_count": null,
   "id": "b4abe635",
   "metadata": {},
   "outputs": [],
   "source": [
    "test_df = pd.DataFrame([\n",
    "    (\"a\", np.nan),\n",
    "    (\"a1\", \"a\"),\n",
    "    (\"a2\", \"a\"),\n",
    "    (\"aa1\", \"a1\"),\n",
    "    (\"aa2\", \"a2\"),\n",
    "    (\"b\", np.nan),\n",
    "    (\"b1\", \"b\"),\n",
    "    (\"bb1\", \"b1\"),\n",
    "    (\"bbb1\", \"bb1\"),\n",
    "    (\"c1\", \"c\"),\n",
    "],\n",
    "columns=[\"id_str\", \"in_reply_to_status_id_str\"])"
   ]
  },
  {
   "cell_type": "code",
   "execution_count": null,
   "id": "be7eb021",
   "metadata": {},
   "outputs": [],
   "source": [
    "test_df"
   ]
  },
  {
   "cell_type": "code",
   "execution_count": null,
   "id": "3f9a2dba",
   "metadata": {},
   "outputs": [],
   "source": [
    "output_test_df = add_root_ids(test_df)"
   ]
  },
  {
   "cell_type": "code",
   "execution_count": null,
   "id": "f0fd760b",
   "metadata": {},
   "outputs": [],
   "source": [
    "output_test_df"
   ]
  },
  {
   "cell_type": "code",
   "execution_count": null,
   "id": "be52b9bf-ec5f-41fc-b22f-f23b3edbe377",
   "metadata": {},
   "outputs": [],
   "source": [
    "posts_df[\"created_utc\"] = pd.to_datetime(posts_df[\"created_utc\"])\n",
    "comments_df[\"created_utc\"] = pd.to_datetime(comments_df[\"created_utc\"])"
   ]
  },
  {
   "cell_type": "code",
   "execution_count": null,
   "id": "467f8e0a-ca73-491a-8c7c-e042b773b8eb",
   "metadata": {},
   "outputs": [],
   "source": [
    "all_text_df = pd.concat([posts_df, comments_df]).reset_index()"
   ]
  },
  {
   "cell_type": "code",
   "execution_count": null,
   "id": "3d30471d-f1a0-43af-b7a0-307d8c1543ee",
   "metadata": {},
   "outputs": [],
   "source": [
    "all_text_df"
   ]
  },
  {
   "cell_type": "code",
   "execution_count": null,
   "id": "2946b541-ebe7-41eb-a522-f6d887cb28a2",
   "metadata": {},
   "outputs": [],
   "source": [
    "# remove mod posts/comments\n",
    "all_text_df = all_text_df[all_text_df[\"author\"] !=\"AutoModerator\"]\n",
    "all_text_df = all_text_df[all_text_df[\"author\"] !=\"PoliticsModeratorBot\"]"
   ]
  },
  {
   "cell_type": "code",
   "execution_count": null,
   "id": "93aca3fa",
   "metadata": {},
   "outputs": [],
   "source": [
    "# Fill na for parent and root ids for posts\n",
    "all_text_df[\"parent_id\"] = all_text_df[\"parent_id\"].fillna(all_text_df[\"id\"]).astype(int) \n",
    "all_text_df[\"root_id\"] = all_text_df[\"root_id\"].fillna(all_text_df[\"id\"]).astype(int) "
   ]
  },
  {
   "cell_type": "code",
   "execution_count": null,
   "id": "71af6fd4-b686-4241-9923-dcc91161e00e",
   "metadata": {},
   "outputs": [],
   "source": [
    "# only show comments that have a root post\n",
    "all_text_df = all_text_df[all_text_df[\"root_id\"].isin(all_text_df[\"id\"])]"
   ]
  },
  {
   "cell_type": "code",
   "execution_count": null,
   "id": "b39a6d28",
   "metadata": {},
   "outputs": [],
   "source": [
    "# remove orphaned posts\n",
    "df = df[df[\"root_id\"]!= \"orphaned\"]"
   ]
  },
  {
   "cell_type": "code",
   "execution_count": null,
   "id": "04323345-1a9d-4e5c-a393-8de543d3e5be",
   "metadata": {},
   "outputs": [],
   "source": [
    "df[\"display_text\"] = \"Reply by @\" + df[\"user_name\"] + \": \\n\\t\" + df[\"text\"] + \" \\n\"\n",
    "\n",
    "df.loc[df[\"is_root\"], \"display_text\"] = \"Post by @\" + df[\"user_name\"] + \": \\n\\t\" + df[\"text\"] + \" \\n\""
   ]
  },
  {
   "cell_type": "code",
   "execution_count": null,
   "id": "3e277a13-256d-4b10-a0e6-374c5a076ff2",
   "metadata": {},
   "outputs": [],
   "source": [
    "df[\"word_count\"] = df[\"display_text\"].str.findall(r\"(\\w+)\").str.len()"
   ]
  },
  {
   "cell_type": "code",
   "execution_count": null,
   "id": "7e444514-9b96-4127-acf1-9ac5f8fbda00",
   "metadata": {},
   "outputs": [],
   "source": [
    "df.iloc[0][\"display_text\"]"
   ]
  },
  {
   "cell_type": "code",
   "execution_count": null,
   "id": "99afbc99-de0b-4ff0-ac39-8ea0b073c23b",
   "metadata": {},
   "outputs": [],
   "source": []
  },
  {
   "cell_type": "code",
   "execution_count": null,
   "id": "a6506b89-5041-4b71-aa64-c503e8189f75",
   "metadata": {},
   "outputs": [],
   "source": [
    "grouped_df = df.groupby(\"root_id\")"
   ]
  },
  {
   "cell_type": "code",
   "execution_count": null,
   "id": "9d22fafd-a202-4206-ab66-fbcc00e3e806",
   "metadata": {},
   "outputs": [],
   "source": [
    "conversation_sizes_df = grouped_df.size().to_frame(\"num_texts\").reset_index()"
   ]
  },
  {
   "cell_type": "code",
   "execution_count": null,
   "id": "b0ca0432-862e-4305-8aea-a1f065838726",
   "metadata": {},
   "outputs": [],
   "source": [
    "conversation_sizes_df"
   ]
  },
  {
   "cell_type": "code",
   "execution_count": null,
   "id": "fe1fd064",
   "metadata": {},
   "outputs": [],
   "source": [
    "conversation_sizes_df[conversation_sizes_df[\"num_texts\"] < 200].groupby(\"num_texts\").size().plot()"
   ]
  },
  {
   "cell_type": "code",
   "execution_count": null,
   "id": "a345eece",
   "metadata": {},
   "outputs": [],
   "source": [
    "conversation_sizes_df[conversation_sizes_df[\"num_texts\"] < 200].groupby(\"num_texts\").size()"
   ]
  },
  {
   "cell_type": "code",
   "execution_count": null,
   "id": "f3981922",
   "metadata": {},
   "outputs": [],
   "source": [
    "conversations_df = pd.merge(df, conversation_sizes_df[conversation_sizes_df[\"num_texts\"]>1])"
   ]
  },
  {
   "cell_type": "code",
   "execution_count": null,
   "id": "d847598f",
   "metadata": {},
   "outputs": [],
   "source": [
    "## Get cumulative sum of words to cut off extreneous words for display"
   ]
  },
  {
   "cell_type": "code",
   "execution_count": null,
   "id": "cd614e84",
   "metadata": {},
   "outputs": [],
   "source": [
    "## This is a first pass attempt to get threads: \n",
    "## the sort would not order based on threads, but on create time. there should be some way to \n",
    "## achieve this using some kind of graph sort, but it can't be done just with sort_values in pandas\n",
    "conversations_df = conversations_df.sort_values([\"root_id\", \"is_root\", \"created_at\"], ascending=[True, False, True])"
   ]
  },
  {
   "cell_type": "code",
   "execution_count": null,
   "id": "fac29139",
   "metadata": {},
   "outputs": [],
   "source": [
    "conversations_df[\"cum_word_count\"] = conversations_df[[\"root_id\", \"word_count\"]].groupby(\"root_id\").cumsum()"
   ]
  },
  {
   "cell_type": "code",
   "execution_count": null,
   "id": "7adedc3b",
   "metadata": {},
   "outputs": [],
   "source": [
    "## Cut off less than 150 words \n",
    "conversations_df = conversations_df[conversations_df[\"cum_word_count\"] < 150]"
   ]
  },
  {
   "cell_type": "code",
   "execution_count": null,
   "id": "a68e8136",
   "metadata": {},
   "outputs": [],
   "source": [
    "conversations_display_df = conversations_df.groupby(\"root_id\").agg({\"display_text\": \"\\n\".join})"
   ]
  },
  {
   "cell_type": "code",
   "execution_count": null,
   "id": "8b57d488",
   "metadata": {},
   "outputs": [],
   "source": [
    "conversations_display_df = conversations_display_df.rename(columns={\"display_text\": \"text\"})"
   ]
  },
  {
   "cell_type": "code",
   "execution_count": null,
   "id": "e0567a12-2df4-4c1a-8c7c-285a68dbb9fc",
   "metadata": {},
   "outputs": [],
   "source": [
    "with tentaclio.open(twitter_output_path, \"w\") as fb:\n",
    "    conversations_display_df.to_csv(fb)"
   ]
  },
  {
   "cell_type": "code",
   "execution_count": null,
   "id": "bcc9e144",
   "metadata": {},
   "outputs": [],
   "source": [
    "conversations_display_df"
   ]
  },
  {
   "cell_type": "code",
   "execution_count": null,
   "id": "d81dc44f",
   "metadata": {},
   "outputs": [],
   "source": [
    "conversations_display_df[\"word_count\"] = conversations_display_df[\"text\"].str.findall(r\"(\\w+)\").str.len()"
   ]
  },
  {
   "cell_type": "code",
   "execution_count": null,
   "id": "028b9aa8",
   "metadata": {},
   "outputs": [],
   "source": [
    "conversations_display_df"
   ]
  },
  {
   "cell_type": "code",
   "execution_count": null,
   "id": "4817ec16",
   "metadata": {},
   "outputs": [],
   "source": []
  }
 ],
 "metadata": {
  "kernelspec": {
   "display_name": "Python 3 (ipykernel)",
   "language": "python",
   "name": "python3"
  },
  "language_info": {
   "codemirror_mode": {
    "name": "ipython",
    "version": 3
   },
   "file_extension": ".py",
   "mimetype": "text/x-python",
   "name": "python",
   "nbconvert_exporter": "python",
   "pygments_lexer": "ipython3",
   "version": "3.9.2"
  }
 },
 "nbformat": 4,
 "nbformat_minor": 5
}
