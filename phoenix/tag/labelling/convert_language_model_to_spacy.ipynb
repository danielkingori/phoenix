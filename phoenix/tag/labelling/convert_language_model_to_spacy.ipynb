{
 "cells": [
  {
   "cell_type": "markdown",
   "metadata": {
    "colab_type": "text",
    "id": "N7nlMRmcJp7_"
   },
   "source": [
    "## Integrate [AraVec](https://github.com/bakrianoo/aravec) with [Spacy.io](https://spacy.io/)\n",
    "\n",
    "This notebook demonstrates how to integrate an [AraVec](https://github.com/bakrianoo/aravec) model with [spaCy.io](https://spacy.io/)\n",
    "\n",
    "## Outlines\n",
    "\n",
    "- Install/Load the required modules\n",
    "- Load AraVec\n",
    "- Export the Word2Vec format + gzip it.\n",
    "- Initialize the spaCy model using AraVec vectors\n",
    "- Run Your AraVec Spacy Model\n",
    "- Test the Model"
   ]
  },
  {
   "cell_type": "markdown",
   "metadata": {
    "colab_type": "text",
    "id": "aDX5kzUJJp8B"
   },
   "source": [
    "## Install/Load the required modules"
   ]
  },
  {
   "cell_type": "code",
   "execution_count": null,
   "metadata": {
    "ExecuteTime": {
     "end_time": "2020-04-27T22:45:44.689719Z",
     "start_time": "2020-04-27T22:45:42.787139Z"
    },
    "colab": {},
    "colab_type": "code",
    "id": "qrruGV8IJp8C",
    "scrolled": true
   },
   "outputs": [],
   "source": [
    "!pip install gensim spacy nltk"
   ]
  },
  {
   "cell_type": "code",
   "execution_count": null,
   "metadata": {
    "colab": {},
    "colab_type": "code",
    "id": "Jr-fEfMknBZH"
   },
   "outputs": [],
   "source": [
    "import gensim\n",
    "import re\n",
    "import spacy\n",
    "\n",
    "# Clean/Normalize Arabic Text\n",
    "def clean_str(text):\n",
    "    search = [\"أ\",\"إ\",\"آ\",\"ة\",\"_\",\"-\",\"/\",\".\",\"،\",\" و \",\" يا \",'\"',\"ـ\",\"'\",\"ى\",\"\\\\\",'\\n', '\\t','&quot;','?','؟','!']\n",
    "    replace = [\"ا\",\"ا\",\"ا\",\"ه\",\" \",\" \",\"\",\"\",\"\",\" و\",\" يا\",\"\",\"\",\"\",\"ي\",\"\",' ', ' ',' ',' ? ',' ؟ ',' ! ']\n",
    "    \n",
    "    #remove tashkeel\n",
    "    p_tashkeel = re.compile(r'[\\u0617-\\u061A\\u064B-\\u0652]')\n",
    "    text = re.sub(p_tashkeel,\"\", text)\n",
    "    \n",
    "    #remove longation\n",
    "    p_longation = re.compile(r'(.)\\1+')\n",
    "    subst = r\"\\1\\1\"\n",
    "    text = re.sub(p_longation, subst, text)\n",
    "    \n",
    "    text = text.replace('وو', 'و')\n",
    "    text = text.replace('يي', 'ي')\n",
    "    text = text.replace('اا', 'ا')\n",
    "    \n",
    "    for i in range(0, len(search)):\n",
    "        text = text.replace(search[i], replace[i])\n",
    "    \n",
    "    #trim    \n",
    "    text = text.strip()\n",
    "\n",
    "    return text"
   ]
  },
  {
   "cell_type": "markdown",
   "metadata": {
    "colab_type": "text",
    "id": "8_-qAgYQJp8L"
   },
   "source": [
    "## Load AraVec\n",
    "Download a model from the [AraVec Repository](https://github.com/bakrianoo/aravec), then follow the below steps to load it."
   ]
  },
  {
   "cell_type": "code",
   "execution_count": null,
   "metadata": {
    "colab": {},
    "colab_type": "code",
    "id": "T5a8VHhbij2f"
   },
   "outputs": [],
   "source": [
    "# Download via terminal commands\n",
    "!wget \"https://archive.org/download/aravec2.0/tweet_cbow_300.zip\"\n",
    "!unzip \"tweet_cbow_300.zip\""
   ]
  },
  {
   "cell_type": "code",
   "execution_count": null,
   "metadata": {
    "colab": {
     "base_uri": "https://localhost:8080/",
     "height": 34
    },
    "colab_type": "code",
    "id": "Mjs_I0TUjGMP",
    "outputId": "978ffd5e-5512-4931-d0ec-6c1a86fb01d2"
   },
   "outputs": [],
   "source": [
    "# load the AraVec model\n",
    "model = gensim.models.Word2Vec.load(\"tweets_cbow_300\")"
   ]
  },
  {
   "cell_type": "code",
   "execution_count": null,
   "metadata": {},
   "outputs": [],
   "source": [
    "print(\"We have\",len(model.wv.index_to_key),\"vocabularies\")"
   ]
  },
  {
   "cell_type": "markdown",
   "metadata": {
    "colab_type": "text",
    "id": "Ll25Yq9KJp8d"
   },
   "source": [
    "## Export the Word2Vec format + gzip it."
   ]
  },
  {
   "cell_type": "code",
   "execution_count": null,
   "metadata": {
    "ExecuteTime": {
     "end_time": "2020-04-28T13:04:35.872005Z",
     "start_time": "2020-04-28T13:04:35.750353Z"
    },
    "colab": {},
    "colab_type": "code",
    "id": "eYO6GPSSJp8e"
   },
   "outputs": [],
   "source": [
    "# make a directory called \"spacyModel\"\n",
    "%mkdir spacyModel"
   ]
  },
  {
   "cell_type": "code",
   "execution_count": null,
   "metadata": {
    "ExecuteTime": {
     "end_time": "2020-04-28T13:05:07.649631Z",
     "start_time": "2020-04-28T13:04:37.108481Z"
    },
    "colab": {},
    "colab_type": "code",
    "id": "qrISD4ONJp8g"
   },
   "outputs": [],
   "source": [
    "# export the word2vec fomart to the directory\n",
    "model.wv.save_word2vec_format(\"./spacyModel/aravec.txt\")"
   ]
  },
  {
   "cell_type": "code",
   "execution_count": null,
   "metadata": {
    "ExecuteTime": {
     "end_time": "2020-04-28T13:05:47.899536Z",
     "start_time": "2020-04-28T13:05:07.650778Z"
    },
    "colab": {},
    "colab_type": "code",
    "id": "BvpYpLXHJp8k"
   },
   "outputs": [],
   "source": [
    "# using `gzip` to compress the .txt file\n",
    "!gzip ./spacyModel/aravec.txt"
   ]
  },
  {
   "cell_type": "markdown",
   "metadata": {
    "colab_type": "text",
    "id": "mIEFJtxSJp8n"
   },
   "source": [
    "## Initialize the spaCy model using AraVec vectors\n",
    "\n",
    "- This will create a folder called `/spacy.aravec.model` within your current working directory.\n",
    "- This step could take several minutes to be completed."
   ]
  },
  {
   "cell_type": "code",
   "execution_count": null,
   "metadata": {
    "ExecuteTime": {
     "end_time": "2020-04-28T13:06:08.570498Z",
     "start_time": "2020-04-28T13:05:49.692840Z"
    },
    "colab": {
     "base_uri": "https://localhost:8080/",
     "height": 101
    },
    "colab_type": "code",
    "id": "klLd5QoeJp8o",
    "outputId": "95ec1a6d-1a6d-4edd-a464-960ed014db3e"
   },
   "outputs": [],
   "source": [
    "!python -m spacy init vectors ar ./spacyModel/aravec.txt.gz spacy.aravec.model "
   ]
  },
  {
   "cell_type": "markdown",
   "metadata": {
    "colab_type": "text",
    "id": "ReikgJ93Jp8r"
   },
   "source": [
    "## Run Your AraVec Spacy Model\n"
   ]
  },
  {
   "cell_type": "code",
   "execution_count": null,
   "metadata": {
    "ExecuteTime": {
     "end_time": "2020-04-28T13:06:25.120513Z",
     "start_time": "2020-04-28T13:06:24.032773Z"
    },
    "colab": {},
    "colab_type": "code",
    "id": "ab-Hnj4kJp8r"
   },
   "outputs": [],
   "source": [
    "# load AraVec Spacy model\n",
    "nlp = spacy.load(\"./spacy.aravec.model/\")"
   ]
  },
  {
   "cell_type": "code",
   "execution_count": null,
   "metadata": {
    "colab": {},
    "colab_type": "code",
    "id": "1Efk9S9onT4V"
   },
   "outputs": [],
   "source": [
    "# Define the preprocessing Class\n",
    "class Preprocessor:\n",
    "    def __init__(self, tokenizer, **cfg):\n",
    "        self.tokenizer = tokenizer\n",
    "\n",
    "    def __call__(self, text):\n",
    "        preprocessed = clean_str(text)\n",
    "        return self.tokenizer(preprocessed)"
   ]
  },
  {
   "cell_type": "code",
   "execution_count": null,
   "metadata": {
    "colab": {},
    "colab_type": "code",
    "id": "9CIWoqhInihz"
   },
   "outputs": [],
   "source": [
    "# Apply the `Preprocessor` Class\n",
    "nlp.tokenizer = Preprocessor(nlp.tokenizer)"
   ]
  },
  {
   "cell_type": "markdown",
   "metadata": {
    "colab_type": "text",
    "id": "zYzrWSHLn0sM"
   },
   "source": [
    "## Test the Model"
   ]
  },
  {
   "cell_type": "code",
   "execution_count": null,
   "metadata": {
    "colab": {
     "base_uri": "https://localhost:8080/",
     "height": 370
    },
    "colab_type": "code",
    "id": "X8QZEGiunuUT",
    "outputId": "fdc0f830-c37b-4323-ba2c-f102d2c15fe9"
   },
   "outputs": [],
   "source": [
    "# Test your model\n",
    "nlp(\"قطة\").vector"
   ]
  },
  {
   "cell_type": "code",
   "execution_count": null,
   "metadata": {
    "colab": {
     "base_uri": "https://localhost:8080/",
     "height": 50
    },
    "colab_type": "code",
    "id": "q25t-eoAn0Kj",
    "outputId": "01491f6f-8739-4d07-8dc6-a3b3b2c9be23"
   },
   "outputs": [],
   "source": [
    "egypt = nlp(\"مصر بلد\")\n",
    "tunisia = nlp(\"تونس\")\n",
    "apple = nlp(\"تفاح\")\n",
    "\n",
    "print(\"egypt Vs. tunisia = \", egypt.similarity(tunisia))\n",
    "print(\"egypt Vs. apple = \", egypt.similarity(apple))"
   ]
  },
  {
   "cell_type": "code",
   "execution_count": null,
   "metadata": {},
   "outputs": [],
   "source": [
    "egypt.vector"
   ]
  },
  {
   "cell_type": "markdown",
   "metadata": {
    "colab_type": "text",
    "id": "4iFhK4f-Jp9G"
   },
   "source": [
    "## Done !!\n",
    "\n",
    "Congratulations, now you have your AraVec model running on spaCy."
   ]
  }
 ],
 "metadata": {
  "colab": {
   "collapsed_sections": [],
   "name": "aravec-with-spacy.ipynb",
   "provenance": []
  },
  "kernelspec": {
   "display_name": "Python 3 (ipykernel)",
   "language": "python",
   "name": "python3"
  },
  "language_info": {
   "codemirror_mode": {
    "name": "ipython",
    "version": 3
   },
   "file_extension": ".py",
   "mimetype": "text/x-python",
   "name": "python",
   "nbconvert_exporter": "python",
   "pygments_lexer": "ipython3",
   "version": "3.9.2"
  }
 },
 "nbformat": 4,
 "nbformat_minor": 1
}
