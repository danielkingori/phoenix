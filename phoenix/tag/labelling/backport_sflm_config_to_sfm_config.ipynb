{
 "cells": [
  {
   "cell_type": "code",
   "execution_count": null,
   "id": "12377bff",
   "metadata": {},
   "outputs": [],
   "source": [
    "%load_ext autoreload\n",
    "%autoreload 2"
   ]
  },
  {
   "cell_type": "code",
   "execution_count": null,
   "id": "18b03df5",
   "metadata": {},
   "outputs": [],
   "source": [
    "import datetime\n",
    "\n",
    "import pandas as pd\n",
    "import tentaclio\n",
    "\n",
    "from phoenix.common import artifacts, run_params, utils\n",
    "from phoenix.tag.topic import single_feature_match_topic_config as sfm_topic_config\n",
    "from phoenix.tag.labelling import backport_sflm_to_sfm, sflm_processing\n",
    "from phoenix.tag.labelling import utils as labelling_utils"
   ]
  },
  {
   "cell_type": "code",
   "execution_count": null,
   "id": "7396a8bf",
   "metadata": {},
   "outputs": [],
   "source": [
    "utils.setup_notebook_output()\n",
    "utils.setup_notebook_logging()"
   ]
  },
  {
   "cell_type": "code",
   "execution_count": null,
   "id": "aa961f97",
   "metadata": {
    "tags": [
     "parameters"
    ]
   },
   "outputs": [],
   "source": [
    "# Parameters\n",
    "# See phoenix/common/run_datetime.py expected format of parameter\n",
    "RUN_DATETIME = None\n",
    "TENANT_ID = None\n",
    "\n",
    "# See phoenix/common/artifacts/registry_environment.py expected format of parameter\n",
    "ARTIFACTS_ENVIRONMENT_KEY = \"local\"\n",
    "\n",
    "# Note: this is a list of all `object_type`s the tenant has an sflm for.\n",
    "OBJECT_TYPES = [\"facebook_posts\"]\n"
   ]
  },
  {
   "cell_type": "code",
   "execution_count": null,
   "id": "d428074f",
   "metadata": {},
   "outputs": [],
   "source": [
    "cur_run_params = run_params.general.create(ARTIFACTS_ENVIRONMENT_KEY, TENANT_ID, RUN_DATETIME)\n",
    "\n",
    "# INPUT\n",
    "sflm_url_dict = {}\n",
    "for OBJECT_TYPE in OBJECT_TYPES:\n",
    "    url_config = {\"OBJECT_TYPE\": OBJECT_TYPE}\n",
    "    url = cur_run_params.art_url_reg.get_url(\"sflm-single_object_type\", url_config)\n",
    "    sflm_url_dict[OBJECT_TYPE] = url\n",
    "    \n",
    "\n",
    "# OUTPUT\n",
    "SFM_TOPIC_CONFIG_URL = cur_run_params.art_url_reg.get_url(\"static-legacy-sfm-config\")\n",
    "\n"
   ]
  },
  {
   "cell_type": "code",
   "execution_count": null,
   "id": "d4c09a64",
   "metadata": {},
   "outputs": [],
   "source": [
    "# Display params.\n",
    "print(\n",
    "cur_run_params.run_dt.dt,\n",
    "cur_run_params.tenant_config,\n",
    "sflm_url_dict,\n",
    "SFM_TOPIC_CONFIG_URL,\n",
    "sep='\\n',\n",
    ")"
   ]
  },
  {
   "cell_type": "code",
   "execution_count": null,
   "id": "624262e8",
   "metadata": {},
   "outputs": [],
   "source": [
    "sflm_df = pd.DataFrame()\n",
    "for url in sflm_url_dict.values():\n",
    "    df = artifacts.dataframes.get(url).dataframe\n",
    "    sflm_df = sflm_df.append(df)"
   ]
  },
  {
   "cell_type": "code",
   "execution_count": null,
   "id": "ac5345f6",
   "metadata": {},
   "outputs": [],
   "source": [
    "sfm_df = backport_sflm_to_sfm.sflm_to_sfm(sflm_df)"
   ]
  },
  {
   "cell_type": "code",
   "execution_count": null,
   "id": "df2daf66",
   "metadata": {},
   "outputs": [],
   "source": [
    "with tentaclio.open(SFM_TOPIC_CONFIG_URL, \"w\") as fh:\n",
    "    sfm_df.to_csv(fh, index=False)"
   ]
  },
  {
   "cell_type": "code",
   "execution_count": null,
   "id": "2ae43b9c",
   "metadata": {},
   "outputs": [],
   "source": []
  }
 ],
 "metadata": {
  "celltoolbar": "Tags",
  "kernelspec": {
   "display_name": "Python 3 (ipykernel)",
   "language": "python",
   "name": "python3"
  },
  "language_info": {
   "codemirror_mode": {
    "name": "ipython",
    "version": 3
   },
   "file_extension": ".py",
   "mimetype": "text/x-python",
   "name": "python",
   "nbconvert_exporter": "python",
   "pygments_lexer": "ipython3",
   "version": "3.9.2"
  }
 },
 "nbformat": 4,
 "nbformat_minor": 5
}
