{
 "cells": [
  {
   "cell_type": "code",
   "execution_count": null,
   "id": "8680471c",
   "metadata": {},
   "outputs": [],
   "source": [
    "%load_ext autoreload\n",
    "%autoreload 2"
   ]
  },
  {
   "cell_type": "code",
   "execution_count": null,
   "id": "57935f66",
   "metadata": {},
   "outputs": [],
   "source": [
    "import datetime\n",
    "\n",
    "import pandas as pd\n",
    "import tentaclio\n",
    "\n",
    "from phoenix.common import artifacts, run_params, utils\n",
    "from phoenix.tag.topic import single_feature_match_topic_config as sfm_topic_config\n",
    "from phoenix.tag.labelling import pull_label_sheet\n",
    "from phoenix.tag.labelling import utils as labelling_utils"
   ]
  },
  {
   "cell_type": "code",
   "execution_count": null,
   "id": "66e4c724",
   "metadata": {},
   "outputs": [],
   "source": [
    "utils.setup_notebook_output()\n",
    "utils.setup_notebook_logging()"
   ]
  },
  {
   "cell_type": "code",
   "execution_count": null,
   "id": "e841c5a6",
   "metadata": {
    "tags": [
     "parameters"
    ]
   },
   "outputs": [],
   "source": [
    "# Parameters\n",
    "# See phoenix/common/run_datetime.py expected format of parameter\n",
    "RUN_DATETIME = None\n",
    "TENANT_ID = None\n",
    "\n",
    "# See phoenix/common/artifacts/registry_environment.py expected format of parameter\n",
    "ARTIFACTS_ENVIRONMENT_KEY = \"local\"\n",
    "\n",
    "OBJECT_TYPE = \"facebook_posts\"\n"
   ]
  },
  {
   "cell_type": "code",
   "execution_count": null,
   "id": "40a17167",
   "metadata": {},
   "outputs": [],
   "source": [
    "cur_run_params = run_params.general.create(ARTIFACTS_ENVIRONMENT_KEY, TENANT_ID, RUN_DATETIME)\n",
    "\n",
    "# INPUT\n",
    "SPREADSHEET_NAME = f\"{TENANT_ID}_manual_data_labelling\"\n",
    "WORKSHEET_NAME = f\"{OBJECT_TYPE}_to_label\"\n",
    "\n",
    "TENANT_FOLDER_ID = cur_run_params.tenant_config.google_drive_folder_id\n",
    "\n",
    "# OUTPUT\n",
    "OUTPUT_SPREADSHEET_NAME = f\"{TENANT_ID}_class_mappings\"\n",
    "OUTPUT_WORKSHEET_NAME_SFLM = f\"{OBJECT_TYPE}_feature_mappings\"\n",
    "OUTPUT_WORKSHEET_NAME_NO_FEATURES = f\"{OBJECT_TYPE}_no_feature_labels\"\n",
    "\n",
    "\n"
   ]
  },
  {
   "cell_type": "code",
   "execution_count": null,
   "id": "ab21ab60",
   "metadata": {},
   "outputs": [],
   "source": [
    "# Display params.\n",
    "print(\n",
    "cur_run_params.run_dt.dt,\n",
    "cur_run_params.tenant_config,\n",
    "SPREADSHEET_NAME,\n",
    "WORKSHEET_NAME,\n",
    "OUTPUT_SPREADSHEET_NAME,\n",
    "OUTPUT_WORKSHEET_NAME_SFLM,\n",
    "OUTPUT_WORKSHEET_NAME_NO_FEATURES,\n",
    "sep='\\n',\n",
    ")"
   ]
  },
  {
   "cell_type": "code",
   "execution_count": null,
   "id": "b79aabd0",
   "metadata": {},
   "outputs": [],
   "source": [
    "google_client = artifacts.google_sheets.get_client()"
   ]
  },
  {
   "cell_type": "code",
   "execution_count": null,
   "id": "f5c5253c",
   "metadata": {},
   "outputs": [],
   "source": [
    "labeled_objects_df = artifacts.google_sheets.get(\n",
    "    google_client, TENANT_FOLDER_ID, SPREADSHEET_NAME, WORKSHEET_NAME\n",
    ")"
   ]
  },
  {
   "cell_type": "code",
   "execution_count": null,
   "id": "87c41b70",
   "metadata": {},
   "outputs": [],
   "source": [
    "labeled_objects_df"
   ]
  },
  {
   "cell_type": "code",
   "execution_count": null,
   "id": "7fe879f2",
   "metadata": {},
   "outputs": [],
   "source": [
    "df_object_labels, labels_no_features_df = pull_label_sheet.extract_features_to_label_mapping_objects(labeled_objects_df)"
   ]
  },
  {
   "cell_type": "code",
   "execution_count": null,
   "id": "f04639ea",
   "metadata": {},
   "outputs": [],
   "source": [
    "df_object_labels"
   ]
  },
  {
   "cell_type": "code",
   "execution_count": null,
   "id": "4afe162a",
   "metadata": {},
   "outputs": [],
   "source": [
    "df_object_labels[\"class\"].nunique()"
   ]
  },
  {
   "cell_type": "code",
   "execution_count": null,
   "id": "78f6b317",
   "metadata": {},
   "outputs": [],
   "source": [
    "artifacts.google_sheets.persist(\n",
    "    google_client, \n",
    "    TENANT_FOLDER_ID, \n",
    "    OUTPUT_SPREADSHEET_NAME,\n",
    "    OUTPUT_WORKSHEET_NAME_SFLM,\n",
    "    df_object_labels\n",
    ")"
   ]
  },
  {
   "cell_type": "code",
   "execution_count": null,
   "id": "a04b845b",
   "metadata": {},
   "outputs": [],
   "source": [
    "labels_no_features_df"
   ]
  },
  {
   "cell_type": "code",
   "execution_count": null,
   "id": "806ba077",
   "metadata": {},
   "outputs": [],
   "source": [
    "artifacts.google_sheets.persist(\n",
    "    google_client, \n",
    "    TENANT_FOLDER_ID, \n",
    "    OUTPUT_SPREADSHEET_NAME,\n",
    "    OUTPUT_WORKSHEET_NAME_NO_FEATURES,\n",
    "    labels_no_features_df\n",
    ")"
   ]
  }
 ],
 "metadata": {
  "celltoolbar": "Tags",
  "kernelspec": {
   "display_name": "Python 3 (ipykernel)",
   "language": "python",
   "name": "python3"
  },
  "language_info": {
   "codemirror_mode": {
    "name": "ipython",
    "version": 3
   },
   "file_extension": ".py",
   "mimetype": "text/x-python",
   "name": "python",
   "nbconvert_exporter": "python",
   "pygments_lexer": "ipython3",
   "version": "3.9.2"
  }
 },
 "nbformat": 4,
 "nbformat_minor": 5
}
