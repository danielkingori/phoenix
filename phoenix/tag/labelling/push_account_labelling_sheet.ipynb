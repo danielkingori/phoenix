{
 "cells": [
  {
   "cell_type": "code",
   "execution_count": null,
   "id": "4cde38e7",
   "metadata": {},
   "outputs": [],
   "source": [
    "%load_ext autoreload\n",
    "%autoreload 2"
   ]
  },
  {
   "cell_type": "code",
   "execution_count": null,
   "id": "bcff36ae",
   "metadata": {},
   "outputs": [],
   "source": [
    "import datetime\n",
    "\n",
    "import pandas as pd\n",
    "import tentaclio\n",
    "\n",
    "from phoenix.common import artifacts, run_params, utils\n",
    "from phoenix.tag.topic import single_feature_match_topic_config as sfm_topic_config\n",
    "from phoenix.tag.labelling import generate_label_sheet \n",
    "from phoenix.tag.labelling import utils as labelling_utils\n",
    "from phoenix.tag import normalise"
   ]
  },
  {
   "cell_type": "code",
   "execution_count": null,
   "id": "17082952",
   "metadata": {},
   "outputs": [],
   "source": [
    "utils.setup_notebook_output()\n",
    "utils.setup_notebook_logging()"
   ]
  },
  {
   "cell_type": "code",
   "execution_count": null,
   "id": "ec068547",
   "metadata": {
    "tags": [
     "parameters"
    ]
   },
   "outputs": [],
   "source": [
    "# Parameters\n",
    "# See phoenix/common/run_datetime.py expected format of parameter\n",
    "RUN_DATETIME = None\n",
    "TENANT_ID = None\n",
    "\n",
    "# See phoenix/common/artifacts/registry_environment.py expected format of parameter\n",
    "ARTIFACTS_ENVIRONMENT_KEY = \"local\"\n",
    "\n",
    "# Filters for batch\n",
    "YEAR_FILTER = 2021\n",
    "# Without zero padding\n",
    "MONTH_FILTER = 8\n",
    "OBJECT_TYPE = \"facebook_posts\"\n"
   ]
  },
  {
   "cell_type": "code",
   "execution_count": null,
   "id": "5b88b0db",
   "metadata": {},
   "outputs": [],
   "source": [
    "# OUTPUT\n",
    "SPREADSHEET_NAME = f\"{TENANT_ID}_manual_data_labelling\"\n",
    "ACCOUNT_OBJECT_TYPE = labelling_utils.get_account_object_type(OBJECT_TYPE)\n",
    "WORKSHEET_NAME = f\"{ACCOUNT_OBJECT_TYPE}_to_label\"\n",
    "\n",
    "cur_run_params = run_params.general.create(ARTIFACTS_ENVIRONMENT_KEY, TENANT_ID, RUN_DATETIME)\n",
    "    \n",
    "url_config = {\n",
    "    \"YEAR_FILTER\": int(YEAR_FILTER),\n",
    "    \"MONTH_FILTER\": int(MONTH_FILTER),\n",
    "    \"OBJECT_TYPE\": OBJECT_TYPE,\n",
    "}\n",
    "\n",
    "TAGGING_RUNS_URL_FEATURES_FOR_TAGGING_FOLDER = cur_run_params.art_url_reg.get_url(\"tagging_runs-objects_for_tagging\", url_config)\n",
    "TENANT_FOLDER_ID = cur_run_params.tenant_config.google_drive_folder_id"
   ]
  },
  {
   "cell_type": "code",
   "execution_count": null,
   "id": "428ba277",
   "metadata": {},
   "outputs": [],
   "source": [
    "# Display params.\n",
    "print(\n",
    "TAGGING_RUNS_URL_FEATURES_FOR_TAGGING_FOLDER,\n",
    "cur_run_params.run_dt.dt,\n",
    "cur_run_params.tenant_config,\n",
    "YEAR_FILTER,\n",
    "MONTH_FILTER,\n",
    "ACCOUNT_OBJECT_TYPE,\n",
    "WORKSHEET_NAME,\n",
    "sep='\\n',\n",
    ")"
   ]
  },
  {
   "cell_type": "code",
   "execution_count": null,
   "id": "00e8e673",
   "metadata": {},
   "outputs": [],
   "source": [
    "google_client = artifacts.google_sheets.get_client()"
   ]
  },
  {
   "cell_type": "code",
   "execution_count": null,
   "id": "26d1a059-b32b-4341-af96-1a61c1dfda77",
   "metadata": {},
   "outputs": [],
   "source": [
    "labeled_objects_df = artifacts.google_sheets.get(\n",
    "    google_client, TENANT_FOLDER_ID, SPREADSHEET_NAME, WORKSHEET_NAME\n",
    ")"
   ]
  },
  {
   "cell_type": "code",
   "execution_count": null,
   "id": "c24c5f4b",
   "metadata": {},
   "outputs": [],
   "source": [
    "df = normalise.merge(TAGGING_RUNS_URL_FEATURES_FOR_TAGGING_FOLDER)"
   ]
  },
  {
   "cell_type": "code",
   "execution_count": null,
   "id": "487e2295",
   "metadata": {},
   "outputs": [],
   "source": [
    "df"
   ]
  },
  {
   "cell_type": "code",
   "execution_count": null,
   "id": "50fb0d5c-7144-4064-b113-1b7e88e33256",
   "metadata": {},
   "outputs": [],
   "source": [
    "appendable_data_df = labelling_utils.filter_out_duplicates(labeled_objects_df, df, \"object_user_url\")"
   ]
  },
  {
   "cell_type": "code",
   "execution_count": null,
   "id": "019f8cfc-cf7c-4904-a743-a0b59112e04e",
   "metadata": {},
   "outputs": [],
   "source": [
    "appendable_data_df"
   ]
  },
  {
   "cell_type": "code",
   "execution_count": null,
   "id": "9d7b77e0",
   "metadata": {},
   "outputs": [],
   "source": [
    "account_labelling_df = generate_label_sheet.create_account_labelling_dataframe(\n",
    "    appendable_data_df, with_user_notes=(len(labeled_objects_df)==0)\n",
    ").fillna(\"\")"
   ]
  },
  {
   "cell_type": "code",
   "execution_count": null,
   "id": "4bb60493",
   "metadata": {},
   "outputs": [],
   "source": [
    "labelling_df_to_push = labeled_objects_df.append(account_labelling_df).fillna(\"\")"
   ]
  },
  {
   "cell_type": "code",
   "execution_count": null,
   "id": "326cdca3",
   "metadata": {},
   "outputs": [],
   "source": [
    "artifacts.google_sheets.persist(\n",
    "    google_client, TENANT_FOLDER_ID, SPREADSHEET_NAME, WORKSHEET_NAME, labelling_df_to_push\n",
    ")"
   ]
  },
  {
   "cell_type": "code",
   "execution_count": null,
   "id": "7ad7e771",
   "metadata": {},
   "outputs": [],
   "source": []
  }
 ],
 "metadata": {
  "celltoolbar": "Tags",
  "kernelspec": {
   "display_name": "Python 3 (ipykernel)",
   "language": "python",
   "name": "python3"
  },
  "language_info": {
   "codemirror_mode": {
    "name": "ipython",
    "version": 3
   },
   "file_extension": ".py",
   "mimetype": "text/x-python",
   "name": "python",
   "nbconvert_exporter": "python",
   "pygments_lexer": "ipython3",
   "version": "3.9.2"
  }
 },
 "nbformat": 4,
 "nbformat_minor": 5
}
