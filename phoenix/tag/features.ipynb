{
 "cells": [
  {
   "cell_type": "markdown",
   "id": "ee6b9aae-e9ca-427a-9e6f-08d8a92633c9",
   "metadata": {},
   "source": [
    "# Features\n",
    "Compute the features"
   ]
  },
  {
   "cell_type": "code",
   "execution_count": null,
   "id": "d20f471a-a32b-4071-84d1-64cf435ceb27",
   "metadata": {},
   "outputs": [],
   "source": [
    "%load_ext autoreload\n",
    "%autoreload 2"
   ]
  },
  {
   "cell_type": "code",
   "execution_count": null,
   "id": "72f8c18b-ddf0-4b81-87a0-2c6947ad6d06",
   "metadata": {},
   "outputs": [],
   "source": [
    "import datetime\n",
    "\n",
    "import pandas as pd\n",
    "import tentaclio\n",
    "\n",
    "from phoenix.common import artifacts\n",
    "from phoenix.common import utils\n",
    "from phoenix.tag import normalise\n",
    "from phoenix.tag import feature\n",
    "from phoenix.tag import export"
   ]
  },
  {
   "cell_type": "code",
   "execution_count": null,
   "id": "f6e5ba25-e8b3-43de-ac2e-f9969d6da660",
   "metadata": {},
   "outputs": [],
   "source": [
    "utils.setup_notebook_output()\n",
    "utils.setup_notebook_logging()"
   ]
  },
  {
   "cell_type": "code",
   "execution_count": null,
   "id": "7f0f8264-bba9-4f73-bde8-fa415edebb0f",
   "metadata": {},
   "outputs": [],
   "source": [
    "# Parametrise the run execution date.\n",
    "# Format of the run date\n",
    "RUN_DATE_FORMAT = \"%Y-%m-%d\"\n",
    "# This can be overwritten at execution time by Papermill to enable historic runs and backfills etc.\n",
    "RUN_DATE = datetime.datetime.today().strftime(RUN_DATE_FORMAT)\n",
    "\n",
    "# Set Artefacts URL\n",
    "ARTIFACTS_BASE_URL = f\"{artifacts.urls.get_local()}{RUN_DATE}/\"\n",
    "\n",
    "# Input\n",
    "FOR_TAGGING_ARTIFACTS_FOLDER = f\"{ARTIFACTS_BASE_URL}for_tagging/\""
   ]
  },
  {
   "cell_type": "code",
   "execution_count": null,
   "id": "eb190492-9a3c-4114-8bce-2729d6e9210a",
   "metadata": {},
   "outputs": [],
   "source": [
    "# Display params.\n",
    "print(\n",
    "ARTIFACTS_BASE_URL,\n",
    "FOR_TAGGING_ARTIFACTS_FOLDER,\n",
    "RUN_DATE,\n",
    "sep='\\n',\n",
    ")"
   ]
  },
  {
   "cell_type": "code",
   "execution_count": null,
   "id": "82bf4799-74ed-480b-8618-ea1dea34571a",
   "metadata": {},
   "outputs": [],
   "source": [
    "%env DASK_CLUSTER_IP=tcp://127.0.0.1:40861"
   ]
  },
  {
   "cell_type": "code",
   "execution_count": null,
   "id": "7649cd1e-a6eb-4a62-ad0c-f9c830c343f3",
   "metadata": {},
   "outputs": [],
   "source": [
    "utils.dask_global_init()"
   ]
  },
  {
   "cell_type": "code",
   "execution_count": null,
   "id": "76ca5321-7f26-4faf-bee4-09b2c64f35e0",
   "metadata": {},
   "outputs": [],
   "source": [
    "all_items = normalise.merge(FOR_TAGGING_ARTIFACTS_FOLDER)"
   ]
  },
  {
   "cell_type": "code",
   "execution_count": null,
   "id": "cc5d1522-198b-42af-959a-ab128c6392ec",
   "metadata": {},
   "outputs": [],
   "source": [
    "all_items.index"
   ]
  },
  {
   "cell_type": "code",
   "execution_count": null,
   "id": "d3d09671-b2bf-4c3b-a189-06551c463dc9",
   "metadata": {},
   "outputs": [],
   "source": [
    "all_items_normalised = normalise.execute(all_items)"
   ]
  },
  {
   "cell_type": "code",
   "execution_count": null,
   "id": "dd9b24a7-6eff-46d0-b5cb-497b12ad259e",
   "metadata": {},
   "outputs": [],
   "source": [
    "all_items_normalised.head()"
   ]
  },
  {
   "cell_type": "code",
   "execution_count": null,
   "id": "fb300f4b-8a8e-405b-94f8-5d31c90ec569",
   "metadata": {},
   "outputs": [],
   "source": [
    "lang_dist_all = normalise.language_distribution(all_items_normalised)\n",
    "lang_dist_all"
   ]
  },
  {
   "cell_type": "code",
   "execution_count": null,
   "id": "823f843d-7dc1-483e-90f6-6c761500d4e2",
   "metadata": {
    "tags": []
   },
   "outputs": [],
   "source": [
    "features_df = feature.features(all_items_normalised)"
   ]
  },
  {
   "cell_type": "code",
   "execution_count": null,
   "id": "d069d7b4-1c31-4a8d-a917-fdf44eafde66",
   "metadata": {},
   "outputs": [],
   "source": [
    "ex_features_df = feature.explode_features(features_df)"
   ]
  },
  {
   "cell_type": "code",
   "execution_count": null,
   "id": "d7ea3b9c-6f0a-4c2e-8e2d-1d329b1ded4f",
   "metadata": {},
   "outputs": [],
   "source": [
    "ex_features_df.head()"
   ]
  },
  {
   "cell_type": "code",
   "execution_count": null,
   "id": "cdc691c0-07a2-44bb-a57e-7dda98204d16",
   "metadata": {},
   "outputs": [],
   "source": [
    "ex_features_df.index"
   ]
  },
  {
   "cell_type": "code",
   "execution_count": null,
   "id": "b466926f-50f9-47e7-aed4-6776a0699326",
   "metadata": {},
   "outputs": [],
   "source": [
    "items, key_items, ex_features_has_df = feature.finalise(all_items_normalised, ex_features_df)"
   ]
  },
  {
   "cell_type": "code",
   "execution_count": null,
   "id": "69103c8c-9afa-4570-8a5f-fcc15361a247",
   "metadata": {},
   "outputs": [],
   "source": [
    "items.head()"
   ]
  },
  {
   "cell_type": "code",
   "execution_count": null,
   "id": "65c969d3-a26d-4cc5-bcc1-ef10fb6a281d",
   "metadata": {},
   "outputs": [],
   "source": [
    "key_items.head()"
   ]
  },
  {
   "cell_type": "code",
   "execution_count": null,
   "id": "ead68b48-8b86-4ec1-8bb0-83dd46273abe",
   "metadata": {},
   "outputs": [],
   "source": [
    "key_items.shape"
   ]
  },
  {
   "cell_type": "code",
   "execution_count": null,
   "id": "663aa6b5-f7cc-4914-ada3-12ba22e502d8",
   "metadata": {},
   "outputs": [],
   "source": [
    "a = artifacts.dataframes.persist(artifacts.dataframes.url(ARTIFACTS_BASE_URL, \"all_features\"), export.get_all_features_for_export(ex_features_has_df))"
   ]
  },
  {
   "cell_type": "code",
   "execution_count": null,
   "id": "1b45b2fa-c28a-474c-8479-6da3312f95b4",
   "metadata": {
    "tags": []
   },
   "outputs": [],
   "source": [
    "a = artifacts.dataframes.persist(artifacts.dataframes.url(ARTIFACTS_BASE_URL, \"key_items\"), export.get_items_for_export(key_items))"
   ]
  },
  {
   "cell_type": "code",
   "execution_count": null,
   "id": "a35165a1-9758-4fa2-b1f1-e81338854804",
   "metadata": {},
   "outputs": [],
   "source": [
    "a = artifacts.dataframes.persist(artifacts.dataframes.url(ARTIFACTS_BASE_URL, \"items\"), export.get_items_for_export(items))"
   ]
  },
  {
   "cell_type": "code",
   "execution_count": null,
   "id": "d84440b5-47ba-4b19-a814-bab9dcd8541b",
   "metadata": {},
   "outputs": [],
   "source": [
    "export.features_for_labeling(ARTIFACTS_BASE_URL, ex_features_has_df, None)"
   ]
  },
  {
   "cell_type": "code",
   "execution_count": null,
   "id": "b114e6a3-c812-49cf-b9ff-ea1db6506ae0",
   "metadata": {},
   "outputs": [],
   "source": [
    "export.features_for_labeling(ARTIFACTS_BASE_URL, ex_features_has_df, \"tweets\")"
   ]
  },
  {
   "cell_type": "code",
   "execution_count": null,
   "id": "38d6a6a5-d8b7-46c8-9f99-0cd0fab32da2",
   "metadata": {},
   "outputs": [],
   "source": [
    "export.features_for_labeling(ARTIFACTS_BASE_URL, ex_features_has_df, \"facebook_posts\")"
   ]
  },
  {
   "cell_type": "code",
   "execution_count": null,
   "id": "a277ba90-09e9-43e7-835c-381817fe9079",
   "metadata": {},
   "outputs": [],
   "source": [
    "export.features_for_labeling(ARTIFACTS_BASE_URL, ex_features_has_df, \"key_tweets\")"
   ]
  },
  {
   "cell_type": "code",
   "execution_count": null,
   "id": "ea4f1747-a2ea-4e30-a3aa-36034494ebe7",
   "metadata": {},
   "outputs": [],
   "source": [
    "export.features_for_labeling(ARTIFACTS_BASE_URL, ex_features_has_df, \"key_facebook_posts\")"
   ]
  },
  {
   "cell_type": "code",
   "execution_count": null,
   "id": "4c9e3790-3be8-4b9e-9b81-7096160041c7",
   "metadata": {},
   "outputs": [],
   "source": []
  }
 ],
 "metadata": {
  "kernelspec": {
   "display_name": "Python 3",
   "language": "python",
   "name": "python3"
  },
  "language_info": {
   "codemirror_mode": {
    "name": "ipython",
    "version": 3
   },
   "file_extension": ".py",
   "mimetype": "text/x-python",
   "name": "python",
   "nbconvert_exporter": "python",
   "pygments_lexer": "ipython3",
   "version": "3.9.2"
  }
 },
 "nbformat": 4,
 "nbformat_minor": 5
}
