{
 "cells": [
  {
   "cell_type": "markdown",
   "id": "ee6b9aae-e9ca-427a-9e6f-08d8a92633c9",
   "metadata": {},
   "source": [
    "# Features\n",
    "Compute the features"
   ]
  },
  {
   "cell_type": "code",
   "execution_count": null,
   "id": "d20f471a-a32b-4071-84d1-64cf435ceb27",
   "metadata": {},
   "outputs": [],
   "source": [
    "%load_ext autoreload\n",
    "%autoreload 2"
   ]
  },
  {
   "cell_type": "code",
   "execution_count": null,
   "id": "72f8c18b-ddf0-4b81-87a0-2c6947ad6d06",
   "metadata": {},
   "outputs": [],
   "source": [
    "import datetime\n",
    "\n",
    "import pandas as pd\n",
    "import tentaclio\n",
    "\n",
    "from phoenix.common import artifacts\n",
    "from phoenix.common import utils\n",
    "from phoenix.tag import normalise\n",
    "from phoenix.tag import feature\n",
    "from phoenix.tag import feature_object_process\n",
    "from phoenix.tag import export"
   ]
  },
  {
   "cell_type": "code",
   "execution_count": null,
   "id": "f6e5ba25-e8b3-43de-ac2e-f9969d6da660",
   "metadata": {},
   "outputs": [],
   "source": [
    "utils.setup_notebook_output()\n",
    "utils.setup_notebook_logging()"
   ]
  },
  {
   "cell_type": "code",
   "execution_count": null,
   "id": "7f0f8264-bba9-4f73-bde8-fa415edebb0f",
   "metadata": {},
   "outputs": [],
   "source": [
    "# Parametrise the run execution date.\n",
    "# Format of the run date\n",
    "RUN_DATE_FORMAT = \"%Y-%m-%d\"\n",
    "# This can be overwritten at execution time by Papermill to enable historic runs and backfills etc.\n",
    "RUN_DATE = datetime.datetime.today().strftime(RUN_DATE_FORMAT)\n",
    "\n",
    "# TODO: this has to be refactored so that MONTH_PREFIX is relational to the YEAR_FILTER and MONTH_FILTER\n",
    "YEAR_FILTER = 2021\n",
    "MONTH_FILTER = 5\n",
    "MONTH_PREFIX = f\"year_filter={YEAR_FILTER}/month_filter={MONTH_FILTER}/\"\n",
    "\n",
    "# Set Artefacts URL\n",
    "ARTIFACTS_BASE_URL = f\"{artifacts.urls.get_local()}{RUN_DATE}/facebook_posts/{MONTH_PREFIX}\"\n",
    "\n",
    "# Input\n",
    "FOR_TAGGING_ARTIFACTS_FOLDER = f\"{ARTIFACTS_BASE_URL}for_tagging/\""
   ]
  },
  {
   "cell_type": "code",
   "execution_count": null,
   "id": "eb190492-9a3c-4114-8bce-2729d6e9210a",
   "metadata": {},
   "outputs": [],
   "source": [
    "# Display params.\n",
    "print(\n",
    "ARTIFACTS_BASE_URL,\n",
    "FOR_TAGGING_ARTIFACTS_FOLDER,\n",
    "RUN_DATE,\n",
    "sep='\\n',\n",
    ")"
   ]
  },
  {
   "cell_type": "code",
   "execution_count": null,
   "id": "82bf4799-74ed-480b-8618-ea1dea34571a",
   "metadata": {},
   "outputs": [],
   "source": [
    "%env DASK_CLUSTER_IP=tcp://127.0.0.1:40861"
   ]
  },
  {
   "cell_type": "code",
   "execution_count": null,
   "id": "7649cd1e-a6eb-4a62-ad0c-f9c830c343f3",
   "metadata": {},
   "outputs": [],
   "source": [
    "utils.dask_global_init()"
   ]
  },
  {
   "cell_type": "code",
   "execution_count": null,
   "id": "76ca5321-7f26-4faf-bee4-09b2c64f35e0",
   "metadata": {},
   "outputs": [],
   "source": [
    "all_objects = normalise.merge(FOR_TAGGING_ARTIFACTS_FOLDER)"
   ]
  },
  {
   "cell_type": "code",
   "execution_count": null,
   "id": "cc5d1522-198b-42af-959a-ab128c6392ec",
   "metadata": {},
   "outputs": [],
   "source": [
    "all_objects.head()"
   ]
  },
  {
   "cell_type": "code",
   "execution_count": null,
   "id": "d3d09671-b2bf-4c3b-a189-06551c463dc9",
   "metadata": {},
   "outputs": [],
   "source": [
    "all_objects_normalised = normalise.execute(all_objects)"
   ]
  },
  {
   "cell_type": "code",
   "execution_count": null,
   "id": "dd9b24a7-6eff-46d0-b5cb-497b12ad259e",
   "metadata": {},
   "outputs": [],
   "source": [
    "all_objects_normalised.head()"
   ]
  },
  {
   "cell_type": "code",
   "execution_count": null,
   "id": "fb300f4b-8a8e-405b-94f8-5d31c90ec569",
   "metadata": {},
   "outputs": [],
   "source": [
    "lang_dist_all = normalise.language_distribution(all_objects_normalised)\n",
    "lang_dist_all"
   ]
  },
  {
   "cell_type": "code",
   "execution_count": null,
   "id": "823f843d-7dc1-483e-90f6-6c761500d4e2",
   "metadata": {
    "tags": []
   },
   "outputs": [],
   "source": [
    "object_features_df = feature.features(all_objects_normalised)"
   ]
  },
  {
   "cell_type": "code",
   "execution_count": null,
   "id": "d069d7b4-1c31-4a8d-a917-fdf44eafde66",
   "metadata": {},
   "outputs": [],
   "source": [
    "features_df = feature.explode_features(object_features_df)"
   ]
  },
  {
   "cell_type": "code",
   "execution_count": null,
   "id": "d7ea3b9c-6f0a-4c2e-8e2d-1d329b1ded4f",
   "metadata": {},
   "outputs": [],
   "source": [
    "features_df.head()"
   ]
  },
  {
   "cell_type": "code",
   "execution_count": null,
   "id": "b466926f-50f9-47e7-aed4-6776a0699326",
   "metadata": {},
   "outputs": [],
   "source": [
    "objects_final, key_objects_final, features_final = feature_object_process.finalise(all_objects_normalised, features_df)"
   ]
  },
  {
   "cell_type": "code",
   "execution_count": null,
   "id": "69103c8c-9afa-4570-8a5f-fcc15361a247",
   "metadata": {},
   "outputs": [],
   "source": [
    "objects_final.head()"
   ]
  },
  {
   "cell_type": "code",
   "execution_count": null,
   "id": "65c969d3-a26d-4cc5-bcc1-ef10fb6a281d",
   "metadata": {},
   "outputs": [],
   "source": [
    "key_objects_final.head()"
   ]
  },
  {
   "cell_type": "code",
   "execution_count": null,
   "id": "ead68b48-8b86-4ec1-8bb0-83dd46273abe",
   "metadata": {},
   "outputs": [],
   "source": [
    "key_objects_final.shape"
   ]
  },
  {
   "cell_type": "code",
   "execution_count": null,
   "id": "c6bc0b22-dc2e-4674-bb10-bd2551dc9982",
   "metadata": {},
   "outputs": [],
   "source": [
    "lang_dist_key = normalise.language_distribution(key_objects_final)\n",
    "lang_dist_key"
   ]
  },
  {
   "cell_type": "code",
   "execution_count": null,
   "id": "ef972fe9-7961-4b08-91f7-3b8deae096af",
   "metadata": {},
   "outputs": [],
   "source": [
    "features_final.head()"
   ]
  },
  {
   "cell_type": "code",
   "execution_count": null,
   "id": "3d354222-148b-4b76-9167-8e4279b32c0c",
   "metadata": {},
   "outputs": [],
   "source": [
    "features_final.shape"
   ]
  },
  {
   "cell_type": "code",
   "execution_count": null,
   "id": "cd4b4429-ae5d-4f59-aa64-b749b400c245",
   "metadata": {},
   "outputs": [],
   "source": [
    "features_final.memory_usage().sum()"
   ]
  },
  {
   "cell_type": "code",
   "execution_count": null,
   "id": "44fdc9af-f1ce-4486-84d5-4474b37b4c3b",
   "metadata": {},
   "outputs": [],
   "source": [
    "# Free up some memory so that we can do the persist\n",
    "del all_objects\n",
    "del all_objects_normalised\n",
    "del object_features_df\n",
    "del features_df"
   ]
  },
  {
   "cell_type": "code",
   "execution_count": null,
   "id": "1b45b2fa-c28a-474c-8479-6da3312f95b4",
   "metadata": {
    "tags": []
   },
   "outputs": [],
   "source": [
    "a = artifacts.dataframes.persist(artifacts.dataframes.url(ARTIFACTS_BASE_URL, \"key_objects\"), export.get_objects_for_export(key_objects_final))\n",
    "a.url"
   ]
  },
  {
   "cell_type": "code",
   "execution_count": null,
   "id": "a35165a1-9758-4fa2-b1f1-e81338854804",
   "metadata": {},
   "outputs": [],
   "source": [
    "a = artifacts.dataframes.persist(artifacts.dataframes.url(ARTIFACTS_BASE_URL, \"objects\"), export.get_objects_for_export(objects_final))\n",
    "a.url"
   ]
  },
  {
   "cell_type": "code",
   "execution_count": null,
   "id": "9160b290-6615-486f-98d1-ca594ebc6140",
   "metadata": {},
   "outputs": [],
   "source": [
    "# Free up some memory so that we can do the persist\n",
    "del key_objects_final\n",
    "del objects_final"
   ]
  },
  {
   "cell_type": "code",
   "execution_count": null,
   "id": "7b1804d6-a272-4485-b9c8-8c7b5461e553",
   "metadata": {},
   "outputs": [],
   "source": [
    "_ = artifacts.dataframes.persist(artifacts.dataframes.url(ARTIFACTS_BASE_URL, \"all_features\"), export.get_all_features_for_export(features_final))"
   ]
  },
  {
   "cell_type": "code",
   "execution_count": null,
   "id": "d84440b5-47ba-4b19-a814-bab9dcd8541b",
   "metadata": {},
   "outputs": [],
   "source": [
    "export.features_for_labeling(ARTIFACTS_BASE_URL, features_final, None)"
   ]
  },
  {
   "cell_type": "code",
   "execution_count": null,
   "id": "b114e6a3-c812-49cf-b9ff-ea1db6506ae0",
   "metadata": {},
   "outputs": [],
   "source": [
    "export.features_for_labeling(ARTIFACTS_BASE_URL, features_final, \"tweets\")"
   ]
  },
  {
   "cell_type": "code",
   "execution_count": null,
   "id": "38d6a6a5-d8b7-46c8-9f99-0cd0fab32da2",
   "metadata": {},
   "outputs": [],
   "source": [
    "export.features_for_labeling(ARTIFACTS_BASE_URL, features_final, \"facebook_posts\")"
   ]
  },
  {
   "cell_type": "code",
   "execution_count": null,
   "id": "d8597c41-a0a0-493a-93ee-5d33a4c73fe2",
   "metadata": {},
   "outputs": [],
   "source": [
    "export.features_for_labeling(ARTIFACTS_BASE_URL, features_final, \"facebook_comments\")"
   ]
  },
  {
   "cell_type": "code",
   "execution_count": null,
   "id": "a277ba90-09e9-43e7-835c-381817fe9079",
   "metadata": {},
   "outputs": [],
   "source": [
    "export.features_for_labeling(ARTIFACTS_BASE_URL, features_final, \"key_tweets\")"
   ]
  },
  {
   "cell_type": "code",
   "execution_count": null,
   "id": "ea4f1747-a2ea-4e30-a3aa-36034494ebe7",
   "metadata": {},
   "outputs": [],
   "source": [
    "export.features_for_labeling(ARTIFACTS_BASE_URL, features_final, \"key_facebook_posts\")"
   ]
  },
  {
   "cell_type": "code",
   "execution_count": null,
   "id": "4c9e3790-3be8-4b9e-9b81-7096160041c7",
   "metadata": {},
   "outputs": [],
   "source": [
    "export.features_for_labeling(ARTIFACTS_BASE_URL, features_final, \"key_facebook_comments\")"
   ]
  },
  {
   "cell_type": "code",
   "execution_count": null,
   "id": "995c253f-f935-4281-96b0-3a7fc5fc44e7",
   "metadata": {},
   "outputs": [],
   "source": []
  }
 ],
 "metadata": {
  "kernelspec": {
   "display_name": "Python 3",
   "language": "python",
   "name": "python3"
  },
  "language_info": {
   "codemirror_mode": {
    "name": "ipython",
    "version": 3
   },
   "file_extension": ".py",
   "mimetype": "text/x-python",
   "name": "python",
   "nbconvert_exporter": "python",
   "pygments_lexer": "ipython3",
   "version": "3.9.2"
  }
 },
 "nbformat": 4,
 "nbformat_minor": 5
}
