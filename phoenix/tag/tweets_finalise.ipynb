{
 "cells": [
  {
   "cell_type": "markdown",
   "id": "ee6b9aae-e9ca-427a-9e6f-08d8a92633c9",
   "metadata": {},
   "source": [
    "# Finalise twitter\n",
    "Finalises the twitter data.\n",
    "And persists it to s3.\n",
    "See docs for more information."
   ]
  },
  {
   "cell_type": "code",
   "execution_count": null,
   "id": "d20f471a-a32b-4071-84d1-64cf435ceb27",
   "metadata": {},
   "outputs": [],
   "source": [
    "%load_ext autoreload\n",
    "%autoreload 2"
   ]
  },
  {
   "cell_type": "code",
   "execution_count": null,
   "id": "72f8c18b-ddf0-4b81-87a0-2c6947ad6d06",
   "metadata": {},
   "outputs": [],
   "source": [
    "import datetime\n",
    "\n",
    "import pandas as pd\n",
    "import tentaclio\n",
    "\n",
    "from phoenix import common\n",
    "from phoenix.common import artifacts\n",
    "from phoenix.common import utils\n",
    "from phoenix.tag import export\n",
    "from phoenix.tag import finalise\n",
    "from phoenix.tag import object_filters\n",
    "from IPython.display import display"
   ]
  },
  {
   "cell_type": "code",
   "execution_count": null,
   "id": "f6e5ba25-e8b3-43de-ac2e-f9969d6da660",
   "metadata": {},
   "outputs": [],
   "source": [
    "utils.setup_notebook_output()\n",
    "utils.setup_notebook_logging()"
   ]
  },
  {
   "cell_type": "code",
   "execution_count": null,
   "id": "7f0f8264-bba9-4f73-bde8-fa415edebb0f",
   "metadata": {
    "tags": [
     "parameters"
    ]
   },
   "outputs": [],
   "source": [
    "# Parameters\n",
    "# See phoenix/common/run_datetime.py expected format of parameter\n",
    "RUN_DATETIME = None\n",
    "\n",
    "# See phoenix/common/artifacts/registry_environment.py expected format of parameter\n",
    "ARTIFACTS_ENVIRONMENT_KEY = \"local\"\n",
    "TENANT_ID = None\n",
    "\n",
    "# Filters for batch\n",
    "YEAR_FILTER = 2021\n",
    "# Without zero padding\n",
    "MONTH_FILTER = 8\n",
    "OBJECT_TYPE = \"tweets\"\n",
    "\n",
    "# OUTPUT\n",
    "FINAL_URL_TWEETS = None\n",
    "INCLUDE_OBJECTS_TENSIONS = True\n",
    "INCLUDE_SENTIMENT = True"
   ]
  },
  {
   "cell_type": "code",
   "execution_count": null,
   "id": "24260f32-fc19-439c-881f-83c84841693b",
   "metadata": {},
   "outputs": [],
   "source": [
    "run_params = common.run_params.general.create(ARTIFACTS_ENVIRONMENT_KEY, TENANT_ID, RUN_DATETIME)\n",
    "    \n",
    "url_config = {\n",
    "    \"YEAR_FILTER\": int(YEAR_FILTER),\n",
    "    \"MONTH_FILTER\": int(MONTH_FILTER),\n",
    "    \"OBJECT_TYPE\": OBJECT_TYPE\n",
    "}\n",
    "\n",
    "TAGGING_RUNS_URL_TWEETS_PULLED = run_params.art_url_reg.get_url(\"tagging_runs-tweets_pulled\", url_config)\n",
    "TAGGING_RUNS_URL_PIPELINE_BASE = run_params.art_url_reg.get_url(\"tagging_runs-pipeline_base\", url_config)\n",
    "TAGGING_RUNS_URL_OBJECTS_TENSIONS = run_params.art_url_reg.get_url(\"tagging_runs-objects_tensions\", url_config)\n",
    "TAGGING_RUNS_URL_LANGUAGE_SENTIMENT_OBJECTS = run_params.art_url_reg.get_url(\"tagging_runs-language_sentiment_objects\", url_config)\n",
    "TAGGING_RUNS_URL_TWEETS_FINAL = run_params.art_url_reg.get_url(\"tagging_runs-tweets_final\", url_config)\n",
    "if not FINAL_URL_TWEETS:\n",
    "    FINAL_URL_TWEETS = run_params.art_url_reg.get_url(\"final-tweets\", url_config)"
   ]
  },
  {
   "cell_type": "code",
   "execution_count": null,
   "id": "eb190492-9a3c-4114-8bce-2729d6e9210a",
   "metadata": {},
   "outputs": [],
   "source": [
    "# Display params.\n",
    "print(\n",
    "TAGGING_RUNS_URL_TWEETS_PULLED,\n",
    "TAGGING_RUNS_URL_PIPELINE_BASE,\n",
    "TAGGING_RUNS_URL_OBJECTS_TENSIONS,\n",
    "TAGGING_RUNS_URL_LANGUAGE_SENTIMENT_OBJECTS,\n",
    "TAGGING_RUNS_URL_TWEETS_FINAL,\n",
    "FINAL_URL_TWEETS,\n",
    "run_params.run_dt.dt,\n",
    "sep='\\n',\n",
    ")"
   ]
  },
  {
   "cell_type": "code",
   "execution_count": null,
   "id": "32c233f1-054d-46af-999b-c9c9c0707cf2",
   "metadata": {},
   "outputs": [],
   "source": [
    "tweets_df = artifacts.dataframes.get(TAGGING_RUNS_URL_TWEETS_PULLED).dataframe"
   ]
  },
  {
   "cell_type": "code",
   "execution_count": null,
   "id": "670a5342-bf09-425a-87b5-20072c511399",
   "metadata": {},
   "outputs": [],
   "source": [
    "tweets_df.head()"
   ]
  },
  {
   "cell_type": "code",
   "execution_count": null,
   "id": "c101aca7-da81-4fb8-89c7-8d8bd1d6f3ac",
   "metadata": {},
   "outputs": [],
   "source": [
    "objects = None\n",
    "if INCLUDE_OBJECTS_TENSIONS:\n",
    "    objects = artifacts.dataframes.get(TAGGING_RUNS_URL_OBJECTS_TENSIONS).dataframe\n",
    "    display(objects.head())"
   ]
  },
  {
   "cell_type": "code",
   "execution_count": null,
   "id": "2fec7321-d9c4-4a50-a171-5cff831aa059",
   "metadata": {},
   "outputs": [],
   "source": [
    "language_sentiment_objects = None\n",
    "if INCLUDE_SENTIMENT:\n",
    "    language_sentiment_objects = artifacts.dataframes.get(TAGGING_RUNS_URL_LANGUAGE_SENTIMENT_OBJECTS).dataframe\n",
    "    display(language_sentiment_objects.head())"
   ]
  },
  {
   "cell_type": "code",
   "execution_count": null,
   "id": "6be2fef9-d29c-4b91-988e-03eaa12248dc",
   "metadata": {},
   "outputs": [],
   "source": [
    "tweets_final = finalise.join_objects_to_tweets(tweets_df, objects, language_sentiment_objects)"
   ]
  },
  {
   "cell_type": "code",
   "execution_count": null,
   "id": "79648d2d-d013-4703-9319-dcd91409d6c4",
   "metadata": {},
   "outputs": [],
   "source": [
    "tweets_final.head()"
   ]
  },
  {
   "cell_type": "code",
   "execution_count": null,
   "id": "0942d23b-07bd-457f-8bc9-5dfaaeb57a70",
   "metadata": {},
   "outputs": [],
   "source": [
    "tweets_final.dtypes"
   ]
  },
  {
   "cell_type": "code",
   "execution_count": null,
   "id": "f421d4af-d0df-474e-8b91-b7ed11fb8326",
   "metadata": {},
   "outputs": [],
   "source": [
    "_ = artifacts.dataframes.persist(FINAL_URL_TWEETS, tweets_final)"
   ]
  },
  {
   "cell_type": "code",
   "execution_count": null,
   "id": "2d7f7acd-057b-4e60-81d5-e6cb824d8732",
   "metadata": {},
   "outputs": [],
   "source": [
    "_ = artifacts.dataframes.persist(TAGGING_RUNS_URL_TWEETS_FINAL, tweets_final)"
   ]
  },
  {
   "cell_type": "code",
   "execution_count": null,
   "id": "5b5ee688",
   "metadata": {},
   "outputs": [],
   "source": [
    "artifacts.dataframes.read_schema(TAGGING_RUNS_URL_TWEETS_FINAL)"
   ]
  }
 ],
 "metadata": {
  "kernelspec": {
   "display_name": "Python 3 (ipykernel)",
   "language": "python",
   "name": "python3"
  },
  "language_info": {
   "codemirror_mode": {
    "name": "ipython",
    "version": 3
   },
   "file_extension": ".py",
   "mimetype": "text/x-python",
   "name": "python",
   "nbconvert_exporter": "python",
   "pygments_lexer": "ipython3",
   "version": "3.9.2"
  }
 },
 "nbformat": 4,
 "nbformat_minor": 5
}
