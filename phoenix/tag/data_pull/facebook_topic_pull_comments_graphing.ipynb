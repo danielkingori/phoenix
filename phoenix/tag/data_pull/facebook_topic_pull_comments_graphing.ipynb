{
 "cells": [
  {
   "cell_type": "markdown",
   "id": "db2c7e2e-612b-4173-b236-68e8def98bc6",
   "metadata": {},
   "source": [
    "# Facebook Topic Pull Comments\n",
    "\n",
    "Pull Facebook data and structure it for a Topics network graph"
   ]
  },
  {
   "cell_type": "code",
   "execution_count": null,
   "id": "d60edd88-80a4-4380-9eb3-dc0fa0ad2fe2",
   "metadata": {},
   "outputs": [],
   "source": [
    "%load_ext autoreload\n",
    "%autoreload 2"
   ]
  },
  {
   "cell_type": "code",
   "execution_count": null,
   "id": "3a57cb75-3b42-44b7-8e54-0ad0cf0f58b5",
   "metadata": {},
   "outputs": [],
   "source": [
    "import datetime\n",
    "import os\n",
    "\n",
    "from webweb import Web\n",
    "from phoenix.common import artifacts\n",
    "from phoenix.common import utils\n",
    "from phoenix.tag.data_pull import facebook_topic_pull"
   ]
  },
  {
   "cell_type": "code",
   "execution_count": null,
   "id": "f26dc4f3-d7d2-4c1f-a703-57319d156535",
   "metadata": {},
   "outputs": [],
   "source": [
    "utils.setup_notebook_output()\n",
    "utils.setup_notebook_logging()"
   ]
  },
  {
   "cell_type": "code",
   "execution_count": null,
   "id": "003a3af1-d061-4cc3-a108-12d04a0f3119",
   "metadata": {},
   "outputs": [],
   "source": [
    "# Parametrise the run execution date.\n",
    "# Format of the run date\n",
    "RUN_DATE_FORMAT = \"%Y-%m-%d\"\n",
    "# This can be overwritten at execution time by Papermill to enable historic runs and backfills etc.\n",
    "RUN_ISO_TIMESTAMP = datetime.datetime.now().isoformat()\n",
    "run_iso_datetime = datetime.datetime.fromisoformat(RUN_ISO_TIMESTAMP)\n",
    "RUN_DATE = datetime.datetime.today().strftime(RUN_DATE_FORMAT)\n",
    "\n",
    "# Temparay solution!!!!!!!\n",
    "# TODO: this has to be refactored so that MONTH_PREFIX is relational to the YEAR_FILTER and MONTH_FILTER\n",
    "YEAR_FILTER = 2021\n",
    "MONTH_FILTER = 8\n",
    "MONTH_PREFIX = f\"year_filter={YEAR_FILTER}/month_filter={MONTH_FILTER}/\"\n",
    "\n",
    "# Load S3 Resources\n",
    "FACEBOOK_COMMENTS_LOAD = f\"{artifacts.urls.get_local()}facebook_comments/parquet_exports/facebook_comments_topics_v1/{MONTH_PREFIX}{YEAR_FILTER}-{MONTH_FILTER}.parquet\"\n",
    "# FACEBOOK_COMMENTS_LOAD = f\"s3://buildup-dev-us-tables/facebook_comments/parquet_exports/facebook_comments_topics_v1/{MONTH_PREFIX}{YEAR_FILTER}-{MONTH_FILTER}.parquet\"\n",
    "\n",
    "# Output location\n",
    "COMMENTS_DATA_OUTPUT = f\"{artifacts.urls.get_local()}/tagging_runs/{MONTH_PREFIX}facebook_comments/graph_data\"\n",
    "# COMMENTS_DATA_OUTPUT = f\"s3://phoenix-data-lake-prod/tagging_runs/{MONTH_PREFIX}facebook_comments/graph_data\"\n",
    "COMMENTS_FILENAME = \"facebook_comments_topic_graph_data\"\n"
   ]
  },
  {
   "cell_type": "code",
   "execution_count": null,
   "id": "b1165ecd-f6aa-4a78-bab9-ce503559c94e",
   "metadata": {},
   "outputs": [],
   "source": [
    "print(\n",
    "FACEBOOK_COMMENTS_LOAD,\n",
    "COMMENTS_DATA_OUTPUT,\n",
    "COMMENTS_FILENAME,\n",
    "RUN_ISO_TIMESTAMP,\n",
    "RUN_DATE,\n",
    "YEAR_FILTER,\n",
    "MONTH_FILTER,\n",
    "sep=\"\\n\")"
   ]
  },
  {
   "cell_type": "code",
   "execution_count": null,
   "id": "5672d378-4a99-4305-9b94-b81fa73ea4fb",
   "metadata": {},
   "outputs": [],
   "source": [
    "data = artifacts.dataframes.get(FACEBOOK_COMMENTS_LOAD).dataframe"
   ]
  },
  {
   "cell_type": "code",
   "execution_count": null,
   "id": "be0dfd96-2140-4768-9ae1-f7cb898934a6",
   "metadata": {},
   "outputs": [],
   "source": [
    "data.head"
   ]
  },
  {
   "cell_type": "code",
   "execution_count": null,
   "id": "5799d26b-2941-48cb-8940-cb5a2519c4ab",
   "metadata": {},
   "outputs": [],
   "source": [
    "graph = facebook_topic_pull.prepare_dataset(data)"
   ]
  },
  {
   "cell_type": "code",
   "execution_count": null,
   "id": "191845b5-45b6-4397-9808-404c42882567",
   "metadata": {},
   "outputs": [],
   "source": [
    "art = artifacts.dataframes.persist(artifacts.dataframes.url(COMMENTS_OUTPUT)"
   ]
  },
  {
   "cell_type": "code",
   "execution_count": null,
   "id": "f81a8431-883c-46c5-9d54-d0176c46022e",
   "metadata": {},
   "outputs": [],
   "source": []
  }
 ],
 "metadata": {
  "kernelspec": {
   "display_name": "Python 3 (ipykernel)",
   "language": "python",
   "name": "python3"
  },
  "language_info": {
   "codemirror_mode": {
    "name": "ipython",
    "version": 3
   },
   "file_extension": ".py",
   "mimetype": "text/x-python",
   "name": "python",
   "nbconvert_exporter": "python",
   "pygments_lexer": "ipython3",
   "version": "3.9.2"
  }
 },
 "nbformat": 4,
 "nbformat_minor": 5
}
