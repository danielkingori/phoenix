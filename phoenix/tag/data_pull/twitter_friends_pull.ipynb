{
 "cells": [
  {
   "cell_type": "markdown",
   "id": "a5ab2105-10a6-4a71-a2db-b3b72301529e",
   "metadata": {},
   "source": [
    "# Twitter Friends Pull\n",
    "\n",
    "For pulling twitter data and getting it ready for graphing."
   ]
  },
  {
   "cell_type": "code",
   "execution_count": null,
   "id": "5a94071a-f2eb-498a-bae0-698a7d9dfbf9",
   "metadata": {},
   "outputs": [],
   "source": [
    "%load_ext autoreload\n",
    "%autoreload 2"
   ]
  },
  {
   "cell_type": "code",
   "execution_count": null,
   "id": "8db9a60d-21f0-4d13-a954-27f021d12918",
   "metadata": {},
   "outputs": [],
   "source": [
    "import datetime\n",
    "\n",
    "from phoenix.common import artifacts, run_params\n",
    "\n",
    "from phoenix.tag.data_pull import twitter_friends_pull"
   ]
  },
  {
   "cell_type": "code",
   "execution_count": null,
   "id": "edebc8d8-2477-4138-81c5-664b5c653bd0",
   "metadata": {
    "tags": [
     "parameters"
    ]
   },
   "outputs": [],
   "source": [
    "# Parameters\n",
    "# See phoenix/common/run_datetime.py expected format of parameter\n",
    "RUN_DATETIME = None\n",
    "TENANT_ID = None\n",
    "\n",
    "# See phoenix/common/artifacts/registry_environment.py expected format of parameter\n",
    "ARTIFACTS_ENVIRONMENT_KEY = \"local\"\n",
    "ARTIFACT_SOURCE_TWEETS_URL = None\n",
    "\n",
    "# Filters for batch\n",
    "YEAR_FILTER = 2021\n",
    "# Without zero padding\n",
    "MONTH_FILTER = 9"
   ]
  },
  {
   "cell_type": "code",
   "execution_count": null,
   "id": "4e4d2ca4-be64-4af6-967d-2d96abfffc40",
   "metadata": {},
   "outputs": [],
   "source": [
    "# DEFAULTS\n",
    "cur_run_params = run_params.general.create(ARTIFACTS_ENVIRONMENT_KEY, TENANT_ID, RUN_DATETIME)\n",
    "    \n",
    "url_config = {\n",
    "    \"YEAR_FILTER\": YEAR_FILTER,\n",
    "    \"MONTH_FILTER\": MONTH_FILTER,\n",
    "    \"OBJECT_TYPE\": \"twitter_friends\"\n",
    "}\n",
    "   \n",
    "BASE_URL_TWITTER_FRIENDS = cur_run_params.art_url_reg.get_url(\"base-twitter_friends_raw\", url_config)\n",
    "GRAPHING_RUNS_URL_TWITTER_FRIENDS_PULLED = cur_run_params.art_url_reg.get_url(\"graphing_runs-twitter_friends_pulled\", url_config)"
   ]
  },
  {
   "cell_type": "code",
   "execution_count": null,
   "id": "f1486223-bbc1-43be-8c69-0350a24ba69f",
   "metadata": {},
   "outputs": [],
   "source": [
    "print(\n",
    "BASE_URL_TWITTER_FRIENDS,\n",
    "GRAPHING_RUNS_URL_TWITTER_FRIENDS_PULLED,\n",
    "cur_run_params,\n",
    "sep='\\n')"
   ]
  },
  {
   "cell_type": "code",
   "execution_count": null,
   "id": "c7aaa061-944f-45a8-9a9c-ae34b35321e0",
   "metadata": {},
   "outputs": [],
   "source": [
    "data = twitter_friends_pull.twitter_json(BASE_URL_TWITTER_FRIENDS)\n",
    "len(data)"
   ]
  },
  {
   "cell_type": "code",
   "execution_count": null,
   "id": "e0f43ef9-55bc-4780-895f-b36ffc93c4b9",
   "metadata": {},
   "outputs": [],
   "source": [
    "friends = twitter_friends_pull.get_friends(data)"
   ]
  },
  {
   "cell_type": "code",
   "execution_count": null,
   "id": "69a4bd5b-3988-40c4-b714-b30549da0abf",
   "metadata": {},
   "outputs": [],
   "source": [
    "friends.head()"
   ]
  },
  {
   "cell_type": "code",
   "execution_count": null,
   "id": "222e9aa8-821f-4ebb-a224-d7de7882ac28",
   "metadata": {},
   "outputs": [],
   "source": [
    "friends.shape"
   ]
  },
  {
   "cell_type": "code",
   "execution_count": null,
   "id": "37b9db1c-267c-4091-8364-7ac0edd32ac5",
   "metadata": {},
   "outputs": [],
   "source": [
    "art = artifacts.dataframes.persist(GRAPHING_RUNS_URL_TWITTER_FRIENDS_PULLED, friends)"
   ]
  },
  {
   "cell_type": "code",
   "execution_count": null,
   "id": "601db409-c08a-4534-8755-48f54560bc52",
   "metadata": {},
   "outputs": [],
   "source": []
  }
 ],
 "metadata": {
  "kernelspec": {
   "display_name": "Python 3 (ipykernel)",
   "language": "python",
   "name": "python3"
  },
  "language_info": {
   "codemirror_mode": {
    "name": "ipython",
    "version": 3
   },
   "file_extension": ".py",
   "mimetype": "text/x-python",
   "name": "python",
   "nbconvert_exporter": "python",
   "pygments_lexer": "ipython3",
   "version": "3.9.2"
  }
 },
 "nbformat": 4,
 "nbformat_minor": 5
}
