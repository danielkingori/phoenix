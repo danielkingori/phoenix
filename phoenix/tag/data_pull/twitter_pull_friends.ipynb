{
 "cells": [
  {
   "cell_type": "markdown",
   "id": "b8730581-4404-477f-928b-fdb73d7c7fe9",
   "metadata": {},
   "source": [
    "# Twitter data pull for friends network graph\n",
    "Pull data from a folder of json files and structure it for a friends visualization."
   ]
  },
  {
   "cell_type": "code",
   "execution_count": null,
   "id": "0e0ef5ed-ea1c-4128-a467-410f670c2a03",
   "metadata": {},
   "outputs": [],
   "source": [
    "%load_ext autoreload\n",
    "%autoreload 2"
   ]
  },
  {
   "cell_type": "code",
   "execution_count": null,
   "id": "c89fa760-b32f-4dfc-86b7-670a2762d95a",
   "metadata": {},
   "outputs": [],
   "source": [
    "import datetime\n",
    "\n",
    "import pandas as pd\n",
    "\n",
    "from phoenix.common import artifacts\n",
    "from phoenix.common import utils\n",
    "from phoenix.tag.data_pull import twitter_pull_graphing_friends"
   ]
  },
  {
   "cell_type": "code",
   "execution_count": null,
   "id": "dba01a0d-0e58-4966-835a-014f12a33eb2",
   "metadata": {},
   "outputs": [],
   "source": [
    "# Parametrise the run execution date.\n",
    "# Format of the run date\n",
    "RUN_DATE_FORMAT = \"%Y-%m-%d\"\n",
    "# This can be overwritten at execution time by Papermill to enable historic runs and backfills etc.\n",
    "RUN_DATE = datetime.datetime.today().strftime(RUN_DATE_FORMAT)\n",
    "\n",
    "MONTH_PREFIX = \"2021-09/\"\n",
    "\n",
    "USERS_CSV_PATH = f\"{artifacts.urls.get_static_config()}twitter_query_users.csv\"\n",
    "\n",
    "# Set Artefacts URL\n",
    "ARTIFACTS_BASE_URL = f\"{artifacts.urls.get_local()}twitter/graph_data/{MONTH_PREFIX}\"\n",
    "\n",
    "# Input\n",
    "INPUT_FOLDER_JSON = f\"{artifacts.urls.get_local()}base/grouped_by_year_month/twitter_friends/{MONTH_PREFIX}\""
   ]
  },
  {
   "cell_type": "code",
   "execution_count": null,
   "id": "9e2bd3a1-b640-410b-8641-b7ea8f2b23e6",
   "metadata": {},
   "outputs": [],
   "source": [
    "# Display params.\n",
    "print(\n",
    "USERS_CSV_PATH,\n",
    "ARTIFACTS_BASE_URL,\n",
    "INPUT_FOLDER_JSON,\n",
    "RUN_DATE,\n",
    "sep='\\n',\n",
    ")"
   ]
  },
  {
   "cell_type": "code",
   "execution_count": null,
   "id": "f3ba318b-e619-4724-b1f2-56fd16cfcc3c",
   "metadata": {},
   "outputs": [],
   "source": [
    "# %env DASK_CLUSTER_IP=tcp://127.0.0.1:36349"
   ]
  },
  {
   "cell_type": "code",
   "execution_count": null,
   "id": "67ff3a70-7715-4a3c-bfd7-41977ced9557",
   "metadata": {},
   "outputs": [],
   "source": [
    "utils.dask_global_init()"
   ]
  },
  {
   "cell_type": "code",
   "execution_count": null,
   "id": "8934a4c0-117c-4d21-babc-97701e6ada08",
   "metadata": {},
   "outputs": [],
   "source": [
    "friends = twitter_pull_graphing_friends.get_friends(INPUT_FOLDER_JSON)"
   ]
  },
  {
   "cell_type": "code",
   "execution_count": null,
   "id": "21840791-e770-46ab-81d6-86094a3f7ae7",
   "metadata": {},
   "outputs": [],
   "source": [
    "friends.shape"
   ]
  },
  {
   "cell_type": "code",
   "execution_count": null,
   "id": "08c26a4b-d531-41a1-a74b-758212e101f0",
   "metadata": {},
   "outputs": [],
   "source": [
    "art = artifacts.dataframes.persist(artifacts.dataframes.url(ARTIFACTS_BASE_URL, \"friends_graph\"), friends)"
   ]
  }
 ],
 "metadata": {
  "kernelspec": {
   "display_name": "Python 3 (ipykernel)",
   "language": "python",
   "name": "python3"
  },
  "language_info": {
   "codemirror_mode": {
    "name": "ipython",
    "version": 3
   },
   "file_extension": ".py",
   "mimetype": "text/x-python",
   "name": "python",
   "nbconvert_exporter": "python",
   "pygments_lexer": "ipython3",
   "version": "3.9.2"
  }
 },
 "nbformat": 4,
 "nbformat_minor": 5
}
