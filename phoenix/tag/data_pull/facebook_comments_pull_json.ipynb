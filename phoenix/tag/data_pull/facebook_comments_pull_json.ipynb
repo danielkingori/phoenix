{
 "cells": [
  {
   "cell_type": "markdown",
   "id": "ee6b9aae-e9ca-427a-9e6f-08d8a92633c9",
   "metadata": {},
   "source": [
    "# Facebook comments pull json\n",
    "Pull data from a folder of json files."
   ]
  },
  {
   "cell_type": "code",
   "execution_count": null,
   "id": "d20f471a-a32b-4071-84d1-64cf435ceb27",
   "metadata": {},
   "outputs": [],
   "source": [
    "%load_ext autoreload\n",
    "%autoreload 2"
   ]
  },
  {
   "cell_type": "code",
   "execution_count": null,
   "id": "72f8c18b-ddf0-4b81-87a0-2c6947ad6d06",
   "metadata": {},
   "outputs": [],
   "source": [
    "import datetime\n",
    "\n",
    "import pandas as pd\n",
    "\n",
    "from phoenix.common import artifacts, run_datetime\n",
    "from phoenix.common import utils\n",
    "from phoenix.tag.data_pull import facebook_comments_pull"
   ]
  },
  {
   "cell_type": "code",
   "execution_count": null,
   "id": "f6e5ba25-e8b3-43de-ac2e-f9969d6da660",
   "metadata": {},
   "outputs": [],
   "source": [
    "utils.setup_notebook_output()\n",
    "utils.setup_notebook_logging()"
   ]
  },
  {
   "cell_type": "code",
   "execution_count": null,
   "id": "7f0f8264-bba9-4f73-bde8-fa415edebb0f",
   "metadata": {},
   "outputs": [],
   "source": [
    "# Parameters\n",
    "# See phoenix/common/run_datetime.py expected format of parameter\n",
    "RUN_DATETIME = None\n",
    "\n",
    "# See phoenix/common/artifacts/registry_environment.py expected format of parameter\n",
    "ARTIFACTS_ENVIRONMENT_KEY = \"local\"\n",
    "\n",
    "# Filters for batch\n",
    "YEAR_FILTER = 2021\n",
    "# Without zero padding\n",
    "MONTH_FILTER = 8"
   ]
  },
  {
   "cell_type": "code",
   "execution_count": null,
   "id": "d65852de-595d-4ecb-bdbf-c88028cffa6f",
   "metadata": {},
   "outputs": [],
   "source": [
    "if RUN_DATETIME:\n",
    "    run_dt = run_datetime.from_file_safe_str(RUN_DATETIME)\n",
    "else:\n",
    "    run_dt = run_datetime.create_run_datetime_now()\n",
    "    \n",
    "url_config = {\n",
    "    \"YEAR_FILTER\": YEAR_FILTER,\n",
    "    \"MONTH_FILTER\": MONTH_FILTER,\n",
    "}\n",
    "art_url_reg = artifacts.registry.ArtifactURLRegistry(run_dt, ARTIFACTS_ENVIRONMENT_KEY)\n",
    "TAGGING_RUNS_URL_FACEBOOK_COMMENTS_PULLED = art_url_reg.get_url(\"tagging_runs-facebook_comments_pulled\", url_config)\n",
    "TAGGING_RUNS_URL_FACEBOOK_COMMENTS_FOR_TAGGING = art_url_reg.get_url(\"tagging_runs-facebook_comments_for_tagging\", url_config)\n",
    "TAGGING_RUNS_URL_FACEBOOK_COMMENTS_INPUT = art_url_reg.get_url(\"tagging_runs-facebook_comments_input\", url_config)"
   ]
  },
  {
   "cell_type": "code",
   "execution_count": null,
   "id": "eb190492-9a3c-4114-8bce-2729d6e9210a",
   "metadata": {},
   "outputs": [],
   "source": [
    "# Display params.\n",
    "print(\n",
    "TAGGING_RUNS_URL_FACEBOOK_COMMENTS_PULLED,\n",
    "TAGGING_RUNS_URL_FACEBOOK_COMMENTS_FOR_TAGGING,\n",
    "TAGGING_RUNS_URL_FACEBOOK_COMMENTS_INPUT,\n",
    "run_dt.dt,\n",
    "sep='\\n',\n",
    ")"
   ]
  },
  {
   "cell_type": "code",
   "execution_count": null,
   "id": "82bf4799-74ed-480b-8618-ea1dea34571a",
   "metadata": {},
   "outputs": [],
   "source": [
    "# %env DASK_CLUSTER_IP=tcp://127.0.0.1:36349"
   ]
  },
  {
   "cell_type": "code",
   "execution_count": null,
   "id": "7649cd1e-a6eb-4a62-ad0c-f9c830c343f3",
   "metadata": {},
   "outputs": [],
   "source": [
    "utils.dask_global_init()"
   ]
  },
  {
   "cell_type": "code",
   "execution_count": null,
   "id": "37ecab16-ef87-4b10-a7c7-22f3179a9835",
   "metadata": {
    "tags": []
   },
   "outputs": [],
   "source": [
    "df = facebook_comments_pull.from_json(TAGGING_RUNS_URL_FACEBOOK_COMMENTS_INPUT)"
   ]
  },
  {
   "cell_type": "code",
   "execution_count": null,
   "id": "01095b0f-7829-4a3d-bd36-61850d314d05",
   "metadata": {},
   "outputs": [],
   "source": [
    "df.head()"
   ]
  },
  {
   "cell_type": "code",
   "execution_count": null,
   "id": "e546c9cf-01ea-49c2-b926-06690cbff052",
   "metadata": {},
   "outputs": [],
   "source": [
    "df.shape"
   ]
  },
  {
   "cell_type": "code",
   "execution_count": null,
   "id": "a5ace55a-2aeb-4ae0-a434-914309cc36e7",
   "metadata": {},
   "outputs": [],
   "source": [
    "df.dtypes"
   ]
  },
  {
   "cell_type": "code",
   "execution_count": null,
   "id": "38152a84-59e9-4540-b7f9-00150f6e3a44",
   "metadata": {},
   "outputs": [],
   "source": [
    "for_tagging = facebook_comments_pull.for_tagging(df)"
   ]
  },
  {
   "cell_type": "code",
   "execution_count": null,
   "id": "08612927-3318-48d4-b104-9b0ea02b5fab",
   "metadata": {},
   "outputs": [],
   "source": [
    "for_tagging.head()"
   ]
  },
  {
   "cell_type": "code",
   "execution_count": null,
   "id": "e5aa90d7-0442-4d4d-9a3a-d04879349e80",
   "metadata": {
    "tags": []
   },
   "outputs": [],
   "source": [
    "_ = artifacts.dataframes.persist(TAGGING_RUNS_URL_FACEBOOK_COMMENTS_PULLED, df)"
   ]
  },
  {
   "cell_type": "code",
   "execution_count": null,
   "id": "115f822b-d68f-4127-bc91-899f96790b75",
   "metadata": {},
   "outputs": [],
   "source": [
    "_ = artifacts.dataframes.persist(TAGGING_RUNS_URL_FACEBOOK_COMMENTS_FOR_TAGGING, for_tagging)"
   ]
  },
  {
   "cell_type": "code",
   "execution_count": null,
   "id": "3a26bac0-dd1a-4e94-824e-742b8798efd2",
   "metadata": {},
   "outputs": [],
   "source": []
  }
 ],
 "metadata": {
  "kernelspec": {
   "display_name": "Python 3",
   "language": "python",
   "name": "python3"
  },
  "language_info": {
   "codemirror_mode": {
    "name": "ipython",
    "version": 3
   },
   "file_extension": ".py",
   "mimetype": "text/x-python",
   "name": "python",
   "nbconvert_exporter": "python",
   "pygments_lexer": "ipython3",
   "version": "3.9.2"
  }
 },
 "nbformat": 4,
 "nbformat_minor": 5
}
