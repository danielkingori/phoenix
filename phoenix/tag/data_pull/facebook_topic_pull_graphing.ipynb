{
 "cells": [
  {
   "cell_type": "markdown",
   "id": "db2c7e2e-612b-4173-b236-68e8def98bc6",
   "metadata": {},
   "source": [
    "# Facebook Topic Pull Posts\n",
    "\n",
    "Pull Facebook data and structure it for a Topics network graph"
   ]
  },
  {
   "cell_type": "code",
   "execution_count": null,
   "id": "d60edd88-80a4-4380-9eb3-dc0fa0ad2fe2",
   "metadata": {},
   "outputs": [],
   "source": [
    "%load_ext autoreload\n",
    "%autoreload 2"
   ]
  },
  {
   "cell_type": "code",
   "execution_count": null,
   "id": "3a57cb75-3b42-44b7-8e54-0ad0cf0f58b5",
   "metadata": {},
   "outputs": [],
   "source": [
    "import datetime\n",
    "import os\n",
    "\n",
    "from webweb import Web\n",
    "from phoenix.common import artifacts, run_datetime\n",
    "from phoenix.common import utils\n",
    "from phoenix.tag.data_pull import facebook_topic_pull"
   ]
  },
  {
   "cell_type": "code",
   "execution_count": null,
   "id": "f26dc4f3-d7d2-4c1f-a703-57319d156535",
   "metadata": {},
   "outputs": [],
   "source": [
    "utils.setup_notebook_output()\n",
    "utils.setup_notebook_logging()"
   ]
  },
  {
   "cell_type": "code",
   "execution_count": null,
   "id": "003a3af1-d061-4cc3-a108-12d04a0f3119",
   "metadata": {
    "tags": [
     "parameters"
    ]
   },
   "outputs": [],
   "source": [
    "# Parameters\n",
    "# See phoenix/common/run_datetime.py expected format of parameter\n",
    "RUN_DATETIME = None\n",
    "\n",
    "# See phoenix/common/artifacts/registry_environment.py expected format of parameter\n",
    "ARTIFACTS_ENVIRONMENT_KEY = \"local\"\n",
    "\n",
    "# Filters for batch\n",
    "YEAR_FILTER = 2021\n",
    "# Without zero padding\n",
    "MONTH_FILTER = 8\n",
    "# facebook_posts or facebook_comments\n",
    "OBJECT_TYPE = \"facebook_comments\""
   ]
  },
  {
   "cell_type": "code",
   "execution_count": null,
   "id": "b53aeb8b-7161-48db-b02d-b69b1cbeba14",
   "metadata": {},
   "outputs": [],
   "source": [
    "if RUN_DATETIME:\n",
    "    run_dt = run_datetime.from_file_safe_str(RUN_DATETIME)\n",
    "else:\n",
    "    run_dt = run_datetime.create_run_datetime_now()\n",
    "    \n",
    "url_config = {\n",
    "    \"YEAR_FILTER\": YEAR_FILTER,\n",
    "    \"MONTH_FILTER\": MONTH_FILTER,\n",
    "    \"OBJECT_TYPE\": OBJECT_TYPE\n",
    "}\n",
    "art_url_reg = artifacts.registry.ArtifactURLRegistry(run_dt, ARTIFACTS_ENVIRONMENT_KEY)\n",
    "# This is a temporary solution and should be refactored at somepoint\n",
    "# The finalisation of posts and comments are the same and here we are doing a small if to get this finished\n",
    "# however a larger refactor to generalise the finalisation stage should be done.\n",
    "if OBJECT_TYPE == \"facebook_posts\":\n",
    "    GRAPHING_RUNS_URL_FACEBOOK_TOPICS_INPUT= art_url_reg.get_url(\"tagging_runs-facebook_posts_topics_final\", url_config)\n",
    "else:\n",
    "    GRAPHING_RUNS_URL_FACEBOOK_TOPICS_INPUT= art_url_reg.get_url(\"tagging_runs-facebook_comments_topics_final\", url_config)\n",
    "GRAPHING_RUNS_URL_FACEBOOK_TOPICS_GRAPH_PULLED = art_url_reg.get_url(\"graphing_runs-facebook_topics_graph_pulled\", url_config)"
   ]
  },
  {
   "cell_type": "code",
   "execution_count": null,
   "id": "b1165ecd-f6aa-4a78-bab9-ce503559c94e",
   "metadata": {},
   "outputs": [],
   "source": [
    "print(\n",
    "GRAPHING_RUNS_URL_FACEBOOK_TOPICS_INPUT,\n",
    "GRAPHING_RUNS_URL_FACEBOOK_TOPICS_GRAPH_PULLED,\n",
    "run_dt.dt,\n",
    "YEAR_FILTER,\n",
    "MONTH_FILTER,\n",
    "OBJECT_TYPE,\n",
    "sep=\"\\n\")"
   ]
  },
  {
   "cell_type": "code",
   "execution_count": null,
   "id": "5672d378-4a99-4305-9b94-b81fa73ea4fb",
   "metadata": {},
   "outputs": [],
   "source": [
    "data = artifacts.dataframes.get(GRAPHING_RUNS_URL_FACEBOOK_TOPICS_INPUT).dataframe"
   ]
  },
  {
   "cell_type": "code",
   "execution_count": null,
   "id": "be0dfd96-2140-4768-9ae1-f7cb898934a6",
   "metadata": {},
   "outputs": [],
   "source": [
    "data.shape"
   ]
  },
  {
   "cell_type": "code",
   "execution_count": null,
   "id": "5799d26b-2941-48cb-8940-cb5a2519c4ab",
   "metadata": {},
   "outputs": [],
   "source": [
    "graph_data = facebook_topic_pull.prepare_dataset(data)"
   ]
  },
  {
   "cell_type": "code",
   "execution_count": null,
   "id": "db9aaa26-0fa9-41e9-aa54-fc2651b6f292",
   "metadata": {},
   "outputs": [],
   "source": [
    "graph_data.head()"
   ]
  },
  {
   "cell_type": "code",
   "execution_count": null,
   "id": "a8abdeaa-f504-42d2-81f0-564b1cd715bf",
   "metadata": {},
   "outputs": [],
   "source": [
    "graph_data.shape"
   ]
  },
  {
   "cell_type": "code",
   "execution_count": null,
   "id": "a6ed220a-be9b-442f-8c2e-974072fd25ff",
   "metadata": {},
   "outputs": [],
   "source": [
    "art = artifacts.dataframes.persist(GRAPHING_RUNS_URL_FACEBOOK_TOPICS_GRAPH_PULLED, graph_data)"
   ]
  },
  {
   "cell_type": "code",
   "execution_count": null,
   "id": "d3422eb8-421c-4f28-824e-73d7bdf4628e",
   "metadata": {},
   "outputs": [],
   "source": []
  }
 ],
 "metadata": {
  "kernelspec": {
   "display_name": "Python 3 (ipykernel)",
   "language": "python",
   "name": "python3"
  },
  "language_info": {
   "codemirror_mode": {
    "name": "ipython",
    "version": 3
   },
   "file_extension": ".py",
   "mimetype": "text/x-python",
   "name": "python",
   "nbconvert_exporter": "python",
   "pygments_lexer": "ipython3",
   "version": "3.9.2"
  }
 },
 "nbformat": 4,
 "nbformat_minor": 5
}
