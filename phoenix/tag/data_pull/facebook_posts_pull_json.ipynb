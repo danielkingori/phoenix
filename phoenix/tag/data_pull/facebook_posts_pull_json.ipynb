{
 "cells": [
  {
   "cell_type": "markdown",
   "id": "ee6b9aae-e9ca-427a-9e6f-08d8a92633c9",
   "metadata": {},
   "source": [
    "# Facebook pull json\n",
    "Pull data from a folder of json files."
   ]
  },
  {
   "cell_type": "code",
   "execution_count": null,
   "id": "d20f471a-a32b-4071-84d1-64cf435ceb27",
   "metadata": {},
   "outputs": [],
   "source": [
    "%load_ext autoreload\n",
    "%autoreload 2"
   ]
  },
  {
   "cell_type": "code",
   "execution_count": null,
   "id": "72f8c18b-ddf0-4b81-87a0-2c6947ad6d06",
   "metadata": {},
   "outputs": [],
   "source": [
    "import datetime\n",
    "\n",
    "import pandas as pd\n",
    "\n",
    "from phoenix.common import artifacts\n",
    "from phoenix.common import utils\n",
    "from phoenix.tag.data_pull import facebook_posts_pull_json as facebook_posts_pull"
   ]
  },
  {
   "cell_type": "code",
   "execution_count": null,
   "id": "f6e5ba25-e8b3-43de-ac2e-f9969d6da660",
   "metadata": {},
   "outputs": [],
   "source": [
    "utils.setup_notebook_output()\n",
    "utils.setup_notebook_logging()"
   ]
  },
  {
   "cell_type": "code",
   "execution_count": null,
   "id": "7f0f8264-bba9-4f73-bde8-fa415edebb0f",
   "metadata": {},
   "outputs": [],
   "source": [
    "# Parametrise the run execution date.\n",
    "# Format of the run date\n",
    "RUN_DATE_FORMAT = \"%Y-%m-%d\"\n",
    "# This can be overwritten at execution time by Papermill to enable historic runs and backfills etc.\n",
    "RUN_DATE = datetime.datetime.today().strftime(RUN_DATE_FORMAT)\n",
    "\n",
    "# Temparay solution!!!!!!!\n",
    "# TODO: this has to be refactored so that MONTH_PREFIX is relational to the YEAR_FILTER and MONTH_FILTER\n",
    "MONTH_PREFIX = \"2021-05/\"\n",
    "YEAR_FILTER = 2021\n",
    "MONTH_FILTER = 5\n",
    "\n",
    "# Set Artefacts URL\n",
    "ARTIFACTS_BASE_URL = f\"{artifacts.urls.get_local()}{RUN_DATE}/facebook_posts/{MONTH_PREFIX}\"\n",
    "FOR_TAGGING_ARTIFACTS_FOLDER = f\"{ARTIFACTS_BASE_URL}for_tagging/\"\n",
    "\n",
    "# Input\n",
    "INPUT_FOLDER = f\"{artifacts.urls.get_local()}base/grouped_by_year_month/facebook_posts/{MONTH_PREFIX}\""
   ]
  },
  {
   "cell_type": "code",
   "execution_count": null,
   "id": "eb190492-9a3c-4114-8bce-2729d6e9210a",
   "metadata": {},
   "outputs": [],
   "source": [
    "# Display params.\n",
    "print(\n",
    "ARTIFACTS_BASE_URL,\n",
    "INPUT_FOLDER,\n",
    "RUN_DATE,\n",
    "YEAR_FILTER,\n",
    "MONTH_FILTER,\n",
    "sep='\\n',\n",
    ")"
   ]
  },
  {
   "cell_type": "code",
   "execution_count": null,
   "id": "82bf4799-74ed-480b-8618-ea1dea34571a",
   "metadata": {},
   "outputs": [],
   "source": [
    "# %env DASK_CLUSTER_IP=tcp://127.0.0.1:36349"
   ]
  },
  {
   "cell_type": "code",
   "execution_count": null,
   "id": "7649cd1e-a6eb-4a62-ad0c-f9c830c343f3",
   "metadata": {},
   "outputs": [],
   "source": [
    "utils.dask_global_init()"
   ]
  },
  {
   "cell_type": "code",
   "execution_count": null,
   "id": "37ecab16-ef87-4b10-a7c7-22f3179a9835",
   "metadata": {
    "tags": []
   },
   "outputs": [],
   "source": [
    "df = facebook_posts_pull.from_json(INPUT_FOLDER, YEAR_FILTER, MONTH_FILTER)"
   ]
  },
  {
   "cell_type": "code",
   "execution_count": null,
   "id": "80067b63-3d18-4c62-ba0b-774077618998",
   "metadata": {},
   "outputs": [],
   "source": [
    "df.shape"
   ]
  },
  {
   "cell_type": "code",
   "execution_count": null,
   "id": "01095b0f-7829-4a3d-bd36-61850d314d05",
   "metadata": {
    "tags": []
   },
   "outputs": [],
   "source": [
    "df.head()"
   ]
  },
  {
   "cell_type": "code",
   "execution_count": null,
   "id": "20674783-267e-4ed1-b550-3c4ec4233734",
   "metadata": {},
   "outputs": [],
   "source": [
    "df.dtypes"
   ]
  },
  {
   "cell_type": "code",
   "execution_count": null,
   "id": "38152a84-59e9-4540-b7f9-00150f6e3a44",
   "metadata": {},
   "outputs": [],
   "source": [
    "for_tagging = facebook_posts_pull.for_tagging(df)"
   ]
  },
  {
   "cell_type": "code",
   "execution_count": null,
   "id": "08612927-3318-48d4-b104-9b0ea02b5fab",
   "metadata": {},
   "outputs": [],
   "source": [
    "for_tagging.head()"
   ]
  },
  {
   "cell_type": "code",
   "execution_count": null,
   "id": "e5aa90d7-0442-4d4d-9a3a-d04879349e80",
   "metadata": {
    "tags": []
   },
   "outputs": [],
   "source": [
    "art_df = artifacts.dataframes.persist(artifacts.dataframes.url(ARTIFACTS_BASE_URL, \"facebook_posts_pulled\"), df)\n",
    "art_df.url"
   ]
  },
  {
   "cell_type": "code",
   "execution_count": null,
   "id": "115f822b-d68f-4127-bc91-899f96790b75",
   "metadata": {},
   "outputs": [],
   "source": [
    "art_df = artifacts.dataframes.persist(artifacts.dataframes.url(FOR_TAGGING_ARTIFACTS_FOLDER, \"facebook_posts_for_tagging\"), for_tagging)\n",
    "art_df.url"
   ]
  },
  {
   "cell_type": "code",
   "execution_count": null,
   "id": "3a26bac0-dd1a-4e94-824e-742b8798efd2",
   "metadata": {},
   "outputs": [],
   "source": []
  }
 ],
 "metadata": {
  "kernelspec": {
   "display_name": "Python 3",
   "language": "python",
   "name": "python3"
  },
  "language_info": {
   "codemirror_mode": {
    "name": "ipython",
    "version": 3
   },
   "file_extension": ".py",
   "mimetype": "text/x-python",
   "name": "python",
   "nbconvert_exporter": "python",
   "pygments_lexer": "ipython3",
   "version": "3.9.2"
  }
 },
 "nbformat": 4,
 "nbformat_minor": 5
}
