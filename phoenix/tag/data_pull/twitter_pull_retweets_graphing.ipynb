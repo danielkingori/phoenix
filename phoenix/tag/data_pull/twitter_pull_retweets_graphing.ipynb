{
 "cells": [
  {
   "cell_type": "markdown",
   "id": "b41e421a-571a-40f4-9db0-625c02d941f4",
   "metadata": {},
   "source": [
    "# Twitter data pull for retweets network graph\n",
    "Pull data from a folder of json files and structure it for a retweets visualization."
   ]
  },
  {
   "cell_type": "code",
   "execution_count": null,
   "id": "143ab571-c055-4b44-a0a4-140d08f9fe06",
   "metadata": {},
   "outputs": [],
   "source": [
    "%load_ext autoreload\n",
    "%autoreload 2"
   ]
  },
  {
   "cell_type": "code",
   "execution_count": null,
   "id": "eb34ef89-4070-4d5f-b36c-6218415de035",
   "metadata": {},
   "outputs": [],
   "source": [
    "import datetime\n",
    "\n",
    "import pandas as pd\n",
    "\n",
    "from phoenix.common import artifacts\n",
    "from phoenix.common import utils\n",
    "from phoenix.scrape import twitter_utilities\n",
    "from phoenix.tag.data_pull import twitter_pull_graphing"
   ]
  },
  {
   "cell_type": "code",
   "execution_count": null,
   "id": "137a1cfa-a028-4e76-9a96-bed75061107b",
   "metadata": {},
   "outputs": [],
   "source": [
    "# Parametrise the run execution date.\n",
    "# Format of the run date\n",
    "RUN_DATE_FORMAT = \"%Y-%m-%d\"\n",
    "# This can be overwritten at execution time by Papermill to enable historic runs and backfills etc.\n",
    "RUN_DATE = datetime.datetime.today().strftime(RUN_DATE_FORMAT)\n",
    "\n",
    "# Temparay solution!!!!!!!\n",
    "# TODO: this has to be refactored so that MONTH_PREFIX is relational to the YEAR_FILTER and MONTH_FILTER\n",
    "YEAR_FILTER = 2021\n",
    "MONTH_FILTER = 8\n",
    "MONTH_PREFIX = f\"year_filter={YEAR_FILTER}/month_filter={MONTH_FILTER}/\"\n",
    "\n",
    "USERS_CSV_PATH = f\"{artifacts.urls.get_static_config()}twitter_query_users.csv\"\n",
    "\n",
    "# Set Artifacts URL\n",
    "ARTIFACTS_BASE_URL = f\"{artifacts.urls.get_local()}tagging_runs/{MONTH_PREFIX}tweets/graph_data/\"\n",
    "# ARTIFACTS_BASE_URL = f\"s3://phoenix-data-lake-prod/tagging_runs/{MONTH_PREFIX}tweets/graph_data/\"\n",
    "FILE_NAME = \"retweets_graph\"\n",
    "\n",
    "# Input\n",
    "INPUT_FOLDER_JSON = f\"{artifacts.urls.get_local()}base/grouped_by_year_month/tweets/{MONTH_PREFIX}\"\n",
    "# INPUT_FOLDER_JSON = f\"s3://phoenix-data-lake-prod/base/grouped_by_year_month/tweets/{MONTH_PREFIX}\"\n"
   ]
  },
  {
   "cell_type": "code",
   "execution_count": null,
   "id": "fe5d6823-b852-489f-a4d0-0830d97d0dfe",
   "metadata": {},
   "outputs": [],
   "source": [
    "# Display params.\n",
    "print(\n",
    "USERS_CSV_PATH,\n",
    "ARTIFACTS_BASE_URL,\n",
    "FILE_NAME,\n",
    "INPUT_FOLDER_JSON,\n",
    "RUN_DATE,\n",
    "YEAR_FILTER,\n",
    "MONTH_FILTER,\n",
    "sep='\\n',\n",
    ")"
   ]
  },
  {
   "cell_type": "code",
   "execution_count": null,
   "id": "8fead8ee-5710-41da-aadc-286ece88ea17",
   "metadata": {},
   "outputs": [],
   "source": [
    "# %env DASK_CLUSTER_IP=tcp://127.0.0.1:36349"
   ]
  },
  {
   "cell_type": "code",
   "execution_count": null,
   "id": "5f5cacdf-dd9f-4c90-81dd-c1f0f6c177a6",
   "metadata": {},
   "outputs": [],
   "source": [
    "utils.dask_global_init()"
   ]
  },
  {
   "cell_type": "code",
   "execution_count": null,
   "id": "e26bf8a9-2a5b-40a7-9d8f-34525d78d754",
   "metadata": {},
   "outputs": [],
   "source": [
    "users = twitter_utilities.load_queries_from_csv(USERS_CSV_PATH)"
   ]
  },
  {
   "cell_type": "code",
   "execution_count": null,
   "id": "b32972ff-62f2-4e65-b0f8-d4f779a19ed7",
   "metadata": {},
   "outputs": [],
   "source": [
    "raw_tweets = twitter_pull_graphing.twitter_json(INPUT_FOLDER_JSON)\n",
    "len(raw_tweets)"
   ]
  },
  {
   "cell_type": "code",
   "execution_count": null,
   "id": "4787d88b-152c-4e32-bdcf-71abde039033",
   "metadata": {},
   "outputs": [],
   "source": [
    "retweets_df = twitter_pull_graphing.process_tweets_rt_graph(raw_tweets, users)"
   ]
  },
  {
   "cell_type": "code",
   "execution_count": null,
   "id": "85bd3cc5-b7ef-42e7-9356-d732a9b8affd",
   "metadata": {},
   "outputs": [],
   "source": [
    "retweets_df.size"
   ]
  },
  {
   "cell_type": "code",
   "execution_count": null,
   "id": "cb31ede7-7c86-4d01-b222-8d7afe00aad9",
   "metadata": {},
   "outputs": [],
   "source": [
    "retweets_df.shape"
   ]
  },
  {
   "cell_type": "code",
   "execution_count": null,
   "id": "95cd3def-f04c-4a24-bfb7-41273bf16491",
   "metadata": {},
   "outputs": [],
   "source": [
    "retweets_df.head"
   ]
  },
  {
   "cell_type": "code",
   "execution_count": null,
   "id": "2d575a81-92ae-4f07-902b-ce1440e77301",
   "metadata": {},
   "outputs": [],
   "source": [
    "art = artifacts.dataframes.persist(artifacts.dataframes.url(ARTIFACTS_BASE_URL, FILE_NAME), retweets_df)"
   ]
  },
  {
   "cell_type": "code",
   "execution_count": null,
   "id": "e2fc7a10-3a4a-40be-b6d1-6da4ecfa8a01",
   "metadata": {},
   "outputs": [],
   "source": []
  },
  {
   "cell_type": "code",
   "execution_count": null,
   "id": "dc5b2b74-7da1-4649-8e89-18dbd0985e29",
   "metadata": {},
   "outputs": [],
   "source": []
  },
  {
   "cell_type": "code",
   "execution_count": null,
   "id": "718f7074-8d48-40e0-9533-182d99b6b040",
   "metadata": {},
   "outputs": [],
   "source": []
  },
  {
   "cell_type": "code",
   "execution_count": null,
   "id": "8747b962-94c1-44ee-9d4a-d61dab84c7c1",
   "metadata": {},
   "outputs": [],
   "source": []
  },
  {
   "cell_type": "code",
   "execution_count": null,
   "id": "755672cf-caa1-4684-a7aa-920ea8a89006",
   "metadata": {},
   "outputs": [],
   "source": []
  }
 ],
 "metadata": {
  "kernelspec": {
   "display_name": "Python 3 (ipykernel)",
   "language": "python",
   "name": "python3"
  },
  "language_info": {
   "codemirror_mode": {
    "name": "ipython",
    "version": 3
   },
   "file_extension": ".py",
   "mimetype": "text/x-python",
   "name": "python",
   "nbconvert_exporter": "python",
   "pygments_lexer": "ipython3",
   "version": "3.9.2"
  }
 },
 "nbformat": 4,
 "nbformat_minor": 5
}
