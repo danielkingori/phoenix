{
 "cells": [
  {
   "cell_type": "markdown",
   "id": "b41e421a-571a-40f4-9db0-625c02d941f4",
   "metadata": {},
   "source": [
    "# Twitter data pull for retweets network graph\n",
    "Pull data from a folder of json files and structure it for a retweets visualization."
   ]
  },
  {
   "cell_type": "code",
   "execution_count": null,
   "id": "143ab571-c055-4b44-a0a4-140d08f9fe06",
   "metadata": {},
   "outputs": [],
   "source": [
    "%load_ext autoreload\n",
    "%autoreload 2"
   ]
  },
  {
   "cell_type": "code",
   "execution_count": null,
   "id": "eb34ef89-4070-4d5f-b36c-6218415de035",
   "metadata": {},
   "outputs": [],
   "source": [
    "import datetime\n",
    "\n",
    "import pandas as pd\n",
    "\n",
    "from phoenix.common import artifacts\n",
    "from phoenix.common import utils\n",
    "from phoenix.scrape import twitter_utilities\n",
    "from phoenix.tag.data_pull import twitter_pull_graphing"
   ]
  },
  {
   "cell_type": "code",
   "execution_count": null,
   "id": "137a1cfa-a028-4e76-9a96-bed75061107b",
   "metadata": {},
   "outputs": [],
   "source": [
    "# Parametrise the run execution date.\n",
    "# Format of the run date\n",
    "RUN_DATE_FORMAT = \"%Y-%m-%d\"\n",
    "# This can be overwritten at execution time by Papermill to enable historic runs and backfills etc.\n",
    "RUN_DATE = datetime.datetime.today().strftime(RUN_DATE_FORMAT)\n",
    "\n",
    "MONTH_PREFIX = \"2021-08/\"\n",
    "\n",
    "USERS_CSV_PATH = f\"{artifacts.urls.get_static_config()}twitter_query_users.csv\"\n",
    "\n",
    "# Set Artefacts URL\n",
    "ARTIFACTS_BASE_URL = f\"{artifacts.urls.get_local()}twitter/graph_data/{MONTH_PREFIX}\"\n",
    "\n",
    "# Input\n",
    "INPUT_FOLDER_JSON = f\"{artifacts.urls.get_local()}base/grouped_by_year_month/twitter/{MONTH_PREFIX}\""
   ]
  },
  {
   "cell_type": "code",
   "execution_count": null,
   "id": "fe5d6823-b852-489f-a4d0-0830d97d0dfe",
   "metadata": {},
   "outputs": [],
   "source": [
    "# Display params.\n",
    "print(\n",
    "USERS_CSV_PATH,\n",
    "ARTIFACTS_BASE_URL,\n",
    "INPUT_FOLDER_JSON,\n",
    "RUN_DATE,\n",
    "sep='\\n',\n",
    ")"
   ]
  },
  {
   "cell_type": "code",
   "execution_count": null,
   "id": "8fead8ee-5710-41da-aadc-286ece88ea17",
   "metadata": {},
   "outputs": [],
   "source": [
    "# %env DASK_CLUSTER_IP=tcp://127.0.0.1:36349"
   ]
  },
  {
   "cell_type": "code",
   "execution_count": null,
   "id": "5f5cacdf-dd9f-4c90-81dd-c1f0f6c177a6",
   "metadata": {},
   "outputs": [],
   "source": [
    "utils.dask_global_init()"
   ]
  },
  {
   "cell_type": "code",
   "execution_count": null,
   "id": "e26bf8a9-2a5b-40a7-9d8f-34525d78d754",
   "metadata": {},
   "outputs": [],
   "source": [
    "users = twitter_utilities.load_queries_from_csv(USERS_CSV_PATH)"
   ]
  },
  {
   "cell_type": "code",
   "execution_count": null,
   "id": "2f480b05-f699-4241-8eb1-75a8fa435061",
   "metadata": {},
   "outputs": [],
   "source": [
    "tweets = twitter_pull_graphing.collect_tweets_rt_graph(INPUT_FOLDER_JSON, users)"
   ]
  },
  {
   "cell_type": "code",
   "execution_count": null,
   "id": "be9f5af3-6131-420d-888b-89bfee3b205a",
   "metadata": {},
   "outputs": [],
   "source": [
    "tweets.head()"
   ]
  },
  {
   "cell_type": "code",
   "execution_count": null,
   "id": "a657ab04-06ed-4372-8365-0a993ad9076f",
   "metadata": {},
   "outputs": [],
   "source": [
    "tweets.size"
   ]
  },
  {
   "cell_type": "code",
   "execution_count": null,
   "id": "268e4d0b-955f-4c75-8488-947c834ccbf1",
   "metadata": {},
   "outputs": [],
   "source": [
    "tweets.shape"
   ]
  },
  {
   "cell_type": "code",
   "execution_count": null,
   "id": "2d575a81-92ae-4f07-902b-ce1440e77301",
   "metadata": {},
   "outputs": [],
   "source": [
    "art = artifacts.dataframes.persist(artifacts.dataframes.url(ARTIFACTS_BASE_URL, \"retweets_graph\"), tweets)"
   ]
  }
 ],
 "metadata": {
  "kernelspec": {
   "display_name": "Python 3 (ipykernel)",
   "language": "python",
   "name": "python3"
  },
  "language_info": {
   "codemirror_mode": {
    "name": "ipython",
    "version": 3
   },
   "file_extension": ".py",
   "mimetype": "text/x-python",
   "name": "python",
   "nbconvert_exporter": "python",
   "pygments_lexer": "ipython3",
   "version": "3.9.2"
  }
 },
 "nbformat": 4,
 "nbformat_minor": 5
}
