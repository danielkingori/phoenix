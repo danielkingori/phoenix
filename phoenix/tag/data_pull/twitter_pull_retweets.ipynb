{
 "cells": [
  {
   "cell_type": "markdown",
   "id": "b41e421a-571a-40f4-9db0-625c02d941f4",
   "metadata": {},
   "source": [
    "# Twitter data pull for retweets network graph\n",
    "Pull data from a folder of json files and structure it for a retweets visualization."
   ]
  },
  {
   "cell_type": "code",
   "execution_count": null,
   "id": "143ab571-c055-4b44-a0a4-140d08f9fe06",
   "metadata": {},
   "outputs": [],
   "source": [
    "%load_ext autoreload\n",
    "%autoreload 2"
   ]
  },
  {
   "cell_type": "code",
   "execution_count": null,
   "id": "eb34ef89-4070-4d5f-b36c-6218415de035",
   "metadata": {},
   "outputs": [],
   "source": [
    "import datetime\n",
    "\n",
    "import pandas as pd\n",
    "\n",
    "from phoenix.common import artifacts, run_params\n",
    "from phoenix.common import utils\n",
    "from phoenix.scrape import twitter_utilities\n",
    "from phoenix.tag.data_pull import twitter_pull_graphing"
   ]
  },
  {
   "cell_type": "code",
   "execution_count": null,
   "id": "3ca6129a-700d-4747-adda-665f44796bc0",
   "metadata": {},
   "outputs": [],
   "source": [
    "utils.setup_notebook_output()\n",
    "utils.setup_notebook_logging()"
   ]
  },
  {
   "cell_type": "code",
   "execution_count": null,
   "id": "137a1cfa-a028-4e76-9a96-bed75061107b",
   "metadata": {
    "tags": [
     "parameters"
    ]
   },
   "outputs": [],
   "source": [
    "# Parameters\n",
    "# See phoenix/common/run_datetime.py expected format of parameter\n",
    "RUN_DATETIME = None\n",
    "TENANT_ID = None\n",
    "\n",
    "# See phoenix/common/artifacts/registry_environment.py expected format of parameter\n",
    "ARTIFACTS_ENVIRONMENT_KEY = \"local\"\n",
    "\n",
    "# Filters for batch\n",
    "YEAR_FILTER = 2021\n",
    "# Without zero padding\n",
    "MONTH_FILTER = 8"
   ]
  },
  {
   "cell_type": "code",
   "execution_count": null,
   "id": "3324c134-6349-4a8b-b078-f6b72620e60f",
   "metadata": {},
   "outputs": [],
   "source": [
    "cur_run_params = run_params.general.create(ARTIFACTS_ENVIRONMENT_KEY, TENANT_ID, RUN_DATETIME)\n",
    "\n",
    "url_config = {\n",
    "    \"YEAR_FILTER\": YEAR_FILTER,\n",
    "    \"MONTH_FILTER\": MONTH_FILTER,\n",
    "    \"OBJECT_TYPE\": \"tweets\"\n",
    "}\n",
    "\n",
    "GRAPHING_RUNS_URL_RETWEET_PULLED = cur_run_params.art_url_reg.get_url(\"graphing_runs-retweet_pulled\", url_config)\n",
    "STATIC_URL_TWITTER_USERS = cur_run_params.art_url_reg.get_url(\"static-twitter_users\", url_config)\n",
    "GRAPHING_RUNS_URL_RETWEET_INPUT = cur_run_params.art_url_reg.get_url(\"graphing_runs-retweet_input\", url_config)"
   ]
  },
  {
   "cell_type": "code",
   "execution_count": null,
   "id": "fe5d6823-b852-489f-a4d0-0830d97d0dfe",
   "metadata": {},
   "outputs": [],
   "source": [
    "# Display params.\n",
    "print(\n",
    "STATIC_URL_TWITTER_USERS,\n",
    "GRAPHING_RUNS_URL_RETWEET_INPUT,\n",
    "GRAPHING_RUNS_URL_RETWEET_PULLED,\n",
    "cur_run_params.run_dt.dt,\n",
    "YEAR_FILTER,\n",
    "MONTH_FILTER,\n",
    "cur_run_params.tenant_config,\n",
    "sep='\\n',\n",
    ")"
   ]
  },
  {
   "cell_type": "code",
   "execution_count": null,
   "id": "e26bf8a9-2a5b-40a7-9d8f-34525d78d754",
   "metadata": {},
   "outputs": [],
   "source": [
    "users = twitter_utilities.load_queries_from_csv(STATIC_URL_TWITTER_USERS)"
   ]
  },
  {
   "cell_type": "code",
   "execution_count": null,
   "id": "2f480b05-f699-4241-8eb1-75a8fa435061",
   "metadata": {},
   "outputs": [],
   "source": [
    "tweets = twitter_pull_graphing.collect_tweets_rt_graph(GRAPHING_RUNS_URL_RETWEET_INPUT, users, YEAR_FILTER, MONTH_FILTER)"
   ]
  },
  {
   "cell_type": "code",
   "execution_count": null,
   "id": "be9f5af3-6131-420d-888b-89bfee3b205a",
   "metadata": {},
   "outputs": [],
   "source": [
    "tweets.head()"
   ]
  },
  {
   "cell_type": "code",
   "execution_count": null,
   "id": "a657ab04-06ed-4372-8365-0a993ad9076f",
   "metadata": {},
   "outputs": [],
   "source": [
    "tweets.size"
   ]
  },
  {
   "cell_type": "code",
   "execution_count": null,
   "id": "268e4d0b-955f-4c75-8488-947c834ccbf1",
   "metadata": {},
   "outputs": [],
   "source": [
    "tweets.shape"
   ]
  },
  {
   "cell_type": "code",
   "execution_count": null,
   "id": "2d575a81-92ae-4f07-902b-ce1440e77301",
   "metadata": {},
   "outputs": [],
   "source": [
    "art = artifacts.dataframes.persist(GRAPHING_RUNS_URL_RETWEET_PULLED, tweets)"
   ]
  }
 ],
 "metadata": {
  "kernelspec": {
   "display_name": "Python 3 (ipykernel)",
   "language": "python",
   "name": "python3"
  },
  "language_info": {
   "codemirror_mode": {
    "name": "ipython",
    "version": 3
   },
   "file_extension": ".py",
   "mimetype": "text/x-python",
   "name": "python",
   "nbconvert_exporter": "python",
   "pygments_lexer": "ipython3",
   "version": "3.9.2"
  }
 },
 "nbformat": 4,
 "nbformat_minor": 5
}
