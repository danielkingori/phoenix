{
 "cells": [
  {
   "cell_type": "markdown",
   "id": "ee6b9aae-e9ca-427a-9e6f-08d8a92633c9",
   "metadata": {},
   "source": [
    "# Finalise facebook posts\n",
    "Finalises the facebook data.\n",
    "And persists it to s3.\n",
    "See docs for more information."
   ]
  },
  {
   "cell_type": "code",
   "execution_count": null,
   "id": "d20f471a-a32b-4071-84d1-64cf435ceb27",
   "metadata": {},
   "outputs": [],
   "source": [
    "%load_ext autoreload\n",
    "%autoreload 2"
   ]
  },
  {
   "cell_type": "code",
   "execution_count": null,
   "id": "72f8c18b-ddf0-4b81-87a0-2c6947ad6d06",
   "metadata": {},
   "outputs": [],
   "source": [
    "import datetime\n",
    "\n",
    "import pandas as pd\n",
    "\n",
    "from phoenix import common\n",
    "from phoenix.common import artifacts, utils\n",
    "from phoenix.tag import export\n",
    "from phoenix.tag import finalise\n",
    "from phoenix.tag import object_filters"
   ]
  },
  {
   "cell_type": "code",
   "execution_count": null,
   "id": "f6e5ba25-e8b3-43de-ac2e-f9969d6da660",
   "metadata": {},
   "outputs": [],
   "source": [
    "utils.setup_notebook_output()\n",
    "utils.setup_notebook_logging()"
   ]
  },
  {
   "cell_type": "code",
   "execution_count": null,
   "id": "7f0f8264-bba9-4f73-bde8-fa415edebb0f",
   "metadata": {
    "tags": [
     "parameters"
    ]
   },
   "outputs": [],
   "source": [
    "# Parameters\n",
    "# See phoenix/common/run_datetime.py expected format of parameter\n",
    "RUN_DATETIME = None\n",
    "# See phoenix/common/artifacts/registry_environment.py expected format of parameter\n",
    "ARTIFACTS_ENVIRONMENT_KEY = \"local\"\n",
    "TENANT_ID = None\n",
    "\n",
    "# Filters for batch\n",
    "YEAR_FILTER = 2021\n",
    "# Without zero padding\n",
    "MONTH_FILTER = 8\n",
    "OBJECT_TYPE = \"facebook_posts\"\n",
    "\n",
    "# OUTPUT\n",
    "FINAL_URL_FACEBOOK_POSTS = None\n",
    "INCLUDE_OBJECTS_TENSIONS = True\n",
    "INCLUDE_SENTIMENT = True"
   ]
  },
  {
   "cell_type": "code",
   "execution_count": null,
   "id": "9a78f74f-bede-4b4b-8908-b428b2e8d046",
   "metadata": {},
   "outputs": [],
   "source": [
    "run_params = common.run_params.general.create(ARTIFACTS_ENVIRONMENT_KEY, TENANT_ID, RUN_DATETIME)\n",
    "    \n",
    "url_config = {\n",
    "    \"YEAR_FILTER\": YEAR_FILTER,\n",
    "    \"MONTH_FILTER\": MONTH_FILTER,\n",
    "    \"OBJECT_TYPE\": OBJECT_TYPE\n",
    "}\n",
    "\n",
    "TAGGING_RUNS_URL_FACEBOOK_POSTS_PULLED = run_params.art_url_reg.get_url(\"tagging_runs-facebook_posts_pulled\", url_config)\n",
    "TAGGING_RUNS_URL_PIPELINE_BASE = run_params.art_url_reg.get_url(\"tagging_runs-pipeline_base\", url_config)\n",
    "TAGGING_RUNS_URL_OBJECTS_TENSIONS = run_params.art_url_reg.get_url(\"tagging_runs-objects_tensions\", url_config)\n",
    "TAGGING_RUNS_URL_LANGUAGE_SENTIMENT_OBJECTS = run_params.art_url_reg.get_url(\"tagging_runs-language_sentiment_objects\", url_config)\n",
    "TAGGING_RUNS_URL_FACEBOOK_POSTS_FINAL = run_params.art_url_reg.get_url(\"tagging_runs-facebook_posts_final\", url_config)\n",
    "TAGGING_RUNS_URL_FACEBOOK_POSTS_TO_SCRAPE = run_params.art_url_reg.get_url(\"tagging_runs-facebook_posts_to_scrape\", url_config)\n",
    "TAGGING_RUNS_URL_FACEBOOK_POSTS_TO_SCRAPE_DASHBOARD = run_params.art_url_reg.get_url(\"tagging_runs-facebook_posts_to_scrape_dashboard\", url_config)\n",
    "if not FINAL_URL_FACEBOOK_POSTS:\n",
    "    FINAL_URL_FACEBOOK_POSTS = run_params.art_url_reg.get_url(\"final-facebook_posts\", url_config)"
   ]
  },
  {
   "cell_type": "code",
   "execution_count": null,
   "id": "eb190492-9a3c-4114-8bce-2729d6e9210a",
   "metadata": {},
   "outputs": [],
   "source": [
    "# Display params.\n",
    "print(\n",
    "TAGGING_RUNS_URL_FACEBOOK_POSTS_PULLED,\n",
    "TAGGING_RUNS_URL_PIPELINE_BASE,\n",
    "TAGGING_RUNS_URL_OBJECTS_TENSIONS,\n",
    "TAGGING_RUNS_URL_LANGUAGE_SENTIMENT_OBJECTS,\n",
    "TAGGING_RUNS_URL_FACEBOOK_POSTS_FINAL,\n",
    "TAGGING_RUNS_URL_FACEBOOK_POSTS_TO_SCRAPE,\n",
    "TAGGING_RUNS_URL_FACEBOOK_POSTS_TO_SCRAPE_DASHBOARD,\n",
    "FINAL_URL_FACEBOOK_POSTS,\n",
    "run_params.run_dt.dt,\n",
    "sep='\\n',\n",
    ")"
   ]
  },
  {
   "cell_type": "code",
   "execution_count": null,
   "id": "cc5d1522-198b-42af-959a-ab128c6392ec",
   "metadata": {},
   "outputs": [],
   "source": [
    "# This dataframe is always needed for the finalise\n",
    "facebook_posts_df = artifacts.dataframes.get(TAGGING_RUNS_URL_FACEBOOK_POSTS_PULLED).dataframe"
   ]
  },
  {
   "cell_type": "code",
   "execution_count": null,
   "id": "38193ae8-7128-4b9f-8da4-a4c899e42b82",
   "metadata": {},
   "outputs": [],
   "source": [
    "facebook_posts_df.head()"
   ]
  },
  {
   "cell_type": "code",
   "execution_count": null,
   "id": "542d0b5c-5078-471e-a368-234f54ee2153",
   "metadata": {},
   "outputs": [],
   "source": [
    "objects = None\n",
    "if INCLUDE_OBJECTS_TENSIONS:\n",
    "    objects = artifacts.dataframes.get(TAGGING_RUNS_URL_OBJECTS_TENSIONS)\n",
    "    objects.head()"
   ]
  },
  {
   "cell_type": "code",
   "execution_count": null,
   "id": "acc02164-1b5a-4380-aeb9-c0cbff486c20",
   "metadata": {},
   "outputs": [],
   "source": [
    "language_sentiment_objects = None\n",
    "if INCLUDE_SENTIMENT:\n",
    "    language_sentiment_objects = artifacts.dataframes.get(TAGGING_RUNS_URL_LANGUAGE_SENTIMENT_OBJECTS)\n",
    "    language_sentiment_objects.head()"
   ]
  },
  {
   "cell_type": "code",
   "execution_count": null,
   "id": "e75a5068-01c3-43dc-9474-4d0f176528fe",
   "metadata": {},
   "outputs": [],
   "source": [
    "facebook_posts_final = finalise.join_objects_to_facebook_posts(facebook_posts=facebook_posts_df, objects=objects, language_sentiment_objects=language_sentiment_objects)"
   ]
  },
  {
   "cell_type": "code",
   "execution_count": null,
   "id": "9fbbfaa2-25be-495f-b0e0-4b979f6d3e7f",
   "metadata": {},
   "outputs": [],
   "source": [
    "facebook_posts_final.head()"
   ]
  },
  {
   "cell_type": "code",
   "execution_count": null,
   "id": "435e6471-82ae-4fe9-9252-329e6af1504d",
   "metadata": {},
   "outputs": [],
   "source": [
    "facebook_posts_final.dtypes"
   ]
  },
  {
   "cell_type": "code",
   "execution_count": null,
   "id": "dc6a6f27-dee1-47df-9f55-5f4d30bed949",
   "metadata": {
    "tags": []
   },
   "outputs": [],
   "source": [
    "if \"is_key_object\" in facebook_posts_final.columns:\n",
    "    posts_to_scrape = export.get_posts_to_scrape(object_filters.get_key_objects(facebook_posts_final))\n",
    "    export.persist_posts_to_scrape(posts_to_scrape, TAGGING_RUNS_URL_FACEBOOK_POSTS_TO_SCRAPE, TAGGING_RUNS_URL_FACEBOOK_POSTS_TO_SCRAPE_DASHBOARD)"
   ]
  },
  {
   "cell_type": "code",
   "execution_count": null,
   "id": "25bf76a3-939c-4d12-aabb-e97c260b47f1",
   "metadata": {},
   "outputs": [],
   "source": [
    "_ = artifacts.dataframes.persist(FINAL_URL_FACEBOOK_POSTS, facebook_posts_final)"
   ]
  },
  {
   "cell_type": "code",
   "execution_count": null,
   "id": "8d1c5c0c-2dbe-4f24-8a8f-5b5bef020eef",
   "metadata": {},
   "outputs": [],
   "source": [
    "_ = artifacts.dataframes.persist(TAGGING_RUNS_URL_FACEBOOK_POSTS_FINAL, facebook_posts_final)"
   ]
  },
  {
   "cell_type": "code",
   "execution_count": null,
   "id": "75d01784-1264-435b-9586-d4ba3cb7f0e0",
   "metadata": {},
   "outputs": [],
   "source": [
    "artifacts.dataframes.read_schema(TAGGING_RUNS_URL_FACEBOOK_POSTS_FINAL)"
   ]
  },
  {
   "cell_type": "code",
   "execution_count": null,
   "id": "74370d5d-d014-4b26-aec9-97a7c1780f36",
   "metadata": {},
   "outputs": [],
   "source": []
  }
 ],
 "metadata": {
  "kernelspec": {
   "display_name": "Python 3 (ipykernel)",
   "language": "python",
   "name": "python3"
  },
  "language_info": {
   "codemirror_mode": {
    "name": "ipython",
    "version": 3
   },
   "file_extension": ".py",
   "mimetype": "text/x-python",
   "name": "python",
   "nbconvert_exporter": "python",
   "pygments_lexer": "ipython3",
   "version": "3.9.2"
  }
 },
 "nbformat": 4,
 "nbformat_minor": 5
}
