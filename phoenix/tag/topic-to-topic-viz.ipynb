{
 "cells": [
  {
   "cell_type": "markdown",
   "id": "01ae1ea5-59dc-4746-b020-a999c1cb33c8",
   "metadata": {},
   "source": [
    "# Topic to Topic visualization\n",
    "\n",
    "Download data from AWS (requires AWS env variables)"
   ]
  },
  {
   "cell_type": "code",
   "execution_count": 1,
   "id": "87d9b08f-1eff-4361-a35d-e5fe7846d6cb",
   "metadata": {},
   "outputs": [],
   "source": [
    "%load_ext autoreload\n",
    "%autoreload 2"
   ]
  },
  {
   "cell_type": "code",
   "execution_count": 2,
   "id": "893b14ed-a45a-4ceb-8128-fbeca880a172",
   "metadata": {},
   "outputs": [],
   "source": [
    "import datetime\n",
    "\n",
    "from webweb import Web\n",
    "\n",
    "from phoenix.tag import network_viz\n",
    "\n",
    "from phoenix.common import artifacts\n",
    "from phoenix.common import utils"
   ]
  },
  {
   "cell_type": "code",
   "execution_count": 3,
   "id": "cdfd1f17-b49c-4830-9e17-2d022732a5f0",
   "metadata": {},
   "outputs": [
    {
     "name": "stdout",
     "output_type": "stream",
     "text": [
      "LOG:2021-07-12 16:55:01,713 - pid:316 - [/src/phoenix/common/utils.py:19] - root - INFO - Outputting logs within notebook enabled. Set level:INFO.\n"
     ]
    }
   ],
   "source": [
    "utils.setup_notebook_output()\n",
    "utils.setup_notebook_logging()"
   ]
  },
  {
   "cell_type": "code",
   "execution_count": null,
   "id": "d0c59443-4d02-4e12-90e2-f7cc6cbef80d",
   "metadata": {},
   "outputs": [],
   "source": [
    "# Parametrise the run execution date.\n",
    "# Format of the run date\n",
    "RUN_DATE_FORMAT = \"%Y-%m-%d\"\n",
    "# This can be overwritten at execution time by Papermill to enable historic runs and backfills etc.\n",
    "RUN_ISO_TIMESTAMP = datetime.datetime.now().isoformat()\n",
    "run_iso_datetime = datetime.datetime.fromisoformat(RUN_ISO_TIMESTAMP)\n",
    "RUN_DATE = datetime.datetime.today().strftime(RUN_DATE_FORMAT)\n",
    "\n",
    "# Load Data URLS\n",
    "FACEBOOK_COMMENTS_LOAD = 's3://buildup-dev-us-tables/fb_comments/parquet_exports/fb_comments_topics_may/persisted.parquet'\n",
    "FACEBOOK_POSTS_LOAD = \"s3://buildup-dev-us-tables/fb_posts/parquet_exports/fb_posts_topics_may/persisted.parquet\"\n",
    "\n",
    "# Save URL\n",
    "FACEBOOK_POST_GRAPH_URL = f\"{artifacts.urls.get_local()}visualizations/{RUN_DATE}/facebook-post-network-{RUN_ISO_TIMESTAMP}.html\"\n",
    "\n",
    "# Adjust for Schema variatons\n",
    "USER_SCHEMA_POST = \"user_name\"\n",
    "USER_SCHEMA_COMMENT = \"username\""
   ]
  },
  {
   "cell_type": "code",
   "execution_count": null,
   "id": "1bf2404a-eadc-4117-8224-24e2fc6446ba",
   "metadata": {},
   "outputs": [],
   "source": [
    "print(\n",
    "RUN_DATE,\n",
    "FACEBOOK_COMMENTS_LOAD,\n",
    "FACEBOOK_POSTS_LOAD,\n",
    "FACEBOOK_POST_GRAPH_URL,\n",
    "USER_SCHEMA_POST,\n",
    "USER_SCHEMA_COMMENT,\n",
    "sep='\\n')"
   ]
  },
  {
   "cell_type": "code",
   "execution_count": null,
   "id": "02d5e9a4-6dab-432e-ae3b-e60786618fb4",
   "metadata": {},
   "outputs": [],
   "source": [
    "# Gather and prepare data\n",
    "posts_graph = network_viz.prepare_dataset(FACEBOOK_POSTS_LOAD, USER_SCHEMA_POST)"
   ]
  },
  {
   "cell_type": "code",
   "execution_count": null,
   "id": "38888272-78a8-4d53-b1ca-e72a5d43a9cb",
   "metadata": {},
   "outputs": [],
   "source": [
    "# Initialize web grapher\n",
    "web = Web(nx_G=posts_graph)"
   ]
  },
  {
   "cell_type": "code",
   "execution_count": null,
   "id": "9495d989-8491-46a2-89a9-651a3f351471",
   "metadata": {},
   "outputs": [],
   "source": [
    "web = network_viz.set_webweb_vis_settings(web)"
   ]
  },
  {
   "cell_type": "code",
   "execution_count": null,
   "id": "66c6790a-ab7b-4016-b8d5-707fe89c9b27",
   "metadata": {},
   "outputs": [],
   "source": [
    "web.save(FACEBOOK_POST_GRAPH_URL)"
   ]
  },
  {
   "cell_type": "code",
   "execution_count": null,
   "id": "05efcfb1-d507-41fd-8228-81141a3cd6bb",
   "metadata": {},
   "outputs": [],
   "source": []
  }
 ],
 "metadata": {
  "kernelspec": {
   "display_name": "Python 3",
   "language": "python",
   "name": "python3"
  },
  "language_info": {
   "codemirror_mode": {
    "name": "ipython",
    "version": 3
   },
   "file_extension": ".py",
   "mimetype": "text/x-python",
   "name": "python",
   "nbconvert_exporter": "python",
   "pygments_lexer": "ipython3",
   "version": "3.9.2"
  }
 },
 "nbformat": 4,
 "nbformat_minor": 5
}
