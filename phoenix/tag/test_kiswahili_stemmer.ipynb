{
 "cells": [
  {
   "cell_type": "code",
   "execution_count": 1,
   "id": "44b98a20",
   "metadata": {},
   "outputs": [],
   "source": [
    "from phoenix.tag.swahili import SwahiliStemmer"
   ]
  },
  {
   "cell_type": "code",
   "execution_count": 2,
   "id": "9afc9b96",
   "metadata": {},
   "outputs": [],
   "source": [
    "stemmer = SwahiliStemmer()"
   ]
  },
  {
   "cell_type": "code",
   "execution_count": 4,
   "id": "4d3d3225",
   "metadata": {},
   "outputs": [
    {
     "data": {
      "text/plain": [
       "['amesema']"
      ]
     },
     "execution_count": 4,
     "metadata": {},
     "output_type": "execute_result"
    }
   ],
   "source": [
    "stemmer.stemWord([\"amesema\"])"
   ]
  },
  {
   "cell_type": "code",
   "execution_count": 7,
   "id": "22a7d1b8",
   "metadata": {},
   "outputs": [
    {
     "data": {
      "text/plain": [
       "['amezungumzia']"
      ]
     },
     "execution_count": 7,
     "metadata": {},
     "output_type": "execute_result"
    }
   ],
   "source": [
    "stemmer.stemWord(['amezungumzia'])"
   ]
  },
  {
   "cell_type": "code",
   "execution_count": 6,
   "id": "ac6da156",
   "metadata": {},
   "outputs": [
    {
     "data": {
      "text/plain": [
       "['kuendesha']"
      ]
     },
     "execution_count": 6,
     "metadata": {},
     "output_type": "execute_result"
    }
   ],
   "source": [
    "stemmer.stemWord(['kuendesha'])"
   ]
  },
  {
   "cell_type": "code",
   "execution_count": 8,
   "id": "5cecd241",
   "metadata": {},
   "outputs": [
    {
     "data": {
      "text/plain": [
       "['kumuua']"
      ]
     },
     "execution_count": 8,
     "metadata": {},
     "output_type": "execute_result"
    }
   ],
   "source": [
    "stemmer.stemWord(['kumuua'])"
   ]
  },
  {
   "cell_type": "code",
   "execution_count": null,
   "id": "d5d972d3",
   "metadata": {},
   "outputs": [],
   "source": []
  }
 ],
 "metadata": {
  "kernelspec": {
   "display_name": "Python 3 (ipykernel)",
   "language": "python",
   "name": "python3"
  },
  "language_info": {
   "codemirror_mode": {
    "name": "ipython",
    "version": 3
   },
   "file_extension": ".py",
   "mimetype": "text/x-python",
   "name": "python",
   "nbconvert_exporter": "python",
   "pygments_lexer": "ipython3",
   "version": "3.9.2"
  }
 },
 "nbformat": 4,
 "nbformat_minor": 5
}
