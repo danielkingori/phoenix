{
 "cells": [
  {
   "cell_type": "markdown",
   "id": "ee6b9aae-e9ca-427a-9e6f-08d8a92633c9",
   "metadata": {},
   "source": [
    "# Finalise twitter and facebook\n",
    "Finalises the twitter and facebook data.\n",
    "And persists it to s3.\n",
    "See docs for more information."
   ]
  },
  {
   "cell_type": "code",
   "execution_count": null,
   "id": "d20f471a-a32b-4071-84d1-64cf435ceb27",
   "metadata": {},
   "outputs": [],
   "source": [
    "%load_ext autoreload\n",
    "%autoreload 2"
   ]
  },
  {
   "cell_type": "code",
   "execution_count": null,
   "id": "72f8c18b-ddf0-4b81-87a0-2c6947ad6d06",
   "metadata": {},
   "outputs": [],
   "source": [
    "import datetime\n",
    "\n",
    "import pandas as pd\n",
    "import tentaclio\n",
    "\n",
    "from phoenix.common import artifacts\n",
    "from phoenix.common import utils\n",
    "from phoenix.tag import export\n",
    "from phoenix.tag import finalise\n",
    "from phoenix.tag import object_filters"
   ]
  },
  {
   "cell_type": "code",
   "execution_count": null,
   "id": "f6e5ba25-e8b3-43de-ac2e-f9969d6da660",
   "metadata": {},
   "outputs": [],
   "source": [
    "utils.setup_notebook_output()\n",
    "utils.setup_notebook_logging()"
   ]
  },
  {
   "cell_type": "code",
   "execution_count": null,
   "id": "7f0f8264-bba9-4f73-bde8-fa415edebb0f",
   "metadata": {},
   "outputs": [],
   "source": [
    "# Parametrise the run execution date.\n",
    "# Format of the run date\n",
    "RUN_DATE_FORMAT = \"%Y-%m-%d\"\n",
    "# This can be overwritten at execution time by Papermill to enable historic runs and backfills etc.\n",
    "RUN_DATE = datetime.datetime.today().strftime(RUN_DATE_FORMAT)\n",
    "\n",
    "# Set Artefacts URL\n",
    "ARTIFACTS_BASE_URL = f\"{artifacts.urls.get_local()}{RUN_DATE}/\"\n",
    "\n",
    "# OUTPUT\n",
    "FACEBOOK_POSTS_PERSIST = \"s3://buildup-dev-us-tables/fb_posts/parquet_exports/fb_posts_may/persisted.parquet\"\n",
    "TWEETS_PERSIST = \"s3://buildup-dev-us-tables/tweets/parquet_exports/tweets_may/persisted.parquet\""
   ]
  },
  {
   "cell_type": "code",
   "execution_count": null,
   "id": "eb190492-9a3c-4114-8bce-2729d6e9210a",
   "metadata": {},
   "outputs": [],
   "source": [
    "# Display params.\n",
    "print(\n",
    "ARTIFACTS_BASE_URL,\n",
    "RUN_DATE,\n",
    "sep='\\n',\n",
    ")"
   ]
  },
  {
   "cell_type": "code",
   "execution_count": null,
   "id": "82bf4799-74ed-480b-8618-ea1dea34571a",
   "metadata": {},
   "outputs": [],
   "source": [
    "# %env DASK_CLUSTER_IP="
   ]
  },
  {
   "cell_type": "code",
   "execution_count": null,
   "id": "7649cd1e-a6eb-4a62-ad0c-f9c830c343f3",
   "metadata": {},
   "outputs": [],
   "source": [
    "utils.dask_global_init()"
   ]
  },
  {
   "cell_type": "code",
   "execution_count": null,
   "id": "cc5d1522-198b-42af-959a-ab128c6392ec",
   "metadata": {},
   "outputs": [],
   "source": [
    "facebook_posts_df = artifacts.dataframes.get(artifacts.dataframes.url(ARTIFACTS_BASE_URL, \"facebook_posts_pulled\")).dataframe"
   ]
  },
  {
   "cell_type": "code",
   "execution_count": null,
   "id": "38193ae8-7128-4b9f-8da4-a4c899e42b82",
   "metadata": {},
   "outputs": [],
   "source": [
    "facebook_posts_df.head()"
   ]
  },
  {
   "cell_type": "code",
   "execution_count": null,
   "id": "32c233f1-054d-46af-999b-c9c9c0707cf2",
   "metadata": {},
   "outputs": [],
   "source": [
    "tweets_df = artifacts.dataframes.get(artifacts.dataframes.url(ARTIFACTS_BASE_URL, \"tweets_pulled\")).dataframe"
   ]
  },
  {
   "cell_type": "code",
   "execution_count": null,
   "id": "670a5342-bf09-425a-87b5-20072c511399",
   "metadata": {},
   "outputs": [],
   "source": [
    "tweets_df.head()"
   ]
  },
  {
   "cell_type": "code",
   "execution_count": null,
   "id": "542d0b5c-5078-471e-a368-234f54ee2153",
   "metadata": {},
   "outputs": [],
   "source": [
    "objects = artifacts.dataframes.get(artifacts.dataframes.url(ARTIFACTS_BASE_URL, \"objects\")).dataframe"
   ]
  },
  {
   "cell_type": "code",
   "execution_count": null,
   "id": "c101aca7-da81-4fb8-89c7-8d8bd1d6f3ac",
   "metadata": {},
   "outputs": [],
   "source": [
    "objects.head()"
   ]
  },
  {
   "cell_type": "code",
   "execution_count": null,
   "id": "e75a5068-01c3-43dc-9474-4d0f176528fe",
   "metadata": {},
   "outputs": [],
   "source": [
    "facebook_posts_final = finalise.join_objects_to_facebook_posts(objects, facebook_posts_df)"
   ]
  },
  {
   "cell_type": "code",
   "execution_count": null,
   "id": "9fbbfaa2-25be-495f-b0e0-4b979f6d3e7f",
   "metadata": {},
   "outputs": [],
   "source": [
    "facebook_posts_final.head()"
   ]
  },
  {
   "cell_type": "code",
   "execution_count": null,
   "id": "6be2fef9-d29c-4b91-988e-03eaa12248dc",
   "metadata": {},
   "outputs": [],
   "source": [
    "tweets_final = finalise.join_objects_to_tweets(objects, tweets_df)"
   ]
  },
  {
   "cell_type": "code",
   "execution_count": null,
   "id": "79648d2d-d013-4703-9319-dcd91409d6c4",
   "metadata": {},
   "outputs": [],
   "source": [
    "tweets_final.head()"
   ]
  },
  {
   "cell_type": "code",
   "execution_count": null,
   "id": "dc6a6f27-dee1-47df-9f55-5f4d30bed949",
   "metadata": {
    "tags": []
   },
   "outputs": [],
   "source": [
    "posts_to_scrape = export.get_posts_to_scrape(object_filters.get_key_objects(facebook_posts_final))"
   ]
  },
  {
   "cell_type": "code",
   "execution_count": null,
   "id": "57c85daa-0324-4c1b-a6b5-120ec470b9d4",
   "metadata": {},
   "outputs": [],
   "source": [
    "with tentaclio.open(ARTIFACTS_BASE_URL + f\"posts_to_scrape.csv\", \"w\") as fb:\n",
    "    posts_to_scrape.to_csv(fb)"
   ]
  },
  {
   "cell_type": "code",
   "execution_count": null,
   "id": "25bf76a3-939c-4d12-aabb-e97c260b47f1",
   "metadata": {},
   "outputs": [],
   "source": [
    "_ = artifacts.dataframes.persist(FACEBOOK_POSTS_PERSIST, facebook_posts_final)"
   ]
  },
  {
   "cell_type": "code",
   "execution_count": null,
   "id": "8d1c5c0c-2dbe-4f24-8a8f-5b5bef020eef",
   "metadata": {},
   "outputs": [],
   "source": [
    "_ = artifacts.dataframes.persist(artifacts.dataframes.url(ARTIFACTS_BASE_URL, \"facebook_posts_final\"), facebook_posts_final)"
   ]
  },
  {
   "cell_type": "code",
   "execution_count": null,
   "id": "f421d4af-d0df-474e-8b91-b7ed11fb8326",
   "metadata": {},
   "outputs": [],
   "source": [
    "_ = artifacts.dataframes.persist(TWEETS_PERSIST, tweets_final)"
   ]
  },
  {
   "cell_type": "code",
   "execution_count": null,
   "id": "2d7f7acd-057b-4e60-81d5-e6cb824d8732",
   "metadata": {},
   "outputs": [],
   "source": [
    "_ = artifacts.dataframes.persist(artifacts.dataframes.url(ARTIFACTS_BASE_URL, \"tweets_final\"), tweets_final)"
   ]
  },
  {
   "cell_type": "code",
   "execution_count": null,
   "id": "0942d23b-07bd-457f-8bc9-5dfaaeb57a70",
   "metadata": {},
   "outputs": [],
   "source": []
  }
 ],
 "metadata": {
  "kernelspec": {
   "display_name": "Python 3",
   "language": "python",
   "name": "python3"
  },
  "language_info": {
   "codemirror_mode": {
    "name": "ipython",
    "version": 3
   },
   "file_extension": ".py",
   "mimetype": "text/x-python",
   "name": "python",
   "nbconvert_exporter": "python",
   "pygments_lexer": "ipython3",
   "version": "3.9.2"
  }
 },
 "nbformat": 4,
 "nbformat_minor": 5
}
