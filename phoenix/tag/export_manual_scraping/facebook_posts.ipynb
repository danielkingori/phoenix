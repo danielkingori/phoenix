{
 "cells": [
  {
   "cell_type": "markdown",
   "id": "ee6b9aae-e9ca-427a-9e6f-08d8a92633c9",
   "metadata": {},
   "source": [
    "# Custom export of posts to scrape"
   ]
  },
  {
   "cell_type": "code",
   "execution_count": null,
   "id": "d20f471a-a32b-4071-84d1-64cf435ceb27",
   "metadata": {},
   "outputs": [],
   "source": [
    "%load_ext autoreload\n",
    "%autoreload 2"
   ]
  },
  {
   "cell_type": "code",
   "execution_count": null,
   "id": "72f8c18b-ddf0-4b81-87a0-2c6947ad6d06",
   "metadata": {},
   "outputs": [],
   "source": [
    "import datetime\n",
    "import pprint\n",
    "\n",
    "import pandas as pd\n",
    "\n",
    "from phoenix.common import artifacts, utils\n",
    "from phoenix.tag import export_manual_scraping\n",
    "from phoenix.tag import export"
   ]
  },
  {
   "cell_type": "code",
   "execution_count": null,
   "id": "f6e5ba25-e8b3-43de-ac2e-f9969d6da660",
   "metadata": {},
   "outputs": [],
   "source": [
    "utils.setup_notebook_output()\n",
    "utils.setup_notebook_logging()"
   ]
  },
  {
   "cell_type": "code",
   "execution_count": null,
   "id": "7f0f8264-bba9-4f73-bde8-fa415edebb0f",
   "metadata": {
    "tags": [
     "parameters"
    ]
   },
   "outputs": [],
   "source": [
    "# Parameters\n",
    "# See phoenix/common/run_datetime.py expected format of parameter\n",
    "RUN_DATETIME = None\n",
    "TENANT_ID = None\n",
    "\n",
    "# See phoenix/common/artifacts/registry_environment.py expected format of parameter\n",
    "ARTIFACTS_ENVIRONMENT_KEY = \"local\"\n",
    "\n",
    "# Filters for batch\n",
    "YEAR_FILTER = 2022\n",
    "# Without zero padding\n",
    "MONTH_FILTER = 1\n",
    "OBJECT_TYPE = \"facebook_posts\"\n",
    "\n",
    "INCLUDE_ACCOUNTS = None\n",
    "HAS_TOPICS = None\n",
    "HEAD = 10\n",
    "\n",
    "# OUTPUT\n",
    "CUSTOM_PREFIX = None"
   ]
  },
  {
   "cell_type": "code",
   "execution_count": null,
   "id": "9a78f74f-bede-4b4b-8908-b428b2e8d046",
   "metadata": {},
   "outputs": [],
   "source": [
    "run_params = export_manual_scraping.run_params.create(\n",
    "    artifacts_environment_key=ARTIFACTS_ENVIRONMENT_KEY,\n",
    "    tenant_id=TENANT_ID,\n",
    "    run_datetime_str=RUN_DATETIME,\n",
    "    object_type=OBJECT_TYPE,\n",
    "    year_filter=YEAR_FILTER,\n",
    "    month_filter=MONTH_FILTER,\n",
    "    include_accounts=INCLUDE_ACCOUNTS,\n",
    "    has_topics=HAS_TOPICS,\n",
    "    custom_prefix=CUSTOM_PREFIX,\n",
    "    head=HEAD,\n",
    ")"
   ]
  },
  {
   "cell_type": "code",
   "execution_count": null,
   "id": "eb190492-9a3c-4114-8bce-2729d6e9210a",
   "metadata": {},
   "outputs": [],
   "source": [
    "# Display params.\n",
    "pprint.pprint(run_params)"
   ]
  },
  {
   "cell_type": "code",
   "execution_count": null,
   "id": "cc5d1522-198b-42af-959a-ab128c6392ec",
   "metadata": {},
   "outputs": [],
   "source": [
    "facebook_posts_df = artifacts.dataframes.get(run_params.urls.input_dataset).dataframe"
   ]
  },
  {
   "cell_type": "code",
   "execution_count": null,
   "id": "38193ae8-7128-4b9f-8da4-a4c899e42b82",
   "metadata": {},
   "outputs": [],
   "source": [
    "facebook_posts_df.head()"
   ]
  },
  {
   "cell_type": "code",
   "execution_count": null,
   "id": "dc6a6f27-dee1-47df-9f55-5f4d30bed949",
   "metadata": {
    "tags": []
   },
   "outputs": [],
   "source": [
    "filtered_facebook_posts, all_match_accounts = export_manual_scraping.filter_posts(\n",
    "    facebook_posts_df=facebook_posts_df,\n",
    "    include_accounts=run_params.include_accounts,\n",
    "    has_topics=run_params.has_topics,\n",
    "    head=run_params.head,\n",
    ")"
   ]
  },
  {
   "cell_type": "code",
   "execution_count": null,
   "id": "2f867abb-a48a-4b4c-810b-f7ab11e71f48",
   "metadata": {},
   "outputs": [],
   "source": [
    "filtered_facebook_posts.head()"
   ]
  },
  {
   "cell_type": "code",
   "execution_count": null,
   "id": "d4127d88-9363-4d09-9c20-c4f06191e4df",
   "metadata": {},
   "outputs": [],
   "source": [
    "pprint.pprint(all_match_accounts)"
   ]
  },
  {
   "cell_type": "code",
   "execution_count": null,
   "id": "53e33346-44b2-49e4-a20a-554ed11bc1ee",
   "metadata": {},
   "outputs": [],
   "source": [
    "facebook_posts_to_scrape = filtered_facebook_posts[export_manual_scraping.DEFAULT_POSTS_TO_SCRAPE_COLUMNS]"
   ]
  },
  {
   "cell_type": "code",
   "execution_count": null,
   "id": "8d1c5c0c-2dbe-4f24-8a8f-5b5bef020eef",
   "metadata": {},
   "outputs": [],
   "source": [
    "export.persist_posts_to_scrape(facebook_posts_to_scrape, run_params.urls.custom_facebook_posts_to_scrape)"
   ]
  },
  {
   "cell_type": "code",
   "execution_count": null,
   "id": "74370d5d-d014-4b26-aec9-97a7c1780f36",
   "metadata": {},
   "outputs": [],
   "source": []
  }
 ],
 "metadata": {
  "kernelspec": {
   "display_name": "Python 3 (ipykernel)",
   "language": "python",
   "name": "python3"
  },
  "language_info": {
   "codemirror_mode": {
    "name": "ipython",
    "version": 3
   },
   "file_extension": ".py",
   "mimetype": "text/x-python",
   "name": "python",
   "nbconvert_exporter": "python",
   "pygments_lexer": "ipython3",
   "version": "3.9.2"
  }
 },
 "nbformat": 4,
 "nbformat_minor": 5
}
