{
 "cells": [
  {
   "cell_type": "markdown",
   "id": "ee6b9aae-e9ca-427a-9e6f-08d8a92633c9",
   "metadata": {},
   "source": [
    "# Finalise facebook posts topics\n",
    "Finalises the facebook data topic data.\n",
    "And persists it to s3.\n",
    "See docs for more information."
   ]
  },
  {
   "cell_type": "code",
   "execution_count": null,
   "id": "d20f471a-a32b-4071-84d1-64cf435ceb27",
   "metadata": {},
   "outputs": [],
   "source": [
    "%load_ext autoreload\n",
    "%autoreload 2"
   ]
  },
  {
   "cell_type": "code",
   "execution_count": null,
   "id": "72f8c18b-ddf0-4b81-87a0-2c6947ad6d06",
   "metadata": {},
   "outputs": [],
   "source": [
    "import datetime\n",
    "\n",
    "import pandas as pd\n",
    "import tentaclio\n",
    "\n",
    "from phoenix.common import artifacts, run_datetime\n",
    "from phoenix.common import utils\n",
    "from phoenix.tag import export\n",
    "from phoenix.tag import finalise\n",
    "from phoenix.tag import object_filters"
   ]
  },
  {
   "cell_type": "code",
   "execution_count": null,
   "id": "f6e5ba25-e8b3-43de-ac2e-f9969d6da660",
   "metadata": {},
   "outputs": [],
   "source": [
    "utils.setup_notebook_output()\n",
    "utils.setup_notebook_logging()"
   ]
  },
  {
   "cell_type": "code",
   "execution_count": null,
   "id": "7f0f8264-bba9-4f73-bde8-fa415edebb0f",
   "metadata": {
    "tags": [
     "parameters"
    ]
   },
   "outputs": [],
   "source": [
    "# Parameters\n",
    "# See phoenix/common/run_datetime.py expected format of parameter\n",
    "RUN_DATETIME = None\n",
    "\n",
    "# See phoenix/common/artifacts/registry_environment.py expected format of parameter\n",
    "ARTIFACTS_ENVIRONMENT_KEY = \"local\"\n",
    "\n",
    "# Filters for batch\n",
    "YEAR_FILTER = 2021\n",
    "# Without zero padding\n",
    "MONTH_FILTER = 8\n",
    "OBJECT_TYPE = \"facebook_posts\"\n",
    "\n",
    "# OUTPUT\n",
    "FINAL_URL_FACEBOOK_POSTS_TOPICS = None"
   ]
  },
  {
   "cell_type": "code",
   "execution_count": null,
   "id": "89eb12f6-dfba-45f0-81f2-7e2fa08f8223",
   "metadata": {},
   "outputs": [],
   "source": [
    "if RUN_DATETIME:\n",
    "    run_dt = run_datetime.from_file_safe_str(RUN_DATETIME)\n",
    "else:\n",
    "    run_dt = run_datetime.create_run_datetime_now()\n",
    "    \n",
    "url_config = {\n",
    "    \"YEAR_FILTER\": YEAR_FILTER,\n",
    "    \"MONTH_FILTER\": MONTH_FILTER,\n",
    "    \"OBJECT_TYPE\": OBJECT_TYPE\n",
    "}\n",
    "art_url_reg = artifacts.registry.ArtifactURLRegistry(run_dt, ARTIFACTS_ENVIRONMENT_KEY, artifacts.registry_mappers.get_default_mappers())\n",
    "TAGGING_RUNS_URL_TOPICS = art_url_reg.get_url(\"tagging_runs-topics\", url_config)\n",
    "TAGGING_RUNS_URL_FACEBOOK_POSTS_FINAL = art_url_reg.get_url(\"tagging_runs-facebook_posts_final\", url_config)\n",
    "TAGGING_RUNS_URL_FACEBOOK_POSTS_TOPICS_FINAL = art_url_reg.get_url(\"tagging_runs-facebook_posts_topics_final\", url_config)\n",
    "if not FINAL_URL_FACEBOOK_POSTS_TOPICS:\n",
    "    FINAL_URL_FACEBOOK_POSTS_TOPICS = art_url_reg.get_url(\"final-facebook_posts_topics\", url_config)"
   ]
  },
  {
   "cell_type": "code",
   "execution_count": null,
   "id": "eb190492-9a3c-4114-8bce-2729d6e9210a",
   "metadata": {},
   "outputs": [],
   "source": [
    "# Display params.\n",
    "print(\n",
    "TAGGING_RUNS_URL_TOPICS,\n",
    "TAGGING_RUNS_URL_FACEBOOK_POSTS_FINAL,\n",
    "TAGGING_RUNS_URL_FACEBOOK_POSTS_TOPICS_FINAL,\n",
    "FINAL_URL_FACEBOOK_POSTS_TOPICS,\n",
    "run_dt.dt,\n",
    "sep='\\n',\n",
    ")"
   ]
  },
  {
   "cell_type": "code",
   "execution_count": null,
   "id": "82bf4799-74ed-480b-8618-ea1dea34571a",
   "metadata": {},
   "outputs": [],
   "source": [
    "# %env DASK_CLUSTER_IP="
   ]
  },
  {
   "cell_type": "code",
   "execution_count": null,
   "id": "7649cd1e-a6eb-4a62-ad0c-f9c830c343f3",
   "metadata": {},
   "outputs": [],
   "source": [
    "utils.dask_global_init()"
   ]
  },
  {
   "cell_type": "code",
   "execution_count": null,
   "id": "cc5d1522-198b-42af-959a-ab128c6392ec",
   "metadata": {},
   "outputs": [],
   "source": [
    "facebook_posts_df = artifacts.dataframes.get(TAGGING_RUNS_URL_FACEBOOK_POSTS_FINAL).dataframe"
   ]
  },
  {
   "cell_type": "code",
   "execution_count": null,
   "id": "38193ae8-7128-4b9f-8da4-a4c899e42b82",
   "metadata": {},
   "outputs": [],
   "source": [
    "facebook_posts_df.head()"
   ]
  },
  {
   "cell_type": "code",
   "execution_count": null,
   "id": "542d0b5c-5078-471e-a368-234f54ee2153",
   "metadata": {},
   "outputs": [],
   "source": [
    "topics = artifacts.dataframes.get(TAGGING_RUNS_URL_TOPICS).dataframe"
   ]
  },
  {
   "cell_type": "code",
   "execution_count": null,
   "id": "c101aca7-da81-4fb8-89c7-8d8bd1d6f3ac",
   "metadata": {},
   "outputs": [],
   "source": [
    "topics.head()"
   ]
  },
  {
   "cell_type": "code",
   "execution_count": null,
   "id": "e75a5068-01c3-43dc-9474-4d0f176528fe",
   "metadata": {},
   "outputs": [],
   "source": [
    "facebook_posts_topics_final = finalise.join_topics_to_facebook_posts(topics, facebook_posts_df)"
   ]
  },
  {
   "cell_type": "code",
   "execution_count": null,
   "id": "9fbbfaa2-25be-495f-b0e0-4b979f6d3e7f",
   "metadata": {},
   "outputs": [],
   "source": [
    "facebook_posts_topics_final.head()"
   ]
  },
  {
   "cell_type": "code",
   "execution_count": null,
   "id": "16ef5df8-995b-4631-a8e0-42faf49600af",
   "metadata": {},
   "outputs": [],
   "source": [
    "facebook_posts_topics_final.dtypes"
   ]
  },
  {
   "cell_type": "code",
   "execution_count": null,
   "id": "25bf76a3-939c-4d12-aabb-e97c260b47f1",
   "metadata": {},
   "outputs": [],
   "source": [
    "_ = artifacts.dataframes.persist(FINAL_URL_FACEBOOK_POSTS_TOPICS, facebook_posts_topics_final)"
   ]
  },
  {
   "cell_type": "code",
   "execution_count": null,
   "id": "194679e6-263b-45c9-b3d9-73bcc6e97c4b",
   "metadata": {},
   "outputs": [],
   "source": [
    "_ = artifacts.dataframes.persist(TAGGING_RUNS_URL_FACEBOOK_POSTS_TOPICS_FINAL, facebook_posts_topics_final)"
   ]
  },
  {
   "cell_type": "code",
   "execution_count": null,
   "id": "8c824769-b35b-4567-b558-a9a8fc4943a7",
   "metadata": {},
   "outputs": [],
   "source": [
    "artifacts.dataframes.read_schema(TAGGING_RUNS_URL_FACEBOOK_POSTS_TOPICS_FINAL)"
   ]
  },
  {
   "cell_type": "code",
   "execution_count": null,
   "id": "40336172-7eca-454c-8aae-b9b48050ee4a",
   "metadata": {},
   "outputs": [],
   "source": []
  }
 ],
 "metadata": {
  "kernelspec": {
   "display_name": "Python 3 (ipykernel)",
   "language": "python",
   "name": "python3"
  },
  "language_info": {
   "codemirror_mode": {
    "name": "ipython",
    "version": 3
   },
   "file_extension": ".py",
   "mimetype": "text/x-python",
   "name": "python",
   "nbconvert_exporter": "python",
   "pygments_lexer": "ipython3",
   "version": "3.9.2"
  }
 },
 "nbformat": 4,
 "nbformat_minor": 5
}
