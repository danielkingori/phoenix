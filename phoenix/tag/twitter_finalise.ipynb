{
 "cells": [
  {
   "cell_type": "markdown",
   "id": "ee6b9aae-e9ca-427a-9e6f-08d8a92633c9",
   "metadata": {},
   "source": [
    "# Finalise twitter\n",
    "Finalises the twitter data.\n",
    "And persists it to s3.\n",
    "See docs for more information."
   ]
  },
  {
   "cell_type": "code",
   "execution_count": null,
   "id": "d20f471a-a32b-4071-84d1-64cf435ceb27",
   "metadata": {},
   "outputs": [],
   "source": [
    "%load_ext autoreload\n",
    "%autoreload 2"
   ]
  },
  {
   "cell_type": "code",
   "execution_count": null,
   "id": "72f8c18b-ddf0-4b81-87a0-2c6947ad6d06",
   "metadata": {},
   "outputs": [],
   "source": [
    "import datetime\n",
    "\n",
    "import pandas as pd\n",
    "import tentaclio\n",
    "\n",
    "from phoenix.common import artifacts\n",
    "from phoenix.common import utils\n",
    "from phoenix.tag import export\n",
    "from phoenix.tag import finalise\n",
    "from phoenix.tag import object_filters"
   ]
  },
  {
   "cell_type": "code",
   "execution_count": null,
   "id": "f6e5ba25-e8b3-43de-ac2e-f9969d6da660",
   "metadata": {},
   "outputs": [],
   "source": [
    "utils.setup_notebook_output()\n",
    "utils.setup_notebook_logging()"
   ]
  },
  {
   "cell_type": "code",
   "execution_count": null,
   "id": "7f0f8264-bba9-4f73-bde8-fa415edebb0f",
   "metadata": {},
   "outputs": [],
   "source": [
    "# Parametrise the run execution date.\n",
    "# Format of the run date\n",
    "RUN_DATE_FORMAT = \"%Y-%m-%d\"\n",
    "# This can be overwritten at execution time by Papermill to enable historic runs and backfills etc.\n",
    "RUN_DATE = datetime.datetime.today().strftime(RUN_DATE_FORMAT)\n",
    "\n",
    "YEAR_FILTER = 2021\n",
    "MONTH_FILTER = 5\n",
    "MONTH_PREFIX = f\"year_filter={YEAR_FILTER}/month_filter={MONTH_FILTER}/\"\n",
    "\n",
    "# Set Artefacts URL\n",
    "ARTIFACTS_BASE_URL = f\"{artifacts.urls.get_local()}{RUN_DATE}/twitter/{MONTH_PREFIX}\"\n",
    "\n",
    "# OUTPUT\n",
    "TWEETS_PERSIST = f\"s3://buildup-dev-us-tables/tweets/parquet_exports/tweets_v1/{MONTH_PREFIX}{YEAR_FILTER}-{MONTH_FILTER}.parquet\""
   ]
  },
  {
   "cell_type": "code",
   "execution_count": null,
   "id": "eb190492-9a3c-4114-8bce-2729d6e9210a",
   "metadata": {},
   "outputs": [],
   "source": [
    "# Display params.\n",
    "print(\n",
    "ARTIFACTS_BASE_URL,\n",
    "TWEETS_PERSIST,\n",
    "RUN_DATE,\n",
    "sep='\\n',\n",
    ")"
   ]
  },
  {
   "cell_type": "code",
   "execution_count": null,
   "id": "82bf4799-74ed-480b-8618-ea1dea34571a",
   "metadata": {},
   "outputs": [],
   "source": [
    "# %env DASK_CLUSTER_IP="
   ]
  },
  {
   "cell_type": "code",
   "execution_count": null,
   "id": "7649cd1e-a6eb-4a62-ad0c-f9c830c343f3",
   "metadata": {},
   "outputs": [],
   "source": [
    "utils.dask_global_init()"
   ]
  },
  {
   "cell_type": "code",
   "execution_count": null,
   "id": "32c233f1-054d-46af-999b-c9c9c0707cf2",
   "metadata": {},
   "outputs": [],
   "source": [
    "tweets_df = artifacts.dataframes.get(artifacts.dataframes.url(ARTIFACTS_BASE_URL, \"tweets_pulled\")).dataframe"
   ]
  },
  {
   "cell_type": "code",
   "execution_count": null,
   "id": "670a5342-bf09-425a-87b5-20072c511399",
   "metadata": {},
   "outputs": [],
   "source": [
    "tweets_df.head()"
   ]
  },
  {
   "cell_type": "code",
   "execution_count": null,
   "id": "542d0b5c-5078-471e-a368-234f54ee2153",
   "metadata": {},
   "outputs": [],
   "source": [
    "objects = artifacts.dataframes.get(artifacts.dataframes.url(ARTIFACTS_BASE_URL, \"object_tensions\")).dataframe"
   ]
  },
  {
   "cell_type": "code",
   "execution_count": null,
   "id": "c101aca7-da81-4fb8-89c7-8d8bd1d6f3ac",
   "metadata": {},
   "outputs": [],
   "source": [
    "objects.head()"
   ]
  },
  {
   "cell_type": "code",
   "execution_count": null,
   "id": "6be2fef9-d29c-4b91-988e-03eaa12248dc",
   "metadata": {},
   "outputs": [],
   "source": [
    "tweets_final = finalise.join_objects_to_tweets(objects, tweets_df)"
   ]
  },
  {
   "cell_type": "code",
   "execution_count": null,
   "id": "79648d2d-d013-4703-9319-dcd91409d6c4",
   "metadata": {},
   "outputs": [],
   "source": [
    "tweets_final.head()"
   ]
  },
  {
   "cell_type": "code",
   "execution_count": null,
   "id": "0942d23b-07bd-457f-8bc9-5dfaaeb57a70",
   "metadata": {},
   "outputs": [],
   "source": [
    "tweets_final.dtypes"
   ]
  },
  {
   "cell_type": "code",
   "execution_count": null,
   "id": "f421d4af-d0df-474e-8b91-b7ed11fb8326",
   "metadata": {},
   "outputs": [],
   "source": [
    "_ = artifacts.dataframes.persist(TWEETS_PERSIST, tweets_final)"
   ]
  },
  {
   "cell_type": "code",
   "execution_count": null,
   "id": "2d7f7acd-057b-4e60-81d5-e6cb824d8732",
   "metadata": {},
   "outputs": [],
   "source": [
    "_ = artifacts.dataframes.persist(artifacts.dataframes.url(ARTIFACTS_BASE_URL, \"tweets_final\"), tweets_final)"
   ]
  },
  {
   "cell_type": "code",
   "execution_count": null,
   "id": "5b5ee688",
   "metadata": {},
   "outputs": [],
   "source": [
    "artifacts.dataframes.read_schema(artifacts.dataframes.url(ARTIFACTS_BASE_URL, \"tweets_final\"))"
   ]
  }
 ],
 "metadata": {
  "kernelspec": {
   "display_name": "Python 3 (ipykernel)",
   "language": "python",
   "name": "python3"
  },
  "language_info": {
   "codemirror_mode": {
    "name": "ipython",
    "version": 3
   },
   "file_extension": ".py",
   "mimetype": "text/x-python",
   "name": "python",
   "nbconvert_exporter": "python",
   "pygments_lexer": "ipython3",
   "version": "3.9.2"
  }
 },
 "nbformat": 4,
 "nbformat_minor": 5
}
