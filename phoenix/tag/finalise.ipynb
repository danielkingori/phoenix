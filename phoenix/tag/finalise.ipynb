{
 "cells": [
  {
   "cell_type": "markdown",
   "id": "ee6b9aae-e9ca-427a-9e6f-08d8a92633c9",
   "metadata": {},
   "source": [
    "# Finalise an object data set"
   ]
  },
  {
   "cell_type": "code",
   "execution_count": null,
   "id": "d20f471a-a32b-4071-84d1-64cf435ceb27",
   "metadata": {},
   "outputs": [],
   "source": [
    "%load_ext autoreload\n",
    "%autoreload 2"
   ]
  },
  {
   "cell_type": "code",
   "execution_count": null,
   "id": "72f8c18b-ddf0-4b81-87a0-2c6947ad6d06",
   "metadata": {},
   "outputs": [],
   "source": [
    "import datetime\n",
    "import pprint\n",
    "\n",
    "import pandas as pd\n",
    "\n",
    "from phoenix.common import artifacts, utils\n",
    "from phoenix.tag import export\n",
    "from phoenix.tag import finalise\n",
    "from phoenix.tag import finalise_run_params\n",
    "from phoenix.tag import object_filters"
   ]
  },
  {
   "cell_type": "code",
   "execution_count": null,
   "id": "f6e5ba25-e8b3-43de-ac2e-f9969d6da660",
   "metadata": {},
   "outputs": [],
   "source": [
    "utils.setup_notebook_output()\n",
    "utils.setup_notebook_logging()"
   ]
  },
  {
   "cell_type": "code",
   "execution_count": null,
   "id": "7f0f8264-bba9-4f73-bde8-fa415edebb0f",
   "metadata": {
    "tags": [
     "parameters"
    ]
   },
   "outputs": [],
   "source": [
    "# Parameters\n",
    "# See phoenix/common/run_datetime.py expected format of parameter\n",
    "RUN_DATETIME = None\n",
    "TENANT_ID = None\n",
    "\n",
    "# See phoenix/common/artifacts/registry_environment.py expected format of parameter\n",
    "ARTIFACTS_ENVIRONMENT_KEY = \"local\"\n",
    "\n",
    "\n",
    "# Filters for batch\n",
    "YEAR_FILTER = 2021\n",
    "# Without zero padding\n",
    "MONTH_FILTER = 12\n",
    "OBJECT_TYPE = \"youtube_videos\"\n",
    "\n",
    "# OUTPUT\n",
    "FINAL_URL = None\n",
    "INCLUDE_OBJECTS_TENSIONS = False\n",
    "INCLUDE_SENTIMENT = False"
   ]
  },
  {
   "cell_type": "code",
   "execution_count": null,
   "id": "9a78f74f-bede-4b4b-8908-b428b2e8d046",
   "metadata": {},
   "outputs": [],
   "source": [
    "run_params = finalise_run_params.create(\n",
    "    ARTIFACTS_ENVIRONMENT_KEY,\n",
    "    TENANT_ID,\n",
    "    RUN_DATETIME,\n",
    "    OBJECT_TYPE,\n",
    "    YEAR_FILTER,\n",
    "    MONTH_FILTER,\n",
    "    FINAL_URL,\n",
    "    INCLUDE_OBJECTS_TENSIONS,\n",
    "    INCLUDE_SENTIMENT,\n",
    ")"
   ]
  },
  {
   "cell_type": "code",
   "execution_count": null,
   "id": "eb190492-9a3c-4114-8bce-2729d6e9210a",
   "metadata": {},
   "outputs": [],
   "source": [
    "# Display params.\n",
    "pprint.pprint(run_params)"
   ]
  },
  {
   "cell_type": "code",
   "execution_count": null,
   "id": "cc5d1522-198b-42af-959a-ab128c6392ec",
   "metadata": {},
   "outputs": [],
   "source": [
    "# This dataframe is always needed for the finalise\n",
    "df = artifacts.dataframes.get(run_params.urls.input_dataset).dataframe"
   ]
  },
  {
   "cell_type": "code",
   "execution_count": null,
   "id": "38193ae8-7128-4b9f-8da4-a4c899e42b82",
   "metadata": {},
   "outputs": [],
   "source": [
    "df.head()"
   ]
  },
  {
   "cell_type": "code",
   "execution_count": null,
   "id": "542d0b5c-5078-471e-a368-234f54ee2153",
   "metadata": {},
   "outputs": [],
   "source": [
    "objects = None\n",
    "if run_params.include_objects_tensions:\n",
    "    objects = artifacts.dataframes.get(run_params.urls.objects_tensions)\n",
    "    objects.head()"
   ]
  },
  {
   "cell_type": "code",
   "execution_count": null,
   "id": "acc02164-1b5a-4380-aeb9-c0cbff486c20",
   "metadata": {},
   "outputs": [],
   "source": [
    "language_sentiment_objects = None\n",
    "if run_params.include_sentiment:\n",
    "    language_sentiment_objects = artifacts.dataframes.get(run_params.urls.language_sentiment_objects)\n",
    "    language_sentiment_objects.head()"
   ]
  },
  {
   "cell_type": "code",
   "execution_count": null,
   "id": "e75a5068-01c3-43dc-9474-4d0f176528fe",
   "metadata": {},
   "outputs": [],
   "source": [
    "df_final = finalise.for_object_type(\n",
    "    object_type=OBJECT_TYPE,\n",
    "    df=df, \n",
    "    objects_df=objects, \n",
    "    language_sentiment_objects_df=language_sentiment_objects\n",
    ")"
   ]
  },
  {
   "cell_type": "code",
   "execution_count": null,
   "id": "9fbbfaa2-25be-495f-b0e0-4b979f6d3e7f",
   "metadata": {},
   "outputs": [],
   "source": [
    "df_final.head()"
   ]
  },
  {
   "cell_type": "code",
   "execution_count": null,
   "id": "435e6471-82ae-4fe9-9252-329e6af1504d",
   "metadata": {},
   "outputs": [],
   "source": [
    "df_final.dtypes"
   ]
  },
  {
   "cell_type": "code",
   "execution_count": null,
   "id": "25bf76a3-939c-4d12-aabb-e97c260b47f1",
   "metadata": {},
   "outputs": [],
   "source": [
    "_ = artifacts.dataframes.persist(run_params.urls.final, df_final)"
   ]
  },
  {
   "cell_type": "code",
   "execution_count": null,
   "id": "8d1c5c0c-2dbe-4f24-8a8f-5b5bef020eef",
   "metadata": {},
   "outputs": [],
   "source": [
    "_ = artifacts.dataframes.persist(run_params.urls.tagging_final, df_final)"
   ]
  },
  {
   "cell_type": "code",
   "execution_count": null,
   "id": "75d01784-1264-435b-9586-d4ba3cb7f0e0",
   "metadata": {},
   "outputs": [],
   "source": [
    "artifacts.dataframes.read_schema(run_params.urls.tagging_final)"
   ]
  },
  {
   "cell_type": "code",
   "execution_count": null,
   "id": "74370d5d-d014-4b26-aec9-97a7c1780f36",
   "metadata": {},
   "outputs": [],
   "source": []
  }
 ],
 "metadata": {
  "kernelspec": {
   "display_name": "Python 3 (ipykernel)",
   "language": "python",
   "name": "python3"
  },
  "language_info": {
   "codemirror_mode": {
    "name": "ipython",
    "version": 3
   },
   "file_extension": ".py",
   "mimetype": "text/x-python",
   "name": "python",
   "nbconvert_exporter": "python",
   "pygments_lexer": "ipython3",
   "version": "3.9.2"
  }
 },
 "nbformat": 4,
 "nbformat_minor": 5
}
