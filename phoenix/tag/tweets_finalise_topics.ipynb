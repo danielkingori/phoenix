{
 "cells": [
  {
   "cell_type": "markdown",
   "id": "ee6b9aae-e9ca-427a-9e6f-08d8a92633c9",
   "metadata": {},
   "source": [
    "# Finalise twitter topics\n",
    "Finalises the twitter and topic data.\n",
    "And persists it to s3.\n",
    "See docs for more information."
   ]
  },
  {
   "cell_type": "code",
   "execution_count": null,
   "id": "d20f471a-a32b-4071-84d1-64cf435ceb27",
   "metadata": {},
   "outputs": [],
   "source": [
    "%load_ext autoreload\n",
    "%autoreload 2"
   ]
  },
  {
   "cell_type": "code",
   "execution_count": null,
   "id": "72f8c18b-ddf0-4b81-87a0-2c6947ad6d06",
   "metadata": {},
   "outputs": [],
   "source": [
    "import datetime\n",
    "\n",
    "import pandas as pd\n",
    "import tentaclio\n",
    "\n",
    "from phoenix.common import artifacts, run_params\n",
    "from phoenix.common import utils\n",
    "from phoenix.tag import export\n",
    "from phoenix.tag import finalise\n",
    "from phoenix.tag import object_filters"
   ]
  },
  {
   "cell_type": "code",
   "execution_count": null,
   "id": "f6e5ba25-e8b3-43de-ac2e-f9969d6da660",
   "metadata": {},
   "outputs": [],
   "source": [
    "utils.setup_notebook_output()\n",
    "utils.setup_notebook_logging()"
   ]
  },
  {
   "cell_type": "code",
   "execution_count": null,
   "id": "7f0f8264-bba9-4f73-bde8-fa415edebb0f",
   "metadata": {
    "tags": [
     "parameters"
    ]
   },
   "outputs": [],
   "source": [
    "# Parameters\n",
    "# See phoenix/common/run_datetime.py expected format of parameter\n",
    "RUN_DATETIME = None\n",
    "TENANT_ID = None\n",
    "\n",
    "# See phoenix/common/artifacts/registry_environment.py expected format of parameter\n",
    "ARTIFACTS_ENVIRONMENT_KEY = \"local\"\n",
    "\n",
    "# Filters for batch\n",
    "YEAR_FILTER = 2021\n",
    "# Without zero padding\n",
    "MONTH_FILTER = 11\n",
    "OBJECT_TYPE = \"tweets\"\n",
    "\n",
    "# OUTPUT\n",
    "# This is legacy placement of the final parquet files and should be refactored at somepoint\n",
    "FINAL_URL_TWEETS_TOPICS = None\n",
    "RENAME_TOPIC_TO_CLASS = False"
   ]
  },
  {
   "cell_type": "code",
   "execution_count": null,
   "id": "c7dd2e5b-6c84-470b-ba16-a4d3b0454596",
   "metadata": {},
   "outputs": [],
   "source": [
    "run_params = run_params.general.create(ARTIFACTS_ENVIRONMENT_KEY, TENANT_ID, RUN_DATETIME)\n",
    "    \n",
    "url_config = {\n",
    "    \"YEAR_FILTER\": int(YEAR_FILTER),\n",
    "    \"MONTH_FILTER\": int(MONTH_FILTER),\n",
    "    \"OBJECT_TYPE\": OBJECT_TYPE\n",
    "}\n",
    "\n",
    "TAGGING_RUNS_URL_TOPICS = run_params.art_url_reg.get_url(\"tagging_runs-topics\", url_config)\n",
    "TAGGING_RUNS_URL_TWEETS_FINAL = run_params.art_url_reg.get_url(\"tagging_runs-tweets_final\", url_config)\n",
    "TAGGING_RUNS_URL_TWEETS_TOPICS_FINAL = run_params.art_url_reg.get_url(\"tagging_runs-tweets_topics_final\", url_config)\n",
    "if not FINAL_URL_TWEETS_TOPICS:\n",
    "    FINAL_URL_TWEETS_TOPICS = run_params.art_url_reg.get_url(\"final-tweets_topics\", url_config)"
   ]
  },
  {
   "cell_type": "code",
   "execution_count": null,
   "id": "eb190492-9a3c-4114-8bce-2729d6e9210a",
   "metadata": {},
   "outputs": [],
   "source": [
    "# Display params.\n",
    "print(\n",
    "TAGGING_RUNS_URL_TOPICS,\n",
    "TAGGING_RUNS_URL_TWEETS_FINAL,\n",
    "TAGGING_RUNS_URL_TWEETS_TOPICS_FINAL,\n",
    "FINAL_URL_TWEETS_TOPICS,\n",
    "run_dt.dt,\n",
    "sep='\\n',\n",
    ")"
   ]
  },
  {
   "cell_type": "code",
   "execution_count": null,
   "id": "32c233f1-054d-46af-999b-c9c9c0707cf2",
   "metadata": {},
   "outputs": [],
   "source": [
    "tweets_df = artifacts.dataframes.get(TAGGING_RUNS_URL_TWEETS_FINAL).dataframe"
   ]
  },
  {
   "cell_type": "code",
   "execution_count": null,
   "id": "670a5342-bf09-425a-87b5-20072c511399",
   "metadata": {},
   "outputs": [],
   "source": [
    "tweets_df.head()"
   ]
  },
  {
   "cell_type": "code",
   "execution_count": null,
   "id": "542d0b5c-5078-471e-a368-234f54ee2153",
   "metadata": {},
   "outputs": [],
   "source": [
    "topics = artifacts.dataframes.get(TAGGING_RUNS_URL_TOPICS).dataframe"
   ]
  },
  {
   "cell_type": "code",
   "execution_count": null,
   "id": "c101aca7-da81-4fb8-89c7-8d8bd1d6f3ac",
   "metadata": {},
   "outputs": [],
   "source": [
    "topics.head()"
   ]
  },
  {
   "cell_type": "code",
   "execution_count": null,
   "id": "6be2fef9-d29c-4b91-988e-03eaa12248dc",
   "metadata": {},
   "outputs": [],
   "source": [
    "tweets_topics_final = finalise.join_topics_to_tweets(topics, tweets_df, rename_topic_to_class=RENAME_TOPIC_TO_CLASS)"
   ]
  },
  {
   "cell_type": "code",
   "execution_count": null,
   "id": "79648d2d-d013-4703-9319-dcd91409d6c4",
   "metadata": {},
   "outputs": [],
   "source": [
    "tweets_topics_final.head()"
   ]
  },
  {
   "cell_type": "code",
   "execution_count": null,
   "id": "2cfc181a-7e53-432e-b066-c4cbdca1cb6f",
   "metadata": {},
   "outputs": [],
   "source": [
    "tweets_topics_final.dtypes"
   ]
  },
  {
   "cell_type": "code",
   "execution_count": null,
   "id": "f421d4af-d0df-474e-8b91-b7ed11fb8326",
   "metadata": {},
   "outputs": [],
   "source": [
    "_ = artifacts.dataframes.persist(FINAL_URL_TWEETS_TOPICS, tweets_topics_final)"
   ]
  },
  {
   "cell_type": "code",
   "execution_count": null,
   "id": "2d7f7acd-057b-4e60-81d5-e6cb824d8732",
   "metadata": {},
   "outputs": [],
   "source": [
    "_ = artifacts.dataframes.persist(TAGGING_RUNS_URL_TWEETS_TOPICS_FINAL, tweets_topics_final)"
   ]
  },
  {
   "cell_type": "code",
   "execution_count": null,
   "id": "d9b15f03-3a57-4c00-b633-517def8ee361",
   "metadata": {},
   "outputs": [],
   "source": [
    "artifacts.dataframes.read_schema(TAGGING_RUNS_URL_TWEETS_TOPICS_FINAL)"
   ]
  },
  {
   "cell_type": "code",
   "execution_count": null,
   "id": "0a9d46ae-9d64-4d50-9ce3-86d47e876a98",
   "metadata": {},
   "outputs": [],
   "source": []
  }
 ],
 "metadata": {
  "kernelspec": {
   "display_name": "Python 3 (ipykernel)",
   "language": "python",
   "name": "python3"
  },
  "language_info": {
   "codemirror_mode": {
    "name": "ipython",
    "version": 3
   },
   "file_extension": ".py",
   "mimetype": "text/x-python",
   "name": "python",
   "nbconvert_exporter": "python",
   "pygments_lexer": "ipython3",
   "version": "3.9.2"
  }
 },
 "nbformat": 4,
 "nbformat_minor": 5
}
