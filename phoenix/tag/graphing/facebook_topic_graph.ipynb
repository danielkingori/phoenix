{
 "cells": [
  {
   "cell_type": "markdown",
   "id": "db2c7e2e-612b-4173-b236-68e8def98bc6",
   "metadata": {},
   "source": [
    "# Facebook Topic Graph\n",
    "\n",
    "Render topic graph for facebook posts and comments."
   ]
  },
  {
   "cell_type": "code",
   "execution_count": null,
   "id": "d60edd88-80a4-4380-9eb3-dc0fa0ad2fe2",
   "metadata": {},
   "outputs": [],
   "source": [
    "%load_ext autoreload\n",
    "%autoreload 2"
   ]
  },
  {
   "cell_type": "code",
   "execution_count": null,
   "id": "3a57cb75-3b42-44b7-8e54-0ad0cf0f58b5",
   "metadata": {},
   "outputs": [],
   "source": [
    "import datetime\n",
    "import os\n",
    "\n",
    "from webweb import Web\n",
    "from phoenix.common import artifacts, run_datetime\n",
    "from phoenix.common import utils\n",
    "\n",
    "from phoenix.tag.graphing import facebook_topics_graph\n",
    "from phoenix.tag.graphing import graph_utilities"
   ]
  },
  {
   "cell_type": "code",
   "execution_count": null,
   "id": "f26dc4f3-d7d2-4c1f-a703-57319d156535",
   "metadata": {},
   "outputs": [],
   "source": [
    "utils.setup_notebook_output()\n",
    "utils.setup_notebook_logging()"
   ]
  },
  {
   "cell_type": "code",
   "execution_count": null,
   "id": "003a3af1-d061-4cc3-a108-12d04a0f3119",
   "metadata": {},
   "outputs": [],
   "source": [
    "# Parameters\n",
    "# See phoenix/common/run_datetime.py expected format of parameter\n",
    "RUN_DATETIME = None\n",
    "\n",
    "# See phoenix/common/artifacts/registry_environment.py expected format of parameter\n",
    "ARTIFACTS_ENVIRONMENT_KEY = \"local\"\n",
    "\n",
    "# Filters for batch\n",
    "YEAR_FILTER = 2021\n",
    "# Without zero padding\n",
    "MONTH_FILTER = 8\n",
    "# facebook_posts or facebook_comments\n",
    "OBJECT_TYPE = \"facebook_comments\""
   ]
  },
  {
   "cell_type": "code",
   "execution_count": null,
   "id": "a1c4579b-4d40-4268-b89b-172d1be0bbc0",
   "metadata": {},
   "outputs": [],
   "source": [
    "if RUN_DATETIME:\n",
    "    run_dt = run_datetime.from_file_safe_str(RUN_DATETIME)\n",
    "else:\n",
    "    run_dt = run_datetime.create_run_datetime_now()\n",
    "    \n",
    "url_config = {\n",
    "    \"YEAR_FILTER\": YEAR_FILTER,\n",
    "    \"MONTH_FILTER\": MONTH_FILTER,\n",
    "    \"OBJECT_TYPE\": OBJECT_TYPE\n",
    "}\n",
    "art_url_reg = artifacts.registry.ArtifactURLRegistry(run_dt, ARTIFACTS_ENVIRONMENT_KEY)\n",
    "GRAPHING_RUNS_URL_FACEBOOK_TOPICS_GRAPH_PULLED = art_url_reg.get_url(\"graphing_runs-facebook_topics_graph_pulled\", url_config)\n",
    "GRAPHING_RUNS_URL_FACEBOOK_TOPICS_OUTPUT_GRAPH = art_url_reg.get_url(\"graphing_runs-facebook_topics_output_graph\", url_config)\n",
    "GRAPHING_RUNS_URL_FACEBOOK_TOPICS_DASHBOARD_GRAPH = art_url_reg.get_url(\"graphing_runs-facebook_topics_dashboard_graph\", url_config)"
   ]
  },
  {
   "cell_type": "code",
   "execution_count": null,
   "id": "b1165ecd-f6aa-4a78-bab9-ce503559c94e",
   "metadata": {},
   "outputs": [],
   "source": [
    "print(\n",
    "GRAPHING_RUNS_URL_FACEBOOK_TOPICS_GRAPH_PULLED,\n",
    "GRAPHING_RUNS_URL_FACEBOOK_TOPICS_OUTPUT_GRAPH,\n",
    "GRAPHING_RUNS_URL_FACEBOOK_TOPICS_DASHBOARD_GRAPH,\n",
    "run_dt.dt,\n",
    "YEAR_FILTER,\n",
    "MONTH_FILTER,\n",
    "OBJECT_TYPE,\n",
    "sep=\"\\n\")"
   ]
  },
  {
   "cell_type": "code",
   "execution_count": null,
   "id": "5672d378-4a99-4305-9b94-b81fa73ea4fb",
   "metadata": {},
   "outputs": [],
   "source": [
    "data = artifacts.dataframes.get(GRAPHING_RUNS_URL_FACEBOOK_TOPICS_GRAPH_PULLED).dataframe"
   ]
  },
  {
   "cell_type": "code",
   "execution_count": null,
   "id": "be0dfd96-2140-4768-9ae1-f7cb898934a6",
   "metadata": {},
   "outputs": [],
   "source": [
    "data.head()"
   ]
  },
  {
   "cell_type": "code",
   "execution_count": null,
   "id": "191845b5-45b6-4397-9808-404c42882567",
   "metadata": {},
   "outputs": [],
   "source": [
    "web = facebook_topics_graph.generate_graph_viz(data)"
   ]
  },
  {
   "cell_type": "code",
   "execution_count": null,
   "id": "ff1972a4-bff8-4e8a-b9ef-83e067583b7e",
   "metadata": {},
   "outputs": [],
   "source": [
    "graph_utilities.save_graph(web, GRAPHING_RUNS_URL_FACEBOOK_TOPICS_OUTPUT_GRAPH)"
   ]
  },
  {
   "cell_type": "code",
   "execution_count": null,
   "id": "eaf37b78-4d19-4c58-9f87-f9bf8213f814",
   "metadata": {},
   "outputs": [],
   "source": [
    "graph_utilities.save_dashboard_graph(web, GRAPHING_RUNS_URL_FACEBOOK_TOPICS_DASHBOARD_GRAPH)"
   ]
  },
  {
   "cell_type": "code",
   "execution_count": null,
   "id": "cf09e255-f35d-4869-860d-c5ebca9adff8",
   "metadata": {},
   "outputs": [],
   "source": []
  }
 ],
 "metadata": {
  "kernelspec": {
   "display_name": "Python 3 (ipykernel)",
   "language": "python",
   "name": "python3"
  },
  "language_info": {
   "codemirror_mode": {
    "name": "ipython",
    "version": 3
   },
   "file_extension": ".py",
   "mimetype": "text/x-python",
   "name": "python",
   "nbconvert_exporter": "python",
   "pygments_lexer": "ipython3",
   "version": "3.9.2"
  }
 },
 "nbformat": 4,
 "nbformat_minor": 5
}
