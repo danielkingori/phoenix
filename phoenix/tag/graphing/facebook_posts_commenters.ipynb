{
 "cells": [
  {
   "cell_type": "markdown",
   "id": "15c3c8ce",
   "metadata": {},
   "source": [
    "# Generate and plot `facebook_posts_commenters` graph"
   ]
  },
  {
   "cell_type": "code",
   "execution_count": null,
   "id": "f8460fa7",
   "metadata": {},
   "outputs": [],
   "source": [
    "%load_ext autoreload\n",
    "%autoreload 2"
   ]
  },
  {
   "cell_type": "code",
   "execution_count": null,
   "id": "a0527a1b",
   "metadata": {},
   "outputs": [],
   "source": [
    "from typing import Dict\n",
    "\n",
    "import datetime\n",
    "import pprint\n",
    "\n",
    "import pandas as pd\n",
    "from IPython.display import display\n",
    "\n",
    "from phoenix.common import artifacts, utils\n",
    "from phoenix.tag.graphing import graph_utilities\n",
    "from phoenix.tag.graphing import run_params as graphing_run_params\n",
    "from phoenix.tag.graphing import phoenix_graphistry\n",
    "from phoenix.tag.graphing import facebook_posts_commenters"
   ]
  },
  {
   "cell_type": "code",
   "execution_count": null,
   "id": "7d6d09ba",
   "metadata": {},
   "outputs": [],
   "source": [
    "utils.setup_notebook_output()\n",
    "utils.setup_notebook_logging()"
   ]
  },
  {
   "cell_type": "code",
   "execution_count": null,
   "id": "7b2c2cc5",
   "metadata": {
    "tags": [
     "parameters"
    ]
   },
   "outputs": [],
   "source": [
    "# Parameters\n",
    "# See phoenix/common/run_datetime.py expected format of parameter\n",
    "RUN_DATETIME = None\n",
    "TENANT_ID = None\n",
    "# See phoenix/common/artifacts/registry_environment.py expected format of parameter\n",
    "ARTIFACTS_ENVIRONMENT_KEY = \"local\"\n",
    "\n",
    "# Filters\n",
    "YEAR_FILTER = 2022\n",
    "MONTH_FILTER = 1\n",
    "\n",
    "# Output URL overides (if `None` then will form URLs as per URL mappers and config)\n",
    "EDGES_URL = None\n",
    "NODES_URL = None\n",
    "GRAPHISTRY_REDIRECT_HTML_URL = None"
   ]
  },
  {
   "cell_type": "code",
   "execution_count": null,
   "id": "f01a0d02",
   "metadata": {},
   "outputs": [],
   "source": [
    "# Constants\n",
    "\n",
    "# Types\n",
    "OBJECT_TYPE = \"facebook_posts\"\n",
    "GRAPH_TYPE = \"commenters\""
   ]
  },
  {
   "cell_type": "code",
   "execution_count": null,
   "id": "ace22557",
   "metadata": {},
   "outputs": [],
   "source": [
    "run_params = graphing_run_params.create(\n",
    "    artifacts_environment_key=ARTIFACTS_ENVIRONMENT_KEY,\n",
    "    tenant_id=TENANT_ID,\n",
    "    run_datetime_str=RUN_DATETIME,\n",
    "    object_type=OBJECT_TYPE,\n",
    "    year_filter=YEAR_FILTER,\n",
    "    month_filter=MONTH_FILTER,\n",
    "    graph_type=GRAPH_TYPE,\n",
    "    input_datasets_artifact_keys=facebook_posts_commenters.INPUT_DATASETS_ARTIFACT_KEYS,\n",
    "    edges_url=EDGES_URL,\n",
    "    nodes_url=NODES_URL,\n",
    "    graphistry_redirect_html_url=GRAPHISTRY_REDIRECT_HTML_URL,\n",
    ")"
   ]
  },
  {
   "cell_type": "code",
   "execution_count": null,
   "id": "3145fe5c",
   "metadata": {},
   "outputs": [],
   "source": [
    "pprint.pprint(run_params)"
   ]
  },
  {
   "cell_type": "code",
   "execution_count": null,
   "id": "0f4707f7",
   "metadata": {
    "scrolled": true
   },
   "outputs": [],
   "source": [
    "input_datasets: Dict[str, pd.DataFrame] = {\n",
    "    key: artifacts.dataframes.get(url).dataframe\n",
    "    for key, url in run_params.urls.input_datasets.items()\n",
    "}"
   ]
  },
  {
   "cell_type": "code",
   "execution_count": null,
   "id": "00882035",
   "metadata": {},
   "outputs": [],
   "source": [
    "edges, nodes = facebook_posts_commenters.process(*input_datasets.values())"
   ]
  },
  {
   "cell_type": "code",
   "execution_count": null,
   "id": "dd06c858",
   "metadata": {},
   "outputs": [],
   "source": [
    "display(edges.info())\n",
    "display(edges.head())\n",
    "display(nodes.info())\n",
    "display(nodes.head())"
   ]
  },
  {
   "cell_type": "code",
   "execution_count": null,
   "id": "8710996c",
   "metadata": {},
   "outputs": [],
   "source": [
    "_ = artifacts.dataframes.persist(run_params.urls.edges, edges)\n",
    "_ = artifacts.dataframes.persist(run_params.urls.nodes, nodes)"
   ]
  },
  {
   "cell_type": "code",
   "execution_count": null,
   "id": "00c4b435",
   "metadata": {},
   "outputs": [],
   "source": [
    "graph_url = phoenix_graphistry.plot(\n",
    "    edges=edges,\n",
    "    nodes=nodes,\n",
    "    config=facebook_posts_commenters.plot_config,\n",
    "    graph_name_prefix=run_params.general.tenant_config.id\n",
    ")\n",
    "graph_url"
   ]
  },
  {
   "cell_type": "code",
   "execution_count": null,
   "id": "c90916ae",
   "metadata": {},
   "outputs": [],
   "source": [
    "redirect_html = phoenix_graphistry.form_redirect_html(graph_url)\n",
    "redirect_html"
   ]
  },
  {
   "cell_type": "code",
   "execution_count": null,
   "id": "8399963c",
   "metadata": {},
   "outputs": [],
   "source": [
    "_ = graph_utilities.save_str_as_html(redirect_html, run_params.urls.graphistry_redirect_html)"
   ]
  }
 ],
 "metadata": {
  "celltoolbar": "Tags",
  "kernelspec": {
   "display_name": "Python 3 (ipykernel)",
   "language": "python",
   "name": "python3"
  },
  "language_info": {
   "codemirror_mode": {
    "name": "ipython",
    "version": 3
   },
   "file_extension": ".py",
   "mimetype": "text/x-python",
   "name": "python",
   "nbconvert_exporter": "python",
   "pygments_lexer": "ipython3",
   "version": "3.9.2"
  }
 },
 "nbformat": 4,
 "nbformat_minor": 5
}
