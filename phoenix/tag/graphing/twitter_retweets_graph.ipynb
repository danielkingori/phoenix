{
 "cells": [
  {
   "cell_type": "markdown",
   "id": "c7a99595-5fa6-4b6e-b61d-fb2464929f8f",
   "metadata": {},
   "source": [
    "# Twitter Retweets graph\n",
    "Render network graph for twitter retweets. \n",
    "\n",
    "Prior notebook: `twitter_pull_retweets.ipynb`"
   ]
  },
  {
   "cell_type": "code",
   "execution_count": null,
   "id": "47b2c1b4-fbbe-4298-9f51-15ca5b64834d",
   "metadata": {},
   "outputs": [],
   "source": [
    "%load_ext autoreload\n",
    "%autoreload 2"
   ]
  },
  {
   "cell_type": "code",
   "execution_count": null,
   "id": "70520ed9-687e-412c-b1f8-21ac22b99d48",
   "metadata": {},
   "outputs": [],
   "source": [
    "import datetime\n",
    "\n",
    "from phoenix.common import artifacts, run_datetime\n",
    "from phoenix.common import utils\n",
    "from phoenix.tag.graphing import retweets_graph\n",
    "from phoenix.tag.graphing import graph_utilities"
   ]
  },
  {
   "cell_type": "code",
   "execution_count": null,
   "id": "29329c8c-3eba-4f4b-aeb6-ea62cb9870e7",
   "metadata": {},
   "outputs": [],
   "source": [
    "utils.setup_notebook_output()\n",
    "utils.setup_notebook_logging()"
   ]
  },
  {
   "cell_type": "code",
   "execution_count": null,
   "id": "80bebe15-e6b2-4bc5-8825-80b924eaa51b",
   "metadata": {
    "tags": [
     "parameters"
    ]
   },
   "outputs": [],
   "source": [
    "# Parameters\n",
    "# See phoenix/common/run_datetime.py expected format of parameter\n",
    "RUN_DATETIME = None\n",
    "\n",
    "# See phoenix/common/artifacts/registry_environment.py expected format of parameter\n",
    "ARTIFACTS_ENVIRONMENT_KEY = \"local\"\n",
    "\n",
    "# Filters for batch\n",
    "YEAR_FILTER = 2021\n",
    "# Without zero padding\n",
    "MONTH_FILTER = 8\n",
    "\n",
    "# Community detection resolution\n",
    "RESOLUTION = 0.75"
   ]
  },
  {
   "cell_type": "code",
   "execution_count": null,
   "id": "826c475f-0be9-4310-a652-18e47577d1ed",
   "metadata": {},
   "outputs": [],
   "source": [
    "if RUN_DATETIME:\n",
    "    run_dt = run_datetime.from_file_safe_str(RUN_DATETIME)\n",
    "else:\n",
    "    run_dt = run_datetime.create_run_datetime_now()\n",
    "    \n",
    "url_config = {\n",
    "    \"YEAR_FILTER\": YEAR_FILTER,\n",
    "    \"MONTH_FILTER\": MONTH_FILTER,\n",
    "    \"OBJECT_TYPE\": \"tweets\"\n",
    "}\n",
    "art_url_reg = artifacts.registry.ArtifactURLRegistry(run_dt, ARTIFACTS_ENVIRONMENT_KEY)\n",
    "GRAPHING_RUNS_URL_RETWEET_PULLED = art_url_reg.get_url(\"graphing_runs-retweet_pulled\", url_config)\n",
    "GRAPHING_RUNS_URL_RETWEET_OUTPUT_GRAPH = art_url_reg.get_url(\"graphing_runs-retweet_output_graph\", url_config)\n",
    "GRAPHING_RUNS_URL_RETWEET_DASHBOARD_GRAPH = art_url_reg.get_url(\"graphing_runs-retweet_dashboard_graph\", url_config)"
   ]
  },
  {
   "cell_type": "code",
   "execution_count": null,
   "id": "9e69fec0-b8dd-4987-a533-ba26758ddeeb",
   "metadata": {},
   "outputs": [],
   "source": [
    "# Display params.\n",
    "print(\n",
    "GRAPHING_RUNS_URL_RETWEET_PULLED,\n",
    "GRAPHING_RUNS_URL_RETWEET_OUTPUT_GRAPH,\n",
    "GRAPHING_RUNS_URL_RETWEET_DASHBOARD_GRAPH,\n",
    "run_dt.dt,\n",
    "YEAR_FILTER,\n",
    "MONTH_FILTER,\n",
    "RESOLUTION,\n",
    "sep='\\n',\n",
    ")"
   ]
  },
  {
   "cell_type": "code",
   "execution_count": null,
   "id": "1790dc7a-6302-4f62-a5d0-bdd7eabd9f5e",
   "metadata": {},
   "outputs": [],
   "source": [
    "web = retweets_graph.generate_graph_viz(GRAPHING_RUNS_URL_RETWEET_PULLED, RESOLUTION)"
   ]
  },
  {
   "cell_type": "code",
   "execution_count": null,
   "id": "051f32fd-6aee-4b91-a99b-be03aae41e1a",
   "metadata": {},
   "outputs": [],
   "source": [
    "graph_utilities.save_graph(web, GRAPHING_RUNS_URL_RETWEET_OUTPUT_GRAPH)"
   ]
  },
  {
   "cell_type": "code",
   "execution_count": null,
   "id": "e37e7036-7c44-460d-9715-f8d5a9c89ae0",
   "metadata": {},
   "outputs": [],
   "source": [
    "graph_utilities.save_dashboard_graph(web, GRAPHING_RUNS_URL_RETWEET_DASHBOARD_GRAPH)"
   ]
  },
  {
   "cell_type": "code",
   "execution_count": null,
   "id": "fb5e2dd4-7cf2-43f8-8b1a-30a78d6969f0",
   "metadata": {},
   "outputs": [],
   "source": []
  }
 ],
 "metadata": {
  "kernelspec": {
   "display_name": "Python 3 (ipykernel)",
   "language": "python",
   "name": "python3"
  },
  "language_info": {
   "codemirror_mode": {
    "name": "ipython",
    "version": 3
   },
   "file_extension": ".py",
   "mimetype": "text/x-python",
   "name": "python",
   "nbconvert_exporter": "python",
   "pygments_lexer": "ipython3",
   "version": "3.9.2"
  }
 },
 "nbformat": 4,
 "nbformat_minor": 5
}
