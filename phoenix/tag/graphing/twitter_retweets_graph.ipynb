{
 "cells": [
  {
   "cell_type": "markdown",
   "id": "c7a99595-5fa6-4b6e-b61d-fb2464929f8f",
   "metadata": {},
   "source": [
    "# Twitter Retweets graph\n",
    "Render network graph for twitter retweets. \n",
    "\n",
    "Prior notebook: `twitter_pull_retweets.ipynb`"
   ]
  },
  {
   "cell_type": "code",
   "execution_count": null,
   "id": "47b2c1b4-fbbe-4298-9f51-15ca5b64834d",
   "metadata": {},
   "outputs": [],
   "source": [
    "%load_ext autoreload\n",
    "%autoreload 2"
   ]
  },
  {
   "cell_type": "code",
   "execution_count": null,
   "id": "70520ed9-687e-412c-b1f8-21ac22b99d48",
   "metadata": {},
   "outputs": [],
   "source": [
    "import datetime\n",
    "\n",
    "from phoenix.common import artifacts\n",
    "from phoenix.common import utils\n",
    "\n",
    "from phoenix.tag.graphing import retweets_graph\n",
    "from phoenix.tag.graphing import graph_utilities"
   ]
  },
  {
   "cell_type": "code",
   "execution_count": null,
   "id": "91c78086-2989-40f4-843c-907e05fe5459",
   "metadata": {},
   "outputs": [],
   "source": [
    "utils.setup_notebook_output()\n",
    "utils.setup_notebook_logging()"
   ]
  },
  {
   "cell_type": "code",
   "execution_count": null,
   "id": "80bebe15-e6b2-4bc5-8825-80b924eaa51b",
   "metadata": {
    "tags": []
   },
   "outputs": [],
   "source": [
    "# Parametrise the run execution date.\n",
    "# Format of the run date\n",
    "RUN_DATE_FORMAT = \"%Y-%m-%d\"\n",
    "# This can be overwritten at execution time by Papermill to enable historic runs and backfills etc.\n",
    "RUN_DATE = datetime.datetime.today().strftime(RUN_DATE_FORMAT)\n",
    "\n",
    "# Temparay solution!!!!!!!\n",
    "# TODO: this has to be refactored so that MONTH_PREFIX is relational to the YEAR_FILTER and MONTH_FILTER\n",
    "YEAR_FILTER = 2021\n",
    "MONTH_FILTER = 8\n",
    "MONTH_PREFIX = f\"year_filter={YEAR_FILTER}/month_filter={MONTH_FILTER}/\"\n",
    "\n",
    "# Input\n",
    "INPUT_DATAFRAME_ARTIFACT = f\"{artifacts.urls.get_local()}tagging_runs/{MONTH_PREFIX}tweets/graph_data/retweets_graph.parquet\"\n",
    "# INPUT_DATAFRAME_ARTIFACT = f\"s3://phoenix-data-lake-prod/tagging_runs/{MONTH_PREFIX}tweets/graph_data/retweets_graph.parquet\"\n",
    "\n",
    "# Community detection resolution\n",
    "RESOLUTION = 0.75\n",
    "\n",
    "# Output\n",
    "OUTPUT_GRAPH_URL = f\"{artifacts.urls.get_local()}tagging_runs/{MONTH_PREFIX}tweets/graph_data/retweets_graph.html\"\n",
    "# OUTPUT_GRAPH_URL = f\"s3://phoenix-data-lake-prod/tagging_runs/{MONTH_PREFIX}tweets/graph_data/retweets_graph.html\""
   ]
  },
  {
   "cell_type": "code",
   "execution_count": null,
   "id": "9e69fec0-b8dd-4987-a533-ba26758ddeeb",
   "metadata": {},
   "outputs": [],
   "source": [
    "# Display params.\n",
    "print(\n",
    "INPUT_DATAFRAME_ARTIFACT,\n",
    "OUTPUT_GRAPH_URL,\n",
    "RUN_DATE,\n",
    "YEAR_FILTER,\n",
    "MONTH_FILTER,\n",
    "RESOLUTION,\n",
    "sep='\\n',\n",
    ")"
   ]
  },
  {
   "cell_type": "code",
   "execution_count": null,
   "id": "1790dc7a-6302-4f62-a5d0-bdd7eabd9f5e",
   "metadata": {},
   "outputs": [],
   "source": [
    "df = retweets_graph.get_data(INPUT_DATAFRAME_ARTIFACT)"
   ]
  },
  {
   "cell_type": "code",
   "execution_count": null,
   "id": "a0179764-3535-4cef-9769-e0713cf3595f",
   "metadata": {},
   "outputs": [],
   "source": [
    "graph = retweets_graph.generate_graph(df, RESOLUTION)"
   ]
  },
  {
   "cell_type": "code",
   "execution_count": null,
   "id": "6709c0b9-c3e7-4aa5-9b06-707404f9dcbc",
   "metadata": {},
   "outputs": [],
   "source": [
    "type(graph)"
   ]
  },
  {
   "cell_type": "code",
   "execution_count": null,
   "id": "908787a2-d7c4-40d2-ac74-f95807185fc5",
   "metadata": {},
   "outputs": [],
   "source": [
    "web = retweets_graph.create_visualization(graph)"
   ]
  },
  {
   "cell_type": "code",
   "execution_count": null,
   "id": "051f32fd-6aee-4b91-a99b-be03aae41e1a",
   "metadata": {},
   "outputs": [],
   "source": [
    "graph_utilities.save_graph(web, OUTPUT_GRAPH_URL)"
   ]
  },
  {
   "cell_type": "code",
   "execution_count": null,
   "id": "e37e7036-7c44-460d-9715-f8d5a9c89ae0",
   "metadata": {},
   "outputs": [],
   "source": []
  }
 ],
 "metadata": {
  "kernelspec": {
   "display_name": "Python 3 (ipykernel)",
   "language": "python",
   "name": "python3"
  },
  "language_info": {
   "codemirror_mode": {
    "name": "ipython",
    "version": 3
   },
   "file_extension": ".py",
   "mimetype": "text/x-python",
   "name": "python",
   "nbconvert_exporter": "python",
   "pygments_lexer": "ipython3",
   "version": "3.9.2"
  }
 },
 "nbformat": 4,
 "nbformat_minor": 5
}
