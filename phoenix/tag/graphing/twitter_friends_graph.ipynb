{
 "cells": [
  {
   "cell_type": "markdown",
   "id": "9a9921c2-a356-4323-b05a-68d16023c469",
   "metadata": {},
   "source": [
    "# Twitter Friends Graph\n",
    "\n",
    "render network graph for Twitter friends"
   ]
  },
  {
   "cell_type": "code",
   "execution_count": 1,
   "id": "d73294a7-25c1-499f-b0f1-699a207fd068",
   "metadata": {},
   "outputs": [],
   "source": [
    "%load_ext autoreload\n",
    "%autoreload 2"
   ]
  },
  {
   "cell_type": "code",
   "execution_count": 2,
   "id": "ac7a390a-86cd-4f3d-ab6a-820ff7598485",
   "metadata": {},
   "outputs": [],
   "source": [
    "import datetime\n",
    "import networkx as nx\n",
    "\n",
    "from phoenix.common import artifacts, run_datetime\n",
    "from phoenix.common import utils\n",
    "from phoenix.tag.graphing import twitter_friends_graph\n",
    "from phoenix.tag.graphing import graph_utilities"
   ]
  },
  {
   "cell_type": "code",
   "execution_count": 3,
   "id": "a29ed0e1-cc48-4736-8162-8c0d5027ae8c",
   "metadata": {
    "tags": [
     "parameters"
    ]
   },
   "outputs": [],
   "source": [
    "# Parameters\n",
    "# See phoenix/common/run_datetime.py expected format of parameter\n",
    "RUN_DATETIME = None\n",
    "\n",
    "# See phoenix/common/artifacts/registry_environment.py expected format of parameter\n",
    "ARTIFACTS_ENVIRONMENT_KEY = \"local\"\n",
    "\n",
    "# Filters for batch\n",
    "YEAR_FILTER = 2021\n",
    "# Without zero padding\n",
    "MONTH_FILTER = 9\n",
    "\n",
    "# Community detection resolution\n",
    "RESOLUTION = 1\n",
    "\n",
    "# Exclude n degrees and below\n",
    "DEGREES = 4"
   ]
  },
  {
   "cell_type": "code",
   "execution_count": 4,
   "id": "eba180da-29e2-44e2-a2a0-afa33acc201a",
   "metadata": {},
   "outputs": [],
   "source": [
    "# DEFAULTS\n",
    "if RUN_DATETIME:\n",
    "    run_dt = run_datetime.from_file_safe_str(RUN_DATETIME)\n",
    "else:\n",
    "    run_dt = run_datetime.create_run_datetime_now()\n",
    "    \n",
    "url_config = {\n",
    "    \"YEAR_FILTER\": YEAR_FILTER,\n",
    "    \"MONTH_FILTER\": MONTH_FILTER,\n",
    "    \"OBJECT_TYPE\": \"twitter_friends\"\n",
    "}\n",
    "   \n",
    "aur = artifacts.registry.ArtifactURLRegistry(run_dt, ARTIFACTS_ENVIRONMENT_KEY)\n",
    "GRAPHING_RUNS_URL_TWITTER_FRIENDS_PULLED = aur.get_url(\"graphing_runs-twitter_friends_pulled\", url_config)\n",
    "GRAPHING_RUNS_URL_TWITTER_FRIENDS_OUTPUT_GRAPH = aur.get_url(\"graphing_runs-twitter_friends_output_graph\", url_config)\n",
    "GRAPHING_RUNS_URL_TWITTER_FRIENDS_DASHBOARD_GRAPH = aur.get_url(\"graphing_runs-twitter_friends_dashboard_graph\", url_config)"
   ]
  },
  {
   "cell_type": "code",
   "execution_count": 5,
   "id": "932d9b80-ce95-45ee-872f-49b8cbb8f777",
   "metadata": {},
   "outputs": [
    {
     "name": "stdout",
     "output_type": "stream",
     "text": [
      "file:///src/local_artifacts/tagging_runs/year_filter=2021/month_filter=9/twitter_friends/graphing/twitter_friends.parquet\n",
      "file:///src/local_artifacts/tagging_runs/year_filter=2021/month_filter=9/twitter_friends/graphing/friends_graph.html\n",
      "None\n",
      "2021-09-29 22:16:36.567435+00:00\n",
      "2021\n",
      "9\n",
      "1\n"
     ]
    }
   ],
   "source": [
    "# Display params.\n",
    "print(\n",
    "GRAPHING_RUNS_URL_TWITTER_FRIENDS_PULLED,\n",
    "GRAPHING_RUNS_URL_TWITTER_FRIENDS_OUTPUT_GRAPH,\n",
    "GRAPHING_RUNS_URL_TWITTER_FRIENDS_DASHBOARD_GRAPH,\n",
    "run_dt.dt,\n",
    "YEAR_FILTER,\n",
    "MONTH_FILTER,\n",
    "RESOLUTION,\n",
    "sep='\\n',\n",
    ")"
   ]
  },
  {
   "cell_type": "code",
   "execution_count": 7,
   "id": "33e51fc7-a8fb-4a83-8894-a44908499070",
   "metadata": {},
   "outputs": [],
   "source": [
    "community_graph = twitter_friends_graph.generate_graph_viz(GRAPHING_RUNS_URL_TWITTER_FRIENDS_PULLED, RESOLUTION, DEGREES)"
   ]
  },
  {
   "cell_type": "code",
   "execution_count": 8,
   "id": "399a5489-c2fd-419d-afb5-626e0df223dd",
   "metadata": {},
   "outputs": [],
   "source": [
    "nx.write_gexf(community_graph, f'friends_graph-deg_{DEGREES}.gexf')"
   ]
  },
  {
   "cell_type": "code",
   "execution_count": null,
   "id": "18c50d1a-504c-48bb-b08d-5052477e2718",
   "metadata": {},
   "outputs": [],
   "source": [
    "# NOTE: This script currently persists a .gexf file for offline graphing in Gephi rather than a Webweb html."
   ]
  },
  {
   "cell_type": "code",
   "execution_count": null,
   "id": "7fd92f35-bdf5-47ba-ad50-1211473fa3f5",
   "metadata": {},
   "outputs": [],
   "source": [
    "# graph_utilities.save_graph(web, GRAPHING_RUNS_URL_TWITTER_FRIENDS_OUTPUT_GRAPH)"
   ]
  },
  {
   "cell_type": "code",
   "execution_count": null,
   "id": "da086e1d-dbe7-4cec-8266-27bc7aff7704",
   "metadata": {},
   "outputs": [],
   "source": [
    "# graph_utilities.save_dashboard_graph(web, GRAPHING_RUNS_URL_TWITTER_FRIENDS_DASHBOARD_GRAPH)"
   ]
  }
 ],
 "metadata": {
  "kernelspec": {
   "display_name": "Python 3 (ipykernel)",
   "language": "python",
   "name": "python3"
  },
  "language_info": {
   "codemirror_mode": {
    "name": "ipython",
    "version": 3
   },
   "file_extension": ".py",
   "mimetype": "text/x-python",
   "name": "python",
   "nbconvert_exporter": "python",
   "pygments_lexer": "ipython3",
   "version": "3.9.2"
  }
 },
 "nbformat": 4,
 "nbformat_minor": 5
}
