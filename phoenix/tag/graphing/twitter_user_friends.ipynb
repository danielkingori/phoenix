{
 "cells": [
  {
   "cell_type": "markdown",
   "id": "993d057b-a4f6-4202-89bc-57b14af647f7",
   "metadata": {},
   "source": [
    "# Twitter Friends List\n",
    "Get friends data from twitter based on usernames\n",
    "\n",
    "Requires enviornment variables:\n",
    "\n",
    "- TWITTER_CONSUMER_KEY\n",
    "- TWITTER_CONSUMER_SECRET\n",
    "- TWITTER_APPLICATION_TOKEN\n",
    "- TWITTER_APPLICATION_SECRET"
   ]
  },
  {
   "cell_type": "code",
   "execution_count": 1,
   "id": "1622ffaa-80cd-43f6-bcfb-ad6cd31f1019",
   "metadata": {},
   "outputs": [],
   "source": [
    "%load_ext autoreload\n",
    "%autoreload 2"
   ]
  },
  {
   "cell_type": "code",
   "execution_count": 2,
   "id": "bb0ad1c6-69df-4d4c-b80f-ed50b424885f",
   "metadata": {},
   "outputs": [],
   "source": [
    "import datetime\n",
    "\n",
    "from phoenix.tag.graphing import twitter_friends_scrape\n",
    "from phoenix.scrape import twitter_utilities\n",
    "\n",
    "from phoenix.common import artifacts\n",
    "from phoenix.common import run_datetime"
   ]
  },
  {
   "cell_type": "code",
   "execution_count": 3,
   "id": "ce9d2f7b-e0eb-4a02-adc4-c03dbc4bc6e9",
   "metadata": {
    "tags": [
     "parameters"
    ]
   },
   "outputs": [],
   "source": [
    "# Parameters\n",
    "# See phoenix/common/run_datetime.py expected format of parameter\n",
    "RUN_DATETIME = None\n",
    "\n",
    "# See phoenix/common/artifacts/registry_environment.py expected format of parameter\n",
    "ARTIFACTS_ENVIRONMENT_KEY = \"local\"\n",
    "\n",
    "# Filters for batch\n",
    "YEAR_FILTER = 2021\n",
    "# Without zero padding\n",
    "MONTH_FILTER = 9\n",
    "\n",
    "# Scrape query config\n",
    "STATIC_URL_QUERIES = None\n",
    "\n",
    "# Total number of items, 0 for infinite\n",
    "NUM_ITEMS = 0"
   ]
  },
  {
   "cell_type": "code",
   "execution_count": 4,
   "id": "f9997daa-fec4-4523-8bdf-51eeb3f01056",
   "metadata": {},
   "outputs": [],
   "source": [
    "# DEFAULTS\n",
    "if RUN_DATETIME:\n",
    "    run_dt = run_datetime.from_file_safe_str(RUN_DATETIME)\n",
    "else:\n",
    "    run_dt = run_datetime.create_run_datetime_now()\n",
    "    \n",
    "url_config = {\n",
    "    \"YEAR_FILTER\": YEAR_FILTER,\n",
    "    \"MONTH_FILTER\": MONTH_FILTER,\n",
    "    \"OBJECT_TYPE\": \"twitter_friends\"\n",
    "}\n",
    "   \n",
    "aur = artifacts.registry.ArtifactURLRegistry(run_dt, ARTIFACTS_ENVIRONMENT_KEY)\n",
    "# Set Artefacts URL\n",
    "ARTIFACT_SOURCE_TWEETS_URL = aur.get_url(\"base-twitter_friends_raw\", url_config)\n",
    "\n",
    "if not STATIC_URL_QUERIES:\n",
    "    STATIC_URL_QUERIES = aur.get_url(\"static-twitter_users\")\n",
    "    \n",
    "GRAPHING_RUNS_URL_TWITTER_FRIENDS_RAW = aur.get_url(\"graphing_runs-twitter_friends_raw\", url_config)"
   ]
  },
  {
   "cell_type": "code",
   "execution_count": 5,
   "id": "56bb9044-bdb8-407b-ae4c-95cec5ac538d",
   "metadata": {},
   "outputs": [
    {
     "name": "stdout",
     "output_type": "stream",
     "text": [
      "file:///src/local_artifacts/base/twitter_friends/year_filter=2021/month_filter=9/twitter_friends_raw.json\n",
      "file:///src/local_artifacts/tagging_runs/year_filter=2021/month_filter=9/twitter_friends/graphing/twitter_friends_raw.json\n",
      "2021-09-28 15:49:22.005987+00:00\n",
      "file:///src/local_artifacts/config/twitter_query_users.csv\n",
      "0\n"
     ]
    }
   ],
   "source": [
    "print(\n",
    "ARTIFACT_SOURCE_TWEETS_URL,\n",
    "GRAPHING_RUNS_URL_TWITTER_FRIENDS_RAW,\n",
    "run_dt.dt,\n",
    "STATIC_URL_QUERIES,\n",
    "NUM_ITEMS,\n",
    "sep='\\n')"
   ]
  },
  {
   "cell_type": "code",
   "execution_count": 7,
   "id": "064f62a7-5def-47a0-b2c0-8b96d2c2f9c5",
   "metadata": {},
   "outputs": [
    {
     "name": "stdout",
     "output_type": "stream",
     "text": [
      "['nasseryassin', 'samdagher', 'AlMashareqEN', 'NationLibanaise', 'G_azzi', 'lebprotests', 'FunkyOzzi', 'Jadshahrour', 'ZaynsPuppyEyes', 'Mohamad_Kebbi', 'monemakkawi', 'lebanonprotests', 'annemarie_tc', 'ray_riy00', 'AyaMerhabi', 'UNHCRLebanon', '3RPSyria', 'Salmenski', 'aabnour', 'Free_Media_Hub', 'SyriaRelief', 'HASAN0Mohammad', 'josephabillamah', 'mike_the_hero', 'Mkahrab1', 'salmanonline', 'alsharif_rahman', 'evittameejjj', 'vQP2Ob1J5sBtSjV', 'mireille_fahed', 'Lebanon24', 'LFofficialpage', 'HawraaAmine', 'yasourorg', 'Pine_politics', 'RouthBey', 'AsaadHannaa', 'JeanNakhoul', 'Mc_hjj', 'Gebran_Bassil', 'EFerzli', 'sleimanfrangieh', 'SalimJreissati', 'SalimAoun', 'Drmarioaoun1', 'ajplusarabi', 'ALJADEEDNEWS', 'aljoumhouria', 'almadaorg', 'alanbaaonline', 'LeNajib', 'BlueForceLB', 'DaleelThawra', 'Darajmedia', 'Elmarada', 'freethoughtlb', 'GinoRaidy', 'LBCI_NEWS', 'tannous_mouawad', 'LebarmyOfficial', 'DGSG_Security', 'LBpresidency', 'lebanondebate', 'ghazayel', 'Majdolineblog', 'megaphone_news', 'MercyCorps_LB', 'mtvlebanon', 'MTVLebanonNews', 'news3poli', 'yaradebs9', 'walidjoumblatt', 'wiamwahhab', 'general_aoun', 'gebran_bassil', 'DRSAMIRGEAGEA', 'ZiyadBaroud', 'Najib_Mikati', 'SleimanMichel', 'Ashraf_Rifi', 'riadkobaissi', 'dan_azzi', 'aliimortada', 'AlMayadeenNews', 'NadaBoustani', 'megaphone_news', 'Jad_Ghosn', 'DimaSadek', 'mohamadkazzan', 'LCPSLebanon', 'GilbertDoumit', 'JHaddadOfficial', 'lorienttoday', 'LOrientLeJour', 'Annahar', 'DailyStarLeb', 'AhmadElHariri', 'futuremovement', 'TeymourJoumblat', 'rayaelhassan', 'Hassan_B_Diab', 'LebarmyOfficial', 'telelibantv', 'alihasankhalil', 'GhassanHasbani', 'may_chidiac', 'mtvlebanon', 'MTVLebanonNews', 'aljoumhouria', 'samygemayel', 'tayyar_org', 'harakatamal', 'LFofficialpage', 'IbrahimKanaan', 'SK_Eyes', 'AlakhbarNews', 'InayaEzzeddine', 'Elmarada', 'SimonAbiramia', 'HaniKoubeissi', 'KaramRachel', 'khalil_charbel', 'AlbertKostanian', 'michelmoawad', 'SalamTammam', 'naylatueni', 'NicolaSehnaoui', 'monasaliba', 'AkikiJoyce', 'YazbekWehbe', 'JadChaaban', 'intel_sky', 'TankerTrackers', 'AuroraIntel', 'alhadath_Brk', 'samykleyb', 'lebanondebate', 'fchahwan', 'lebanonfile', 'NOW_eng', 'TalaRamadan', 'LebUpdate', 'LebPoliticsPod', 'timourazhari', 'Nizhsn', 'riachi_jean', 'Legal_Agenda', 'minteshreen', 'Beirutiyat']\n"
     ]
    }
   ],
   "source": [
    "queries = twitter_utilities.load_queries_from_csv(STATIC_URL_QUERIES)\n",
    "print(queries)"
   ]
  },
  {
   "cell_type": "code",
   "execution_count": null,
   "id": "251fff4e-88c0-40d3-ae06-1cb563230b61",
   "metadata": {},
   "outputs": [],
   "source": [
    "friends_list = twitter_friends_scrape.get_friends_dict(queries, NUM_ITEMS)\n",
    "len(friends_list)"
   ]
  },
  {
   "cell_type": "code",
   "execution_count": null,
   "id": "742afb84-620d-4dae-969c-d94987491449",
   "metadata": {},
   "outputs": [],
   "source": [
    "a = artifacts.json.persist(ARTIFACT_SOURCE_TWEETS_URL, friends_list);\n",
    "a.url"
   ]
  },
  {
   "cell_type": "code",
   "execution_count": null,
   "id": "9aae7c16-07b0-4708-a885-56440623db52",
   "metadata": {},
   "outputs": [],
   "source": [
    "a = artifacts.json.persist(GRAPHING_RUNS_URL_TWITTER_FRIENDS_RAW, friends_list);\n",
    "a.url"
   ]
  },
  {
   "cell_type": "code",
   "execution_count": null,
   "id": "5b1f22cf-b926-495d-b9d3-9cbaf8714c4d",
   "metadata": {},
   "outputs": [],
   "source": []
  }
 ],
 "metadata": {
  "kernelspec": {
   "display_name": "Python 3 (ipykernel)",
   "language": "python",
   "name": "python3"
  },
  "language_info": {
   "codemirror_mode": {
    "name": "ipython",
    "version": 3
   },
   "file_extension": ".py",
   "mimetype": "text/x-python",
   "name": "python",
   "nbconvert_exporter": "python",
   "pygments_lexer": "ipython3",
   "version": "3.9.2"
  }
 },
 "nbformat": 4,
 "nbformat_minor": 5
}
