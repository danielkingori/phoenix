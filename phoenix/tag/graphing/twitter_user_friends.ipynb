{
 "cells": [
  {
   "cell_type": "markdown",
   "id": "993d057b-a4f6-4202-89bc-57b14af647f7",
   "metadata": {},
   "source": [
    "# Twitter Friends List\n",
    "Get friends data from twitter based on usernames\n",
    "\n",
    "Requires enviornment variables:\n",
    "\n",
    "- TWITTER_CONSUMER_KEY\n",
    "- TWITTER_CONSUMER_SECRET\n",
    "- TWITTER_APPLICATION_TOKEN\n",
    "- TWITTER_APPLICATION_SECRET"
   ]
  },
  {
   "cell_type": "code",
   "execution_count": 1,
   "id": "1622ffaa-80cd-43f6-bcfb-ad6cd31f1019",
   "metadata": {},
   "outputs": [],
   "source": [
    "%load_ext autoreload\n",
    "%autoreload 2"
   ]
  },
  {
   "cell_type": "code",
   "execution_count": 2,
   "id": "bb0ad1c6-69df-4d4c-b80f-ed50b424885f",
   "metadata": {},
   "outputs": [],
   "source": [
    "import datetime\n",
    "\n",
    "from phoenix.tag.graphing import twitter_friends_scrape\n",
    "from phoenix.scrape import twitter_utilities\n",
    "\n",
    "from phoenix.common import artifacts"
   ]
  },
  {
   "cell_type": "code",
   "execution_count": 4,
   "id": "ce9d2f7b-e0eb-4a02-adc4-c03dbc4bc6e9",
   "metadata": {
    "tags": [
     "parameters"
    ]
   },
   "outputs": [
    {
     "ename": "AttributeError",
     "evalue": "'datetime.datetime' object has no attribute 'to_file_safe_str'",
     "output_type": "error",
     "traceback": [
      "\u001b[0;31m---------------------------------------------------------------------------\u001b[0m",
      "\u001b[0;31mAttributeError\u001b[0m                            Traceback (most recent call last)",
      "\u001b[0;32m/tmp/ipykernel_36/979844401.py\u001b[0m in \u001b[0;36m<module>\u001b[0;34m\u001b[0m\n\u001b[1;32m      9\u001b[0m \u001b[0;31m# Set Artefacts URL\u001b[0m\u001b[0;34m\u001b[0m\u001b[0;34m\u001b[0m\u001b[0;34m\u001b[0m\u001b[0m\n\u001b[1;32m     10\u001b[0m \u001b[0maur\u001b[0m \u001b[0;34m=\u001b[0m \u001b[0martifacts\u001b[0m\u001b[0;34m.\u001b[0m\u001b[0mregistry\u001b[0m\u001b[0;34m.\u001b[0m\u001b[0mArtifactURLRegistry\u001b[0m\u001b[0;34m(\u001b[0m\u001b[0mrun_iso_datetime\u001b[0m\u001b[0;34m,\u001b[0m \u001b[0;34m\"local\"\u001b[0m\u001b[0;34m)\u001b[0m\u001b[0;34m\u001b[0m\u001b[0;34m\u001b[0m\u001b[0m\n\u001b[0;32m---> 11\u001b[0;31m \u001b[0mARTIFACT_SOURCE_TWEETS_URL\u001b[0m \u001b[0;34m=\u001b[0m \u001b[0maur\u001b[0m\u001b[0;34m.\u001b[0m\u001b[0mget_url\u001b[0m\u001b[0;34m(\u001b[0m\u001b[0;34m\"source-twitter_user_friends\"\u001b[0m\u001b[0;34m)\u001b[0m\u001b[0;34m\u001b[0m\u001b[0;34m\u001b[0m\u001b[0m\n\u001b[0m\u001b[1;32m     12\u001b[0m \u001b[0mARTIFACT_BASE_TWEETS_URL\u001b[0m \u001b[0;34m=\u001b[0m \u001b[0maur\u001b[0m\u001b[0;34m.\u001b[0m\u001b[0mget_url\u001b[0m\u001b[0;34m(\u001b[0m\u001b[0;34m\"base-to_process_twitter_user_friends\"\u001b[0m\u001b[0;34m)\u001b[0m\u001b[0;34m\u001b[0m\u001b[0;34m\u001b[0m\u001b[0m\n\u001b[1;32m     13\u001b[0m \u001b[0;34m\u001b[0m\u001b[0m\n",
      "\u001b[0;32m/src/phoenix/common/artifacts/registry.py\u001b[0m in \u001b[0;36mget_url\u001b[0;34m(self, artifact_key, url_config)\u001b[0m\n\u001b[1;32m     35\u001b[0m     ) -> str:\n\u001b[1;32m     36\u001b[0m         \u001b[0;34m\"\"\"Get the URL for the artifact key.\"\"\"\u001b[0m\u001b[0;34m\u001b[0m\u001b[0;34m\u001b[0m\u001b[0m\n\u001b[0;32m---> 37\u001b[0;31m         \u001b[0murl_config\u001b[0m \u001b[0;34m=\u001b[0m \u001b[0mself\u001b[0m\u001b[0;34m.\u001b[0m\u001b[0m_build_url_config\u001b[0m\u001b[0;34m(\u001b[0m\u001b[0murl_config\u001b[0m\u001b[0;34m)\u001b[0m\u001b[0;34m\u001b[0m\u001b[0;34m\u001b[0m\u001b[0m\n\u001b[0m\u001b[1;32m     38\u001b[0m         \u001b[0;32mfor\u001b[0m \u001b[0mmapper_key\u001b[0m\u001b[0;34m,\u001b[0m \u001b[0murl_fn\u001b[0m \u001b[0;32min\u001b[0m \u001b[0mself\u001b[0m\u001b[0;34m.\u001b[0m\u001b[0mmappers\u001b[0m\u001b[0;34m.\u001b[0m\u001b[0mitems\u001b[0m\u001b[0;34m(\u001b[0m\u001b[0;34m)\u001b[0m\u001b[0;34m:\u001b[0m\u001b[0;34m\u001b[0m\u001b[0;34m\u001b[0m\u001b[0m\n\u001b[1;32m     39\u001b[0m             \u001b[0;32mif\u001b[0m \u001b[0martifact_key\u001b[0m \u001b[0;34m==\u001b[0m \u001b[0mmapper_key\u001b[0m\u001b[0;34m:\u001b[0m\u001b[0;34m\u001b[0m\u001b[0;34m\u001b[0m\u001b[0m\n",
      "\u001b[0;32m/src/phoenix/common/artifacts/registry.py\u001b[0m in \u001b[0;36m_build_url_config\u001b[0;34m(self, url_config)\u001b[0m\n\u001b[1;32m     45\u001b[0m         \u001b[0;34m\"\"\"Build the url config.\"\"\"\u001b[0m\u001b[0;34m\u001b[0m\u001b[0;34m\u001b[0m\u001b[0m\n\u001b[1;32m     46\u001b[0m         \u001b[0;32mif\u001b[0m \u001b[0;34m\"RUN_DATETIME\"\u001b[0m \u001b[0;32mnot\u001b[0m \u001b[0;32min\u001b[0m \u001b[0murl_config\u001b[0m\u001b[0;34m:\u001b[0m\u001b[0;34m\u001b[0m\u001b[0;34m\u001b[0m\u001b[0m\n\u001b[0;32m---> 47\u001b[0;31m             \u001b[0murl_config\u001b[0m\u001b[0;34m[\u001b[0m\u001b[0;34m\"RUN_DATETIME\"\u001b[0m\u001b[0;34m]\u001b[0m \u001b[0;34m=\u001b[0m \u001b[0mself\u001b[0m\u001b[0;34m.\u001b[0m\u001b[0mrun_dt\u001b[0m\u001b[0;34m.\u001b[0m\u001b[0mto_file_safe_str\u001b[0m\u001b[0;34m(\u001b[0m\u001b[0;34m)\u001b[0m\u001b[0;34m\u001b[0m\u001b[0;34m\u001b[0m\u001b[0m\n\u001b[0m\u001b[1;32m     48\u001b[0m \u001b[0;34m\u001b[0m\u001b[0m\n\u001b[1;32m     49\u001b[0m         \u001b[0;32mif\u001b[0m \u001b[0;34m\"RUN_DATE\"\u001b[0m \u001b[0;32mnot\u001b[0m \u001b[0;32min\u001b[0m \u001b[0murl_config\u001b[0m\u001b[0;34m:\u001b[0m\u001b[0;34m\u001b[0m\u001b[0;34m\u001b[0m\u001b[0m\n",
      "\u001b[0;31mAttributeError\u001b[0m: 'datetime.datetime' object has no attribute 'to_file_safe_str'"
     ]
    }
   ],
   "source": [
    "# Parameters\n",
    "# See phoenix/common/run_datetime.py expected format of parameter\n",
    "RUN_DATETIME = None\n",
    "\n",
    "# See phoenix/common/artifacts/registry_environment.py expected format of parameter\n",
    "ARTIFACTS_ENVIRONMENT_KEY = \"local\"\n",
    "\n",
    "\n",
    "# Set Artefacts URL\n",
    "aur = artifacts.registry.ArtifactURLRegistry(run_iso_datetime, \"local\")\n",
    "ARTIFACT_SOURCE_TWEETS_URL = aur.get_url(\"source-twitter_user_friends\")\n",
    "ARTIFACT_BASE_TWEETS_URL = aur.get_url(\"base-to_process_twitter_user_friends\")\n",
    "\n",
    "#The type of query: \"users\" or \"keywords\"\n",
    "QUERIES_CSV_PATH = f\"{artifacts.urls.get_static_config()}twitter_query_users.csv\"\n",
    "# Total number of items, 0 for infinite\n",
    "NUM_ITEMS = 0"
   ]
  },
  {
   "cell_type": "code",
   "execution_count": null,
   "id": "56bb9044-bdb8-407b-ae4c-95cec5ac538d",
   "metadata": {},
   "outputs": [],
   "source": [
    "print(\n",
    "ARTIFACT_SOURCE_TWEETS_URL,\n",
    "ARTIFACT_BASE_TWEETS_URL,\n",
    "RUN_ISO_TIMESTAMP,\n",
    "RUN_DATE,\n",
    "QUERIES_CSV_PATH,\n",
    "NUM_ITEMS,\n",
    "sep='\\n')"
   ]
  },
  {
   "cell_type": "code",
   "execution_count": null,
   "id": "064f62a7-5def-47a0-b2c0-8b96d2c2f9c5",
   "metadata": {},
   "outputs": [],
   "source": [
    "queries = twitter_utilities.load_queries_from_csv(QUERIES_CSV_PATH)\n",
    "print(queries)"
   ]
  },
  {
   "cell_type": "code",
   "execution_count": null,
   "id": "4ed5ccf2-27e6-4b28-a471-b8e64ebcb149",
   "metadata": {},
   "outputs": [],
   "source": [
    "queries = ['watermosaic', 'howtobuildup']"
   ]
  },
  {
   "cell_type": "code",
   "execution_count": null,
   "id": "251fff4e-88c0-40d3-ae06-1cb563230b61",
   "metadata": {},
   "outputs": [],
   "source": [
    "friends_list = twitter_friends_scrape.get_friends_json(queries, NUM_ITEMS)\n",
    "len(friends_list)"
   ]
  },
  {
   "cell_type": "code",
   "execution_count": null,
   "id": "742afb84-620d-4dae-969c-d94987491449",
   "metadata": {},
   "outputs": [],
   "source": [
    "a = artifacts.json.persist(ARTIFACT_SOURCE_TWEETS_URL, friends_list);\n",
    "a.url"
   ]
  },
  {
   "cell_type": "code",
   "execution_count": null,
   "id": "9aae7c16-07b0-4708-a885-56440623db52",
   "metadata": {},
   "outputs": [],
   "source": [
    "a = artifacts.json.persist(ARTIFACT_BASE_TWEETS_URL, friends_list);\n",
    "a.url"
   ]
  },
  {
   "cell_type": "code",
   "execution_count": null,
   "id": "5b1f22cf-b926-495d-b9d3-9cbaf8714c4d",
   "metadata": {},
   "outputs": [],
   "source": []
  }
 ],
 "metadata": {
  "kernelspec": {
   "display_name": "Python 3 (ipykernel)",
   "language": "python",
   "name": "python3"
  },
  "language_info": {
   "codemirror_mode": {
    "name": "ipython",
    "version": 3
   },
   "file_extension": ".py",
   "mimetype": "text/x-python",
   "name": "python",
   "nbconvert_exporter": "python",
   "pygments_lexer": "ipython3",
   "version": "3.9.2"
  }
 },
 "nbformat": 4,
 "nbformat_minor": 5
}
