{
 "cells": [
  {
   "cell_type": "markdown",
   "id": "759c2aa0",
   "metadata": {},
   "source": [
    "# Generate and plot `class_cooccurence` graph for `object_type`s\n",
    "\n",
    "Can be configured to use `topic` instead of `class`.\n",
    "Configurable to make the graph for all `object_types`\n"
   ]
  },
  {
   "cell_type": "code",
   "execution_count": null,
   "id": "b2cff2ef",
   "metadata": {},
   "outputs": [],
   "source": [
    "%load_ext autoreload\n",
    "%autoreload 2"
   ]
  },
  {
   "cell_type": "code",
   "execution_count": null,
   "id": "054f453d",
   "metadata": {},
   "outputs": [],
   "source": [
    "from typing import Dict\n",
    "\n",
    "import datetime\n",
    "import pprint\n",
    "\n",
    "import pandas as pd\n",
    "from IPython.display import display\n",
    "\n",
    "from phoenix.common import artifacts, utils\n",
    "from phoenix.tag.graphing import graph_utilities\n",
    "from phoenix.tag.graphing import run_params as graphing_run_params\n",
    "from phoenix.tag.graphing import phoenix_graphistry\n",
    "from phoenix.tag.graphing import class_cooccurences_count"
   ]
  },
  {
   "cell_type": "code",
   "execution_count": null,
   "id": "a7887bd5",
   "metadata": {},
   "outputs": [],
   "source": [
    "utils.setup_notebook_output()\n",
    "utils.setup_notebook_logging()"
   ]
  },
  {
   "cell_type": "code",
   "execution_count": null,
   "id": "dbb698ad",
   "metadata": {},
   "outputs": [],
   "source": [
    "# Parameters\n",
    "# See phoenix/common/run_datetime.py expected format of parameter\n",
    "RUN_DATETIME = None\n",
    "TENANT_ID = None\n",
    "# See phoenix/common/artifacts/registry_environment.py expected format of parameter\n",
    "ARTIFACTS_ENVIRONMENT_KEY = \"local\"\n",
    "\n",
    "# Filters\n",
    "YEAR_FILTER = 2022\n",
    "MONTH_FILTER = 1\n",
    "\n",
    "OBJECT_TYPE = \"facebook_posts\"\n",
    "\n",
    "\n",
    "# Output URL overides (if `None` then will form URLs as per URL mappers and config)\n",
    "EDGES_URL = None\n",
    "NODES_URL = None\n",
    "GRAPHISTRY_REDIRECT_HTML_URL = None"
   ]
  },
  {
   "cell_type": "code",
   "execution_count": null,
   "id": "c9361def",
   "metadata": {},
   "outputs": [],
   "source": [
    "# Constants\n",
    "\n",
    "# Types\n",
    "GRAPH_TYPE = \"class_cooccurrence\"\n",
    "\n",
    "# Input artifact keys\n",
    "INPUT_DATASETS_ARTIFACT_KEYS = [\n",
    "    f\"final-{OBJECT_TYPE}_classes\", \n",
    "    \"final-accounts\",\n",
    "]\n",
    "\n"
   ]
  },
  {
   "cell_type": "code",
   "execution_count": null,
   "id": "d359ae7e",
   "metadata": {},
   "outputs": [],
   "source": [
    "run_params = graphing_run_params.create(\n",
    "    artifacts_environment_key=ARTIFACTS_ENVIRONMENT_KEY,\n",
    "    tenant_id=TENANT_ID,\n",
    "    run_datetime_str=RUN_DATETIME,\n",
    "    object_type=OBJECT_TYPE,\n",
    "    year_filter=YEAR_FILTER,\n",
    "    month_filter=MONTH_FILTER,\n",
    "    graph_type=GRAPH_TYPE,\n",
    "    input_datasets_artifact_keys=INPUT_DATASETS_ARTIFACT_KEYS,\n",
    "    edges_url=EDGES_URL,\n",
    "    nodes_url=NODES_URL,\n",
    "    graphistry_redirect_html_url=GRAPHISTRY_REDIRECT_HTML_URL,\n",
    ")"
   ]
  },
  {
   "cell_type": "code",
   "execution_count": null,
   "id": "f209f379",
   "metadata": {},
   "outputs": [],
   "source": [
    "pprint.pprint(run_params)"
   ]
  },
  {
   "cell_type": "code",
   "execution_count": null,
   "id": "d9a7a2bf",
   "metadata": {},
   "outputs": [],
   "source": [
    "input_datasets: Dict[str, pd.DataFrame] = {\n",
    "    key: artifacts.dataframes.get(url).dataframe\n",
    "    for key, url in run_params.urls.input_datasets.items()\n",
    "}"
   ]
  },
  {
   "cell_type": "code",
   "execution_count": null,
   "id": "d67243fc",
   "metadata": {},
   "outputs": [],
   "source": [
    "edges, nodes = class_cooccurences_count.process(\n",
    "    objects_df=input_datasets[object_type_dataset_key],\n",
    "    object_id_col=\"object_id\",\n",
    "    class_col=\"class\",\n",
    ")"
   ]
  },
  {
   "cell_type": "code",
   "execution_count": null,
   "id": "28394f0e",
   "metadata": {},
   "outputs": [],
   "source": [
    "display(edges.info())\n",
    "display(edges.head())\n",
    "display(nodes.info())\n",
    "display(nodes.head())"
   ]
  },
  {
   "cell_type": "code",
   "execution_count": null,
   "id": "22cb76d1",
   "metadata": {},
   "outputs": [],
   "source": [
    "plot_config = class_cooccurences_count.get_plot_config(class_col=\"class\", object_type=OBJECT_TYPE)"
   ]
  },
  {
   "cell_type": "code",
   "execution_count": null,
   "id": "a1d7756d",
   "metadata": {},
   "outputs": [],
   "source": [
    "_ = artifacts.dataframes.persist(run_params.urls.edges, edges)\n",
    "_ = artifacts.dataframes.persist(run_params.urls.nodes, nodes)"
   ]
  },
  {
   "cell_type": "code",
   "execution_count": null,
   "id": "461c09ef",
   "metadata": {},
   "outputs": [],
   "source": [
    "graph_url = phoenix_graphistry.plot(\n",
    "    edges=edges,\n",
    "    nodes=nodes,\n",
    "    config=plot_config,\n",
    "    graph_name_prefix=run_params.general.tenant_config.id\n",
    ")\n",
    "graph_url"
   ]
  },
  {
   "cell_type": "code",
   "execution_count": null,
   "id": "7a726c7b",
   "metadata": {},
   "outputs": [],
   "source": [
    "redirect_html = phoenix_graphistry.form_redirect_html(graph_url)\n",
    "redirect_html"
   ]
  },
  {
   "cell_type": "code",
   "execution_count": null,
   "id": "f70c2cf6",
   "metadata": {},
   "outputs": [],
   "source": [
    "_ = graph_utilities.save_str_as_html(redirect_html, run_params.urls.graphistry_redirect_html)"
   ]
  },
  {
   "cell_type": "code",
   "execution_count": null,
   "id": "f614b50e",
   "metadata": {},
   "outputs": [],
   "source": []
  }
 ],
 "metadata": {
  "kernelspec": {
   "display_name": "Python 3 (ipykernel)",
   "language": "python",
   "name": "python3"
  },
  "language_info": {
   "codemirror_mode": {
    "name": "ipython",
    "version": 3
   },
   "file_extension": ".py",
   "mimetype": "text/x-python",
   "name": "python",
   "nbconvert_exporter": "python",
   "pygments_lexer": "ipython3",
   "version": "3.9.2"
  }
 },
 "nbformat": 4,
 "nbformat_minor": 5
}
