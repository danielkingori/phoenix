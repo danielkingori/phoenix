{
 "cells": [
  {
   "cell_type": "markdown",
   "id": "ee6b9aae-e9ca-427a-9e6f-08d8a92633c9",
   "metadata": {},
   "source": [
    "# Start a async sentiment analysis\n",
    "Input objects dataframe see `docs/schemas/object.md`  \n",
    "\n",
    "Ouput an AsyncJobGroup that can be used to complete the sentiment analysis."
   ]
  },
  {
   "cell_type": "code",
   "execution_count": null,
   "id": "d20f471a-a32b-4071-84d1-64cf435ceb27",
   "metadata": {},
   "outputs": [],
   "source": [
    "%load_ext autoreload\n",
    "%autoreload 2"
   ]
  },
  {
   "cell_type": "code",
   "execution_count": null,
   "id": "72f8c18b-ddf0-4b81-87a0-2c6947ad6d06",
   "metadata": {},
   "outputs": [],
   "source": [
    "import datetime\n",
    "import pprint\n",
    "\n",
    "from phoenix.common import artifacts, run_datetime\n",
    "from phoenix.common import utils\n",
    "from phoenix.tag.third_party_models.aws_async import start_sentiment\n",
    "from phoenix.tag.third_party_models.aws_async import start_sentiment_run_params\n",
    "from phoenix.tag.third_party_models.aws_async import job_types"
   ]
  },
  {
   "cell_type": "code",
   "execution_count": null,
   "id": "f6e5ba25-e8b3-43de-ac2e-f9969d6da660",
   "metadata": {},
   "outputs": [],
   "source": [
    "utils.setup_notebook_output()\n",
    "utils.setup_notebook_logging()"
   ]
  },
  {
   "cell_type": "code",
   "execution_count": null,
   "id": "7f0f8264-bba9-4f73-bde8-fa415edebb0f",
   "metadata": {
    "tags": [
     "parameters"
    ]
   },
   "outputs": [],
   "source": [
    "# Parameters\n",
    "# See phoenix/common/run_datetime.py expected format of parameter\n",
    "RUN_DATETIME = None\n",
    "TENANT_ID = None\n",
    "\n",
    "# See phoenix/common/artifacts/registry_environment.py expected format of parameter\n",
    "ARTIFACTS_ENVIRONMENT_KEY = \"local\"\n",
    "\n",
    "# Filters for batch\n",
    "YEAR_FILTER = 2021\n",
    "# Without zero padding\n",
    "MONTH_FILTER = 8\n",
    "OBJECT_TYPE = \"facebook_posts\"\n",
    "\n",
    "# DataAccessRole can be set in env AWS_COMPREHEND_ROLE\n",
    "AWS_COMPREHEND_ROLE = None"
   ]
  },
  {
   "cell_type": "code",
   "execution_count": null,
   "id": "aa322876-2fe0-4885-9f9f-ecf160eb5970",
   "metadata": {},
   "outputs": [],
   "source": [
    "run_params = start_sentiment_run_params.create(\n",
    "    ARTIFACTS_ENVIRONMENT_KEY,\n",
    "    TENANT_ID,\n",
    "    RUN_DATETIME,\n",
    "    OBJECT_TYPE,\n",
    "    YEAR_FILTER,\n",
    "    MONTH_FILTER,\n",
    "    AWS_COMPREHEND_ROLE\n",
    ")"
   ]
  },
  {
   "cell_type": "code",
   "execution_count": null,
   "id": "eb190492-9a3c-4114-8bce-2729d6e9210a",
   "metadata": {},
   "outputs": [],
   "source": [
    "# Display params.\n",
    "pprint.pprint(run_params)"
   ]
  },
  {
   "cell_type": "code",
   "execution_count": null,
   "id": "cc5d1522-198b-42af-959a-ab128c6392ec",
   "metadata": {},
   "outputs": [],
   "source": [
    "objects = artifacts.dataframes.get(run_params.urls.objects).dataframe"
   ]
  },
  {
   "cell_type": "code",
   "execution_count": null,
   "id": "796a2eab-a73e-4e0c-85a4-3dccdabb93b0",
   "metadata": {},
   "outputs": [],
   "source": [
    "objects.head()"
   ]
  },
  {
   "cell_type": "code",
   "execution_count": null,
   "id": "cfc2d61f-f42d-484f-80f6-98219fa084ed",
   "metadata": {},
   "outputs": [],
   "source": [
    "async_job_group = start_sentiment.start_sentiment_analysis_jobs(run_params.aws_comprehend_role, run_params.urls.comprehend_base, objects)"
   ]
  },
  {
   "cell_type": "code",
   "execution_count": null,
   "id": "38193ae8-7128-4b9f-8da4-a4c899e42b82",
   "metadata": {},
   "outputs": [],
   "source": [
    "async_job_group"
   ]
  },
  {
   "cell_type": "code",
   "execution_count": null,
   "id": "2d7f7acd-057b-4e60-81d5-e6cb824d8732",
   "metadata": {},
   "outputs": [],
   "source": [
    "_ = job_types.persist_json(run_params.urls.async_job_group, async_job_group)"
   ]
  }
 ],
 "metadata": {
  "kernelspec": {
   "display_name": "Python 3 (ipykernel)",
   "language": "python",
   "name": "python3"
  },
  "language_info": {
   "codemirror_mode": {
    "name": "ipython",
    "version": 3
   },
   "file_extension": ".py",
   "mimetype": "text/x-python",
   "name": "python",
   "nbconvert_exporter": "python",
   "pygments_lexer": "ipython3",
   "version": "3.9.2"
  },
  "toc": {
   "base_numbering": 1,
   "nav_menu": {},
   "number_sections": true,
   "sideBar": true,
   "skip_h1_title": false,
   "title_cell": "Table of Contents",
   "title_sidebar": "Contents",
   "toc_cell": false,
   "toc_position": {},
   "toc_section_display": true,
   "toc_window_display": false
  }
 },
 "nbformat": 4,
 "nbformat_minor": 5
}
