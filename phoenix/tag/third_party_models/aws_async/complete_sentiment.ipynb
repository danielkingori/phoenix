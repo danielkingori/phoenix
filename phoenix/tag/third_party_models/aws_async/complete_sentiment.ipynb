{
 "cells": [
  {
   "cell_type": "markdown",
   "id": "ee6b9aae-e9ca-427a-9e6f-08d8a92633c9",
   "metadata": {},
   "source": [
    "# Complete Sentiment Analysis\n",
    "This requires a complete async sentiment analysis using comprehend.\n",
    "\n",
    "Ouput's a dataframe the same as objects, with objects that have been analysed by comprehend.\n",
    "The dataframe will have additional columns: aws_input_line_number, language_sentiment, language_sentiment_scores_*.\n",
    "`aws_input_line_numbers`: the line number that the object had for the input file.\n",
    "`language_sentiment`: `POSTIVE|NEUTRAL|NEGATIVE`, sentiment as given by Comprehend.\n",
    "`language_sentiment_score_[mixed|neutral|positive|negative]`: Score for each class as probability according to AWS comprehend."
   ]
  },
  {
   "cell_type": "code",
   "execution_count": null,
   "id": "d20f471a-a32b-4071-84d1-64cf435ceb27",
   "metadata": {},
   "outputs": [],
   "source": [
    "%load_ext autoreload\n",
    "%autoreload 2"
   ]
  },
  {
   "cell_type": "code",
   "execution_count": null,
   "id": "72f8c18b-ddf0-4b81-87a0-2c6947ad6d06",
   "metadata": {},
   "outputs": [],
   "source": [
    "import datetime\n",
    "import pprint\n",
    "\n",
    "import pandas as pd\n",
    "import tentaclio\n",
    "\n",
    "from phoenix.common import artifacts, run_datetime\n",
    "from phoenix.common import utils\n",
    "from phoenix.tag.third_party_models.aws_async import complete_sentiment, complete_sentiment_run_params, info_sentiment\n",
    "from phoenix.tag.third_party_models.aws_async import jobs, language_sentiment_dataset"
   ]
  },
  {
   "cell_type": "code",
   "execution_count": null,
   "id": "f6e5ba25-e8b3-43de-ac2e-f9969d6da660",
   "metadata": {},
   "outputs": [],
   "source": [
    "utils.setup_notebook_output()\n",
    "utils.setup_notebook_logging()"
   ]
  },
  {
   "cell_type": "code",
   "execution_count": null,
   "id": "7f0f8264-bba9-4f73-bde8-fa415edebb0f",
   "metadata": {
    "tags": [
     "parameters"
    ]
   },
   "outputs": [],
   "source": [
    "# Parameters\n",
    "# See phoenix/common/run_datetime.py expected format of parameter\n",
    "RUN_DATETIME = None\n",
    "\n",
    "# See phoenix/common/artifacts/registry_environment.py expected format of parameter\n",
    "ARTIFACTS_ENVIRONMENT_KEY = \"local\"\n",
    "\n",
    "# Filters for batch\n",
    "YEAR_FILTER = 2021\n",
    "# Without zero padding\n",
    "MONTH_FILTER = 8\n",
    "OBJECT_TYPE = \"facebook_posts\""
   ]
  },
  {
   "cell_type": "code",
   "execution_count": null,
   "id": "718e481a-b9ef-4904-8c14-1d5b59fbc380",
   "metadata": {},
   "outputs": [],
   "source": [
    "run_params = complete_sentiment_run_params.create(\n",
    "    ARTIFACTS_ENVIRONMENT_KEY,\n",
    "    TENANT_ID,\n",
    "    RUN_DATETIME,\n",
    "    OBJECT_TYPE,\n",
    "    YEAR_FILTER,\n",
    "    MONTH_FILTER,\n",
    ")"
   ]
  },
  {
   "cell_type": "code",
   "execution_count": null,
   "id": "eb190492-9a3c-4114-8bce-2729d6e9210a",
   "metadata": {},
   "outputs": [],
   "source": [
    "# Display params.\n",
    "pprint.pprint(run_params)"
   ]
  },
  {
   "cell_type": "code",
   "execution_count": null,
   "id": "cc5d1522-198b-42af-959a-ab128c6392ec",
   "metadata": {},
   "outputs": [],
   "source": [
    "async_job_group = jobs.get_json(run_params.urls.async_job_group)\n",
    "async_job_group"
   ]
  },
  {
   "cell_type": "code",
   "execution_count": null,
   "id": "93b9d773-0519-45e9-ad6e-1ffdc2d2f352",
   "metadata": {},
   "outputs": [],
   "source": [
    "job_infos = info_sentiment.get_job_infos(async_job_group)\n",
    "job_infos"
   ]
  },
  {
   "cell_type": "code",
   "execution_count": null,
   "id": "c8d4f6e1-b7ed-4fa1-a916-68a77c3c1765",
   "metadata": {},
   "outputs": [],
   "source": [
    "info_sentiment.are_processable_jobs(job_infos)"
   ]
  },
  {
   "cell_type": "code",
   "execution_count": null,
   "id": "cfc2d61f-f42d-484f-80f6-98219fa084ed",
   "metadata": {},
   "outputs": [],
   "source": [
    "language_sentiment_objects = complete_sentiment.complete_sentiment_analysis(async_job_group, job_infos)"
   ]
  },
  {
   "cell_type": "code",
   "execution_count": null,
   "id": "38193ae8-7128-4b9f-8da4-a4c899e42b82",
   "metadata": {},
   "outputs": [],
   "source": [
    "language_sentiment_objects.head()"
   ]
  },
  {
   "cell_type": "code",
   "execution_count": null,
   "id": "2c92fc23-1e74-4d2f-a9ef-f4f8f58510fa",
   "metadata": {},
   "outputs": [],
   "source": [
    "language_sentiment_objects.shape"
   ]
  },
  {
   "cell_type": "code",
   "execution_count": null,
   "id": "2d7f7acd-057b-4e60-81d5-e6cb824d8732",
   "metadata": {},
   "outputs": [],
   "source": [
    "a = language_sentiment_dataset.persist(run_params.urls.language_sentiment_objects, language_sentiment_objects, run_params.general.run_dt)"
   ]
  }
 ],
 "metadata": {
  "kernelspec": {
   "display_name": "Python 3 (ipykernel)",
   "language": "python",
   "name": "python3"
  },
  "language_info": {
   "codemirror_mode": {
    "name": "ipython",
    "version": 3
   },
   "file_extension": ".py",
   "mimetype": "text/x-python",
   "name": "python",
   "nbconvert_exporter": "python",
   "pygments_lexer": "ipython3",
   "version": "3.9.2"
  },
  "toc": {
   "base_numbering": 1,
   "nav_menu": {},
   "number_sections": true,
   "sideBar": true,
   "skip_h1_title": false,
   "title_cell": "Table of Contents",
   "title_sidebar": "Contents",
   "toc_cell": false,
   "toc_position": {},
   "toc_section_display": true,
   "toc_window_display": false
  }
 },
 "nbformat": 4,
 "nbformat_minor": 5
}
