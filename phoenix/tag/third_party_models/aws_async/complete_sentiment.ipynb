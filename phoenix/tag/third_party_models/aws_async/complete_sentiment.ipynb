{
 "cells": [
  {
   "cell_type": "markdown",
   "id": "ee6b9aae-e9ca-427a-9e6f-08d8a92633c9",
   "metadata": {},
   "source": [
    "# Complete Sentiment Analysis\n",
    "This requires a complete async sentiment analysis using comprehend.\n",
    "\n",
    "Ouput's a dataframe the same as objects, with objects that have been analysed by comprehend.\n",
    "The dataframe will have additional columns: aws_input_line_number, language_sentiment, language_sentiment_scores_*.\n",
    "`aws_input_line_numbers`: the line number that the object had for the input file.\n",
    "`language_sentiment`: `POSTIVE|NEUTRAL|NEGATIVE`, sentiment as given by Comprehend.\n",
    "`language_sentiment_score_[mixed|neutral|positive|negative]`: Score for each class as probability according to AWS comprehend."
   ]
  },
  {
   "cell_type": "code",
   "execution_count": null,
   "id": "d20f471a-a32b-4071-84d1-64cf435ceb27",
   "metadata": {},
   "outputs": [],
   "source": [
    "%load_ext autoreload\n",
    "%autoreload 2"
   ]
  },
  {
   "cell_type": "code",
   "execution_count": null,
   "id": "72f8c18b-ddf0-4b81-87a0-2c6947ad6d06",
   "metadata": {},
   "outputs": [],
   "source": [
    "import datetime\n",
    "\n",
    "import pandas as pd\n",
    "import tentaclio\n",
    "\n",
    "from phoenix.common import artifacts\n",
    "from phoenix.common import utils\n",
    "from phoenix.tag.third_party_models.aws_async import complete_sentiment, info_sentiment\n",
    "from phoenix.tag.third_party_models.aws_async import job_types"
   ]
  },
  {
   "cell_type": "code",
   "execution_count": null,
   "id": "f6e5ba25-e8b3-43de-ac2e-f9969d6da660",
   "metadata": {},
   "outputs": [],
   "source": [
    "utils.setup_notebook_output()\n",
    "utils.setup_notebook_logging()"
   ]
  },
  {
   "cell_type": "code",
   "execution_count": null,
   "id": "7f0f8264-bba9-4f73-bde8-fa415edebb0f",
   "metadata": {},
   "outputs": [],
   "source": [
    "# Parametrise the run execution date.\n",
    "# Format of the run date\n",
    "RUN_DATE_FORMAT = \"%Y-%m-%d\"\n",
    "# This can be overwritten at execution time by Papermill to enable historic runs and backfills etc.\n",
    "RUN_DATE = datetime.datetime.today().strftime(RUN_DATE_FORMAT)\n",
    "\n",
    "# TODO: this has to be refactored so that MONTH_PREFIX is relational to the YEAR_FILTER and MONTH_FILTER\n",
    "YEAR_FILTER = 2021\n",
    "MONTH_FILTER = 5\n",
    "MONTH_PREFIX = f\"year_filter={YEAR_FILTER}/month_filter={MONTH_FILTER}/\"\n",
    "\n",
    "# Set Artefacts URL\n",
    "ARTIFACTS_BASE_URL = f\"{artifacts.urls.get_local()}{RUN_DATE}/facebook_posts/{MONTH_PREFIX}\"\n",
    "\n",
    "# Input\n",
    "ASYNC_JOB_GROUP = artifacts.json.url(ARTIFACTS_BASE_URL, \"async_job_group\")\n",
    "\n",
    "# Output\n",
    "LANGUAGE_SENTIMENT_OBJECTS = artifacts.dataframes.url(ARTIFACTS_BASE_URL, \"language_sentiment_objects\")"
   ]
  },
  {
   "cell_type": "code",
   "execution_count": null,
   "id": "eb190492-9a3c-4114-8bce-2729d6e9210a",
   "metadata": {},
   "outputs": [],
   "source": [
    "# Display params.\n",
    "print(\n",
    "ARTIFACTS_BASE_URL,\n",
    "RUN_DATE,\n",
    "ASYNC_JOB_GROUP,\n",
    "LANGUAGE_SENTIMENT_OBJECTS,\n",
    "sep='\\n',\n",
    ")"
   ]
  },
  {
   "cell_type": "code",
   "execution_count": null,
   "id": "cc5d1522-198b-42af-959a-ab128c6392ec",
   "metadata": {},
   "outputs": [],
   "source": [
    "async_job_group = job_types.get_json(ASYNC_JOB_GROUP)\n",
    "async_job_group"
   ]
  },
  {
   "cell_type": "code",
   "execution_count": null,
   "id": "93b9d773-0519-45e9-ad6e-1ffdc2d2f352",
   "metadata": {},
   "outputs": [],
   "source": [
    "job_infos = info_sentiment.get_job_infos(async_job_group)\n",
    "job_infos"
   ]
  },
  {
   "cell_type": "code",
   "execution_count": null,
   "id": "c8d4f6e1-b7ed-4fa1-a916-68a77c3c1765",
   "metadata": {},
   "outputs": [],
   "source": [
    "info_sentiment.are_processable_jobs(job_infos)"
   ]
  },
  {
   "cell_type": "code",
   "execution_count": null,
   "id": "cfc2d61f-f42d-484f-80f6-98219fa084ed",
   "metadata": {},
   "outputs": [],
   "source": [
    "language_sentiment_objects = complete_sentiment.complete_sentiment_analysis(async_job_group, job_infos)"
   ]
  },
  {
   "cell_type": "code",
   "execution_count": null,
   "id": "38193ae8-7128-4b9f-8da4-a4c899e42b82",
   "metadata": {},
   "outputs": [],
   "source": [
    "language_sentiment_objects.head()"
   ]
  },
  {
   "cell_type": "code",
   "execution_count": null,
   "id": "2c92fc23-1e74-4d2f-a9ef-f4f8f58510fa",
   "metadata": {},
   "outputs": [],
   "source": [
    "language_sentiment_objects.shape"
   ]
  },
  {
   "cell_type": "code",
   "execution_count": null,
   "id": "2d7f7acd-057b-4e60-81d5-e6cb824d8732",
   "metadata": {},
   "outputs": [],
   "source": [
    "a = artifacts.dataframes.persist(LANGUAGE_SENTIMENT_OBJECTS, language_sentiment_objects)"
   ]
  },
  {
   "cell_type": "code",
   "execution_count": null,
   "id": "b9290b51-8add-483a-bd5c-9f265465b853",
   "metadata": {},
   "outputs": [],
   "source": []
  }
 ],
 "metadata": {
  "kernelspec": {
   "display_name": "Python 3 (ipykernel)",
   "language": "python",
   "name": "python3"
  },
  "language_info": {
   "codemirror_mode": {
    "name": "ipython",
    "version": 3
   },
   "file_extension": ".py",
   "mimetype": "text/x-python",
   "name": "python",
   "nbconvert_exporter": "python",
   "pygments_lexer": "ipython3",
   "version": "3.9.2"
  },
  "toc": {
   "base_numbering": 1,
   "nav_menu": {},
   "number_sections": true,
   "sideBar": true,
   "skip_h1_title": false,
   "title_cell": "Table of Contents",
   "title_sidebar": "Contents",
   "toc_cell": false,
   "toc_position": {},
   "toc_section_display": true,
   "toc_window_display": false
  }
 },
 "nbformat": 4,
 "nbformat_minor": 5
}
