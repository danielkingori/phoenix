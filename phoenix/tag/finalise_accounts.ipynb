{
 "cells": [
  {
   "cell_type": "markdown",
   "id": "ee6b9aae-e9ca-427a-9e6f-08d8a92633c9",
   "metadata": {},
   "source": [
    "# Finalise data sets related to accounts and account classes (labels) applied to text snippets (objects)"
   ]
  },
  {
   "cell_type": "code",
   "execution_count": null,
   "id": "d20f471a-a32b-4071-84d1-64cf435ceb27",
   "metadata": {},
   "outputs": [],
   "source": [
    "%load_ext autoreload\n",
    "%autoreload 2"
   ]
  },
  {
   "cell_type": "code",
   "execution_count": null,
   "id": "72f8c18b-ddf0-4b81-87a0-2c6947ad6d06",
   "metadata": {},
   "outputs": [],
   "source": [
    "import datetime\n",
    "import pprint\n",
    "\n",
    "import pandas as pd\n",
    "\n",
    "from phoenix.common import artifacts, utils\n",
    "from phoenix.tag import export\n",
    "from phoenix.tag import accounts_finalise\n",
    "from phoenix.tag import finalise_run_params\n",
    "from phoenix.tag import final_datasets\n",
    "from phoenix.tag import object_filters"
   ]
  },
  {
   "cell_type": "code",
   "execution_count": null,
   "id": "f6e5ba25-e8b3-43de-ac2e-f9969d6da660",
   "metadata": {},
   "outputs": [],
   "source": [
    "utils.setup_notebook_output()\n",
    "utils.setup_notebook_logging()"
   ]
  },
  {
   "cell_type": "code",
   "execution_count": null,
   "id": "7f0f8264-bba9-4f73-bde8-fa415edebb0f",
   "metadata": {
    "tags": [
     "parameters"
    ]
   },
   "outputs": [],
   "source": [
    "# Parameters\n",
    "# See phoenix/common/run_datetime.py expected format of parameter\n",
    "RUN_DATETIME = None\n",
    "TENANT_ID = None\n",
    "\n",
    "# See phoenix/common/artifacts/registry_environment.py expected format of parameter\n",
    "ARTIFACTS_ENVIRONMENT_KEY = \"local\"\n",
    "\n",
    "\n",
    "# Filters for batch\n",
    "YEAR_FILTER = 2022\n",
    "# Without zero padding\n",
    "MONTH_FILTER = 1\n",
    "OBJECT_TYPE = \"youtube_videos\"\n",
    "\n",
    "# OUTPUT\n",
    "ACCOUNTS_FINAL_URL = None\n",
    "OBJECTS_ACCOUNTS_CLASSES_FINAL_URL = None"
   ]
  },
  {
   "cell_type": "code",
   "execution_count": null,
   "id": "9a78f74f-bede-4b4b-8908-b428b2e8d046",
   "metadata": {},
   "outputs": [],
   "source": [
    "run_params = finalise_run_params.accounts.create(\n",
    "    ARTIFACTS_ENVIRONMENT_KEY,\n",
    "    TENANT_ID,\n",
    "    RUN_DATETIME,\n",
    "    OBJECT_TYPE,\n",
    "    YEAR_FILTER,\n",
    "    MONTH_FILTER,\n",
    "    ACCOUNTS_FINAL_URL,\n",
    "    OBJECTS_ACCOUNTS_CLASSES_FINAL_URL,\n",
    ")"
   ]
  },
  {
   "cell_type": "code",
   "execution_count": null,
   "id": "eb190492-9a3c-4114-8bce-2729d6e9210a",
   "metadata": {},
   "outputs": [],
   "source": [
    "# Display params.\n",
    "pprint.pprint(run_params)"
   ]
  },
  {
   "cell_type": "code",
   "execution_count": null,
   "id": "cc5d1522-198b-42af-959a-ab128c6392ec",
   "metadata": {},
   "outputs": [],
   "source": [
    "objects_df = artifacts.dataframes.get(run_params.urls.input_objects_dataset).dataframe"
   ]
  },
  {
   "cell_type": "code",
   "execution_count": null,
   "id": "38193ae8-7128-4b9f-8da4-a4c899e42b82",
   "metadata": {},
   "outputs": [],
   "source": [
    "objects_df.head()"
   ]
  },
  {
   "cell_type": "code",
   "execution_count": null,
   "id": "542d0b5c-5078-471e-a368-234f54ee2153",
   "metadata": {},
   "outputs": [],
   "source": [
    "accounts_df = artifacts.dataframes.get(run_params.urls.input_accounts_classes).dataframe"
   ]
  },
  {
   "cell_type": "code",
   "execution_count": null,
   "id": "7fce777a",
   "metadata": {},
   "outputs": [],
   "source": [
    "accounts_df.head()"
   ]
  },
  {
   "cell_type": "code",
   "execution_count": null,
   "id": "e75a5068-01c3-43dc-9474-4d0f176528fe",
   "metadata": {},
   "outputs": [],
   "source": [
    "accounts_final = accounts_finalise.accounts(\n",
    "    object_type=OBJECT_TYPE,\n",
    "    accounts_df=accounts_df, \n",
    ")"
   ]
  },
  {
   "cell_type": "code",
   "execution_count": null,
   "id": "9195aa9c",
   "metadata": {},
   "outputs": [],
   "source": [
    "accounts_final.head()"
   ]
  },
  {
   "cell_type": "code",
   "execution_count": null,
   "id": "005b3de1",
   "metadata": {},
   "outputs": [],
   "source": [
    "accounts_final.info()"
   ]
  },
  {
   "cell_type": "code",
   "execution_count": null,
   "id": "61ebbefb",
   "metadata": {},
   "outputs": [],
   "source": [
    "objects_accounts_classes_final = accounts_finalise.objects_accounts_classes(\n",
    "    object_type=OBJECT_TYPE,\n",
    "    objects_df=objects_df, \n",
    "    accounts_df=accounts_df, \n",
    ")"
   ]
  },
  {
   "cell_type": "code",
   "execution_count": null,
   "id": "ad223e8d",
   "metadata": {},
   "outputs": [],
   "source": [
    "objects_accounts_classes_final.head()"
   ]
  },
  {
   "cell_type": "code",
   "execution_count": null,
   "id": "f7a174f6",
   "metadata": {},
   "outputs": [],
   "source": [
    "objects_accounts_classes_final.info()"
   ]
  },
  {
   "cell_type": "code",
   "execution_count": null,
   "id": "945fb6f1-212c-4e17-8182-81578de3bac5",
   "metadata": {},
   "outputs": [],
   "source": [
    "_ = artifacts.dataframes.persist(run_params.urls.tagging_runs_accounts_final, accounts_final)"
   ]
  },
  {
   "cell_type": "code",
   "execution_count": null,
   "id": "31f1e470-6d2e-43d2-addd-66e8898a9c38",
   "metadata": {},
   "outputs": [],
   "source": [
    "_ = artifacts.dataframes.persist(run_params.urls.tagging_runs_objects_accounts_classes_final, objects_accounts_classes_final)"
   ]
  },
  {
   "cell_type": "code",
   "execution_count": null,
   "id": "25bf76a3-939c-4d12-aabb-e97c260b47f1",
   "metadata": {},
   "outputs": [],
   "source": [
    "# Currently persisting as a single file as the accounts are a static dataset\n",
    "_ = artifacts.dataframes.persist(run_params.urls.accounts_final, accounts_final)"
   ]
  },
  {
   "cell_type": "code",
   "execution_count": null,
   "id": "8d1c5c0c-2dbe-4f24-8a8f-5b5bef020eef",
   "metadata": {},
   "outputs": [],
   "source": [
    "_ = final_datasets.persist(run_params.urls.objects_accounts_classes_final, objects_accounts_classes_final)"
   ]
  }
 ],
 "metadata": {
  "kernelspec": {
   "display_name": "Python 3 (ipykernel)",
   "language": "python",
   "name": "python3"
  },
  "language_info": {
   "codemirror_mode": {
    "name": "ipython",
    "version": 3
   },
   "file_extension": ".py",
   "mimetype": "text/x-python",
   "name": "python",
   "nbconvert_exporter": "python",
   "pygments_lexer": "ipython3",
   "version": "3.9.2"
  }
 },
 "nbformat": 4,
 "nbformat_minor": 5
}
