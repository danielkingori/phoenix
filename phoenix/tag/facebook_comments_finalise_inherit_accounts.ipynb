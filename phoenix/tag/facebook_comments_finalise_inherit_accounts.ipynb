{
 "cells": [
  {
   "cell_type": "markdown",
   "id": "ee6b9aae-e9ca-427a-9e6f-08d8a92633c9",
   "metadata": {},
   "source": [
    "# Finalise facebook comments inherite account classes\n",
    "Create the `facebook_comments_objects_account_classes` inheriting from the facebook posts.\n",
    "And persists it to s3."
   ]
  },
  {
   "cell_type": "code",
   "execution_count": null,
   "id": "d20f471a-a32b-4071-84d1-64cf435ceb27",
   "metadata": {},
   "outputs": [],
   "source": [
    "%load_ext autoreload\n",
    "%autoreload 2"
   ]
  },
  {
   "cell_type": "code",
   "execution_count": null,
   "id": "72f8c18b-ddf0-4b81-87a0-2c6947ad6d06",
   "metadata": {},
   "outputs": [],
   "source": [
    "import datetime\n",
    "import pprint\n",
    "\n",
    "import pandas as pd\n",
    "import tentaclio\n",
    "\n",
    "from phoenix.common import artifacts\n",
    "from phoenix.common import utils\n",
    "from phoenix.tag import finalise, finalise_facebook_comments\n",
    "from phoenix.tag.finalise_run_params import facebook_comments_inherited_accounts"
   ]
  },
  {
   "cell_type": "code",
   "execution_count": null,
   "id": "f6e5ba25-e8b3-43de-ac2e-f9969d6da660",
   "metadata": {},
   "outputs": [],
   "source": [
    "utils.setup_notebook_output()\n",
    "utils.setup_notebook_logging()"
   ]
  },
  {
   "cell_type": "code",
   "execution_count": null,
   "id": "7f0f8264-bba9-4f73-bde8-fa415edebb0f",
   "metadata": {
    "tags": [
     "parameters"
    ]
   },
   "outputs": [],
   "source": [
    "# Parameters\n",
    "# See phoenix/common/run_datetime.py expected format of parameter\n",
    "RUN_DATETIME = None\n",
    "TENANT_ID = None\n",
    "\n",
    "# See phoenix/common/artifacts/registry_environment.py expected format of parameter\n",
    "ARTIFACTS_ENVIRONMENT_KEY = \"local\"\n",
    "\n",
    "# Filters for batch\n",
    "YEAR_FILTER = 2021\n",
    "# Without zero padding\n",
    "MONTH_FILTER = 8"
   ]
  },
  {
   "cell_type": "code",
   "execution_count": null,
   "id": "752325e5-c9ec-4b56-aba8-0f9c497c4799",
   "metadata": {},
   "outputs": [],
   "source": [
    "run_params = facebook_comments_inherited_accounts.create(ARTIFACTS_ENVIRONMENT_KEY, TENANT_ID, RUN_DATETIME, YEAR_FILTER, MONTH_FILTER)"
   ]
  },
  {
   "cell_type": "code",
   "execution_count": null,
   "id": "eb190492-9a3c-4114-8bce-2729d6e9210a",
   "metadata": {},
   "outputs": [],
   "source": [
    "# Display params.\n",
    "pprint.pprint(run_params)"
   ]
  },
  {
   "cell_type": "code",
   "execution_count": null,
   "id": "cc5d1522-198b-42af-959a-ab128c6392ec",
   "metadata": {},
   "outputs": [],
   "source": [
    "facebook_comments_df = artifacts.dataframes.get(run_params.urls.facebook_comments_final).dataframe"
   ]
  },
  {
   "cell_type": "code",
   "execution_count": null,
   "id": "38193ae8-7128-4b9f-8da4-a4c899e42b82",
   "metadata": {},
   "outputs": [],
   "source": [
    "facebook_comments_df.head()"
   ]
  },
  {
   "cell_type": "code",
   "execution_count": null,
   "id": "8412d1cb-3787-4d3d-9ae3-d43fae6f9091",
   "metadata": {},
   "outputs": [],
   "source": [
    "facebook_comments_df.shape"
   ]
  },
  {
   "cell_type": "code",
   "execution_count": null,
   "id": "1e000e5e",
   "metadata": {},
   "outputs": [],
   "source": [
    "facebook_posts_objects_accounts_classes_df = artifacts.dataframes.get(run_params.urls.facebook_posts_objects_accounts_classes).dataframe"
   ]
  },
  {
   "cell_type": "code",
   "execution_count": null,
   "id": "b87fb041",
   "metadata": {},
   "outputs": [],
   "source": [
    "facebook_posts_objects_accounts_classes_df.head()"
   ]
  },
  {
   "cell_type": "code",
   "execution_count": null,
   "id": "1ab18f63",
   "metadata": {},
   "outputs": [],
   "source": [
    "facebook_posts_objects_accounts_classes_df.shape"
   ]
  },
  {
   "cell_type": "code",
   "execution_count": null,
   "id": "24e7bc3c-ba0f-4887-933b-9874e5574642",
   "metadata": {},
   "outputs": [],
   "source": [
    "facebook_posts_objects_accounts_classes_df[\"account_name\"] = facebook_posts_objects_accounts_classes_df[\"object_user_name\"]"
   ]
  },
  {
   "cell_type": "code",
   "execution_count": null,
   "id": "2eedabdb-e077-4c47-a6c0-b2c97bdcc2af",
   "metadata": {},
   "outputs": [],
   "source": [
    "inherited_columns = finalise_facebook_comments.inherited_columns_for_facebook_comments_account_classes(\n",
    "    facebook_posts_objects_accounts_classes_df,\n",
    ")\n",
    "inherited_columns"
   ]
  },
  {
   "cell_type": "code",
   "execution_count": null,
   "id": "fc53aa3e",
   "metadata": {},
   "outputs": [],
   "source": [
    "facebook_comments_objects_accounts_classes_df = finalise_facebook_comments.inherit_from_facebook_posts_topics_df(\n",
    "    facebook_posts_objects_accounts_classes_df,\n",
    "    facebook_comments_df,\n",
    "    inherited_columns,\n",
    "    inherit_every_row_per_id=True,\n",
    ")"
   ]
  },
  {
   "cell_type": "code",
   "execution_count": null,
   "id": "9fbbfaa2-25be-495f-b0e0-4b979f6d3e7f",
   "metadata": {},
   "outputs": [],
   "source": [
    "facebook_comments_objects_accounts_classes_df.head()"
   ]
  },
  {
   "cell_type": "code",
   "execution_count": null,
   "id": "49cce498",
   "metadata": {},
   "outputs": [],
   "source": [
    "facebook_comments_objects_accounts_classes_df.shape"
   ]
  },
  {
   "cell_type": "code",
   "execution_count": null,
   "id": "db309d7f-8523-49d1-ad45-4dddda965da5",
   "metadata": {},
   "outputs": [],
   "source": [
    "facebook_comments_objects_accounts_classes_df.dtypes"
   ]
  },
  {
   "cell_type": "code",
   "execution_count": null,
   "id": "25bf76a3-939c-4d12-aabb-e97c260b47f1",
   "metadata": {},
   "outputs": [],
   "source": [
    "_ = artifacts.dataframes.persist(run_params.urls.objects_accounts_classes_final, facebook_comments_objects_accounts_classes_df)"
   ]
  },
  {
   "cell_type": "code",
   "execution_count": null,
   "id": "2b988a6a",
   "metadata": {},
   "outputs": [],
   "source": [
    "artifacts.dataframes.read_schema(run_params.urls.objects_accounts_classes_final)"
   ]
  },
  {
   "cell_type": "code",
   "execution_count": null,
   "id": "6f26fe41",
   "metadata": {},
   "outputs": [],
   "source": []
  }
 ],
 "metadata": {
  "kernelspec": {
   "display_name": "Python 3 (ipykernel)",
   "language": "python",
   "name": "python3"
  },
  "language_info": {
   "codemirror_mode": {
    "name": "ipython",
    "version": 3
   },
   "file_extension": ".py",
   "mimetype": "text/x-python",
   "name": "python",
   "nbconvert_exporter": "python",
   "pygments_lexer": "ipython3",
   "version": "3.9.2"
  }
 },
 "nbformat": 4,
 "nbformat_minor": 5
}
