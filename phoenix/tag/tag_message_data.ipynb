{
 "cells": [
  {
   "cell_type": "markdown",
   "id": "c052621b-2cff-44a5-b737-613bf6fda261",
   "metadata": {},
   "source": [
    "# Tag message data\n",
    "Script that will tag message data.\n",
    "\n",
    "## Expected message input:\n",
    "\n",
    "| Property | Data Type | Description |\n",
    "| :------- | :-------- | :---------- |\n",
    "| objectId | string | Id of the tweet, post or comment |\n",
    "| message  | string | Message data to be analysised |\n",
    "| objectType | string | The type of data enum(tweet, post, comment) |\n",
    "\n",
    "## Expected tagging output:\n",
    "| Property | Data Type | Description |\n",
    "| :------- | :-------- | :---------- |\n",
    "| objectId | string | Id of the tweet, post or comment |\n",
    "| message  | string | Message data to be analysised |\n",
    "| objectType | string | The type of data enum(tweet, post, comment) |\n",
    "| cleanedMessage | string | Message that has been cleaned |\n",
    "| language | string | enum(\"ar\", \"en\", \"ar_izi\") |\n",
    "| arabicMessage | string | Message but translated to arabic |\n",
    "| features | array\\<string\\> | Features based on the clean messages |\n",
    "| sentiment | DICTIONARY | enum(\"positive\", \"negative\", \"neutral\") |\n",
    "| topics | array\\<string\\> |This will be an ordered list of the topics that are needed |\n",
    "| topic1 | string | Topic 1 |\n",
    "| topic2 | string | Topic 2 |\n",
    "| topic3 | string | Topic 3 |\n",
    "| hasKeyFeatue | bool | If the post has a key feature |"
   ]
  },
  {
   "cell_type": "code",
   "execution_count": null,
   "id": "312a2546-4c76-4cac-87f6-7c2183f8a229",
   "metadata": {},
   "outputs": [],
   "source": [
    "%load_ext autoreload\n",
    "%autoreload 2"
   ]
  },
  {
   "cell_type": "code",
   "execution_count": null,
   "id": "72f8c18b-ddf0-4b81-87a0-2c6947ad6d06",
   "metadata": {},
   "outputs": [],
   "source": [
    "import datetime\n",
    "\n",
    "from phoenix.common import artifacts\n",
    "from phoenix.common import utils\n",
    "from phoenix.tag import tag"
   ]
  },
  {
   "cell_type": "code",
   "execution_count": null,
   "id": "f6e5ba25-e8b3-43de-ac2e-f9969d6da660",
   "metadata": {},
   "outputs": [],
   "source": [
    "utils.setup_notebook_output()\n",
    "utils.setup_notebook_logging()"
   ]
  },
  {
   "cell_type": "code",
   "execution_count": null,
   "id": "7f0f8264-bba9-4f73-bde8-fa415edebb0f",
   "metadata": {},
   "outputs": [],
   "source": [
    "# Parametrise the run execution date.\n",
    "# Format of the run date\n",
    "RUN_DATE_FORMAT = \"%Y-%m-%d\"\n",
    "# This can be overwritten at execution time by Papermill to enable historic runs and backfills etc.\n",
    "RUN_DATE = datetime.datetime.today().strftime(RUN_DATE_FORMAT)\n",
    "\n",
    "# Input and output\n",
    "INPUT_MESSAGE_URL = f\"{artifacts.urls.get_local()}{RUN_DATE}/input_message_data.parquet\"\n",
    "OUTPUT_TAGGED_URL = f\"{artifacts.urls.get_local()}{RUN_DATE}/output_tagged_data.parquet\""
   ]
  },
  {
   "cell_type": "code",
   "execution_count": null,
   "id": "eb190492-9a3c-4114-8bce-2729d6e9210a",
   "metadata": {},
   "outputs": [],
   "source": [
    "# Display params.\n",
    "print(\n",
    "INPUT_MESSAGE_URL,\n",
    "OUTPUT_TAGGED_URL,\n",
    "RUN_DATE,\n",
    "sep='\\n',\n",
    ")"
   ]
  },
  {
   "cell_type": "code",
   "execution_count": null,
   "id": "4843a8c3-e74d-4192-b7b0-f0990b396136",
   "metadata": {},
   "outputs": [],
   "source": [
    "utils.dask_global_init()"
   ]
  },
  {
   "cell_type": "code",
   "execution_count": null,
   "id": "156c3145-c95c-4e2e-8e4e-dee3b84fe1f8",
   "metadata": {},
   "outputs": [],
   "source": [
    "message_df = artifacts.dataframes.get(INPUT_MESSAGE_URL).dataframe"
   ]
  },
  {
   "cell_type": "code",
   "execution_count": null,
   "id": "a679ecfc-f575-46e6-93fb-d2ba810774a9",
   "metadata": {
    "tags": []
   },
   "outputs": [],
   "source": [
    "tagged_df = tag.tag_dataframe(message_df)"
   ]
  },
  {
   "cell_type": "code",
   "execution_count": null,
   "id": "dd7cb2be-cddc-4111-b532-f7f6d835f08e",
   "metadata": {},
   "outputs": [],
   "source": [
    "tagged_df.head()"
   ]
  },
  {
   "cell_type": "code",
   "execution_count": null,
   "id": "adb15d77-3848-4249-8c8f-1dd158cb88d4",
   "metadata": {
    "tags": []
   },
   "outputs": [],
   "source": [
    "artifacts.dataframes.persist(artifacts.dataframes.url(OUTPUT_TAGGED_URL, tagged_df)"
   ]
  },
  {
   "cell_type": "code",
   "execution_count": null,
   "id": "50915f46-0b02-4d97-8db6-907c2e73c123",
   "metadata": {},
   "outputs": [],
   "source": []
  }
 ],
 "metadata": {
  "kernelspec": {
   "display_name": "Python 3",
   "language": "python",
   "name": "python3"
  },
  "language_info": {
   "codemirror_mode": {
    "name": "ipython",
    "version": 3
   },
   "file_extension": ".py",
   "mimetype": "text/x-python",
   "name": "python",
   "nbconvert_exporter": "python",
   "pygments_lexer": "ipython3",
   "version": "3.9.2"
  }
 },
 "nbformat": 4,
 "nbformat_minor": 5
}
