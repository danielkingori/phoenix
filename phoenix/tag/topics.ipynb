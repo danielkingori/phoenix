{
 "cells": [
  {
   "cell_type": "markdown",
   "id": "ee6b9aae-e9ca-427a-9e6f-08d8a92633c9",
   "metadata": {},
   "source": [
    "# Topics\n",
    "Compute the topics"
   ]
  },
  {
   "cell_type": "code",
   "execution_count": null,
   "id": "d20f471a-a32b-4071-84d1-64cf435ceb27",
   "metadata": {},
   "outputs": [],
   "source": [
    "%load_ext autoreload\n",
    "%autoreload 2"
   ]
  },
  {
   "cell_type": "code",
   "execution_count": null,
   "id": "72f8c18b-ddf0-4b81-87a0-2c6947ad6d06",
   "metadata": {},
   "outputs": [],
   "source": [
    "import datetime\n",
    "\n",
    "import pandas as pd\n",
    "import tentaclio\n",
    "\n",
    "from phoenix.common import artifacts\n",
    "from phoenix.common import utils\n",
    "from phoenix.tag import topic\n",
    "from phoenix.tag.topic import single_feature_match as sfm\n",
    "from phoenix.tag.topic import single_feature_match_topic_config as sfm_topic_config"
   ]
  },
  {
   "cell_type": "code",
   "execution_count": null,
   "id": "f6e5ba25-e8b3-43de-ac2e-f9969d6da660",
   "metadata": {},
   "outputs": [],
   "source": [
    "utils.setup_notebook_output()\n",
    "utils.setup_notebook_logging()"
   ]
  },
  {
   "cell_type": "code",
   "execution_count": null,
   "id": "7f0f8264-bba9-4f73-bde8-fa415edebb0f",
   "metadata": {},
   "outputs": [],
   "source": [
    "# Parametrise the run execution date.\n",
    "# Format of the run date\n",
    "RUN_DATE_FORMAT = \"%Y-%m-%d\"\n",
    "# This can be overwritten at execution time by Papermill to enable historic runs and backfills etc.\n",
    "# RUN_DATE = datetime.datetime.today().strftime(RUN_DATE_FORMAT)\n",
    "RUN_DATE = \"2021-06-10\"\n",
    "# Set Artefacts URL\n",
    "ARTIFACTS_BASE_URL = f\"{artifacts.urls.get_local()}{RUN_DATE}/\"\n",
    "\n",
    "# Input\n",
    "ALL_FEATURES = artifacts.dataframes.url(ARTIFACTS_BASE_URL, \"all_features\")"
   ]
  },
  {
   "cell_type": "code",
   "execution_count": null,
   "id": "eb190492-9a3c-4114-8bce-2729d6e9210a",
   "metadata": {},
   "outputs": [],
   "source": [
    "# Display params.\n",
    "print(\n",
    "ARTIFACTS_BASE_URL,\n",
    "ALL_FEATURES,\n",
    "RUN_DATE,\n",
    "sep='\\n',\n",
    ")"
   ]
  },
  {
   "cell_type": "code",
   "execution_count": null,
   "id": "82bf4799-74ed-480b-8618-ea1dea34571a",
   "metadata": {},
   "outputs": [],
   "source": [
    "# %env DASK_CLUSTER_IP=tcp://127.0.0.1:41037"
   ]
  },
  {
   "cell_type": "code",
   "execution_count": null,
   "id": "7649cd1e-a6eb-4a62-ad0c-f9c830c343f3",
   "metadata": {},
   "outputs": [],
   "source": [
    "utils.dask_global_init()"
   ]
  },
  {
   "cell_type": "code",
   "execution_count": null,
   "id": "76ca5321-7f26-4faf-bee4-09b2c64f35e0",
   "metadata": {},
   "outputs": [],
   "source": [
    "all_features_df = artifacts.dataframes.get(ALL_FEATURES).dataframe"
   ]
  },
  {
   "cell_type": "code",
   "execution_count": null,
   "id": "cc5d1522-198b-42af-959a-ab128c6392ec",
   "metadata": {},
   "outputs": [],
   "source": [
    "all_features_df.head()"
   ]
  },
  {
   "cell_type": "code",
   "execution_count": null,
   "id": "0177c400-8c8c-46c0-865f-e2d2b43fbfb3",
   "metadata": {},
   "outputs": [],
   "source": [
    "topic_config_df = sfm.get_topic_config()"
   ]
  },
  {
   "cell_type": "code",
   "execution_count": null,
   "id": "ef30a85d-1126-4d5e-81e0-84b15da1d3c6",
   "metadata": {},
   "outputs": [],
   "source": [
    "topic_config_df.head()"
   ]
  },
  {
   "cell_type": "code",
   "execution_count": null,
   "id": "d428f8ae-1da3-44dd-9b96-421b111029e3",
   "metadata": {},
   "outputs": [],
   "source": [
    "topics_df = sfm_topic_config.get_topics(topic_config_df, all_features_df)"
   ]
  },
  {
   "cell_type": "code",
   "execution_count": null,
   "id": "dba291cd-32a3-4f9c-903b-12e98fb19f11",
   "metadata": {},
   "outputs": [],
   "source": [
    "topics_df.head()"
   ]
  },
  {
   "cell_type": "code",
   "execution_count": null,
   "id": "18bd6c8f-6e8d-4901-8ca2-34b9a747fe7c",
   "metadata": {},
   "outputs": [],
   "source": [
    "topics_df.shape[0]"
   ]
  },
  {
   "cell_type": "code",
   "execution_count": null,
   "id": "c4e6a494-522d-4e58-a138-50c956b6567c",
   "metadata": {},
   "outputs": [],
   "source": [
    "objects_topics = topic.get_object_topics(topics_df)"
   ]
  },
  {
   "cell_type": "code",
   "execution_count": null,
   "id": "bf6fb1d2-1fd0-4a43-883f-cda430a3f98b",
   "metadata": {},
   "outputs": [],
   "source": [
    "objects_topics.head()"
   ]
  },
  {
   "cell_type": "code",
   "execution_count": null,
   "id": "1a47c625-96ca-40a2-a81e-7900c0240875",
   "metadata": {},
   "outputs": [],
   "source": [
    "objects_topics.shape[0]"
   ]
  },
  {
   "cell_type": "code",
   "execution_count": null,
   "id": "a35165a1-9758-4fa2-b1f1-e81338854804",
   "metadata": {},
   "outputs": [],
   "source": [
    "_ = artifacts.dataframes.persist(artifacts.dataframes.url(ARTIFACTS_BASE_URL, \"topics\"), topics_df)"
   ]
  },
  {
   "cell_type": "code",
   "execution_count": null,
   "id": "ea4f1747-a2ea-4e30-a3aa-36034494ebe7",
   "metadata": {},
   "outputs": [],
   "source": [
    "with tentaclio.open(ARTIFACTS_BASE_URL + f\"topics.csv\", \"w\") as fb:\n",
    "    topics_df.to_csv(fb)"
   ]
  },
  {
   "cell_type": "code",
   "execution_count": null,
   "id": "4c9e3790-3be8-4b9e-9b81-7096160041c7",
   "metadata": {},
   "outputs": [],
   "source": [
    "with tentaclio.open(ARTIFACTS_BASE_URL + f\"objects_topics.csv\", \"w\") as fb:\n",
    "    objects_topics.to_csv(fb)"
   ]
  },
  {
   "cell_type": "code",
   "execution_count": null,
   "id": "55aed3c1-f1ca-4af5-ac17-7f29ccd8b64f",
   "metadata": {},
   "outputs": [],
   "source": []
  }
 ],
 "metadata": {
  "kernelspec": {
   "display_name": "Python 3",
   "language": "python",
   "name": "python3"
  },
  "language_info": {
   "codemirror_mode": {
    "name": "ipython",
    "version": 3
   },
   "file_extension": ".py",
   "mimetype": "text/x-python",
   "name": "python",
   "nbconvert_exporter": "python",
   "pygments_lexer": "ipython3",
   "version": "3.9.2"
  }
 },
 "nbformat": 4,
 "nbformat_minor": 5
}
