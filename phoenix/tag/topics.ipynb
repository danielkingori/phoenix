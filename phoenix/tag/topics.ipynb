{
 "cells": [
  {
   "cell_type": "markdown",
   "id": "ee6b9aae-e9ca-427a-9e6f-08d8a92633c9",
   "metadata": {},
   "source": [
    "# Topics\n",
    "Compute the topics"
   ]
  },
  {
   "cell_type": "code",
   "execution_count": null,
   "id": "d20f471a-a32b-4071-84d1-64cf435ceb27",
   "metadata": {},
   "outputs": [],
   "source": [
    "%load_ext autoreload\n",
    "%autoreload 2"
   ]
  },
  {
   "cell_type": "code",
   "execution_count": null,
   "id": "72f8c18b-ddf0-4b81-87a0-2c6947ad6d06",
   "metadata": {},
   "outputs": [],
   "source": [
    "import datetime\n",
    "\n",
    "import pandas as pd\n",
    "import tentaclio\n",
    "\n",
    "from phoenix.common import artifacts, run_params\n",
    "from phoenix.common import utils\n",
    "from phoenix.tag import topic\n",
    "from phoenix.tag.topic import single_feature_match as sfm\n",
    "from phoenix.tag.topic import single_feature_match_topic_config as sfm_topic_config"
   ]
  },
  {
   "cell_type": "code",
   "execution_count": null,
   "id": "f6e5ba25-e8b3-43de-ac2e-f9969d6da660",
   "metadata": {},
   "outputs": [],
   "source": [
    "utils.setup_notebook_output(max_rows=200)\n",
    "utils.setup_notebook_logging()"
   ]
  },
  {
   "cell_type": "code",
   "execution_count": null,
   "id": "7f0f8264-bba9-4f73-bde8-fa415edebb0f",
   "metadata": {
    "tags": [
     "parameters"
    ]
   },
   "outputs": [],
   "source": [
    "# Parameters\n",
    "# See phoenix/common/run_datetime.py expected format of parameter\n",
    "RUN_DATETIME = None\n",
    "\n",
    "TENANT_ID = None\n",
    "\n",
    "# See phoenix/common/artifacts/registry_environment.py expected format of parameter\n",
    "ARTIFACTS_ENVIRONMENT_KEY = \"local\"\n",
    "\n",
    "\n",
    "# Filters for batch\n",
    "YEAR_FILTER = 2021\n",
    "# Without zero padding\n",
    "MONTH_FILTER = 11\n",
    "OBJECT_TYPE = \"facebook_posts\""
   ]
  },
  {
   "cell_type": "code",
   "execution_count": null,
   "id": "9bc1d941-0342-4c35-973d-3d58af139d64",
   "metadata": {},
   "outputs": [],
   "source": [
    "cur_run_params = run_params.general.create(ARTIFACTS_ENVIRONMENT_KEY, TENANT_ID, RUN_DATETIME)\n",
    "\n",
    "url_config = {\n",
    "    \"YEAR_FILTER\": int(YEAR_FILTER),\n",
    "    \"MONTH_FILTER\": int(MONTH_FILTER),\n",
    "    \"OBJECT_TYPE\": OBJECT_TYPE,\n",
    "}\n",
    "\n",
    "\n",
    "TAGGING_RUNS_URL_PIPELINE_BASE = cur_run_params.art_url_reg.get_url(\"tagging_runs-pipeline_base\", url_config)\n",
    "TAGGING_RUNS_URL_OBJECTS = cur_run_params.art_url_reg.get_url(\"tagging_runs-objects\", url_config)\n",
    "TAGGING_RUNS_URL_ALL_FEATURES = cur_run_params.art_url_reg.get_url(\"tagging_runs-all_features\", url_config)\n",
    "TAGGING_RUNS_URL_SFLM_UNPROCESSED_FEATURES = cur_run_params.art_url_reg.get_url(\"tagging_runs-sflm_unprocessed_features\", url_config)\n",
    "TAGGING_RUNS_URL_TOPICS = cur_run_params.art_url_reg.get_url(\"tagging_runs-topics\", url_config)\n",
    "TAGGING_RUNS_URL_OBJECTS_TOPICS = cur_run_params.art_url_reg.get_url(\"tagging_runs-objects_topics\", url_config)\n",
    "TAGGING_RUNS_URL_TOPICS_CSV = cur_run_params.art_url_reg.get_url(\"tagging_runs-topics_csv\", url_config)\n",
    "TAGGING_RUNS_URL_OBJECTS_TOPICS_CSV = cur_run_params.art_url_reg.get_url(\"tagging_runs-objects_topics_csv\", url_config)\n",
    "SFM_TOPIC_CONFIG_URL = cur_run_params.art_url_reg.get_url(\"static-legacy-sfm-config\")"
   ]
  },
  {
   "cell_type": "code",
   "execution_count": null,
   "id": "eb190492-9a3c-4114-8bce-2729d6e9210a",
   "metadata": {},
   "outputs": [],
   "source": [
    "# Display params.\n",
    "print(\n",
    "TAGGING_RUNS_URL_PIPELINE_BASE,\n",
    "TAGGING_RUNS_URL_ALL_FEATURES,\n",
    "TAGGING_RUNS_URL_SFLM_UNPROCESSED_FEATURES,\n",
    "TAGGING_RUNS_URL_OBJECTS,\n",
    "TAGGING_RUNS_URL_TOPICS,\n",
    "TAGGING_RUNS_URL_OBJECTS_TOPICS,\n",
    "TAGGING_RUNS_URL_TOPICS_CSV,\n",
    "TAGGING_RUNS_URL_OBJECTS_TOPICS_CSV,\n",
    "SFM_TOPIC_CONFIG_URL,\n",
    "cur_run_params.run_dt.dt,\n",
    "sep='\\n',\n",
    ")"
   ]
  },
  {
   "cell_type": "code",
   "execution_count": null,
   "id": "76ca5321-7f26-4faf-bee4-09b2c64f35e0",
   "metadata": {},
   "outputs": [],
   "source": [
    "all_features_df = artifacts.dataframes.get(TAGGING_RUNS_URL_ALL_FEATURES).dataframe"
   ]
  },
  {
   "cell_type": "code",
   "execution_count": null,
   "id": "cc5d1522-198b-42af-959a-ab128c6392ec",
   "metadata": {},
   "outputs": [],
   "source": [
    "all_features_df.head()"
   ]
  },
  {
   "cell_type": "code",
   "execution_count": null,
   "id": "987ca259",
   "metadata": {},
   "outputs": [],
   "source": [
    "sflm_unprocessed_features = artifacts.dataframes.get(TAGGING_RUNS_URL_SFLM_UNPROCESSED_FEATURES).dataframe"
   ]
  },
  {
   "cell_type": "code",
   "execution_count": null,
   "id": "81d45886",
   "metadata": {},
   "outputs": [],
   "source": [
    "sflm_unprocessed_features.head()"
   ]
  },
  {
   "cell_type": "code",
   "execution_count": null,
   "id": "3240a16f-c24c-4d23-b42e-baf91b0e1d23",
   "metadata": {},
   "outputs": [],
   "source": [
    "objects_df = artifacts.dataframes.get(TAGGING_RUNS_URL_OBJECTS).dataframe\n",
    "objects_df.head()"
   ]
  },
  {
   "cell_type": "code",
   "execution_count": null,
   "id": "0177c400-8c8c-46c0-865f-e2d2b43fbfb3",
   "metadata": {},
   "outputs": [],
   "source": [
    "topic_config_df = sfm_topic_config.get_topic_config(SFM_TOPIC_CONFIG_URL)"
   ]
  },
  {
   "cell_type": "code",
   "execution_count": null,
   "id": "ef30a85d-1126-4d5e-81e0-84b15da1d3c6",
   "metadata": {},
   "outputs": [],
   "source": [
    "topic_config_df.head()"
   ]
  },
  {
   "cell_type": "code",
   "execution_count": null,
   "id": "d428f8ae-1da3-44dd-9b96-421b111029e3",
   "metadata": {},
   "outputs": [],
   "source": [
    "topics_df = sfm.get_topics(topic_config_df, all_features_df, sflm_unprocessed_features)"
   ]
  },
  {
   "cell_type": "code",
   "execution_count": null,
   "id": "dba291cd-32a3-4f9c-903b-12e98fb19f11",
   "metadata": {},
   "outputs": [],
   "source": [
    "topics_df.head()"
   ]
  },
  {
   "cell_type": "code",
   "execution_count": null,
   "id": "fb2a2105",
   "metadata": {},
   "outputs": [],
   "source": [
    "analysis_df = sfm.analyse(topics_df)"
   ]
  },
  {
   "cell_type": "code",
   "execution_count": null,
   "id": "c34911bc",
   "metadata": {},
   "outputs": [],
   "source": [
    "analysis_df"
   ]
  },
  {
   "cell_type": "code",
   "execution_count": null,
   "id": "18bd6c8f-6e8d-4901-8ca2-34b9a747fe7c",
   "metadata": {},
   "outputs": [],
   "source": [
    "topics_df.shape[0]"
   ]
  },
  {
   "cell_type": "code",
   "execution_count": null,
   "id": "c4e6a494-522d-4e58-a138-50c956b6567c",
   "metadata": {},
   "outputs": [],
   "source": [
    "objects_topics = topic.get_object_topics(topics_df, objects_df)"
   ]
  },
  {
   "cell_type": "code",
   "execution_count": null,
   "id": "bf6fb1d2-1fd0-4a43-883f-cda430a3f98b",
   "metadata": {},
   "outputs": [],
   "source": [
    "objects_topics.head()"
   ]
  },
  {
   "cell_type": "code",
   "execution_count": null,
   "id": "1a47c625-96ca-40a2-a81e-7900c0240875",
   "metadata": {},
   "outputs": [],
   "source": [
    "objects_topics.shape[0]"
   ]
  },
  {
   "cell_type": "code",
   "execution_count": null,
   "id": "3702e0f2",
   "metadata": {},
   "outputs": [],
   "source": [
    "sum(objects_topics[\"has_topics\"])"
   ]
  },
  {
   "cell_type": "code",
   "execution_count": null,
   "id": "a35165a1-9758-4fa2-b1f1-e81338854804",
   "metadata": {},
   "outputs": [],
   "source": [
    "a = artifacts.dataframes.persist(TAGGING_RUNS_URL_OBJECTS_TOPICS, objects_topics)\n",
    "a.url"
   ]
  },
  {
   "cell_type": "code",
   "execution_count": null,
   "id": "a5f1035f-f0ee-40d0-a7f3-6e39f6dcacdb",
   "metadata": {},
   "outputs": [],
   "source": [
    "a = artifacts.dataframes.persist(TAGGING_RUNS_URL_TOPICS, topics_df)\n",
    "a.url"
   ]
  },
  {
   "cell_type": "code",
   "execution_count": null,
   "id": "ea4f1747-a2ea-4e30-a3aa-36034494ebe7",
   "metadata": {},
   "outputs": [],
   "source": [
    "with tentaclio.open(TAGGING_RUNS_URL_TOPICS_CSV, \"w\") as fb:\n",
    "    topics_df.to_csv(fb)"
   ]
  },
  {
   "cell_type": "code",
   "execution_count": null,
   "id": "4c9e3790-3be8-4b9e-9b81-7096160041c7",
   "metadata": {},
   "outputs": [],
   "source": [
    "with tentaclio.open(TAGGING_RUNS_URL_OBJECTS_TOPICS_CSV, \"w\") as fb:\n",
    "    objects_topics.to_csv(fb)"
   ]
  },
  {
   "cell_type": "code",
   "execution_count": null,
   "id": "55aed3c1-f1ca-4af5-ac17-7f29ccd8b64f",
   "metadata": {},
   "outputs": [],
   "source": []
  }
 ],
 "metadata": {
  "kernelspec": {
   "display_name": "Python 3 (ipykernel)",
   "language": "python",
   "name": "python3"
  },
  "language_info": {
   "codemirror_mode": {
    "name": "ipython",
    "version": 3
   },
   "file_extension": ".py",
   "mimetype": "text/x-python",
   "name": "python",
   "nbconvert_exporter": "python",
   "pygments_lexer": "ipython3",
   "version": "3.9.2"
  }
 },
 "nbformat": 4,
 "nbformat_minor": 5
}
