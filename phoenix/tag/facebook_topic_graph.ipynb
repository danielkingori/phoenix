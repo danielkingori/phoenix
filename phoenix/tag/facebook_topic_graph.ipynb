{
 "cells": [
  {
   "cell_type": "markdown",
   "id": "db2c7e2e-612b-4173-b236-68e8def98bc6",
   "metadata": {},
   "source": [
    "# Facebook Topic Graph for Posts\n",
    "\n",
    "This can also be used for comments, but the schema needs to be fixed.\n"
   ]
  },
  {
   "cell_type": "code",
   "execution_count": 1,
   "id": "d60edd88-80a4-4380-9eb3-dc0fa0ad2fe2",
   "metadata": {},
   "outputs": [],
   "source": [
    "%load_ext autoreload\n",
    "%autoreload 2"
   ]
  },
  {
   "cell_type": "code",
   "execution_count": 2,
   "id": "3a57cb75-3b42-44b7-8e54-0ad0cf0f58b5",
   "metadata": {},
   "outputs": [],
   "source": [
    "import datetime\n",
    "import os\n",
    "\n",
    "from webweb import Web\n",
    "from phoenix.common import artifacts\n",
    "from phoenix.common import utils\n",
    "from phoenix.tag import network_fb_topic_to_topic as nx_fb"
   ]
  },
  {
   "cell_type": "code",
   "execution_count": 3,
   "id": "f26dc4f3-d7d2-4c1f-a703-57319d156535",
   "metadata": {},
   "outputs": [
    {
     "name": "stdout",
     "output_type": "stream",
     "text": [
      "LOG:2021-07-15 09:31:12,496 - pid:1107 - [/src/phoenix/common/utils.py:21] - root - INFO - Outputting logs within notebook enabled. Set level:INFO.\n"
     ]
    }
   ],
   "source": [
    "utils.setup_notebook_output()\n",
    "utils.setup_notebook_logging()"
   ]
  },
  {
   "cell_type": "code",
   "execution_count": 4,
   "id": "003a3af1-d061-4cc3-a108-12d04a0f3119",
   "metadata": {},
   "outputs": [],
   "source": [
    "# Parametrise the run execution date.\n",
    "# Format of the run date\n",
    "RUN_DATE_FORMAT = \"%Y-%m-%d\"\n",
    "# This can be overwritten at execution time by Papermill to enable historic runs and backfills etc.\n",
    "RUN_ISO_TIMESTAMP = datetime.datetime.now().isoformat()\n",
    "run_iso_datetime = datetime.datetime.fromisoformat(RUN_ISO_TIMESTAMP)\n",
    "RUN_DATE = datetime.datetime.today().strftime(RUN_DATE_FORMAT)\n",
    "\n",
    "# Load S3 Resources\n",
    "FACEBOOK_COMMENTS_LOAD = \"s3://buildup-dev-us-tables/fb_comments/parquet_exports/fb_comments_topics_may/persisted.parquet\"\n",
    "FACEBOOK_POSTS_LOAD = \"s3://buildup-dev-us-tables/fb_posts/parquet_exports/fb_posts_topics_may/persisted.parquet\"\n",
    "\n",
    "# Output location\n",
    "POSTS_OUTPUT = os.path.join(artifacts.urls.get_local(), f\"{RUN_DATE}_fb_post-topic_to_topic.html\")[5:]\n"
   ]
  },
  {
   "cell_type": "code",
   "execution_count": 7,
   "id": "b1165ecd-f6aa-4a78-bab9-ce503559c94e",
   "metadata": {},
   "outputs": [
    {
     "name": "stdout",
     "output_type": "stream",
     "text": [
      "s3://buildup-dev-us-tables/fb_comments/parquet_exports/fb_comments_topics_may/persisted.parquet\n",
      "s3://buildup-dev-us-tables/fb_posts/parquet_exports/fb_posts_topics_may/persisted.parquet\n",
      "2021-07-15T09:31:13.528880\n",
      "2021-07-15\n",
      "/src/local_artifacts/2021-07-15_fb_post-topic_to_topic.html\n"
     ]
    }
   ],
   "source": [
    "print(\n",
    "FACEBOOK_COMMENTS_LOAD,\n",
    "FACEBOOK_POSTS_LOAD,\n",
    "RUN_ISO_TIMESTAMP,\n",
    "RUN_DATE,\n",
    "POSTS_OUTPUT,  \n",
    "sep=\"\\n\")"
   ]
  },
  {
   "cell_type": "code",
   "execution_count": 14,
   "id": "5672d378-4a99-4305-9b94-b81fa73ea4fb",
   "metadata": {},
   "outputs": [
    {
     "name": "stdout",
     "output_type": "stream",
     "text": [
      "LOG:2021-07-15 09:48:36,222 - pid:1107 - [/usr/local/lib/python3.9/site-packages/botocore/credentials.py:1222] - botocore.credentials - INFO - Found credentials in shared credentials file: ~/.aws/credentials\n"
     ]
    }
   ],
   "source": [
    "data = artifacts.dataframes.get(FACEBOOK_POSTS_LOAD).dataframe"
   ]
  },
  {
   "cell_type": "code",
   "execution_count": 15,
   "id": "5799d26b-2941-48cb-8940-cb5a2519c4ab",
   "metadata": {},
   "outputs": [],
   "source": [
    "graph = nx_fb.prepare_dataset(data)"
   ]
  },
  {
   "cell_type": "code",
   "execution_count": 17,
   "id": "009e596a-8a11-43c1-830b-07c8ec972684",
   "metadata": {},
   "outputs": [],
   "source": [
    "web = Web(nx_G=graph)"
   ]
  },
  {
   "cell_type": "code",
   "execution_count": 19,
   "id": "f81a8431-883c-46c5-9d54-d0176c46022e",
   "metadata": {},
   "outputs": [],
   "source": [
    "nx_fb.set_webweb_vis_settings(web)"
   ]
  },
  {
   "cell_type": "code",
   "execution_count": 20,
   "id": "a6ed220a-be9b-442f-8c2e-974072fd25ff",
   "metadata": {},
   "outputs": [],
   "source": [
    "web.save(POSTS_OUTPUT)"
   ]
  },
  {
   "cell_type": "code",
   "execution_count": null,
   "id": "d3422eb8-421c-4f28-824e-73d7bdf4628e",
   "metadata": {},
   "outputs": [],
   "source": []
  }
 ],
 "metadata": {
  "kernelspec": {
   "display_name": "Python 3",
   "language": "python",
   "name": "python3"
  },
  "language_info": {
   "codemirror_mode": {
    "name": "ipython",
    "version": 3
   },
   "file_extension": ".py",
   "mimetype": "text/x-python",
   "name": "python",
   "nbconvert_exporter": "python",
   "pygments_lexer": "ipython3",
   "version": "3.9.2"
  }
 },
 "nbformat": 4,
 "nbformat_minor": 5
}
