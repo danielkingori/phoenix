{
 "cells": [
  {
   "cell_type": "markdown",
   "id": "ee6b9aae-e9ca-427a-9e6f-08d8a92633c9",
   "metadata": {},
   "source": [
    "# May tagging\n",
    "This notebook is does the tagging for May"
   ]
  },
  {
   "cell_type": "code",
   "execution_count": null,
   "id": "d20f471a-a32b-4071-84d1-64cf435ceb27",
   "metadata": {},
   "outputs": [],
   "source": [
    "%load_ext autoreload\n",
    "%autoreload 2"
   ]
  },
  {
   "cell_type": "code",
   "execution_count": null,
   "id": "72f8c18b-ddf0-4b81-87a0-2c6947ad6d06",
   "metadata": {},
   "outputs": [],
   "source": [
    "import datetime\n",
    "\n",
    "import pandas as pd\n",
    "import tentaclio\n",
    "\n",
    "from phoenix.common import artifacts\n",
    "from phoenix.common import utils\n",
    "from phoenix.tag import normalise\n",
    "from phoenix.tag import feature\n",
    "from phoenix.tag import data_pull"
   ]
  },
  {
   "cell_type": "code",
   "execution_count": null,
   "id": "f6e5ba25-e8b3-43de-ac2e-f9969d6da660",
   "metadata": {},
   "outputs": [],
   "source": [
    "utils.setup_notebook_output()\n",
    "utils.setup_notebook_logging()"
   ]
  },
  {
   "cell_type": "code",
   "execution_count": null,
   "id": "7f0f8264-bba9-4f73-bde8-fa415edebb0f",
   "metadata": {},
   "outputs": [],
   "source": [
    "# Parametrise the run execution date.\n",
    "# Format of the run date\n",
    "RUN_DATE_FORMAT = \"%Y-%m-%d\"\n",
    "# This can be overwritten at execution time by Papermill to enable historic runs and backfills etc.\n",
    "RUN_DATE = datetime.datetime.today().strftime(RUN_DATE_FORMAT)\n",
    "\n",
    "# Set Artefacts URL\n",
    "ARTIFACTS_BASE_URL = f\"{artifacts.urls.get_local()}{RUN_DATE}/\"\n",
    "\n",
    "# Input CSV\n",
    "INPUT_FOLDER_CSV = f\"{artifacts.urls.get_local()}input_csvs/facebook-ct-may/\""
   ]
  },
  {
   "cell_type": "code",
   "execution_count": null,
   "id": "eb190492-9a3c-4114-8bce-2729d6e9210a",
   "metadata": {},
   "outputs": [],
   "source": [
    "# Display params.\n",
    "print(\n",
    "ARTIFACTS_BASE_URL,\n",
    "INPUT_FOLDER_CSV,\n",
    "RUN_DATE,\n",
    "sep='\\n',\n",
    ")"
   ]
  },
  {
   "cell_type": "code",
   "execution_count": null,
   "id": "82bf4799-74ed-480b-8618-ea1dea34571a",
   "metadata": {},
   "outputs": [],
   "source": [
    "# %env DASK_CLUSTER_IP=tcp://127.0.0.1:45143"
   ]
  },
  {
   "cell_type": "code",
   "execution_count": null,
   "id": "7649cd1e-a6eb-4a62-ad0c-f9c830c343f3",
   "metadata": {},
   "outputs": [],
   "source": [
    "utils.dask_global_init()"
   ]
  },
  {
   "cell_type": "code",
   "execution_count": null,
   "id": "945144d1-6d90-43d1-8ede-5d6ac012fcb3",
   "metadata": {},
   "outputs": [],
   "source": [
    "posts_df = data_pull.crowdtangle_csvs(INPUT_FOLDER_CSV)"
   ]
  },
  {
   "cell_type": "code",
   "execution_count": null,
   "id": "aeb33227-017e-4241-aeee-e00345262fe9",
   "metadata": {
    "tags": []
   },
   "outputs": [],
   "source": [
    "posts_df.head()"
   ]
  },
  {
   "cell_type": "code",
   "execution_count": null,
   "id": "adb15d77-3848-4249-8c8f-1dd158cb88d4",
   "metadata": {
    "tags": []
   },
   "outputs": [],
   "source": [
    "artifacts.dataframes.persist(artifacts.dataframes.url(ARTIFACTS_BASE_URL, \"normalised_posts\"), posts_df)"
   ]
  },
  {
   "cell_type": "code",
   "execution_count": null,
   "id": "76ca5321-7f26-4faf-bee4-09b2c64f35e0",
   "metadata": {},
   "outputs": [],
   "source": [
    "posts_df.shape"
   ]
  },
  {
   "cell_type": "code",
   "execution_count": null,
   "id": "d3d09671-b2bf-4c3b-a189-06551c463dc9",
   "metadata": {},
   "outputs": [],
   "source": [
    "posts_df = normalise.execute(posts_df)"
   ]
  },
  {
   "cell_type": "code",
   "execution_count": null,
   "id": "fb300f4b-8a8e-405b-94f8-5d31c90ec569",
   "metadata": {},
   "outputs": [],
   "source": [
    "lang_dist = normalise.language_distribution(posts_df)\n",
    "lang_dist"
   ]
  },
  {
   "cell_type": "code",
   "execution_count": null,
   "id": "823f843d-7dc1-483e-90f6-6c761500d4e2",
   "metadata": {
    "tags": []
   },
   "outputs": [],
   "source": [
    "posts_features_df = feature.features(posts_df)"
   ]
  },
  {
   "cell_type": "code",
   "execution_count": null,
   "id": "d069d7b4-1c31-4a8d-a917-fdf44eafde66",
   "metadata": {},
   "outputs": [],
   "source": [
    "posts_features = feature.explode_features(posts_features_df)"
   ]
  },
  {
   "cell_type": "code",
   "execution_count": null,
   "id": "d7ea3b9c-6f0a-4c2e-8e2d-1d329b1ded4f",
   "metadata": {},
   "outputs": [],
   "source": [
    "posts_features.shape"
   ]
  },
  {
   "cell_type": "code",
   "execution_count": null,
   "id": "4b3ae22f-1bfa-4084-a839-86e037277eec",
   "metadata": {},
   "outputs": [],
   "source": [
    "key_posts = feature.get_key_posts(posts_features)"
   ]
  },
  {
   "cell_type": "code",
   "execution_count": null,
   "id": "3676a862-a7d4-402e-b15b-59215cd0b4ab",
   "metadata": {},
   "outputs": [],
   "source": [
    "lang_dist = normalise.language_distribution(key_posts)\n",
    "lang_dist"
   ]
  },
  {
   "cell_type": "code",
   "execution_count": null,
   "id": "7725e9e8-7d4f-41aa-94f4-71bb9bb41ab5",
   "metadata": {
    "tags": []
   },
   "outputs": [],
   "source": [
    "features_to_label = feature.get_features_to_label(posts_features)"
   ]
  },
  {
   "cell_type": "code",
   "execution_count": null,
   "id": "02c83024-c002-4e9a-ac38-1f42f0578e64",
   "metadata": {},
   "outputs": [],
   "source": [
    "features_to_label.head()"
   ]
  },
  {
   "cell_type": "code",
   "execution_count": null,
   "id": "08591ae8-22f2-4f0b-a35e-3c22ca1136f9",
   "metadata": {
    "tags": []
   },
   "outputs": [],
   "source": [
    "artifacts.dataframes.persist(artifacts.dataframes.url(ARTIFACTS_BASE_URL, \"posts_features\"), posts_features[[\"index\", \"facebook_id\", \"features\", \"features_count\", \"language\"]])"
   ]
  },
  {
   "cell_type": "code",
   "execution_count": null,
   "id": "da902556-49a9-414d-8eba-c8d929afa741",
   "metadata": {},
   "outputs": [],
   "source": [
    "with tentaclio.open(ARTIFACTS_BASE_URL + \"features_to_label.csv\"), \"w\") as fb:\n",
    "    features_to_label.to_csv(fb)"
   ]
  },
  {
   "cell_type": "code",
   "execution_count": null,
   "id": "37ecab16-ef87-4b10-a7c7-22f3179a9835",
   "metadata": {},
   "outputs": [],
   "source": []
  }
 ],
 "metadata": {
  "kernelspec": {
   "display_name": "Python 3",
   "language": "python",
   "name": "python3"
  },
  "language_info": {
   "codemirror_mode": {
    "name": "ipython",
    "version": 3
   },
   "file_extension": ".py",
   "mimetype": "text/x-python",
   "name": "python",
   "nbconvert_exporter": "python",
   "pygments_lexer": "ipython3",
   "version": "3.9.2"
  }
 },
 "nbformat": 4,
 "nbformat_minor": 5
}
