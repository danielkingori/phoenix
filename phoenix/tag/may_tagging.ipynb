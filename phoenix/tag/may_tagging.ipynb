{
 "cells": [
  {
   "cell_type": "markdown",
   "id": "ee6b9aae-e9ca-427a-9e6f-08d8a92633c9",
   "metadata": {},
   "source": [
    "# May tagging\n",
    "This notebook is does the tagging for May"
   ]
  },
  {
   "cell_type": "code",
   "execution_count": null,
   "id": "d20f471a-a32b-4071-84d1-64cf435ceb27",
   "metadata": {},
   "outputs": [],
   "source": [
    "%load_ext autoreload\n",
    "%autoreload 2"
   ]
  },
  {
   "cell_type": "code",
   "execution_count": null,
   "id": "72f8c18b-ddf0-4b81-87a0-2c6947ad6d06",
   "metadata": {},
   "outputs": [],
   "source": [
    "import datetime\n",
    "\n",
    "import pandas as pd\n",
    "import tentaclio\n",
    "\n",
    "from phoenix.common import artifacts\n",
    "from phoenix.common import utils\n",
    "from phoenix.tag import normalise\n",
    "from phoenix.tag import feature\n",
    "from phoenix.tag import data_pull"
   ]
  },
  {
   "cell_type": "code",
   "execution_count": null,
   "id": "f6e5ba25-e8b3-43de-ac2e-f9969d6da660",
   "metadata": {},
   "outputs": [],
   "source": [
    "utils.setup_notebook_output()\n",
    "utils.setup_notebook_logging()"
   ]
  },
  {
   "cell_type": "code",
   "execution_count": null,
   "id": "7f0f8264-bba9-4f73-bde8-fa415edebb0f",
   "metadata": {},
   "outputs": [],
   "source": [
    "# Parametrise the run execution date.\n",
    "# Format of the run date\n",
    "RUN_DATE_FORMAT = \"%Y-%m-%d\"\n",
    "# This can be overwritten at execution time by Papermill to enable historic runs and backfills etc.\n",
    "RUN_DATE = datetime.datetime.today().strftime(RUN_DATE_FORMAT)\n",
    "\n",
    "# Set Artefacts URL\n",
    "ARTIFACTS_BASE_URL = f\"{artifacts.urls.get_local()}{RUN_DATE}/\"\n",
    "\n",
    "# Input CSV\n",
    "FB_POSTS_INPUT_FOLDER_CSV = f\"{artifacts.urls.get_local()}input_csvs/facebook-ct-may/\"\n",
    "TWEETS_INPUT_FOLDER_JSON = f\"{artifacts.urls.get_local()}input_csvs/twitter-may/\""
   ]
  },
  {
   "cell_type": "code",
   "execution_count": null,
   "id": "eb190492-9a3c-4114-8bce-2729d6e9210a",
   "metadata": {},
   "outputs": [],
   "source": [
    "# Display params.\n",
    "print(\n",
    "ARTIFACTS_BASE_URL,\n",
    "FB_POSTS_INPUT_FOLDER_CSV,\n",
    "TWEETS_INPUT_FOLDER_JSON,\n",
    "RUN_DATE,\n",
    "sep='\\n',\n",
    ")"
   ]
  },
  {
   "cell_type": "code",
   "execution_count": null,
   "id": "82bf4799-74ed-480b-8618-ea1dea34571a",
   "metadata": {},
   "outputs": [],
   "source": [
    "# %env DASK_CLUSTER_IP=tcp://127.0.0.1:45143"
   ]
  },
  {
   "cell_type": "code",
   "execution_count": null,
   "id": "7649cd1e-a6eb-4a62-ad0c-f9c830c343f3",
   "metadata": {},
   "outputs": [],
   "source": [
    "utils.dask_global_init()"
   ]
  },
  {
   "cell_type": "markdown",
   "id": "2d208c06-a892-4e45-bc89-77d596d58dc2",
   "metadata": {},
   "source": [
    "## Facebook Posts"
   ]
  },
  {
   "cell_type": "code",
   "execution_count": null,
   "id": "945144d1-6d90-43d1-8ede-5d6ac012fcb3",
   "metadata": {},
   "outputs": [],
   "source": [
    "posts_df = data_pull.crowdtangle_csvs(FB_POSTS_INPUT_FOLDER_CSV)"
   ]
  },
  {
   "cell_type": "code",
   "execution_count": null,
   "id": "aeb33227-017e-4241-aeee-e00345262fe9",
   "metadata": {
    "tags": []
   },
   "outputs": [],
   "source": [
    "posts_df.head()"
   ]
  },
  {
   "cell_type": "code",
   "execution_count": null,
   "id": "adb15d77-3848-4249-8c8f-1dd158cb88d4",
   "metadata": {
    "tags": []
   },
   "outputs": [],
   "source": [
    "artifacts.dataframes.persist(artifacts.dataframes.url(ARTIFACTS_BASE_URL, \"normalised_posts\"), posts_df)"
   ]
  },
  {
   "cell_type": "code",
   "execution_count": null,
   "id": "76ca5321-7f26-4faf-bee4-09b2c64f35e0",
   "metadata": {},
   "outputs": [],
   "source": [
    "posts_df.shape"
   ]
  },
  {
   "cell_type": "code",
   "execution_count": null,
   "id": "d3d09671-b2bf-4c3b-a189-06551c463dc9",
   "metadata": {},
   "outputs": [],
   "source": [
    "posts_df = normalise.execute(posts_df)"
   ]
  },
  {
   "cell_type": "code",
   "execution_count": null,
   "id": "fb300f4b-8a8e-405b-94f8-5d31c90ec569",
   "metadata": {},
   "outputs": [],
   "source": [
    "lang_dist = normalise.language_distribution(posts_df)\n",
    "lang_dist"
   ]
  },
  {
   "cell_type": "code",
   "execution_count": null,
   "id": "823f843d-7dc1-483e-90f6-6c761500d4e2",
   "metadata": {
    "tags": []
   },
   "outputs": [],
   "source": [
    "posts_features_df = feature.features(posts_df)"
   ]
  },
  {
   "cell_type": "code",
   "execution_count": null,
   "id": "d069d7b4-1c31-4a8d-a917-fdf44eafde66",
   "metadata": {},
   "outputs": [],
   "source": [
    "posts_features = feature.explode_features(posts_features_df)"
   ]
  },
  {
   "cell_type": "code",
   "execution_count": null,
   "id": "d7ea3b9c-6f0a-4c2e-8e2d-1d329b1ded4f",
   "metadata": {},
   "outputs": [],
   "source": [
    "posts_features.shape"
   ]
  },
  {
   "cell_type": "code",
   "execution_count": null,
   "id": "4b3ae22f-1bfa-4084-a839-86e037277eec",
   "metadata": {},
   "outputs": [],
   "source": [
    "key_posts = feature.get_key_posts(posts_features)"
   ]
  },
  {
   "cell_type": "code",
   "execution_count": null,
   "id": "3676a862-a7d4-402e-b15b-59215cd0b4ab",
   "metadata": {},
   "outputs": [],
   "source": [
    "lang_dist = normalise.language_distribution(key_posts)\n",
    "lang_dist"
   ]
  },
  {
   "cell_type": "code",
   "execution_count": null,
   "id": "08591ae8-22f2-4f0b-a35e-3c22ca1136f9",
   "metadata": {
    "tags": []
   },
   "outputs": [],
   "source": [
    "artifacts.dataframes.persist(artifacts.dataframes.url(ARTIFACTS_BASE_URL, \"posts_features\"), posts_features[[\"index\", \"facebook_id\", \"features\", \"features_count\", \"language\"]])"
   ]
  },
  {
   "cell_type": "markdown",
   "id": "fd48f908-2411-4755-b3f8-7d29259bf043",
   "metadata": {},
   "source": [
    "## Tweets"
   ]
  },
  {
   "cell_type": "code",
   "execution_count": null,
   "id": "37ecab16-ef87-4b10-a7c7-22f3179a9835",
   "metadata": {
    "tags": []
   },
   "outputs": [],
   "source": [
    "tweets_df = data_pull.twitter_json(TWEETS_INPUT_FOLDER_JSON)"
   ]
  },
  {
   "cell_type": "code",
   "execution_count": null,
   "id": "01095b0f-7829-4a3d-bd36-61850d314d05",
   "metadata": {},
   "outputs": [],
   "source": [
    "tweets_df.head()"
   ]
  },
  {
   "cell_type": "code",
   "execution_count": null,
   "id": "b4143e70-407c-484c-88a1-4cd5a47d02b7",
   "metadata": {},
   "outputs": [],
   "source": [
    "tweets_df = normalise.execute(tweets_df, \"full_text\")"
   ]
  },
  {
   "cell_type": "code",
   "execution_count": null,
   "id": "e497ce09-461b-4988-9553-2dd954c39b0e",
   "metadata": {},
   "outputs": [],
   "source": [
    "tweets_df.shape"
   ]
  },
  {
   "cell_type": "code",
   "execution_count": null,
   "id": "e09bb6c8-0c71-4179-9541-f792cf40527a",
   "metadata": {},
   "outputs": [],
   "source": [
    "lang_dist = normalise.language_distribution(tweets_df)\n",
    "lang_dist"
   ]
  },
  {
   "cell_type": "code",
   "execution_count": null,
   "id": "03a3169d-ed98-44c3-98c3-c0b8e7342a16",
   "metadata": {},
   "outputs": [],
   "source": [
    "tweets_features_df = feature.features(tweets_df)"
   ]
  },
  {
   "cell_type": "code",
   "execution_count": null,
   "id": "17f1e7ea-6b3f-4182-bcc0-a9f817cb2b08",
   "metadata": {},
   "outputs": [],
   "source": [
    "tweets_features = feature.explode_features(tweets_features_df)"
   ]
  },
  {
   "cell_type": "code",
   "execution_count": null,
   "id": "bef8f4af-af78-43ef-9bfa-7bf154ce1de5",
   "metadata": {},
   "outputs": [],
   "source": [
    "key_tweets = feature.get_key_posts(tweets_features)"
   ]
  },
  {
   "cell_type": "code",
   "execution_count": null,
   "id": "54ea9e5a-6ca0-4c4e-8986-244f56f2693c",
   "metadata": {},
   "outputs": [],
   "source": [
    "lang_dist = normalise.language_distribution(key_tweets)\n",
    "lang_dist"
   ]
  },
  {
   "cell_type": "code",
   "execution_count": null,
   "id": "e5aa90d7-0442-4d4d-9a3a-d04879349e80",
   "metadata": {},
   "outputs": [],
   "source": [
    "artifacts.dataframes.persist(artifacts.dataframes.url(ARTIFACTS_BASE_URL, \"tweets_features\"), tweets_features[[\"index\", \"id_str\", \"features\", \"features_count\", \"language\"]])"
   ]
  },
  {
   "cell_type": "markdown",
   "id": "5997d9ca-535b-4999-886c-3ccf299d137d",
   "metadata": {},
   "source": [
    "## Join (all)"
   ]
  },
  {
   "cell_type": "code",
   "execution_count": null,
   "id": "6af7f25c-6159-41a2-847b-c5845c90d234",
   "metadata": {},
   "outputs": [],
   "source": [
    "all_features = normalise.join_fb_posts_tweets(posts_features, tweets_features)"
   ]
  },
  {
   "cell_type": "code",
   "execution_count": null,
   "id": "7a4c272a-3b5e-4bf9-a302-772ffa422821",
   "metadata": {},
   "outputs": [],
   "source": [
    "all_features.head()"
   ]
  },
  {
   "cell_type": "code",
   "execution_count": null,
   "id": "36908feb-6234-4faf-89dc-b50cef7ea8fe",
   "metadata": {},
   "outputs": [],
   "source": [
    "all_features.shape"
   ]
  },
  {
   "cell_type": "code",
   "execution_count": null,
   "id": "114cd713-8d0e-44c0-9623-971ce58797ae",
   "metadata": {},
   "outputs": [],
   "source": [
    "features_to_label = feature.get_features_to_label(all_features)"
   ]
  },
  {
   "cell_type": "code",
   "execution_count": null,
   "id": "7b5d6e6e-07fe-4a84-b22b-4cbf2f4a9ec5",
   "metadata": {},
   "outputs": [],
   "source": [
    "features_to_label.head()"
   ]
  },
  {
   "cell_type": "code",
   "execution_count": null,
   "id": "94274443-b4e9-496c-84a3-57c0cc6e6831",
   "metadata": {},
   "outputs": [],
   "source": [
    "features_to_label.shape"
   ]
  },
  {
   "cell_type": "code",
   "execution_count": null,
   "id": "d84440b5-47ba-4b19-a814-bab9dcd8541b",
   "metadata": {},
   "outputs": [],
   "source": [
    "with tentaclio.open(ARTIFACTS_BASE_URL + \"all_features_to_label.csv\", \"w\") as fb:\n",
    "    features_to_label.to_csv(fb)"
   ]
  },
  {
   "cell_type": "code",
   "execution_count": null,
   "id": "2635ddbd-023b-400b-b8e2-aa4bdbd5eeb1",
   "metadata": {},
   "outputs": [],
   "source": [
    "tweets_features_to_label = feature.get_features_to_label(all_features[all_features[\"object_type\"] == \"tweets\"])\n",
    "with tentaclio.open(ARTIFACTS_BASE_URL + \"tweets_features_to_label.csv\", \"w\") as fb:\n",
    "    tweets_features_to_label.to_csv(fb)"
   ]
  },
  {
   "cell_type": "code",
   "execution_count": 37,
   "id": "3334d678-0800-4c94-8645-a2d91b6becd2",
   "metadata": {},
   "outputs": [],
   "source": [
    "posts_features_to_label = feature.get_features_to_label(all_features[all_features[\"object_type\"] == \"facebook_posts\"])\n",
    "with tentaclio.open(ARTIFACTS_BASE_URL + \"posts_features_to_label.csv\", \"w\") as fb:\n",
    "    posts_features_to_label.to_csv(fb)"
   ]
  },
  {
   "cell_type": "code",
   "execution_count": null,
   "id": "d8841e18-6105-4f34-ba72-f6ad035e0455",
   "metadata": {},
   "outputs": [],
   "source": []
  }
 ],
 "metadata": {
  "kernelspec": {
   "display_name": "Python 3",
   "language": "python",
   "name": "python3"
  },
  "language_info": {
   "codemirror_mode": {
    "name": "ipython",
    "version": 3
   },
   "file_extension": ".py",
   "mimetype": "text/x-python",
   "name": "python",
   "nbconvert_exporter": "python",
   "pygments_lexer": "ipython3",
   "version": "3.9.2"
  }
 },
 "nbformat": 4,
 "nbformat_minor": 5
}
