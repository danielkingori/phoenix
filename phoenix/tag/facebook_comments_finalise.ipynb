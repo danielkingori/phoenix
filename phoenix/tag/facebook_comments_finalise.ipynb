{
 "cells": [
  {
   "cell_type": "markdown",
   "id": "ee6b9aae-e9ca-427a-9e6f-08d8a92633c9",
   "metadata": {},
   "source": [
    "# Finalise facebook comments\n",
    "Finalises the facebook comments.\n",
    "And persists it to s3.\n",
    "See docs for more information."
   ]
  },
  {
   "cell_type": "code",
   "execution_count": null,
   "id": "d20f471a-a32b-4071-84d1-64cf435ceb27",
   "metadata": {},
   "outputs": [],
   "source": [
    "%load_ext autoreload\n",
    "%autoreload 2"
   ]
  },
  {
   "cell_type": "code",
   "execution_count": null,
   "id": "72f8c18b-ddf0-4b81-87a0-2c6947ad6d06",
   "metadata": {},
   "outputs": [],
   "source": [
    "import datetime\n",
    "\n",
    "import pandas as pd\n",
    "import tentaclio\n",
    "\n",
    "from phoenix.common import artifacts, run_params\n",
    "from phoenix.common import utils\n",
    "from phoenix.tag import export\n",
    "from phoenix.tag import finalise, finalise_facebook_comments\n",
    "from phoenix.tag import object_filters"
   ]
  },
  {
   "cell_type": "code",
   "execution_count": null,
   "id": "f6e5ba25-e8b3-43de-ac2e-f9969d6da660",
   "metadata": {},
   "outputs": [],
   "source": [
    "utils.setup_notebook_output()\n",
    "utils.setup_notebook_logging()"
   ]
  },
  {
   "cell_type": "code",
   "execution_count": null,
   "id": "7f0f8264-bba9-4f73-bde8-fa415edebb0f",
   "metadata": {
    "tags": [
     "parameters"
    ]
   },
   "outputs": [],
   "source": [
    "# Parameters\n",
    "# See phoenix/common/run_datetime.py expected format of parameter\n",
    "RUN_DATETIME = None\n",
    "TENANT_ID = None\n",
    "\n",
    "# See phoenix/common/artifacts/registry_environment.py expected format of parameter\n",
    "ARTIFACTS_ENVIRONMENT_KEY = \"local\"\n",
    "\n",
    "# Filters for batch\n",
    "YEAR_FILTER = 2021\n",
    "# Without zero padding\n",
    "MONTH_FILTER = 8\n",
    "OBJECT_TYPE = \"facebook_comments\"\n",
    "\n",
    "# OUTPUT\n",
    "FINAL_URL_FACEBOOK_COMMENTS = None\n",
    "INCLUDE_OBJECTS_TENSIONS = True\n",
    "INCLUDE_SENTIMENT = True\n",
    "INCLUDE_OBJECTS_TOPICS = True"
   ]
  },
  {
   "cell_type": "code",
   "execution_count": null,
   "id": "00420e0c-45a5-43de-b900-5478f2fd994b",
   "metadata": {},
   "outputs": [],
   "source": [
    "cur_run_params = run_params.general.create(ARTIFACTS_ENVIRONMENT_KEY, TENANT_ID, RUN_DATETIME)\n",
    "    \n",
    "url_config = {\n",
    "    \"YEAR_FILTER\": int(YEAR_FILTER),\n",
    "    \"MONTH_FILTER\": int(MONTH_FILTER),\n",
    "    \"OBJECT_TYPE\": OBJECT_TYPE\n",
    "}\n",
    "\n",
    "TAGGING_RUNS_URL_FACEBOOK_COMMENTS_PULLED = cur_run_params.art_url_reg.get_url(\"tagging_runs-facebook_comments_pulled\", url_config)\n",
    "TAGGING_RUNS_URL_FACEBOOK_POSTS_TOPICS_FINAL = cur_run_params.art_url_reg.get_url(\"tagging_runs-facebook_posts_topics_final\", url_config)\n",
    "TAGGING_RUNS_URL_PIPELINE_BASE = cur_run_params.art_url_reg.get_url(\"tagging_runs-pipeline_base\", url_config)\n",
    "TAGGING_RUNS_URL_OBJECTS_TENSIONS = cur_run_params.art_url_reg.get_url(\"tagging_runs-objects_tensions\", url_config)\n",
    "TAGGING_RUNS_URL_OBJECTS_TOPICS = cur_run_params.art_url_reg.get_url(\"tagging_runs-objects_topics\", url_config)\n",
    "TAGGING_RUNS_URL_LANGUAGE_SENTIMENT_OBJECTS = cur_run_params.art_url_reg.get_url(\"tagging_runs-language_sentiment_objects\", url_config)\n",
    "TAGGING_RUNS_URL_FACEBOOK_COMMENTS_FINAL = cur_run_params.art_url_reg.get_url(\"tagging_runs-facebook_comments_final\", url_config)\n",
    "if not FINAL_URL_FACEBOOK_COMMENTS:\n",
    "    FINAL_URL_FACEBOOK_COMMENTS = cur_run_params.art_url_reg.get_url(\"final-facebook_comments\", url_config)"
   ]
  },
  {
   "cell_type": "code",
   "execution_count": null,
   "id": "eb190492-9a3c-4114-8bce-2729d6e9210a",
   "metadata": {},
   "outputs": [],
   "source": [
    "# Display params.\n",
    "print(\n",
    "TAGGING_RUNS_URL_FACEBOOK_COMMENTS_PULLED,\n",
    "TAGGING_RUNS_URL_FACEBOOK_POSTS_TOPICS_FINAL,\n",
    "TAGGING_RUNS_URL_PIPELINE_BASE,\n",
    "TAGGING_RUNS_URL_OBJECTS_TENSIONS,\n",
    "TAGGING_RUNS_URL_OBJECTS_TOPICS,\n",
    "TAGGING_RUNS_URL_LANGUAGE_SENTIMENT_OBJECTS,\n",
    "TAGGING_RUNS_URL_FACEBOOK_COMMENTS_FINAL,\n",
    "FINAL_URL_FACEBOOK_COMMENTS,\n",
    "cur_run_params.run_dt.dt,\n",
    "sep='\\n',\n",
    ")"
   ]
  },
  {
   "cell_type": "code",
   "execution_count": null,
   "id": "cc5d1522-198b-42af-959a-ab128c6392ec",
   "metadata": {},
   "outputs": [],
   "source": [
    "facebook_comments_df = artifacts.dataframes.get(TAGGING_RUNS_URL_FACEBOOK_COMMENTS_PULLED).dataframe"
   ]
  },
  {
   "cell_type": "code",
   "execution_count": null,
   "id": "38193ae8-7128-4b9f-8da4-a4c899e42b82",
   "metadata": {},
   "outputs": [],
   "source": [
    "facebook_comments_df.head()"
   ]
  },
  {
   "cell_type": "code",
   "execution_count": null,
   "id": "542d0b5c-5078-471e-a368-234f54ee2153",
   "metadata": {},
   "outputs": [],
   "source": [
    "objects = None\n",
    "if INCLUDE_OBJECTS_TOPICS and not INCLUDE_OBJECTS_TENSIONS:\n",
    "    objects = artifacts.dataframes.get(TAGGING_RUNS_URL_OBJECTS_TOPICS).dataframe\n",
    "    display(objects.head())"
   ]
  },
  {
   "cell_type": "code",
   "execution_count": null,
   "id": "d71cfe0a-ce63-44ae-837b-83447281449c",
   "metadata": {},
   "outputs": [],
   "source": [
    "if INCLUDE_OBJECTS_TENSIONS:\n",
    "    objects = artifacts.dataframes.get(TAGGING_RUNS_URL_OBJECTS_TENSIONS).dataframe\n",
    "    display(objects.head())"
   ]
  },
  {
   "cell_type": "code",
   "execution_count": null,
   "id": "f855c39e-175d-470f-9409-f357c96a2b49",
   "metadata": {},
   "outputs": [],
   "source": [
    "language_sentiment_objects = None\n",
    "if INCLUDE_SENTIMENT:\n",
    "    language_sentiment_objects = artifacts.dataframes.get(TAGGING_RUNS_URL_LANGUAGE_SENTIMENT_OBJECTS).dataframe\n",
    "    display(language_sentiment_objects.head())"
   ]
  },
  {
   "cell_type": "code",
   "execution_count": null,
   "id": "e75a5068-01c3-43dc-9474-4d0f176528fe",
   "metadata": {},
   "outputs": [],
   "source": [
    "facebook_comments_intermediate = finalise.join_objects_to_facebook_comments(\n",
    "    facebook_comments_df=facebook_comments_df,\n",
    "    objects_df=objects,\n",
    "    language_sentiment_objects_df=language_sentiment_objects,\n",
    ")"
   ]
  },
  {
   "cell_type": "code",
   "execution_count": null,
   "id": "956c8fc4",
   "metadata": {},
   "outputs": [],
   "source": [
    "facebook_comments_intermediate.shape"
   ]
  },
  {
   "cell_type": "code",
   "execution_count": null,
   "id": "8738526e",
   "metadata": {},
   "outputs": [],
   "source": [
    "facebook_posts_topics_df = artifacts.dataframes.get(TAGGING_RUNS_URL_FACEBOOK_POSTS_TOPICS_FINAL).dataframe"
   ]
  },
  {
   "cell_type": "code",
   "execution_count": null,
   "id": "e5cf6883",
   "metadata": {},
   "outputs": [],
   "source": [
    "facebook_posts_topics_df.shape"
   ]
  },
  {
   "cell_type": "code",
   "execution_count": null,
   "id": "12931bf9",
   "metadata": {},
   "outputs": [],
   "source": [
    "facebook_posts_topics_df"
   ]
  },
  {
   "cell_type": "code",
   "execution_count": null,
   "id": "b8ad884c-1a11-40cc-b84d-252cc1a174d8",
   "metadata": {},
   "outputs": [],
   "source": [
    "inherited_columns = finalise_facebook_comments.inherited_columns_for_facebook_comments(\n",
    "    posts_topics_df=facebook_posts_topics_df,\n",
    ")\n",
    "inherited_columns"
   ]
  },
  {
   "cell_type": "code",
   "execution_count": null,
   "id": "30b119ac",
   "metadata": {},
   "outputs": [],
   "source": [
    "facebook_comments_final = finalise_facebook_comments.inherit_from_facebook_posts_topics_df(\n",
    "    facebook_posts_topics_df, facebook_comments_intermediate, inherited_columns\n",
    ")"
   ]
  },
  {
   "cell_type": "code",
   "execution_count": null,
   "id": "9fbbfaa2-25be-495f-b0e0-4b979f6d3e7f",
   "metadata": {},
   "outputs": [],
   "source": [
    "facebook_comments_final.head()"
   ]
  },
  {
   "cell_type": "code",
   "execution_count": null,
   "id": "d8e8d77a",
   "metadata": {},
   "outputs": [],
   "source": [
    "facebook_comments_final.shape"
   ]
  },
  {
   "cell_type": "code",
   "execution_count": null,
   "id": "093d8943-56da-48e0-94f5-cac12a967507",
   "metadata": {},
   "outputs": [],
   "source": [
    "facebook_comments_final.dtypes"
   ]
  },
  {
   "cell_type": "code",
   "execution_count": null,
   "id": "25bf76a3-939c-4d12-aabb-e97c260b47f1",
   "metadata": {},
   "outputs": [],
   "source": [
    "_ = artifacts.dataframes.persist(FINAL_URL_FACEBOOK_COMMENTS, facebook_comments_final)"
   ]
  },
  {
   "cell_type": "code",
   "execution_count": null,
   "id": "2d7f7acd-057b-4e60-81d5-e6cb824d8732",
   "metadata": {},
   "outputs": [],
   "source": [
    "_ = artifacts.dataframes.persist(TAGGING_RUNS_URL_FACEBOOK_COMMENTS_FINAL, facebook_comments_final)"
   ]
  },
  {
   "cell_type": "code",
   "execution_count": null,
   "id": "91c944fd-8250-4391-b4f1-b9ddffa4b283",
   "metadata": {},
   "outputs": [],
   "source": [
    "artifacts.dataframes.read_schema(TAGGING_RUNS_URL_FACEBOOK_COMMENTS_FINAL)"
   ]
  },
  {
   "cell_type": "code",
   "execution_count": null,
   "id": "961b6adf-94ef-4447-9e1e-203f4ce5f2fb",
   "metadata": {},
   "outputs": [],
   "source": []
  }
 ],
 "metadata": {
  "kernelspec": {
   "display_name": "Python 3 (ipykernel)",
   "language": "python",
   "name": "python3"
  },
  "language_info": {
   "codemirror_mode": {
    "name": "ipython",
    "version": 3
   },
   "file_extension": ".py",
   "mimetype": "text/x-python",
   "name": "python",
   "nbconvert_exporter": "python",
   "pygments_lexer": "ipython3",
   "version": "3.9.2"
  }
 },
 "nbformat": 4,
 "nbformat_minor": 5
}
