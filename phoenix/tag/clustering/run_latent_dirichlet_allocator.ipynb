{
 "cells": [
  {
   "cell_type": "markdown",
   "id": "e7fdbfb9",
   "metadata": {},
   "source": [
    "# Group messages through Latent Dirichlet Allocation\n",
    "### Script that will group objects using LDA, visualise groups based on word clouds and tag the objects with the LDA grouping.\n",
    "\n",
    "## Expected message input:\n",
    "\n",
    "| Property | Data Type | Description |\n",
    "| :------- | :-------- | :---------- |\n",
    "| objectId | string | Id of the tweet, post or comment |\n",
    "| clean_text  | string | Message data to be analysed |\n",
    "| {grouping_column} | string | Optional column name used to run separate LDAs per group |\n",
    "\n",
    "## Expected grouping output:\n",
    "| Property | Data Type | Description |\n",
    "| :------- | :-------- | :---------- |\n",
    "| objectId | string | Id of the tweet, post or comment |\n",
    "| clean_text  | string | Message data to be analysed |\n",
    "| {grouping_column} | string | Optional column name used to run separate LDAs per group |\n",
    "| lda_name | string | grouping name when running separate LDAs per group. Uses values in {grouping_column} if given grouping_column, defaults to 'all' group name if not given |\n",
    "| lda_cloud | int | cloud number which object belongs to (default 1-10) |\n",
    "| lda_cloud_confidence | float | confidence that object belongs to the lda_cloud group (0.0-1.0 |\n",
    "\n",
    "\n",
    "### The LatentDirichletAllocator will also be saved as pickle. To load it, uncomment the last cell and run it"
   ]
  },
  {
   "cell_type": "code",
   "execution_count": null,
   "id": "82ade2b7-2061-4dbf-bc16-94139356a414",
   "metadata": {},
   "outputs": [],
   "source": [
    "%load_ext autoreload\n",
    "%autoreload 2"
   ]
  },
  {
   "cell_type": "code",
   "execution_count": null,
   "id": "b1dc060e-e1f0-4f65-984c-947eced65582",
   "metadata": {},
   "outputs": [],
   "source": [
    "import datetime\n",
    "\n",
    "import pandas as pd\n",
    "import tentaclio\n",
    "\n",
    "from phoenix.common import artifacts, run_params\n",
    "from phoenix.common import utils\n",
    "from phoenix.tag import clustering\n",
    "from phoenix.tag.topic import single_feature_match"
   ]
  },
  {
   "cell_type": "code",
   "execution_count": null,
   "id": "8cfe12df",
   "metadata": {},
   "outputs": [],
   "source": [
    "utils.setup_notebook_output()\n",
    "utils.setup_notebook_logging()"
   ]
  },
  {
   "cell_type": "code",
   "execution_count": null,
   "id": "edd38665-835a-48d1-9ae0-5484bb9c9978",
   "metadata": {
    "tags": [
     "parameters"
    ]
   },
   "outputs": [],
   "source": [
    "# Parameters\n",
    "# See phoenix/common/run_datetime.py expected format of parameter\n",
    "RUN_DATETIME = None\n",
    "\n",
    "TENANT_ID = None\n",
    "\n",
    "# See phoenix/common/artifacts/registry_environment.py expected format of parameter\n",
    "ARTIFACTS_ENVIRONMENT_KEY = \"local\"\n",
    "\n",
    "# Group names in dataframe\n",
    "GROUPING_TYPE = \"topic\"\n",
    "# Excluding the fill topic.\n",
    "# Amount of objects with fill topic is usually large\n",
    "# and causes performance of notebook to degrade beyond use\n",
    "EXCLUDED_GROUPS = [single_feature_match.FILL_TOPIC]\n",
    "\n",
    "# Filters for batch\n",
    "YEAR_FILTER = 2022\n",
    "# Without zero padding\n",
    "MONTH_FILTER = 1\n",
    "OBJECT_TYPE = \"facebook_posts\""
   ]
  },
  {
   "cell_type": "code",
   "execution_count": null,
   "id": "cedfe127-98ca-4c4e-a793-39900b80cc7b",
   "metadata": {},
   "outputs": [],
   "source": [
    "cur_run_params = run_params.general.create(ARTIFACTS_ENVIRONMENT_KEY, TENANT_ID, RUN_DATETIME)\n",
    "\n",
    "url_config = {\n",
    "    \"YEAR_FILTER\": int(YEAR_FILTER),\n",
    "    \"MONTH_FILTER\": int(MONTH_FILTER),\n",
    "    \"OBJECT_TYPE\": OBJECT_TYPE,\n",
    "}\n",
    "\n",
    "TAGGING_RUNS_URL_PIPELINE_BASE = cur_run_params.art_url_reg.get_url(\"tagging_runs-pipeline_base\", url_config)\n",
    "TAGGING_RUNS_URL_OBJECTS = cur_run_params.art_url_reg.get_url(\"tagging_runs-objects\", url_config)\n",
    "TAGGING_RUNS_URL_TOPICS = cur_run_params.art_url_reg.get_url(\"tagging_runs-topics\", url_config)\n",
    "TAGGING_RUNS_URL_OBJECTS_TOPICS = cur_run_params.art_url_reg.get_url(\"tagging_runs-objects_topics\", url_config)\n",
    "TAGGING_RUNS_URL_CLUSTERING = cur_run_params.art_url_reg.get_url(\"tagging_runs-clustering\", url_config)\n",
    "TAGGING_RUNS_URL_CLUSTERING_DASHBOARD = cur_run_params.art_url_reg.get_url(\"tagging_runs-clustering_dashboard\", url_config)"
   ]
  },
  {
   "cell_type": "code",
   "execution_count": null,
   "id": "50296396",
   "metadata": {},
   "outputs": [],
   "source": [
    "# Display params.\n",
    "print(\n",
    "TAGGING_RUNS_URL_PIPELINE_BASE,\n",
    "TAGGING_RUNS_URL_OBJECTS,\n",
    "TAGGING_RUNS_URL_TOPICS,\n",
    "TAGGING_RUNS_URL_CLUSTERING,\n",
    "GROUPING_TYPE,\n",
    "cur_run_params,\n",
    "sep='\\n',\n",
    ")"
   ]
  },
  {
   "cell_type": "code",
   "execution_count": null,
   "id": "1f785b4d",
   "metadata": {},
   "outputs": [],
   "source": [
    "object_df = artifacts.dataframes.get(TAGGING_RUNS_URL_OBJECTS).dataframe"
   ]
  },
  {
   "cell_type": "code",
   "execution_count": null,
   "id": "5d6decb9",
   "metadata": {},
   "outputs": [],
   "source": [
    "object_df.head()"
   ]
  },
  {
   "cell_type": "code",
   "execution_count": null,
   "id": "40fe1640",
   "metadata": {},
   "outputs": [],
   "source": [
    "object_df = clustering.utils.apply_grouping_to_objects(\n",
    "    grouping_type=GROUPING_TYPE,\n",
    "    object_df=object_df,\n",
    "    topic_df_url=TAGGING_RUNS_URL_TOPICS,\n",
    "    exclude_groupings=EXCLUDED_GROUPS,\n",
    ")"
   ]
  },
  {
   "cell_type": "code",
   "execution_count": null,
   "id": "207dfa2a",
   "metadata": {},
   "outputs": [],
   "source": [
    "object_df.shape"
   ]
  },
  {
   "cell_type": "code",
   "execution_count": null,
   "id": "00065425-20f0-448d-a1e2-66825890a6d7",
   "metadata": {},
   "outputs": [],
   "source": [
    "# This will immediately fit a StemmedCountVectorizer and might take a while to complete.\n",
    "lda = clustering.latent_dirichlet_allocation.LatentDirichletAllocator(object_df, grouping_column=GROUPING_TYPE)"
   ]
  },
  {
   "cell_type": "code",
   "execution_count": null,
   "id": "5d3afeed-f2ad-4b42-a751-54b71577c9e3",
   "metadata": {},
   "outputs": [],
   "source": [
    "print(lda.dfs.items())"
   ]
  },
  {
   "cell_type": "code",
   "execution_count": null,
   "id": "8e523c19-3cbe-4353-9ef1-9a5d40cf326b",
   "metadata": {},
   "outputs": [],
   "source": [
    "lda.vectorizers"
   ]
  },
  {
   "cell_type": "code",
   "execution_count": null,
   "id": "f92651a7-5d56-4bc7-b3ca-b539e763fbcc",
   "metadata": {},
   "outputs": [],
   "source": [
    "# This will train the Latent Dirichlet Allocation model and use GridSearch \n",
    "# to find the best hyperparameters, This will take quite a while to complete.\n",
    "lda.train()"
   ]
  },
  {
   "cell_type": "code",
   "execution_count": null,
   "id": "1e26523d-c4ea-4360-a455-f4bb6e041571",
   "metadata": {},
   "outputs": [],
   "source": [
    "lda.save_plot(TAGGING_RUNS_URL_CLUSTERING)"
   ]
  },
  {
   "cell_type": "code",
   "execution_count": null,
   "id": "932bd85f-26c5-4845-b6c4-d0bba68e42f0",
   "metadata": {},
   "outputs": [],
   "source": [
    "clustering.utils.save_for_dashboard(lda, TAGGING_RUNS_URL_CLUSTERING_DASHBOARD)"
   ]
  },
  {
   "cell_type": "code",
   "execution_count": null,
   "id": "0030c87c",
   "metadata": {},
   "outputs": [],
   "source": [
    "lda.tag_dataframe()"
   ]
  },
  {
   "cell_type": "code",
   "execution_count": null,
   "id": "35cfd9f9-8fc1-4c1a-9e7e-c00904ac7568",
   "metadata": {},
   "outputs": [],
   "source": [
    "lda.persist(TAGGING_RUNS_URL_CLUSTERING)"
   ]
  },
  {
   "cell_type": "code",
   "execution_count": null,
   "id": "eaeec32c",
   "metadata": {},
   "outputs": [],
   "source": [
    "lda.persist_model(TAGGING_RUNS_URL_CLUSTERING)"
   ]
  },
  {
   "cell_type": "markdown",
   "id": "a34921b6",
   "metadata": {},
   "source": [
    "### The LatentDirichletAllocator will also be saved as pickle. To load it, uncomment the last cell and run it"
   ]
  },
  {
   "cell_type": "code",
   "execution_count": null,
   "id": "af6d7f17",
   "metadata": {},
   "outputs": [],
   "source": [
    "# import pickle\n",
    "# with tentaclio.open(f\"{ARTIFACTS_BASE_URL}latent_dirichlet_allocator_model.sav\", 'rb') as f:\n",
    "#     lda_loaded = pickle.load(f)"
   ]
  }
 ],
 "metadata": {
  "celltoolbar": "Tags",
  "kernelspec": {
   "display_name": "Python 3 (ipykernel)",
   "language": "python",
   "name": "python3"
  },
  "language_info": {
   "codemirror_mode": {
    "name": "ipython",
    "version": 3
   },
   "file_extension": ".py",
   "mimetype": "text/x-python",
   "name": "python",
   "nbconvert_exporter": "python",
   "pygments_lexer": "ipython3",
   "version": "3.9.2"
  }
 },
 "nbformat": 4,
 "nbformat_minor": 5
}
