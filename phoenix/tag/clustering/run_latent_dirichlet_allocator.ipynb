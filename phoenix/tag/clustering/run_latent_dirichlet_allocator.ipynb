{
 "cells": [
  {
   "cell_type": "markdown",
   "id": "e7fdbfb9",
   "metadata": {},
   "source": [
    "# Group messages through Latent Dirichlet Allocation\n",
    "### Script that will group objects using LDA, visualise groups based on word clouds and tag the objects with the LDA grouping.\n",
    "\n",
    "## Expected message input:\n",
    "\n",
    "| Property | Data Type | Description |\n",
    "| :------- | :-------- | :---------- |\n",
    "| objectId | string | Id of the tweet, post or comment |\n",
    "| clean_text  | string | Message data to be analysed |\n",
    "| {grouping_column} | string | Optional column name used to run separate LDAs per group |\n",
    "\n",
    "## Expected grouping output:\n",
    "| Property | Data Type | Description |\n",
    "| :------- | :-------- | :---------- |\n",
    "| objectId | string | Id of the tweet, post or comment |\n",
    "| clean_text  | string | Message data to be analysed |\n",
    "| {grouping_column} | string | Optional column name used to run separate LDAs per group |\n",
    "| lda_name | string | grouping name when running separate LDAs per group. Uses values in {grouping_column} if given grouping_column, defaults to 'all' group name if not given |\n",
    "| lda_cloud | int | cloud number which object belongs to (default 1-10) |\n",
    "| lda_cloud_confidence | float | confidence that object belongs to the lda_cloud group (0.0-1.0 |\n",
    "\n",
    "\n",
    "### The LatentDirichletAllocator will also be saved as pickle. To load it, uncomment the last cell and run it"
   ]
  },
  {
   "cell_type": "code",
   "execution_count": null,
   "id": "82ade2b7-2061-4dbf-bc16-94139356a414",
   "metadata": {},
   "outputs": [],
   "source": [
    "%load_ext autoreload\n",
    "%autoreload 2"
   ]
  },
  {
   "cell_type": "code",
   "execution_count": null,
   "id": "b1dc060e-e1f0-4f65-984c-947eced65582",
   "metadata": {},
   "outputs": [],
   "source": [
    "import datetime\n",
    "\n",
    "import pandas as pd\n",
    "import tentaclio\n",
    "\n",
    "from phoenix.common import artifacts\n",
    "from phoenix.common import utils\n",
    "from phoenix.tag.clustering import latent_dirichlet_allocation\n"
   ]
  },
  {
   "cell_type": "code",
   "execution_count": null,
   "id": "edd38665-835a-48d1-9ae0-5484bb9c9978",
   "metadata": {
    "tags": [
     "parameters"
    ]
   },
   "outputs": [],
   "source": [
    "# Parametrise the run execution date.\n",
    "# Format of the run date\n",
    "RUN_DATE_FORMAT = \"%Y-%m-%d\"\n",
    "# This can be overwritten at execution time by Papermill to enable historic runs and backfills etc.\n",
    "RUN_DATE = datetime.datetime.today().strftime(RUN_DATE_FORMAT)\n",
    "\n",
    "# Set Artefacts URL\n",
    "ARTIFACTS_BASE_URL = f\"{artifacts.urls.get_local()}{RUN_DATE}/\"\n",
    "\n",
    "# Input\n",
    "ALL_OBJECTS = artifacts.dataframes.url(ARTIFACTS_BASE_URL, \"objects\")\n",
    "TOPICS_DF = artifacts.dataframes.url(ARTIFACTS_BASE_URL, \"topics\")\n",
    "# Group names in dataframe\n",
    "GROUP_NAMES = \"topic\""
   ]
  },
  {
   "cell_type": "code",
   "execution_count": null,
   "id": "8cfe12df",
   "metadata": {},
   "outputs": [],
   "source": [
    "utils.setup_notebook_output()\n",
    "utils.setup_notebook_logging()"
   ]
  },
  {
   "cell_type": "code",
   "execution_count": null,
   "id": "50296396",
   "metadata": {},
   "outputs": [],
   "source": [
    "# Display params.\n",
    "print(\n",
    "ARTIFACTS_BASE_URL,\n",
    "ALL_OBJECTS,\n",
    "TOPICS_DF,\n",
    "GROUP_NAMES,\n",
    "RUN_DATE,\n",
    "sep='\\n',\n",
    ")"
   ]
  },
  {
   "cell_type": "code",
   "execution_count": null,
   "id": "1f785b4d",
   "metadata": {},
   "outputs": [],
   "source": [
    "object_df = artifacts.dataframes.get(ALL_OBJECTS).dataframe"
   ]
  },
  {
   "cell_type": "code",
   "execution_count": null,
   "id": "5d6decb9",
   "metadata": {},
   "outputs": [],
   "source": [
    "object_df"
   ]
  },
  {
   "cell_type": "code",
   "execution_count": null,
   "id": "40fe1640",
   "metadata": {},
   "outputs": [],
   "source": [
    "if GROUP_NAMES == \"topic\":\n",
    "    topic_df = artifacts.dataframes.get(TOPICS_DF).dataframe\n",
    "    object_df = topic_df.merge(object_df[[\"object_id\",\"clean_text\"]], on=\"object_id\")"
   ]
  },
  {
   "cell_type": "code",
   "execution_count": null,
   "id": "207dfa2a",
   "metadata": {},
   "outputs": [],
   "source": [
    "object_df.shape"
   ]
  },
  {
   "cell_type": "code",
   "execution_count": null,
   "id": "00065425-20f0-448d-a1e2-66825890a6d7",
   "metadata": {},
   "outputs": [],
   "source": [
    "# This will immediately fit a StemmedCountVectorizer and might take a while to complete.\n",
    "lda = latent_dirichlet_allocation.LatentDirichletAllocator(object_df, grouping_column=GROUP_NAMES)"
   ]
  },
  {
   "cell_type": "code",
   "execution_count": null,
   "id": "5d3afeed-f2ad-4b42-a751-54b71577c9e3",
   "metadata": {},
   "outputs": [],
   "source": [
    "print(lda.dfs.items())"
   ]
  },
  {
   "cell_type": "code",
   "execution_count": null,
   "id": "8e523c19-3cbe-4353-9ef1-9a5d40cf326b",
   "metadata": {},
   "outputs": [],
   "source": [
    "lda.vectorizers"
   ]
  },
  {
   "cell_type": "code",
   "execution_count": null,
   "id": "f92651a7-5d56-4bc7-b3ca-b539e763fbcc",
   "metadata": {},
   "outputs": [],
   "source": [
    "# This will train the Latent Dirichlet Allocation model and use GridSearch \n",
    "# to find the best hyperparameters, This will take quite a while to complete.\n",
    "lda.train()"
   ]
  },
  {
   "cell_type": "code",
   "execution_count": null,
   "id": "1e26523d-c4ea-4360-a455-f4bb6e041571",
   "metadata": {},
   "outputs": [],
   "source": [
    "lda.save_plot(ARTIFACTS_BASE_URL)"
   ]
  },
  {
   "cell_type": "code",
   "execution_count": null,
   "id": "0030c87c",
   "metadata": {},
   "outputs": [],
   "source": [
    "lda.tag_dataframe()"
   ]
  },
  {
   "cell_type": "code",
   "execution_count": null,
   "id": "35cfd9f9-8fc1-4c1a-9e7e-c00904ac7568",
   "metadata": {},
   "outputs": [],
   "source": [
    "lda.persist(ARTIFACTS_BASE_URL)"
   ]
  },
  {
   "cell_type": "code",
   "execution_count": null,
   "id": "eaeec32c",
   "metadata": {},
   "outputs": [],
   "source": [
    "lda.persist_model(ARTIFACTS_BASE_URL)"
   ]
  },
  {
   "cell_type": "markdown",
   "id": "a34921b6",
   "metadata": {},
   "source": [
    "### The LatentDirichletAllocator will also be saved as pickle. To load it, uncomment the last cell and run it"
   ]
  },
  {
   "cell_type": "code",
   "execution_count": null,
   "id": "af6d7f17",
   "metadata": {},
   "outputs": [],
   "source": [
    "# import pickle\n",
    "# with tentaclio.open(f\"{ARTIFACTS_BASE_URL}latent_dirichlet_allocator_model.sav\", 'rb') as f:\n",
    "#     lda_loaded = pickle.load(f)"
   ]
  }
 ],
 "metadata": {
  "celltoolbar": "Tags",
  "kernelspec": {
   "display_name": "Python 3",
   "language": "python",
   "name": "python3"
  },
  "language_info": {
   "codemirror_mode": {
    "name": "ipython",
    "version": 3
   },
   "file_extension": ".py",
   "mimetype": "text/x-python",
   "name": "python",
   "nbconvert_exporter": "python",
   "pygments_lexer": "ipython3",
   "version": "3.9.2"
  }
 },
 "nbformat": 4,
 "nbformat_minor": 5
}
