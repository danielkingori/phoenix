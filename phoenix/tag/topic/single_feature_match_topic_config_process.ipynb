{
 "cells": [
  {
   "cell_type": "markdown",
   "id": "ad7d298f-cbd4-49a8-9a38-deee8a86195d",
   "metadata": {},
   "source": [
    "# Single feature match topic config process\n",
    "This notebook can add features to topic mappings to the config"
   ]
  },
  {
   "cell_type": "code",
   "execution_count": null,
   "id": "ff7c9676-945e-4f33-b139-c5820e163480",
   "metadata": {},
   "outputs": [],
   "source": [
    "%load_ext autoreload\n",
    "%autoreload 2"
   ]
  },
  {
   "cell_type": "code",
   "execution_count": null,
   "id": "51dc0bf3-8c05-4e5b-b883-42bb14e2095e",
   "metadata": {},
   "outputs": [],
   "source": [
    "import datetime\n",
    "\n",
    "import pandas as pd\n",
    "import tentaclio\n",
    "\n",
    "from phoenix.common import artifacts\n",
    "from phoenix.common import utils\n",
    "from phoenix.tag.topic import single_feature_match_topic_config as sfm_topic_config"
   ]
  },
  {
   "cell_type": "code",
   "execution_count": null,
   "id": "d433ac6f-7c0e-4f6f-961b-c9ef461e7457",
   "metadata": {},
   "outputs": [],
   "source": [
    "utils.setup_notebook_output()\n",
    "utils.setup_notebook_logging()"
   ]
  },
  {
   "cell_type": "code",
   "execution_count": null,
   "id": "bd2ea826-4b7b-4279-a6ca-fd7022c9dae9",
   "metadata": {
    "tags": [
     "parameters"
    ]
   },
   "outputs": [],
   "source": [
    "# Parametrise the run execution date.\n",
    "# Format of the run date\n",
    "RUN_DATE_FORMAT = \"%Y-%m-%d\"\n",
    "# This can be overwritten at execution time by Papermill to enable historic runs and backfills etc.\n",
    "RUN_DATE = datetime.datetime.today().strftime(RUN_DATE_FORMAT)\n",
    "\n",
    "# Set Artefacts URL\n",
    "ARTIFACTS_BASE_URL = f\"{artifacts.urls.get_local()}{RUN_DATE}/\"\n",
    "\n",
    "# Input\n",
    "FOLDER_FEATURE_TOPIC_MAPPINGS_TO_ADD = f\"{ARTIFACTS_BASE_URL}/feature_topic_configs/\""
   ]
  },
  {
   "cell_type": "code",
   "execution_count": null,
   "id": "12439da1-3758-46a0-82ca-e337b1a100de",
   "metadata": {},
   "outputs": [],
   "source": [
    "# Display params.\n",
    "print(\n",
    "ARTIFACTS_BASE_URL,\n",
    "FOLDER_FEATURE_TOPIC_MAPPINGS_TO_ADD,\n",
    "RUN_DATE,\n",
    "sep='\\n',\n",
    ")"
   ]
  },
  {
   "cell_type": "code",
   "execution_count": null,
   "id": "8893a49c-aa69-4bc4-b30e-20c1f9d4ae54",
   "metadata": {},
   "outputs": [],
   "source": [
    "topic_config = sfm_topic_config.get_topic_config()\n",
    "topic_config.head()"
   ]
  },
  {
   "cell_type": "code",
   "execution_count": null,
   "id": "dea5d205-37ac-4f08-988d-7610ecb14e9b",
   "metadata": {},
   "outputs": [],
   "source": [
    "topic_config.shape"
   ]
  },
  {
   "cell_type": "code",
   "execution_count": null,
   "id": "beb8e3e0-6812-42bb-9827-4009336c6a9c",
   "metadata": {},
   "outputs": [],
   "source": [
    "new_committed_topic_config = sfm_topic_config.create_new_committable_topic_config(topic_config, FOLDER_FEATURE_TOPIC_MAPPINGS_TO_ADD)\n",
    "new_committed_topic_config.head()"
   ]
  },
  {
   "cell_type": "code",
   "execution_count": null,
   "id": "29186079-7b08-4527-9176-a36a2e6bb697",
   "metadata": {},
   "outputs": [],
   "source": [
    "new_committed_topic_config.shape"
   ]
  },
  {
   "cell_type": "code",
   "execution_count": null,
   "id": "3339371f-d1c4-4a90-9c42-66c9afc3b56b",
   "metadata": {},
   "outputs": [],
   "source": [
    "sfm_topic_config.persist_topic_config_csv(new_committed_topic_config)"
   ]
  },
  {
   "cell_type": "code",
   "execution_count": null,
   "id": "87def84e-23d3-4767-8094-5c6c0b0fe57b",
   "metadata": {},
   "outputs": [],
   "source": []
  }
 ],
 "metadata": {
  "kernelspec": {
   "display_name": "Python 3",
   "language": "python",
   "name": "python3"
  },
  "language_info": {
   "codemirror_mode": {
    "name": "ipython",
    "version": 3
   },
   "file_extension": ".py",
   "mimetype": "text/x-python",
   "name": "python",
   "nbconvert_exporter": "python",
   "pygments_lexer": "ipython3",
   "version": "3.9.2"
  }
 },
 "nbformat": 4,
 "nbformat_minor": 5
}
