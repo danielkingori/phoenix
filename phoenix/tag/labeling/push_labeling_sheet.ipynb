{
 "cells": [
  {
   "cell_type": "code",
   "execution_count": null,
   "id": "4cde38e7",
   "metadata": {},
   "outputs": [],
   "source": [
    "%load_ext autoreload\n",
    "%autoreload 2"
   ]
  },
  {
   "cell_type": "code",
   "execution_count": null,
   "id": "bcff36ae",
   "metadata": {},
   "outputs": [],
   "source": [
    "import datetime\n",
    "\n",
    "import pandas as pd\n",
    "import tentaclio\n",
    "\n",
    "from phoenix.common import artifacts, run_datetime, utils\n",
    "from phoenix.tag.topic import single_feature_match_topic_config as sfm_topic_config\n",
    "from phoenix.tag.labeling.generate_label_sheet import create_new_labeling_sheet\n",
    "from phoenix.tag import normalise"
   ]
  },
  {
   "cell_type": "code",
   "execution_count": null,
   "id": "17082952",
   "metadata": {},
   "outputs": [],
   "source": [
    "utils.setup_notebook_output()\n",
    "utils.setup_notebook_logging()"
   ]
  },
  {
   "cell_type": "code",
   "execution_count": null,
   "id": "ec068547",
   "metadata": {},
   "outputs": [],
   "source": [
    "# Parameters\n",
    "# See phoenix/common/run_datetime.py expected format of parameter\n",
    "RUN_DATETIME = None\n",
    "\n",
    "# See phoenix/common/artifacts/registry_environment.py expected format of parameter\n",
    "ARTIFACTS_ENVIRONMENT_KEY = \"local\"\n",
    "\n",
    "# Filters for batch\n",
    "YEAR_FILTER = 2021\n",
    "# Without zero padding\n",
    "MONTH_FILTER = 8\n",
    "OBJECT_TYPE = \"facebook_posts\"\n",
    "PIPELINE_ID = \"test\"\n",
    "\n",
    "# OUTPUT\n",
    "FINAL_URL_FACEBOOK_POSTS = None"
   ]
  },
  {
   "cell_type": "code",
   "execution_count": null,
   "id": "5b88b0db",
   "metadata": {},
   "outputs": [],
   "source": [
    "if RUN_DATETIME:\n",
    "    run_dt = run_datetime.from_file_safe_str(RUN_DATETIME)\n",
    "else:\n",
    "    run_dt = run_datetime.create_run_datetime_now()\n",
    "    \n",
    "url_config = {\n",
    "    \"YEAR_FILTER\": int(YEAR_FILTER),\n",
    "    \"MONTH_FILTER\": int(MONTH_FILTER),\n",
    "    \"OBJECT_TYPE\": OBJECT_TYPE,\n",
    "}\n",
    "art_url_reg = artifacts.registry.ArtifactURLRegistry(run_dt, ARTIFACTS_ENVIRONMENT_KEY)\n",
    "TAGGING_RUNS_URL_FEATURES_FOR_TAGGING_FOLDER = art_url_reg.get_url(\"tagging_runs-features_for_tagging\", url_config)\n",
    "PIPELINE_TO_GOOGLE_SHEET_FOLDER_MAPPING = art_url_reg.get_url(\"static-g_sheet_folder_ids\", url_config)"
   ]
  },
  {
   "cell_type": "code",
   "execution_count": null,
   "id": "8d662f80",
   "metadata": {},
   "outputs": [],
   "source": [
    "# Display params.\n",
    "print(\n",
    "TAGGING_RUNS_URL_FEATURES_FOR_TAGGING_FOLDER,\n",
    "PIPELINE_TO_GOOGLE_SHEET_FOLDER_MAPPING,\n",
    "run_dt.dt,\n",
    "YEAR_FILTER,\n",
    "MONTH_FILTER,\n",
    "sep='\\n',\n",
    ")"
   ]
  },
  {
   "cell_type": "code",
   "execution_count": null,
   "id": "cb467f36",
   "metadata": {},
   "outputs": [],
   "source": [
    "# This is placeholder code while waiting for the artifacts interface\n",
    "PIPELINE_ID = \"test\"\n",
    "with tentaclio.open(PIPELINE_TO_GOOGLE_SHEET_FOLDER_MAPPING) as fb:\n",
    "    folder_mapping = pd.read_csv(fb)\n",
    "    \n",
    "g_sheet_folder_id = folder_mapping[folder_mapping[\"pipeline_id\"] == PIPELINE_ID].iloc[0][\"folder_id\"]"
   ]
  },
  {
   "cell_type": "code",
   "execution_count": null,
   "id": "c605ed0e",
   "metadata": {},
   "outputs": [],
   "source": [
    "g_sheet_folder_id"
   ]
  },
  {
   "cell_type": "code",
   "execution_count": null,
   "id": "c24c5f4b",
   "metadata": {},
   "outputs": [],
   "source": [
    "df = normalise.merge(TAGGING_RUNS_URL_FEATURES_FOR_TAGGING_FOLDER)"
   ]
  },
  {
   "cell_type": "code",
   "execution_count": null,
   "id": "0b56c469",
   "metadata": {},
   "outputs": [],
   "source": [
    "df"
   ]
  },
  {
   "cell_type": "code",
   "execution_count": null,
   "id": "ae3c8dd3",
   "metadata": {},
   "outputs": [],
   "source": [
    "labeling_df = create_new_labeling_sheet_df(df)"
   ]
  },
  {
   "cell_type": "code",
   "execution_count": null,
   "id": "e295a361",
   "metadata": {},
   "outputs": [],
   "source": [
    "labeling_df.head()"
   ]
  },
  {
   "cell_type": "code",
   "execution_count": null,
   "id": "97ec92f0",
   "metadata": {},
   "outputs": [],
   "source": [
    "# temp usage of GoogleDriveInterface while the artifacts module is being developed\n",
    "gdi = artifacts.google_drive.GoogleDriveInterface()"
   ]
  },
  {
   "cell_type": "code",
   "execution_count": null,
   "id": "37d3b7cb",
   "metadata": {},
   "outputs": [],
   "source": [
    "sheet_mapping = gdi.get_files_in_folder(g_sheet_folder_id)"
   ]
  },
  {
   "cell_type": "code",
   "execution_count": null,
   "id": "2f83b7a6",
   "metadata": {},
   "outputs": [],
   "source": [
    "sheet_id = sheet_mapping.get(\"test_sheet_phoenix\")"
   ]
  },
  {
   "cell_type": "code",
   "execution_count": null,
   "id": "02efb315",
   "metadata": {},
   "outputs": [],
   "source": [
    "sheet_id"
   ]
  },
  {
   "cell_type": "code",
   "execution_count": null,
   "id": "739a83a2",
   "metadata": {},
   "outputs": [],
   "source": [
    "gdi.update_sheet_with_df(df, sheet_id, clear_sheet=True)"
   ]
  },
  {
   "cell_type": "code",
   "execution_count": null,
   "id": "7220cc87",
   "metadata": {},
   "outputs": [],
   "source": []
  }
 ],
 "metadata": {
  "kernelspec": {
   "display_name": "Python 3 (ipykernel)",
   "language": "python",
   "name": "python3"
  },
  "language_info": {
   "codemirror_mode": {
    "name": "ipython",
    "version": 3
   },
   "file_extension": ".py",
   "mimetype": "text/x-python",
   "name": "python",
   "nbconvert_exporter": "python",
   "pygments_lexer": "ipython3",
   "version": "3.9.2"
  }
 },
 "nbformat": 4,
 "nbformat_minor": 5
}
