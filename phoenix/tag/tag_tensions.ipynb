{
 "cells": [
  {
   "cell_type": "markdown",
   "id": "ed8a10c7",
   "metadata": {},
   "source": [
    "## Tags objects with tensions and writes back tagged_objects_tensions\n",
    "\n",
    "reads objects, adds the columns below, and writes back to `object_tensions.parquet` Each of the following columns are of type boolean\n",
    "\n",
    "- `is_economic_labour_tension`,\n",
    "- `is_sectarian_tension`,\n",
    "- `is_environmental_tension`,\n",
    "- `is_political_tension`,\n",
    "- `is_service_related_tension`,\n",
    "- `is_community_insecurity_tension`,\n",
    "- `is_geopolitics_tension`,\n",
    "- `is_intercommunity_relations_tension`\n",
    "\n",
    "Currently uses the latest CountVectorizerTensionClassifier trained to predict which tensions are present in objects. It only classifies tensions it has trained for, with all other tensions being False.\n"
   ]
  },
  {
   "cell_type": "code",
   "execution_count": null,
   "id": "e5ad9c49",
   "metadata": {},
   "outputs": [],
   "source": [
    "%load_ext autoreload\n",
    "%autoreload 2"
   ]
  },
  {
   "cell_type": "code",
   "execution_count": null,
   "id": "152c7274",
   "metadata": {},
   "outputs": [],
   "source": [
    "import datetime\n",
    "import pickle\n",
    "\n",
    "import pandas as pd\n",
    "import tentaclio\n",
    "\n",
    "from phoenix.common import artifacts, run_datetime\n",
    "from phoenix.common import utils\n",
    "from phoenix.custom_models.tension_classifier.tension_classifier import CountVectorizerTensionClassifier"
   ]
  },
  {
   "cell_type": "code",
   "execution_count": null,
   "id": "d700d26e",
   "metadata": {},
   "outputs": [],
   "source": [
    "utils.setup_notebook_output()\n",
    "utils.setup_notebook_logging()"
   ]
  },
  {
   "cell_type": "code",
   "execution_count": null,
   "id": "05a31656",
   "metadata": {},
   "outputs": [],
   "source": [
    "# Parameters\n",
    "# See phoenix/common/run_datetime.py expected format of parameter\n",
    "RUN_DATETIME = None\n",
    "\n",
    "# See phoenix/common/artifacts/registry_environment.py expected format of parameter\n",
    "ARTIFACTS_ENVIRONMENT_KEY = \"local\"\n",
    "\n",
    "# Filters for batch\n",
    "YEAR_FILTER = 2021\n",
    "# Without zero padding\n",
    "MONTH_FILTER = 8\n",
    "OBJECT_TYPE = \"facebook_posts\"\n",
    "\n",
    "# Model URLs\n",
    "MODEL_SUFFIX = \"\"\n",
    "MODEL_BASE_URL = None"
   ]
  },
  {
   "cell_type": "code",
   "execution_count": null,
   "id": "7d46caf5-c7be-414c-a739-27171c34405d",
   "metadata": {},
   "outputs": [],
   "source": [
    "if RUN_DATETIME:\n",
    "    run_dt = run_datetime.from_file_safe_str(RUN_DATETIME)\n",
    "else:\n",
    "    run_dt = run_datetime.create_run_datetime_now()\n",
    "    \n",
    "if not MODEL_BASE_URL:\n",
    "    MODEL_BASE_URL = f\"{artifacts.urls.get_local()}{run_dt.to_run_date_str()}/\"\n",
    "    \n",
    "url_config = {\n",
    "    \"YEAR_FILTER\": YEAR_FILTER,\n",
    "    \"MONTH_FILTER\": MONTH_FILTER,\n",
    "    \"OBJECT_TYPE\": OBJECT_TYPE,\n",
    "}\n",
    "art_url_reg = artifacts.registry.ArtifactURLRegistry(run_dt, ARTIFACTS_ENVIRONMENT_KEY, artifacts.registry_mappers.get_default_mappers())\n",
    "TAGGING_RUNS_URL_PIPELINE_BASE = art_url_reg.get_url(\"tagging_runs-pipeline_base\", url_config)\n",
    "TAGGING_RUNS_URL_OBJECTS = art_url_reg.get_url(\"tagging_runs-objects\", url_config)\n",
    "TAGGING_RUNS_URL_TOPICS = art_url_reg.get_url(\"tagging_runs-topics\", url_config)\n",
    "TAGGING_RUNS_URL_OBJECTS_TENSIONS = art_url_reg.get_url(\"tagging_runs-objects_tensions\", url_config)"
   ]
  },
  {
   "cell_type": "code",
   "execution_count": null,
   "id": "15ceec46",
   "metadata": {},
   "outputs": [],
   "source": [
    "# Display params.\n",
    "print(\n",
    "TAGGING_RUNS_URL_PIPELINE_BASE,\n",
    "TAGGING_RUNS_URL_OBJECTS,\n",
    "TAGGING_RUNS_URL_TOPICS,\n",
    "TAGGING_RUNS_URL_OBJECTS_TENSIONS,\n",
    "MODEL_BASE_URL,\n",
    "run_dt.dt,\n",
    "sep='\\n',\n",
    ")"
   ]
  },
  {
   "cell_type": "code",
   "execution_count": null,
   "id": "2b88bed6",
   "metadata": {},
   "outputs": [],
   "source": [
    "objects_df = artifacts.dataframes.get(TAGGING_RUNS_URL_OBJECTS).dataframe"
   ]
  },
  {
   "cell_type": "code",
   "execution_count": null,
   "id": "ded44dbb",
   "metadata": {},
   "outputs": [],
   "source": [
    "objects_df"
   ]
  },
  {
   "cell_type": "code",
   "execution_count": null,
   "id": "c90b3a76",
   "metadata": {},
   "outputs": [],
   "source": [
    "# will later use this, but not yet\n",
    "# topics_df = artifacts.dataframes.get(TAGGING_RUNS_URL_TOPICS)"
   ]
  },
  {
   "cell_type": "code",
   "execution_count": null,
   "id": "3a77e983",
   "metadata": {},
   "outputs": [],
   "source": [
    "# Model Suffix can later be used to distinguish between models, but for now is left empty\n",
    "# and we use the latest model.\n",
    "model_filename = CountVectorizerTensionClassifier.get_model_name(MODEL_SUFFIX)"
   ]
  },
  {
   "cell_type": "code",
   "execution_count": null,
   "id": "9f0be082",
   "metadata": {},
   "outputs": [],
   "source": [
    "filepath_model = f\"{MODEL_BASE_URL}{model_filename}.pickle\""
   ]
  },
  {
   "cell_type": "code",
   "execution_count": null,
   "id": "41a17dea",
   "metadata": {},
   "outputs": [],
   "source": [
    "with tentaclio.open(filepath_model, \"rb\") as f:\n",
    "    tension_classifier = pickle.load(f)"
   ]
  },
  {
   "cell_type": "code",
   "execution_count": null,
   "id": "9224c09c",
   "metadata": {},
   "outputs": [],
   "source": [
    "print(f\"We will classify the following tensions: {tension_classifier.class_labels}\")"
   ]
  },
  {
   "cell_type": "code",
   "execution_count": null,
   "id": "951e4530",
   "metadata": {},
   "outputs": [],
   "source": [
    "objects_df = tension_classifier.predict(objects_df, \"clean_text\")"
   ]
  },
  {
   "cell_type": "code",
   "execution_count": null,
   "id": "5630691b",
   "metadata": {},
   "outputs": [],
   "source": [
    "objects_df[tensions_cols] = objects_df[tensions_cols].astype(bool) "
   ]
  },
  {
   "cell_type": "code",
   "execution_count": null,
   "id": "73f8747a",
   "metadata": {},
   "outputs": [],
   "source": [
    "a = artifacts.dataframes.persist(TAGGING_RUNS_URL_OBJECTS_TENSIONS, objects_df)"
   ]
  }
 ],
 "metadata": {
  "kernelspec": {
   "display_name": "Python 3 (ipykernel)",
   "language": "python",
   "name": "python3"
  },
  "language_info": {
   "codemirror_mode": {
    "name": "ipython",
    "version": 3
   },
   "file_extension": ".py",
   "mimetype": "text/x-python",
   "name": "python",
   "nbconvert_exporter": "python",
   "pygments_lexer": "ipython3",
   "version": "3.9.2"
  }
 },
 "nbformat": 4,
 "nbformat_minor": 5
}
