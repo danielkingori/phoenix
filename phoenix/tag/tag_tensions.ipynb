{
 "cells": [
  {
   "cell_type": "markdown",
   "id": "ed8a10c7",
   "metadata": {},
   "source": [
    "## Tags objects with tensions and writes back tagged_objects_tensions\n",
    "\n",
    "reads objects, adds the columns below, and writes back to `object_tensions.parquet` Each of the following columns are of type boolean\n",
    "\n",
    "`is_economic_labour_tension`,\n",
    "`is_sectarian_tension`,\n",
    "`is_environmental_tension`,\n",
    "`is_political_tension`,\n",
    "`is_service_related_tension`,\n",
    "`is_community_insecurity_tension`,\n",
    "`is_geopolitics_tension`,\n",
    "`is_intercommunity_relations_tension`\n",
    "\n",
    "Currently very dumb and marks any `is_key_object` objects as `is_intercommunity_relations_tension` True with all other tensions being False. non-`is_key_object` objects have all tensions as False. \n",
    "This notebook will use the tension model once it's made."
   ]
  },
  {
   "cell_type": "code",
   "execution_count": null,
   "id": "e5ad9c49",
   "metadata": {},
   "outputs": [],
   "source": [
    "%load_ext autoreload\n",
    "%autoreload 2"
   ]
  },
  {
   "cell_type": "code",
   "execution_count": null,
   "id": "152c7274",
   "metadata": {},
   "outputs": [],
   "source": [
    "import datetime\n",
    "\n",
    "import pandas as pd\n",
    "import tentaclio\n",
    "\n",
    "from phoenix.common import artifacts\n",
    "from phoenix.common import utils"
   ]
  },
  {
   "cell_type": "code",
   "execution_count": null,
   "id": "d700d26e",
   "metadata": {},
   "outputs": [],
   "source": [
    "utils.setup_notebook_output()\n",
    "utils.setup_notebook_logging()"
   ]
  },
  {
   "cell_type": "code",
   "execution_count": null,
   "id": "05a31656",
   "metadata": {},
   "outputs": [],
   "source": [
    "# Parametrise the run execution date.\n",
    "# Format of the run date\n",
    "RUN_DATE_FORMAT = \"%Y-%m-%d\"\n",
    "# This can be overwritten at execution time by Papermill to enable historic runs and backfills etc.\n",
    "RUN_DATE = datetime.datetime.today().strftime(RUN_DATE_FORMAT)\n",
    "\n",
    "# TODO: this has to be refactored so that MONTH_PREFIX is relational to the YEAR_FILTER and MONTH_FILTER\n",
    "YEAR_FILTER = 2021\n",
    "MONTH_FILTER = 5\n",
    "MONTH_PREFIX = f\"year_filter={YEAR_FILTER}/month_filter={MONTH_FILTER}/\"\n",
    "\n",
    "# Set Artefacts URL\n",
    "ARTIFACTS_BASE_URL = f\"{artifacts.urls.get_local()}{RUN_DATE}/facebook_posts/{MONTH_PREFIX}\"\n",
    "\n",
    "# Input\n",
    "OBJECTS_PATH = artifacts.dataframes.url(ARTIFACTS_BASE_URL, \"objects\")\n",
    "TOPICS_PATH = artifacts.dataframes.url(ARTIFACTS_BASE_URL, \"topics\")\n",
    "\n",
    "# Output\n",
    "TAGGED_OBJECTS_PATH = artifacts.dataframes.url(ARTIFACTS_BASE_URL, \"object_tensions\")"
   ]
  },
  {
   "cell_type": "code",
   "execution_count": null,
   "id": "15ceec46",
   "metadata": {},
   "outputs": [],
   "source": [
    "# Display params.\n",
    "print(\n",
    "ARTIFACTS_BASE_URL,\n",
    "OBJECTS_PATH,\n",
    "TOPICS_PATH,\n",
    "TAGGED_OBJECTS_PATH,\n",
    "RUN_DATE,\n",
    "sep='\\n',\n",
    ")"
   ]
  },
  {
   "cell_type": "code",
   "execution_count": null,
   "id": "2b88bed6",
   "metadata": {},
   "outputs": [],
   "source": [
    "objects_df = artifacts.dataframes.get(OBJECTS_PATH).dataframe"
   ]
  },
  {
   "cell_type": "code",
   "execution_count": null,
   "id": "ded44dbb",
   "metadata": {},
   "outputs": [],
   "source": [
    "objects_df"
   ]
  },
  {
   "cell_type": "code",
   "execution_count": null,
   "id": "c90b3a76",
   "metadata": {},
   "outputs": [],
   "source": [
    "# will later use this, but not yet\n",
    "# topics_df = artifacts.dataframes.get(TOPICS_PATH)"
   ]
  },
  {
   "cell_type": "code",
   "execution_count": null,
   "id": "ff0caf3e",
   "metadata": {},
   "outputs": [],
   "source": [
    "tensions_cols = [\n",
    "    \"is_economic_labour_tension\",\n",
    "    \"is_sectarian_tension\",\n",
    "    \"is_environmental_tension\",\n",
    "    \"is_political_tension\",\n",
    "    \"is_service_related_tension\",\n",
    "    \"is_community_insecurity_tension\",\n",
    "    \"is_geopolitics_tension\",\n",
    "    \"is_intercommunity_relations_tension\"\n",
    "]"
   ]
  },
  {
   "cell_type": "code",
   "execution_count": null,
   "id": "69232c46",
   "metadata": {},
   "outputs": [],
   "source": [
    "for tension_col in tensions_cols:\n",
    "    objects_df[tension_col] = False"
   ]
  },
  {
   "cell_type": "code",
   "execution_count": null,
   "id": "0005080a",
   "metadata": {},
   "outputs": [],
   "source": [
    "objects_df[\"is_intercommunity_relations_tension\"] = objects_df[\"is_key_object\"]"
   ]
  },
  {
   "cell_type": "code",
   "execution_count": null,
   "id": "73f8747a",
   "metadata": {},
   "outputs": [],
   "source": [
    "a = artifacts.dataframes.persist(TAGGED_OBJECTS_PATH, objects_df)"
   ]
  }
 ],
 "metadata": {
  "kernelspec": {
   "display_name": "Python 3",
   "language": "python",
   "name": "python3"
  },
  "language_info": {
   "codemirror_mode": {
    "name": "ipython",
    "version": 3
   },
   "file_extension": ".py",
   "mimetype": "text/x-python",
   "name": "python",
   "nbconvert_exporter": "python",
   "pygments_lexer": "ipython3",
   "version": "3.9.2"
  }
 },
 "nbformat": 4,
 "nbformat_minor": 5
}
