{
 "cells": [
  {
   "cell_type": "markdown",
   "id": "ed8a10c7",
   "metadata": {},
   "source": [
    "## Tags objects with tensions and writes back tagged_objects_tensions\n",
    "\n",
    "reads objects, adds the columns below, and writes back to `object_tensions.parquet` Each of the following columns are of type boolean\n",
    "\n",
    "- `is_economic_labour_tension`,\n",
    "- `is_sectarian_tension`,\n",
    "- `is_environmental_tension`,\n",
    "- `is_political_tension`,\n",
    "- `is_service_related_tension`,\n",
    "- `is_community_insecurity_tension`,\n",
    "- `is_geopolitics_tension`,\n",
    "- `is_intercommunity_relations_tension`\n",
    "- `has_tension`\n",
    "\n",
    "Currently uses the latest CountVectorizerTensionClassifier trained to predict which tensions are present in objects. It only classifies tensions it has trained for, with all other tensions being False.\n",
    "\n",
    "The `has_tension` column is True if any of the other tensions is True. \n"
   ]
  },
  {
   "cell_type": "code",
   "execution_count": null,
   "id": "e5ad9c49",
   "metadata": {},
   "outputs": [],
   "source": [
    "%load_ext autoreload\n",
    "%autoreload 2"
   ]
  },
  {
   "cell_type": "code",
   "execution_count": null,
   "id": "152c7274",
   "metadata": {},
   "outputs": [],
   "source": [
    "import datetime\n",
    "import pickle\n",
    "\n",
    "import pandas as pd\n",
    "import tentaclio\n",
    "\n",
    "from phoenix.common import artifacts\n",
    "from phoenix.common import utils\n",
    "from phoenix.custom_models.tension_classifier.tension_classifier import CountVectorizerTensionClassifier\n",
    "from phoenix.tag.tension import tag_tension"
   ]
  },
  {
   "cell_type": "code",
   "execution_count": null,
   "id": "d700d26e",
   "metadata": {},
   "outputs": [],
   "source": [
    "utils.setup_notebook_output()\n",
    "utils.setup_notebook_logging()"
   ]
  },
  {
   "cell_type": "code",
   "execution_count": null,
   "id": "05a31656",
   "metadata": {},
   "outputs": [],
   "source": [
    "# Parametrise the run execution date.\n",
    "# Format of the run date\n",
    "RUN_DATE_FORMAT = \"%Y-%m-%d\"\n",
    "# This can be overwritten at execution time by Papermill to enable historic runs and backfills etc.\n",
    "RUN_DATE = datetime.datetime.today().strftime(RUN_DATE_FORMAT)\n",
    "\n",
    "# TODO: this has to be refactored so that MONTH_PREFIX is relational to the YEAR_FILTER and MONTH_FILTER\n",
    "YEAR_FILTER = 2021\n",
    "MONTH_FILTER = 7\n",
    "MONTH_PREFIX = f\"year_filter={YEAR_FILTER}/month_filter={MONTH_FILTER}/\"\n",
    "\n",
    "# Set Artefacts URL\n",
    "ARTIFACTS_BASE_URL = f\"{artifacts.urls.get_local()}tagging_runs/{MONTH_PREFIX}facebook_posts/\"\n",
    "MODEL_BASE_URL = f\"{artifacts.urls.get_local()}{RUN_DATE}/count_vectorizer_tension_classifier_model.sav\"\n",
    "MODEL_SUFFIX = \"\"\n",
    "MODEL_BASE_URL = f\"{artifacts.urls.get_local()}{RUN_DATE}/\"\n",
    "\n",
    "# Input\n",
    "OBJECTS_PATH = artifacts.dataframes.url(ARTIFACTS_BASE_URL, \"objects\")\n",
    "TOPICS_PATH = artifacts.dataframes.url(ARTIFACTS_BASE_URL, \"topics\")\n",
    "\n",
    "# Output\n",
    "TAGGED_OBJECTS_PATH = artifacts.dataframes.url(ARTIFACTS_BASE_URL, \"object_tensions\")"
   ]
  },
  {
   "cell_type": "code",
   "execution_count": null,
   "id": "15ceec46",
   "metadata": {},
   "outputs": [],
   "source": [
    "# Display params.\n",
    "print(\n",
    "ARTIFACTS_BASE_URL,\n",
    "OBJECTS_PATH,\n",
    "TOPICS_PATH,\n",
    "TAGGED_OBJECTS_PATH,\n",
    "RUN_DATE,\n",
    "sep='\\n',\n",
    ")"
   ]
  },
  {
   "cell_type": "code",
   "execution_count": null,
   "id": "2b88bed6",
   "metadata": {},
   "outputs": [],
   "source": [
    "objects_df = artifacts.dataframes.get(OBJECTS_PATH).dataframe"
   ]
  },
  {
   "cell_type": "code",
   "execution_count": null,
   "id": "ded44dbb",
   "metadata": {},
   "outputs": [],
   "source": [
    "objects_df"
   ]
  },
  {
   "cell_type": "code",
   "execution_count": null,
   "id": "c90b3a76",
   "metadata": {},
   "outputs": [],
   "source": [
    "# will later use this, but not yet\n",
    "# topics_df = artifacts.dataframes.get(TOPICS_PATH)"
   ]
  },
  {
   "cell_type": "code",
   "execution_count": null,
   "id": "3a77e983",
   "metadata": {},
   "outputs": [],
   "source": [
    "# Model Suffix can later be used to distinguish between models, but for now is left empty\n",
    "# and we use the latest model.\n",
    "model_filename = CountVectorizerTensionClassifier.get_model_name(MODEL_SUFFIX)"
   ]
  },
  {
   "cell_type": "code",
   "execution_count": null,
   "id": "9f0be082",
   "metadata": {},
   "outputs": [],
   "source": [
    "filepath_model = f\"{MODEL_BASE_URL}{model_filename}.pickle\""
   ]
  },
  {
   "cell_type": "code",
   "execution_count": null,
   "id": "41a17dea",
   "metadata": {},
   "outputs": [],
   "source": [
    "with tentaclio.open(filepath_model, \"rb\") as f:\n",
    "    tension_classifier = pickle.load(f)"
   ]
  },
  {
   "cell_type": "code",
   "execution_count": null,
   "id": "9224c09c",
   "metadata": {},
   "outputs": [],
   "source": [
    "print(f\"We will classify the following tensions: {tension_classifier.class_labels}\")"
   ]
  },
  {
   "cell_type": "code",
   "execution_count": null,
   "id": "951e4530",
   "metadata": {},
   "outputs": [],
   "source": [
    "objects_df = tension_classifier.predict(objects_df, \"clean_text\")"
   ]
  },
  {
   "cell_type": "code",
   "execution_count": null,
   "id": "5630691b",
   "metadata": {},
   "outputs": [],
   "source": [
    "objects_df[tensions_cols] = objects_df[tensions_cols].astype(bool) "
   ]
  },
  {
   "cell_type": "code",
   "execution_count": null,
   "id": "10e79bbe",
   "metadata": {},
   "outputs": [],
   "source": [
    "objects_df = tag_tension.tag_object_has_tension(objects_df)"
   ]
  },
  {
   "cell_type": "code",
   "execution_count": null,
   "id": "73f8747a",
   "metadata": {},
   "outputs": [],
   "source": [
    "a = artifacts.dataframes.persist(TAGGED_OBJECTS_PATH, objects_df)"
   ]
  }
 ],
 "metadata": {
  "kernelspec": {
   "display_name": "Python 3 (ipykernel)",
   "language": "python",
   "name": "python3"
  },
  "language_info": {
   "codemirror_mode": {
    "name": "ipython",
    "version": 3
   },
   "file_extension": ".py",
   "mimetype": "text/x-python",
   "name": "python",
   "nbconvert_exporter": "python",
   "pygments_lexer": "ipython3",
   "version": "3.9.2"
  }
 },
 "nbformat": 4,
 "nbformat_minor": 5
}
