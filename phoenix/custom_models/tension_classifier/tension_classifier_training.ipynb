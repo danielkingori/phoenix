{
 "cells": [
  {
   "cell_type": "code",
   "execution_count": null,
   "id": "1b90e46d",
   "metadata": {},
   "outputs": [],
   "source": [
    "%load_ext autoreload\n",
    "%autoreload 2"
   ]
  },
  {
   "cell_type": "code",
   "execution_count": null,
   "id": "f040f58c",
   "metadata": {},
   "outputs": [],
   "source": [
    "import datetime\n",
    "\n",
    "import pandas as pd\n",
    "import tentaclio\n",
    "import sklearn\n",
    "\n",
    "from phoenix.common import artifacts, run_datetime\n",
    "from phoenix.common.artifacts.registry_mappers import static_mappers\n",
    "from phoenix.common import utils\n",
    "from phoenix.custom_models.tension_classifier import process_annotations\n",
    "from phoenix.custom_models.tension_classifier.tension_classifier import CountVectorizerTensionClassifier"
   ]
  },
  {
   "cell_type": "code",
   "execution_count": null,
   "id": "4c2b89e5",
   "metadata": {},
   "outputs": [],
   "source": [
    "# Parameters\n",
    "# See phoenix/common/run_datetime.py expected format of parameter\n",
    "RUN_DATETIME = None\n",
    "\n",
    "# See phoenix/common/artifacts/registry_environment.py expected format of parameter\n",
    "ARTIFACTS_ENVIRONMENT_KEY = \"local\"\n"
   ]
  },
  {
   "cell_type": "code",
   "execution_count": null,
   "id": "b65c10a8-f56d-40d1-8c4d-34ded999fd1e",
   "metadata": {},
   "outputs": [],
   "source": [
    "if RUN_DATETIME:\n",
    "    run_dt = run_datetime.from_file_safe_str(RUN_DATETIME)\n",
    "else:\n",
    "    run_dt = run_datetime.create_run_datetime_now()\n",
    "    \n",
    "url_config = {}\n",
    "art_url_reg = artifacts.registry.ArtifactURLRegistry(run_dt, ARTIFACTS_ENVIRONMENT_KEY)\n",
    "STATIC_URL_CUSTOM_MODELS_TENSION_CLASSIFIER_BASE = art_url_reg.get_url(\"static-custom_models_tension_classifier_base\", url_config)\n",
    "FOLDER_ANNOTATIONS = art_url_reg.get_url(\"static-custom_models_tension_classifier_data\", url_config)"
   ]
  },
  {
   "cell_type": "code",
   "execution_count": null,
   "id": "3095a6d8",
   "metadata": {},
   "outputs": [],
   "source": [
    "utils.setup_notebook_output()\n",
    "utils.setup_notebook_logging()"
   ]
  },
  {
   "cell_type": "code",
   "execution_count": null,
   "id": "bae6a87d",
   "metadata": {},
   "outputs": [],
   "source": [
    "# Display params.\n",
    "print(\n",
    "STATIC_URL_CUSTOM_MODELS_TENSION_CLASSIFIER_BASE,\n",
    "FOLDER_ANNOTATIONS,\n",
    "run_dt.dt,\n",
    "sep='\\n',\n",
    ")"
   ]
  },
  {
   "cell_type": "code",
   "execution_count": null,
   "id": "d99c5903",
   "metadata": {},
   "outputs": [],
   "source": [
    "# This csv already only has data for the tesnions that we want to classify (and have enough information for.)\n",
    "df = pd.read_csv(f\"{FOLDER_ANNOTATIONS}phoenix_tensions.csv\")"
   ]
  },
  {
   "cell_type": "code",
   "execution_count": null,
   "id": "3d456332",
   "metadata": {},
   "outputs": [],
   "source": [
    "test_df = pd.read_csv(f\"{FOLDER_ANNOTATIONS}phoenix_tensions_holdout.csv\")"
   ]
  },
  {
   "cell_type": "code",
   "execution_count": null,
   "id": "203efa83",
   "metadata": {},
   "outputs": [],
   "source": [
    "class_labels = df.filter(like=\"is_\").columns.tolist()"
   ]
  },
  {
   "cell_type": "code",
   "execution_count": null,
   "id": "8699a1bd",
   "metadata": {},
   "outputs": [],
   "source": [
    "cv_tension_classifier = CountVectorizerTensionClassifier(class_labels)"
   ]
  },
  {
   "cell_type": "code",
   "execution_count": null,
   "id": "34614950",
   "metadata": {},
   "outputs": [],
   "source": [
    "cv_tension_classifier.train(df,test_df, random_state_int=2021)"
   ]
  },
  {
   "cell_type": "code",
   "execution_count": null,
   "id": "6a2adf3f",
   "metadata": {},
   "outputs": [],
   "source": [
    "cv_tension_classifier"
   ]
  },
  {
   "cell_type": "code",
   "execution_count": null,
   "id": "52e80162",
   "metadata": {},
   "outputs": [],
   "source": [
    "cv_tension_classifier.analyse()"
   ]
  },
  {
   "cell_type": "code",
   "execution_count": null,
   "id": "fed2b8d8",
   "metadata": {},
   "outputs": [],
   "source": [
    "cv_tension_classifier.persist_model(STATIC_URL_CUSTOM_MODELS_TENSION_CLASSIFIER_BASE)"
   ]
  },
  {
   "cell_type": "code",
   "execution_count": null,
   "id": "e74960dd",
   "metadata": {},
   "outputs": [],
   "source": []
  }
 ],
 "metadata": {
  "kernelspec": {
   "display_name": "Python 3 (ipykernel)",
   "language": "python",
   "name": "python3"
  },
  "language_info": {
   "codemirror_mode": {
    "name": "ipython",
    "version": 3
   },
   "file_extension": ".py",
   "mimetype": "text/x-python",
   "name": "python",
   "nbconvert_exporter": "python",
   "pygments_lexer": "ipython3",
   "version": "3.9.2"
  }
 },
 "nbformat": 4,
 "nbformat_minor": 5
}
