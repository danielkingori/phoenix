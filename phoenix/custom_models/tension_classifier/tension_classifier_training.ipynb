{
 "cells": [
  {
   "cell_type": "code",
   "execution_count": null,
   "id": "1b90e46d",
   "metadata": {},
   "outputs": [],
   "source": [
    "%load_ext autoreload\n",
    "%autoreload 2"
   ]
  },
  {
   "cell_type": "code",
   "execution_count": null,
   "id": "f040f58c",
   "metadata": {},
   "outputs": [],
   "source": [
    "import datetime\n",
    "\n",
    "import pandas as pd\n",
    "import tentaclio\n",
    "import sklearn\n",
    "\n",
    "from phoenix.common import artifacts, run_datetime\n",
    "from phoenix.common import utils\n",
    "from phoenix.custom_models.tension_classifier import process_annotations\n",
    "from phoenix.custom_models.tension_classifier.tension_classifier import VectorizerTopicsTensionClassifier"
   ]
  },
  {
   "cell_type": "code",
   "execution_count": null,
   "id": "4c2b89e5",
   "metadata": {},
   "outputs": [],
   "source": [
    "# Parameters\n",
    "# See phoenix/common/run_datetime.py expected format of parameter\n",
    "RUN_DATETIME = None\n",
    "\n",
    "# See phoenix/common/artifacts/registry_environment.py expected format of parameter\n",
    "ARTIFACTS_ENVIRONMENT_KEY = \"local\"\n",
    "\n",
    "# Input\n",
    "FOLDER_ANNOTATIONS = f\"{artifacts.urls.get_local()}input_csvs/annotated_data/\"\n",
    "\n",
    "## Only try to classify a tension if there are at least this many objects\n",
    "MIN_NUM_OBJECTS_PER_TENSION = 60"
   ]
  },
  {
   "cell_type": "code",
   "execution_count": null,
   "id": "b65c10a8-f56d-40d1-8c4d-34ded999fd1e",
   "metadata": {},
   "outputs": [],
   "source": [
    "if RUN_DATETIME:\n",
    "    run_dt = run_datetime.from_file_safe_str(RUN_DATETIME)\n",
    "else:\n",
    "    run_dt = run_datetime.create_run_datetime_now()\n",
    "    \n",
    "url_config = {}\n",
    "art_url_reg = artifacts.registry.ArtifactURLRegistry(run_dt, ARTIFACTS_ENVIRONMENT_KEY)\n",
    "STATIC_URL_CUSTOM_MODELS_TENSION_CLASSIFIER_BASE = art_url_reg.get_url(\"static-custom_models_tension_classifier_base\", url_config)"
   ]
  },
  {
   "cell_type": "code",
   "execution_count": null,
   "id": "3095a6d8",
   "metadata": {},
   "outputs": [],
   "source": [
    "utils.setup_notebook_output()\n",
    "utils.setup_notebook_logging()"
   ]
  },
  {
   "cell_type": "code",
   "execution_count": null,
   "id": "bae6a87d",
   "metadata": {},
   "outputs": [],
   "source": [
    "# Display params.\n",
    "print(\n",
    "STATIC_URL_CUSTOM_MODELS_TENSION_CLASSIFIER_BASE,\n",
    "FOLDER_ANNOTATIONS,\n",
    "run_dt.dt,\n",
    "sep='\\n',\n",
    ")"
   ]
  },
  {
   "cell_type": "code",
   "execution_count": null,
   "id": "d99c5903",
   "metadata": {},
   "outputs": [],
   "source": [
    "# This csv already only has data for the tesnions that we want to classify (and have enough information for.)\n",
    "df = pd.read_csv(f\"{FOLDER_ANNOTATIONS}phoenix_tensions.csv\")"
   ]
  },
  {
   "cell_type": "code",
   "execution_count": null,
   "id": "3d456332",
   "metadata": {},
   "outputs": [],
   "source": [
    "test_df = pd.read_csv(f\"{FOLDER_ANNOTATIONS}phoenix_tensions_holdout.csv\")"
   ]
  },
  {
   "cell_type": "markdown",
   "id": "56320af0",
   "metadata": {},
   "source": [
    "## Train stemmed_count vectorizer on 'full' dataset to get a complete vectorizer.\n",
    " This shouldn't be model leakage, however we'll need to find a way to mitigate having new words that the count_vectorizer hasn't seen yet.  \n"
   ]
  },
  {
   "cell_type": "markdown",
   "id": "8ec79d9c",
   "metadata": {},
   "source": [
    "### Due to small sizes of data with certain labels, we're only taking those with more than say 60 examples"
   ]
  },
  {
   "cell_type": "code",
   "execution_count": null,
   "id": "203efa83",
   "metadata": {},
   "outputs": [],
   "source": [
    "class_labels = df.filter(like=\"is_\").columns.tolist()"
   ]
  },
  {
   "cell_type": "code",
   "execution_count": null,
   "id": "8699a1bd",
   "metadata": {},
   "outputs": [],
   "source": [
    "vt_tension_classifier = VectorizerTopicsTensionClassifier(class_labels)"
   ]
  },
  {
   "cell_type": "code",
   "execution_count": null,
   "id": "34614950",
   "metadata": {},
   "outputs": [],
   "source": [
    "vt_tension_classifier.train(df, random_state_int=2021)"
   ]
  },
  {
   "cell_type": "code",
   "execution_count": null,
   "id": "6a2adf3f",
   "metadata": {},
   "outputs": [],
   "source": [
    "vt_tension_classifier"
   ]
  },
  {
   "cell_type": "code",
   "execution_count": null,
   "id": "52e80162",
   "metadata": {},
   "outputs": [],
   "source": [
    "vt_tension_classifier.analyse(test_df)"
   ]
  },
  {
   "cell_type": "code",
   "execution_count": null,
   "id": "fed2b8d8",
   "metadata": {},
   "outputs": [],
   "source": [
    "vt_tension_classifier.persist_model(STATIC_URL_CUSTOM_MODELS_TENSION_CLASSIFIER_BASE)"
   ]
  },
  {
   "cell_type": "code",
   "execution_count": null,
   "id": "018e56a3",
   "metadata": {},
   "outputs": [],
   "source": [
    "eval_df = test_df.copy()"
   ]
  },
  {
   "cell_type": "code",
   "execution_count": null,
   "id": "64fd3216",
   "metadata": {},
   "outputs": [],
   "source": [
    "eval_df"
   ]
  },
  {
   "cell_type": "code",
   "execution_count": null,
   "id": "31af2dad",
   "metadata": {},
   "outputs": [],
   "source": [
    "vt_tension_classifier.predict(eval_df)"
   ]
  },
  {
   "cell_type": "code",
   "execution_count": null,
   "id": "cf8dba4c",
   "metadata": {},
   "outputs": [],
   "source": []
  }
 ],
 "metadata": {
  "kernelspec": {
   "display_name": "Python 3 (ipykernel)",
   "language": "python",
   "name": "python3"
  },
  "language_info": {
   "codemirror_mode": {
    "name": "ipython",
    "version": 3
   },
   "file_extension": ".py",
   "mimetype": "text/x-python",
   "name": "python",
   "nbconvert_exporter": "python",
   "pygments_lexer": "ipython3",
   "version": "3.9.2"
  }
 },
 "nbformat": 4,
 "nbformat_minor": 5
}
