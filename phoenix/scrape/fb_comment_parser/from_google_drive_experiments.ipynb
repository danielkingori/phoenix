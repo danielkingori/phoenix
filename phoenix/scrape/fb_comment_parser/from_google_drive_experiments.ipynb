{
 "cells": [
  {
   "cell_type": "markdown",
   "id": "d217626e-3165-4589-ac52-0234ca8c2aa3",
   "metadata": {},
   "source": [
    "# Expereiments Facebook comment pages from google drive"
   ]
  },
  {
   "cell_type": "code",
   "execution_count": null,
   "id": "8680471c",
   "metadata": {},
   "outputs": [],
   "source": [
    "%load_ext autoreload\n",
    "%autoreload 2"
   ]
  },
  {
   "cell_type": "code",
   "execution_count": null,
   "id": "57935f66",
   "metadata": {},
   "outputs": [],
   "source": [
    "import datetime\n",
    "\n",
    "import pandas as pd\n",
    "import tentaclio\n",
    "\n",
    "from phoenix.common import artifacts, run_params, utils"
   ]
  },
  {
   "cell_type": "code",
   "execution_count": null,
   "id": "66e4c724",
   "metadata": {},
   "outputs": [],
   "source": [
    "utils.setup_notebook_output()\n",
    "utils.setup_notebook_logging()"
   ]
  },
  {
   "cell_type": "code",
   "execution_count": null,
   "id": "e841c5a6",
   "metadata": {
    "tags": [
     "parameters"
    ]
   },
   "outputs": [],
   "source": [
    "# Parameters\n",
    "# See phoenix/common/run_datetime.py expected format of parameter\n",
    "RUN_DATETIME = None\n",
    "TENANT_ID = \"dmaps_iraq\"\n",
    "\n",
    "# See phoenix/common/artifacts/registry_environment.py expected format of parameter\n",
    "ARTIFACTS_ENVIRONMENT_KEY = \"production\""
   ]
  },
  {
   "cell_type": "code",
   "execution_count": null,
   "id": "40a17167",
   "metadata": {},
   "outputs": [],
   "source": [
    "cur_run_params = run_params.general.create(ARTIFACTS_ENVIRONMENT_KEY, TENANT_ID, RUN_DATETIME)\n",
    "TENANT_FOLDER_ID = cur_run_params.tenant_config.google_drive_folder_id"
   ]
  },
  {
   "cell_type": "code",
   "execution_count": null,
   "id": "ab21ab60",
   "metadata": {},
   "outputs": [],
   "source": [
    "# Display params.\n",
    "print(\n",
    "cur_run_params.run_dt.dt,\n",
    "cur_run_params.tenant_config,\n",
    "sep='\\n',\n",
    ")"
   ]
  },
  {
   "cell_type": "code",
   "execution_count": null,
   "id": "b79aabd0",
   "metadata": {},
   "outputs": [],
   "source": [
    "google_client = artifacts.google_drive.get_client()"
   ]
  },
  {
   "cell_type": "code",
   "execution_count": null,
   "id": "3fa4a6df-fcc5-41b0-b08e-993ab441a92b",
   "metadata": {},
   "outputs": [],
   "source": [
    "google_client"
   ]
  },
  {
   "cell_type": "code",
   "execution_count": null,
   "id": "aebf277b-6e67-4edc-bf6e-58b4cba50f80",
   "metadata": {},
   "outputs": [],
   "source": []
  }
 ],
 "metadata": {
  "celltoolbar": "Tags",
  "kernelspec": {
   "display_name": "Python 3 (ipykernel)",
   "language": "python",
   "name": "python3"
  },
  "language_info": {
   "codemirror_mode": {
    "name": "ipython",
    "version": 3
   },
   "file_extension": ".py",
   "mimetype": "text/x-python",
   "name": "python",
   "nbconvert_exporter": "python",
   "pygments_lexer": "ipython3",
   "version": "3.9.2"
  }
 },
 "nbformat": 4,
 "nbformat_minor": 5
}
