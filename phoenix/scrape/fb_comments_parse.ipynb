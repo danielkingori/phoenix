{
 "cells": [
  {
   "cell_type": "markdown",
   "id": "281ead14-269d-4286-9ddb-5431bfa22ca3",
   "metadata": {},
   "source": [
    "# Facebook Comments Parser\n",
    "\n",
    "Parse html pages from Facebook Basic"
   ]
  },
  {
   "cell_type": "code",
   "execution_count": null,
   "id": "191c1ae8-e97b-4135-9024-5da026718806",
   "metadata": {},
   "outputs": [],
   "source": [
    "%load_ext autoreload\n",
    "%autoreload 2"
   ]
  },
  {
   "cell_type": "code",
   "execution_count": null,
   "id": "30b4cb6a-1ffa-4380-8eff-5872cf47395d",
   "metadata": {},
   "outputs": [],
   "source": [
    "import datetime\n",
    "\n",
    "from phoenix.scrape import twitter_queries\n",
    "from phoenix.scrape import twitter_utilities\n",
    "from phoenix.scrape import scrape\n",
    "\n",
    "from phoenix.scrape.fb_comment_parser import run\n",
    "\n",
    "from phoenix.common import artifacts\n",
    "from phoenix.common import utils"
   ]
  },
  {
   "cell_type": "code",
   "execution_count": null,
   "id": "a178266c-fc62-4259-998a-80145e72402c",
   "metadata": {},
   "outputs": [],
   "source": [
    "utils.setup_notebook_output()\n",
    "utils.setup_notebook_logging()"
   ]
  },
  {
   "cell_type": "code",
   "execution_count": null,
   "id": "af489bbc-5c77-4484-b624-1dd41c32271d",
   "metadata": {},
   "outputs": [],
   "source": [
    "# Parametrise the run execution date.\n",
    "# Format of the run date\n",
    "RUN_DATE_FORMAT = \"%Y-%m-%d\"\n",
    "# This can be overwritten at execution time by Papermill to enable historic runs and backfills etc.\n",
    "RUN_ISO_TIMESTAMP = datetime.datetime.now().isoformat()\n",
    "run_iso_datetime = datetime.datetime.fromisoformat(RUN_ISO_TIMESTAMP)\n",
    "RUN_DATE = datetime.datetime.today().strftime(RUN_DATE_FORMAT)\n",
    "\n",
    "# Set Artefacts URL\n",
    "ARTIFACT_SOURCE_COMMENTS_URL = f\"{artifacts.urls.get_local()}{RUN_DATE}/source_runs/fb_comments-{RUN_ISO_TIMESTAMP}.json\"\n",
    "ARTIFACT_BASE_COMMENTS_URL = f\"{artifacts.urls.get_local()}base/fb_comments/{RUN_ISO_TIMESTAMP}.json\"\n"
   ]
  },
  {
   "cell_type": "code",
   "execution_count": null,
   "id": "f551ddfb-100e-4ad0-aadf-71b217f4b7c5",
   "metadata": {},
   "outputs": [],
   "source": [
    "pages_json = run.run_fb_page_parser()\n",
    "len(pages_json)"
   ]
  },
  {
   "cell_type": "code",
   "execution_count": null,
   "id": "f47208e2-850c-4c7b-adf5-3d3ad798971f",
   "metadata": {},
   "outputs": [],
   "source": [
    "artifacts.json.persist(ARTIFACT_SOURCE_COMMENTS_URL, pages_json);"
   ]
  },
  {
   "cell_type": "code",
   "execution_count": null,
   "id": "67d43ff0-d4f5-4d62-858b-320800c709a7",
   "metadata": {},
   "outputs": [],
   "source": [
    "artifacts.json.persist(ARTIFACT_BASE_COMMENTS_URL, pages_json);"
   ]
  },
  {
   "cell_type": "code",
   "execution_count": null,
   "id": "06999c3a-3236-42e5-87aa-c4a968e5f4b3",
   "metadata": {},
   "outputs": [],
   "source": []
  }
 ],
 "metadata": {
  "kernelspec": {
   "display_name": "Python 3",
   "language": "python",
   "name": "python3"
  },
  "language_info": {
   "codemirror_mode": {
    "name": "ipython",
    "version": 3
   },
   "file_extension": ".py",
   "mimetype": "text/x-python",
   "name": "python",
   "nbconvert_exporter": "python",
   "pygments_lexer": "ipython3",
   "version": "3.9.2"
  }
 },
 "nbformat": 4,
 "nbformat_minor": 5
}
