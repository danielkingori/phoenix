{
 "cells": [
  {
   "cell_type": "markdown",
   "id": "ee6b9aae-e9ca-427a-9e6f-08d8a92633c9",
   "metadata": {},
   "source": [
    "# ACLED Event data\n",
    "Transform the acled event data.\n",
    "See docs: docs/acled_events.md"
   ]
  },
  {
   "cell_type": "code",
   "execution_count": null,
   "id": "d20f471a-a32b-4071-84d1-64cf435ceb27",
   "metadata": {},
   "outputs": [],
   "source": [
    "%load_ext autoreload\n",
    "%autoreload 2"
   ]
  },
  {
   "cell_type": "code",
   "execution_count": null,
   "id": "72f8c18b-ddf0-4b81-87a0-2c6947ad6d06",
   "metadata": {},
   "outputs": [],
   "source": [
    "import datetime\n",
    "\n",
    "import pandas as pd\n",
    "import tentaclio\n",
    "\n",
    "from phoenix.common import artifacts, run_datetime\n",
    "from phoenix.common import utils\n",
    "from phoenix.scrape import acled_event"
   ]
  },
  {
   "cell_type": "code",
   "execution_count": null,
   "id": "f6e5ba25-e8b3-43de-ac2e-f9969d6da660",
   "metadata": {},
   "outputs": [],
   "source": [
    "utils.setup_notebook_output()\n",
    "utils.setup_notebook_logging()"
   ]
  },
  {
   "cell_type": "code",
   "execution_count": null,
   "id": "7f0f8264-bba9-4f73-bde8-fa415edebb0f",
   "metadata": {
    "tags": [
     "parameters"
    ]
   },
   "outputs": [],
   "source": [
    "# Parameters\n",
    "RUN_DATETIME = None\n",
    "\n",
    "# Set Artefacts URLs\n",
    "# ARTIFACTS_ENVIRONMENT_KEY will only effect the URLs that are not set\n",
    "ARTIFACTS_ENVIRONMENT_KEY = \"local\"\n",
    "\n",
    "# Output\n",
    "FINAL_URL_ACLED_EVENTS = None"
   ]
  },
  {
   "cell_type": "code",
   "execution_count": null,
   "id": "688d640f-59aa-483b-9d60-32e19965789f",
   "metadata": {},
   "outputs": [],
   "source": [
    "# DEAFULTS\n",
    "if RUN_DATETIME:\n",
    "    run_dt = run_datetime.from_file_safe_str(RUN_DATETIME)\n",
    "else:\n",
    "    run_dt = run_datetime.create_run_datetime_now()\n",
    "    \n",
    "art_url_reg = artifacts.registry.ArtifactURLRegistry(run_dt, ARTIFACTS_ENVIRONMENT_KEY)\n",
    "BASE_URL_ACLED_EVENTS_INPUT = art_url_reg.get_url(\"base-acled_events_input\")\n",
    "if FINAL_URL_ACLED_EVENTS is None:\n",
    "    FINAL_URL_ACLED_EVENTS = art_url_reg.get_url(\"final-acled_events\") "
   ]
  },
  {
   "cell_type": "code",
   "execution_count": null,
   "id": "eb190492-9a3c-4114-8bce-2729d6e9210a",
   "metadata": {},
   "outputs": [],
   "source": [
    "# Display params.\n",
    "print(\n",
    "BASE_URL_ACLED_EVENTS_INPUT,\n",
    "FINAL_URL_ACLED_EVENTS,\n",
    "run_dt.dt,\n",
    "sep='\\n',\n",
    ")"
   ]
  },
  {
   "cell_type": "code",
   "execution_count": null,
   "id": "37ecab16-ef87-4b10-a7c7-22f3179a9835",
   "metadata": {
    "tags": []
   },
   "outputs": [],
   "source": [
    "event_data = acled_event.from_csvs(BASE_URL_ACLED_EVENTS_INPUT)"
   ]
  },
  {
   "cell_type": "code",
   "execution_count": null,
   "id": "01095b0f-7829-4a3d-bd36-61850d314d05",
   "metadata": {},
   "outputs": [],
   "source": [
    "event_data[event_data[\"data_id\"].isnull()]"
   ]
  },
  {
   "cell_type": "code",
   "execution_count": null,
   "id": "0b6769c0-5ab0-43b0-8eb5-e22ecf6787c1",
   "metadata": {},
   "outputs": [],
   "source": [
    "event_data.head()"
   ]
  },
  {
   "cell_type": "code",
   "execution_count": null,
   "id": "1277e87d-c95a-4f22-bafc-9e2c1bc2476a",
   "metadata": {},
   "outputs": [],
   "source": [
    "event_data.shape"
   ]
  },
  {
   "cell_type": "code",
   "execution_count": null,
   "id": "71d2c2a9-9238-4f8a-b9ea-73d9d0359286",
   "metadata": {},
   "outputs": [],
   "source": [
    "event_data.dtypes"
   ]
  },
  {
   "cell_type": "code",
   "execution_count": null,
   "id": "7f14f08c-18e0-4fee-b331-8eb4a3e3e928",
   "metadata": {},
   "outputs": [],
   "source": [
    "sorted_df = event_data.sort_values(by=\"timestamp_filter\")\n",
    "first_last = sorted_df.iloc[[0, -1]]\n",
    "first_last"
   ]
  },
  {
   "cell_type": "code",
   "execution_count": null,
   "id": "e5aa90d7-0442-4d4d-9a3a-d04879349e80",
   "metadata": {
    "tags": []
   },
   "outputs": [],
   "source": [
    "art_df = artifacts.dataframes.persist(FINAL_URL_ACLED_EVENTS, event_data)"
   ]
  },
  {
   "cell_type": "code",
   "execution_count": null,
   "id": "3a26bac0-dd1a-4e94-824e-742b8798efd2",
   "metadata": {},
   "outputs": [],
   "source": [
    "schema = artifacts.dataframes.read_schema(FINAL_URL_ACLED_EVENTS)"
   ]
  },
  {
   "cell_type": "code",
   "execution_count": null,
   "id": "5e5975e9-2683-45fb-ae72-e705312447fc",
   "metadata": {},
   "outputs": [],
   "source": [
    "schema"
   ]
  },
  {
   "cell_type": "code",
   "execution_count": null,
   "id": "65067a86-d5f2-470c-b694-403352457b49",
   "metadata": {},
   "outputs": [],
   "source": [
    "art_df = artifacts.dataframes.get(FINAL_URL_ACLED_EVENTS)"
   ]
  },
  {
   "cell_type": "code",
   "execution_count": null,
   "id": "cabdd89c-c384-4d9f-b5d3-29e8f3dddccb",
   "metadata": {},
   "outputs": [],
   "source": [
    "art_df.dataframe.head()"
   ]
  },
  {
   "cell_type": "code",
   "execution_count": null,
   "id": "f6ea4696-84a5-4133-b555-d2a1cfec3d8e",
   "metadata": {},
   "outputs": [],
   "source": []
  }
 ],
 "metadata": {
  "kernelspec": {
   "display_name": "Python 3",
   "language": "python",
   "name": "python3"
  },
  "language_info": {
   "codemirror_mode": {
    "name": "ipython",
    "version": 3
   },
   "file_extension": ".py",
   "mimetype": "text/x-python",
   "name": "python",
   "nbconvert_exporter": "python",
   "pygments_lexer": "ipython3",
   "version": "3.9.2"
  }
 },
 "nbformat": 4,
 "nbformat_minor": 5
}
