{
 "cells": [
  {
   "cell_type": "markdown",
   "id": "281ead14-269d-4286-9ddb-5431bfa22ca3",
   "metadata": {},
   "source": [
    "# Facebook Posts Pages Parser\n",
    "\n",
    "Parse html pages from Facebook Basic"
   ]
  },
  {
   "cell_type": "code",
   "execution_count": null,
   "id": "191c1ae8-e97b-4135-9024-5da026718806",
   "metadata": {},
   "outputs": [],
   "source": [
    "%load_ext autoreload\n",
    "%autoreload 2"
   ]
  },
  {
   "cell_type": "code",
   "execution_count": null,
   "id": "30b4cb6a-1ffa-4380-8eff-5872cf47395d",
   "metadata": {},
   "outputs": [],
   "source": [
    "import datetime\n",
    "\n",
    "from phoenix.scrape import twitter_queries\n",
    "from phoenix.scrape import twitter_utilities\n",
    "from phoenix.scrape import scrape\n",
    "\n",
    "from phoenix.scrape.fb_comment_parser import run\n",
    "\n",
    "from phoenix.common import artifacts, run_params\n",
    "from phoenix.common import utils"
   ]
  },
  {
   "cell_type": "code",
   "execution_count": null,
   "id": "a178266c-fc62-4259-998a-80145e72402c",
   "metadata": {},
   "outputs": [],
   "source": [
    "utils.setup_notebook_output()\n",
    "utils.setup_notebook_logging()"
   ]
  },
  {
   "cell_type": "code",
   "execution_count": null,
   "id": "af489bbc-5c77-4484-b624-1dd41c32271d",
   "metadata": {
    "tags": [
     "parameters"
    ]
   },
   "outputs": [],
   "source": [
    "# Parameters\n",
    "# See phoenix/common/run_datetime.py expected format of parameter\n",
    "RUN_DATETIME = None\n",
    "TENANT_ID = None\n",
    "\n",
    "# See phoenix/common/artifacts/registry_environment.py expected format of parameter\n",
    "ARTIFACTS_ENVIRONMENT_KEY = \"local\"\n",
    "\n",
    "# Filters for batch\n",
    "YEAR_FILTER = 2021\n",
    "# Without zero padding\n",
    "MONTH_FILTER = 8\n",
    "MAX_FILES_TO_PROCESS = False"
   ]
  },
  {
   "cell_type": "code",
   "execution_count": null,
   "id": "890585c2-7334-44e5-b588-1607da2b61c2",
   "metadata": {},
   "outputs": [],
   "source": [
    "cur_run_params = run_params.general.create(ARTIFACTS_ENVIRONMENT_KEY, TENANT_ID, RUN_DATETIME)\n",
    "\n",
    "url_config = {\n",
    "    \"YEAR_FILTER\": YEAR_FILTER,\n",
    "    \"MONTH_FILTER\": MONTH_FILTER,\n",
    "}\n",
    "\n",
    "BASE_URL_FACEBOOK_POSTS_PAGES_TO_PARSE = cur_run_params.art_url_reg.get_url(\"base-facebook_posts_pages_to_parse\", url_config)\n",
    "BASE_URL_FACEBOOK_POSTS_PAGES_SUCCESSFUL_PARSE = cur_run_params.art_url_reg.get_url(\"base-facebook_posts_pages_successful_parse\", url_config)\n",
    "BASE_URL_FACEBOOK_POSTS_PAGES_FAILED_PARSE = cur_run_params.art_url_reg.get_url(\"base-facebook_posts_pages_failed_parse\", url_config)\n",
    "SOURCE_URL_FACEBOOK_POSTS = cur_run_params.art_url_reg.get_url(\"source-facebook_posts\", url_config)\n",
    "BASE_URL_GROUPED_BY_FACEBOOK_POSTS = cur_run_params.art_url_reg.get_url(\"base-grouped_by_facebook_posts\", url_config)"
   ]
  },
  {
   "cell_type": "code",
   "execution_count": null,
   "id": "63ec369b-2661-41d3-adb8-7db8d9d03bcc",
   "metadata": {},
   "outputs": [],
   "source": [
    "# Display params.\n",
    "print(\n",
    "BASE_URL_FACEBOOK_POSTS_PAGES_TO_PARSE,\n",
    "BASE_URL_FACEBOOK_POSTS_PAGES_SUCCESSFUL_PARSE,\n",
    "BASE_URL_FACEBOOK_POSTS_PAGES_FAILED_PARSE,\n",
    "SOURCE_URL_FACEBOOK_POSTS,\n",
    "BASE_URL_GROUPED_BY_FACEBOOK_POSTS,\n",
    "cur_run_params.run_dt.dt,\n",
    "cur_run_params.tenant_config,\n",
    "sep='\\n',\n",
    ")"
   ]
  },
  {
   "cell_type": "code",
   "execution_count": null,
   "id": "f551ddfb-100e-4ad0-aadf-71b217f4b7c5",
   "metadata": {},
   "outputs": [],
   "source": [
    "pages = run.run_fb_page_parser(\n",
    "    BASE_URL_FACEBOOK_POSTS_PAGES_TO_PARSE,\n",
    "    BASE_URL_FACEBOOK_POSTS_PAGES_SUCCESSFUL_PARSE,\n",
    "    BASE_URL_FACEBOOK_POSTS_PAGES_FAILED_PARSE,\n",
    "    MAX_FILES_TO_PROCESS,\n",
    ")\n",
    "len(pages)"
   ]
  },
  {
   "cell_type": "code",
   "execution_count": null,
   "id": "f47208e2-850c-4c7b-adf5-3d3ad798971f",
   "metadata": {},
   "outputs": [],
   "source": [
    "a = artifacts.json.persist(SOURCE_URL_FACEBOOK_POSTS, pages);\n",
    "a.url"
   ]
  },
  {
   "cell_type": "code",
   "execution_count": null,
   "id": "67d43ff0-d4f5-4d62-858b-320800c709a7",
   "metadata": {},
   "outputs": [],
   "source": [
    "a = artifacts.json.persist(BASE_URL_GROUPED_BY_FACEBOOK_POSTS, pages);\n",
    "a.url"
   ]
  }
 ],
 "metadata": {
  "kernelspec": {
   "display_name": "Python 3 (ipykernel)",
   "language": "python",
   "name": "python3"
  },
  "language_info": {
   "codemirror_mode": {
    "name": "ipython",
    "version": 3
   },
   "file_extension": ".py",
   "mimetype": "text/x-python",
   "name": "python",
   "nbconvert_exporter": "python",
   "pygments_lexer": "ipython3",
   "version": "3.9.2"
  }
 },
 "nbformat": 4,
 "nbformat_minor": 5
}
