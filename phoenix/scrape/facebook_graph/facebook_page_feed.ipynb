{
 "cells": [
  {
   "cell_type": "markdown",
   "id": "3e8eebcb-65cf-4bb3-a3fe-16eab3833aca",
   "metadata": {},
   "source": [
    "# Facebook Page Feed\n",
    "Get the posts data for a feed\n",
    "\n",
    "Requires environment variables:\n",
    "- FACEBOOK_API_VERSION\n",
    "\n",
    "# User access token\n",
    "Use the Graph API Explorer to generate a user access token if you want to test the `feed` functionality."
   ]
  },
  {
   "cell_type": "code",
   "execution_count": null,
   "id": "imposed-leader",
   "metadata": {},
   "outputs": [],
   "source": [
    "%load_ext autoreload\n",
    "%autoreload 2"
   ]
  },
  {
   "cell_type": "code",
   "execution_count": null,
   "id": "solar-matrix",
   "metadata": {},
   "outputs": [],
   "source": [
    "import datetime\n",
    "\n",
    "import pprint\n",
    "\n",
    "import pandas as pd\n",
    "\n",
    "from phoenix.common import artifacts\n",
    "from phoenix.common import utils\n",
    "from phoenix.scrape import facebook_graph\n",
    "from phoenix.scrape import group_by\n",
    "from phoenix.scrape import run_params"
   ]
  },
  {
   "cell_type": "code",
   "execution_count": null,
   "id": "variable-supply",
   "metadata": {},
   "outputs": [],
   "source": [
    "utils.setup_notebook_output()\n",
    "utils.setup_notebook_logging()"
   ]
  },
  {
   "cell_type": "code",
   "execution_count": null,
   "id": "social-destiny",
   "metadata": {
    "tags": [
     "parameters"
    ]
   },
   "outputs": [],
   "source": [
    "# Parameters\n",
    "RUN_DATETIME = None\n",
    "TENANT_ID = None\n",
    "\n",
    "# Set Artefacts URLs\n",
    "# ARTIFACTS_ENVIRONMENT_KEY will only effect the URLs that are not set\n",
    "ARTIFACTS_ENVIRONMENT_KEY = \"local\"\n",
    "\n",
    "ACCESS_TOKEN = None\n",
    "PAGE_ID = None\n",
    "PAGINATION_LIMIT = 2"
   ]
  },
  {
   "cell_type": "code",
   "execution_count": null,
   "id": "5a5abe6d-37fc-4af2-8a42-104eb4260736",
   "metadata": {},
   "outputs": [],
   "source": [
    "# DEFAULTS\n",
    "cur_run_params = facebook_graph.create_feed_run_params(\n",
    "    ACCESS_TOKEN,\n",
    "    PAGE_ID,\n",
    "    ARTIFACTS_ENVIRONMENT_KEY,\n",
    "    TENANT_ID,\n",
    "    RUN_DATETIME,\n",
    "    PAGINATION_LIMIT,\n",
    ")"
   ]
  },
  {
   "cell_type": "code",
   "execution_count": null,
   "id": "annual-douglas",
   "metadata": {},
   "outputs": [],
   "source": [
    "# Display params.\n",
    "pprint.pprint(cur_run_params)"
   ]
  },
  {
   "cell_type": "code",
   "execution_count": null,
   "id": "simple-surface",
   "metadata": {},
   "outputs": [],
   "source": [
    "# Scrape code will go here\n",
    "posts = facebook_graph.get_feed_of_a_page(\n",
    "    graph=cur_run_params.graph,\n",
    "    page_id=cur_run_params.page_id,\n",
    "    pagination_limit=cur_run_params.pagination_limit,\n",
    ")\n",
    "len(posts)"
   ]
  },
  {
   "cell_type": "code",
   "execution_count": null,
   "id": "diagnostic-quebec",
   "metadata": {
    "tags": []
   },
   "outputs": [],
   "source": [
    "posts[0:1]"
   ]
  },
  {
   "cell_type": "code",
   "execution_count": null,
   "id": "49fe1cd1-4418-471d-897a-1a97b29077da",
   "metadata": {
    "tags": []
   },
   "outputs": [],
   "source": [
    "a = artifacts.json.persist(cur_run_params.urls.source, posts)\n",
    "a.url"
   ]
  },
  {
   "cell_type": "code",
   "execution_count": null,
   "id": "566baa76-3cc2-442e-8116-3264f431f5c3",
   "metadata": {},
   "outputs": [],
   "source": [
    "a = artifacts.json.persist(cur_run_params.urls.base, posts)\n",
    "a.url"
   ]
  },
  {
   "cell_type": "code",
   "execution_count": null,
   "id": "a0751634-1118-42a4-8d08-a104a73cd2cf",
   "metadata": {},
   "outputs": [],
   "source": []
  }
 ],
 "metadata": {
  "celltoolbar": "Tags",
  "kernelspec": {
   "display_name": "Python 3 (ipykernel)",
   "language": "python",
   "name": "python3"
  },
  "language_info": {
   "codemirror_mode": {
    "name": "ipython",
    "version": 3
   },
   "file_extension": ".py",
   "mimetype": "text/x-python",
   "name": "python",
   "nbconvert_exporter": "python",
   "pygments_lexer": "ipython3",
   "version": "3.9.2"
  }
 },
 "nbformat": 4,
 "nbformat_minor": 5
}
