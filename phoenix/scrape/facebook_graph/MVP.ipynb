{
 "cells": [
  {
   "cell_type": "markdown",
   "id": "3e8eebcb-65cf-4bb3-a3fe-16eab3833aca",
   "metadata": {},
   "source": [
    "# Facebook Graph MVP \n",
    "\n",
    "Requires environment variables:\n",
    "- FACEBOOK_CLIENT_TOKEN\n",
    "- FACEBOOK_SECRET_TOKEN\n",
    "- FACEBOOK_APP_ID\n",
    "- FACEBOOK_API_VERSION\n",
    "\n",
    "# User access token\n",
    "Use the Graph API Explorer to generate a user access token if you want to test the `feed` functionality.\n",
    "\n",
    "# Docs: \n",
    "## Get id of page\n",
    "https://stackoverflow.com/questions/7638367/how-to-get-page-id-from-facebook-url\n",
    "Search `page_id` in html seems the best option.\n",
    "\n",
    "## Permissions:\n",
    "[Access token Guide](https://developers.facebook.com/docs/facebook-login/guides/access-tokens#apptokens)\n",
    "\n",
    "[Features](https://developers.facebook.com/docs/features-reference)\n",
    "It would seem that we need \"Page Public Content Access\" for most stuff It doesn't expire and gives use the access we need. You are aloud this for: \"Provide competitive benchmark analysis.\"\n",
    "\n",
    "## Rate limits:\n",
    "In the app dashboard the usage is shown (something like 200 request per hour):\n",
    "https://developers.facebook.com/apps/568416448401106/rate-limit-details/app/?business_id=525307530983742\n",
    "\n",
    "## System users:\n",
    "It would seem that systems users tokens are the best long term option for tokens. This comes from the [feed page](https://developers.facebook.com/docs/graph-api/reference/v14.0/page/feed) line: \"When using the Page Public Content Access feature, use a system user access token to avoid rate limiting issues.\":\n",
    "Links about system users:\n",
    "- https://developers.facebook.com/docs/marketing-api/system-users\n",
    "- https://developers.facebook.com/docs/marketing-api/system-users/create-retrieve-update\n",
    "- https://developers.facebook.com/docs/marketing-api/system-users/overview\n",
    "- https://www.facebook.com/business/help/503306463479099?id=2190812977867143\n",
    "\n",
    "### Status:\n",
    "- Unable to create a system user but I am not sure why.\n",
    "- Will look into this if we get \"Page Public Conent Access\"\n",
    "\n",
    "## Ids\n",
    "- howtobuildup: 729911107039948\n",
    "- BuildUp Bussiness account: 525307530983742\n",
    "- Sawa Shabab Page ID: 717190148313708\n",
    "\n",
    "## Facebook SDK python:\n",
    "Unofficial: https://github.com/mobolic/facebook-sdk\n",
    "This is not flexible and has bugs. We should make a more flexible, working one using some of the code from this one.\n",
    "Ideas for this:\n",
    "- Use the graph object\n",
    "- copy the request function but change it the URL is formated with the version depended on a `prefix_with_version` param.\n",
    "- the request function can then be the main interface for other functions"
   ]
  },
  {
   "cell_type": "code",
   "execution_count": null,
   "id": "imposed-leader",
   "metadata": {},
   "outputs": [],
   "source": [
    "%load_ext autoreload\n",
    "%autoreload 2"
   ]
  },
  {
   "cell_type": "code",
   "execution_count": null,
   "id": "solar-matrix",
   "metadata": {},
   "outputs": [],
   "source": [
    "import os\n",
    "\n",
    "from phoenix.common import utils\n",
    "from phoenix.scrape import facebook_graph"
   ]
  },
  {
   "cell_type": "code",
   "execution_count": null,
   "id": "variable-supply",
   "metadata": {},
   "outputs": [],
   "source": [
    "utils.setup_notebook_output()\n",
    "utils.setup_notebook_logging()"
   ]
  },
  {
   "cell_type": "code",
   "execution_count": null,
   "id": "c0347219-c3eb-4d2f-ba99-5ef7c37f6d3e",
   "metadata": {},
   "outputs": [],
   "source": [
    "# This token works but you can't make any page related requests\n",
    "# You can only do app related stuff.\n",
    "# See docs link in 1st cell\n",
    "app_access_token = facebook_graph.get_app_access_token()\n",
    "app_access_token"
   ]
  },
  {
   "cell_type": "code",
   "execution_count": null,
   "id": "55ed5f56-7d29-492d-b878-0a936b44597e",
   "metadata": {},
   "outputs": [],
   "source": [
    "# This also works but is even more limited then the App Access token\n",
    "client_access_token = facebook_graph.get_client_access_token()\n",
    "client_access_token"
   ]
  },
  {
   "cell_type": "code",
   "execution_count": null,
   "id": "034415af-1bea-4f7c-831c-be6ea6e41c72",
   "metadata": {},
   "outputs": [],
   "source": [
    "# Use the graph API exploer to generate a user access token:\n",
    "# https://developers.facebook.com/tools/explorer\n",
    "# You need to be a developer or admin of the app\n",
    "# Check the permission when making token\n",
    "# You can assign access to a page follow the wizard\n",
    "user_access_token = \"\""
   ]
  },
  {
   "cell_type": "code",
   "execution_count": null,
   "id": "2591552b-6767-46a3-9096-561c259484d4",
   "metadata": {},
   "outputs": [],
   "source": [
    "# Change to use the access token you want.\n",
    "graph = facebook_graph.get_graph(user_access_token)"
   ]
  },
  {
   "cell_type": "code",
   "execution_count": null,
   "id": "a88fc67e-2c58-4ad3-916e-dee47555112e",
   "metadata": {},
   "outputs": [],
   "source": [
    "graph"
   ]
  },
  {
   "cell_type": "code",
   "execution_count": null,
   "id": "b8e6a5ce-9060-42b3-9177-8224567ed81c",
   "metadata": {},
   "outputs": [],
   "source": [
    "# This is fine but you can't do pagination\n",
    "graph.get_object(\"729911107039948/feed\")"
   ]
  },
  {
   "cell_type": "code",
   "execution_count": null,
   "id": "382b0618-6370-4ad8-8135-2ad053819fb3",
   "metadata": {},
   "outputs": [],
   "source": [
    "# requests is better but there is no version in the URL\n",
    "# Fine for a MVP\n",
    "graph.request(\"29911107039948/feed\")"
   ]
  },
  {
   "cell_type": "code",
   "execution_count": null,
   "id": "af1532ad-55af-4dda-b185-0a2ad939dc25",
   "metadata": {},
   "outputs": [],
   "source": [
    "# This is a post with comments\n",
    "graph.request(\"729911107039948_5652564601441216\")"
   ]
  },
  {
   "cell_type": "code",
   "execution_count": null,
   "id": "ce87ecf6-6461-492a-8361-5eba061bbb81",
   "metadata": {},
   "outputs": [],
   "source": [
    "# Unable to get the comments without \"Page Public Content Access\"\n",
    "# Presumable becuase the content is not something I own/have\n",
    "# page_read_user_content permissions\n",
    "graph.request(\"729911107039948_5652564601441216/comments\")"
   ]
  },
  {
   "cell_type": "code",
   "execution_count": null,
   "id": "30f0324f-f43f-439b-ae8c-94877f1ea281",
   "metadata": {},
   "outputs": [],
   "source": [
    "# This doesn't work becuase the search for version 14.0\n",
    "graph.search(type=\"pages\")"
   ]
  },
  {
   "cell_type": "code",
   "execution_count": null,
   "id": "952b3fa1-1f0e-438a-9678-b32e1217f9fa",
   "metadata": {},
   "outputs": [],
   "source": [
    "# No permission to search\n",
    "graph.request(\"pages/search/\", {\"q\":\"F\", \"fields\":\"id\"})"
   ]
  },
  {
   "cell_type": "code",
   "execution_count": null,
   "id": "5c4c5e68-7943-4f4f-8fda-dbebdebdb988",
   "metadata": {},
   "outputs": [],
   "source": [
    "graph.debug_access_token(app_access_token, os.environ[\"FACEBOOK_APP_ID\"], os.environ[\"FACEBOOK_SECRET_TOKEN\"])"
   ]
  },
  {
   "cell_type": "code",
   "execution_count": null,
   "id": "0e813bc2-49df-46e2-aff1-1d677d6a177d",
   "metadata": {},
   "outputs": [],
   "source": [
    "# System user GET. We don't have permission for. Needed \"VIEW_SYSTEM_USERS\"\n",
    "graph.request(\"525307530983742/system_users\")"
   ]
  },
  {
   "cell_type": "code",
   "execution_count": null,
   "id": "b5438b8c-4681-4811-9422-571394be6b87",
   "metadata": {},
   "outputs": [],
   "source": []
  }
 ],
 "metadata": {
  "celltoolbar": "Tags",
  "kernelspec": {
   "display_name": "Python 3 (ipykernel)",
   "language": "python",
   "name": "python3"
  },
  "language_info": {
   "codemirror_mode": {
    "name": "ipython",
    "version": 3
   },
   "file_extension": ".py",
   "mimetype": "text/x-python",
   "name": "python",
   "nbconvert_exporter": "python",
   "pygments_lexer": "ipython3",
   "version": "3.9.2"
  }
 },
 "nbformat": 4,
 "nbformat_minor": 5
}
