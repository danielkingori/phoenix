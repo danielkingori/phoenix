{
 "cells": [
  {
   "cell_type": "markdown",
   "id": "3e8eebcb-65cf-4bb3-a3fe-16eab3833aca",
   "metadata": {},
   "source": [
    "# Facebook Posts - Source API\n",
    "Get the source data for facebook posts from crowdtangle api.\n",
    "\n",
    "Requires environment variables:\n",
    "- CROWDTANGLE_API_TOKEN\n",
    "- CT_RATE_LIMIT_CALLS\n",
    "\n",
    "Requires tenant config attributes:\n",
    "- `crowdtangle_scrape_list_id`"
   ]
  },
  {
   "cell_type": "code",
   "execution_count": null,
   "id": "imposed-leader",
   "metadata": {},
   "outputs": [],
   "source": [
    "%load_ext autoreload\n",
    "%autoreload 2"
   ]
  },
  {
   "cell_type": "code",
   "execution_count": null,
   "id": "solar-matrix",
   "metadata": {},
   "outputs": [],
   "source": [
    "import datetime\n",
    "\n",
    "import pandas as pd\n",
    "\n",
    "from phoenix.common import artifacts\n",
    "from phoenix.common import utils\n",
    "from phoenix.common import run_params\n",
    "from phoenix.scrape import scrape\n",
    "from phoenix.scrape import crowdtangle\n",
    "from phoenix.scrape import group_by"
   ]
  },
  {
   "cell_type": "code",
   "execution_count": null,
   "id": "variable-supply",
   "metadata": {},
   "outputs": [],
   "source": [
    "utils.setup_notebook_output()\n",
    "utils.setup_notebook_logging()"
   ]
  },
  {
   "cell_type": "code",
   "execution_count": null,
   "id": "social-destiny",
   "metadata": {
    "tags": [
     "parameters"
    ]
   },
   "outputs": [],
   "source": [
    "# Parameters\n",
    "RUN_DATETIME = None\n",
    "TENANT_ID = None\n",
    "\n",
    "# Set Artefacts URLs\n",
    "# ARTIFACTS_ENVIRONMENT_KEY will only effect the URLs that are not set\n",
    "ARTIFACTS_ENVIRONMENT_KEY = \"local\"\n",
    "ARTIFACT_SOURCE_FB_POSTS_URL = None\n",
    "\n",
    "# The period you want to scrape\n",
    "# Default three days before run date\n",
    "SCRAPE_START_DATE = None\n",
    "SCRAPE_END_DATE = None\n",
    "SINCE_DAYS = None"
   ]
  },
  {
   "cell_type": "code",
   "execution_count": null,
   "id": "5a5abe6d-37fc-4af2-8a42-104eb4260736",
   "metadata": {},
   "outputs": [],
   "source": [
    "# DEFAULTS\n",
    "cur_run_params = run_params.general.create(ARTIFACTS_ENVIRONMENT_KEY, TENANT_ID, RUN_DATETIME)\n",
    "if ARTIFACT_SOURCE_FB_POSTS_URL is None:\n",
    "    ARTIFACT_SOURCE_FB_POSTS_URL = cur_run_params.art_url_reg.get_url(\"source-posts\")\n",
    "    \n",
    "if SINCE_DAYS:\n",
    "    SINCE_DAYS = int(SINCE_DAYS)\n",
    "    SCRAPE_END_DATE = cur_run_params.run_dt.dt\n",
    "    SCRAPE_START_DATE = cur_run_params.run_dt.dt - datetime.timedelta(days=int(SINCE_DAYS))\n",
    "\n",
    "if SCRAPE_START_DATE is None:\n",
    "    SCRAPE_START_DATE = cur_run_params.run_dt.dt - datetime.timedelta(days=3)\n",
    "    \n",
    "if SCRAPE_END_DATE is None:\n",
    "    SCRAPE_END_DATE = cur_run_params.run_dt.dt"
   ]
  },
  {
   "cell_type": "code",
   "execution_count": null,
   "id": "annual-douglas",
   "metadata": {},
   "outputs": [],
   "source": [
    "# Display params.\n",
    "print(\n",
    "cur_run_params,\n",
    "ARTIFACT_SOURCE_FB_POSTS_URL,\n",
    "cur_run_params.run_dt.dt,\n",
    "SINCE_DAYS,\n",
    "SCRAPE_START_DATE,\n",
    "SCRAPE_END_DATE,\n",
    "sep='\\n',\n",
    ")"
   ]
  },
  {
   "cell_type": "code",
   "execution_count": null,
   "id": "simple-surface",
   "metadata": {},
   "outputs": [],
   "source": [
    "# Scrape code will go here\n",
    "posts = crowdtangle.get_all_posts(\n",
    "    SCRAPE_START_DATE, \n",
    "    SCRAPE_END_DATE, \n",
    "    crowdtangle.process_scrape_list_id(cur_run_params.tenant_config.crowdtangle_scrape_list_id)\n",
    ")\n",
    "len(posts)"
   ]
  },
  {
   "cell_type": "code",
   "execution_count": null,
   "id": "diagnostic-quebec",
   "metadata": {
    "tags": []
   },
   "outputs": [],
   "source": [
    "posts[0:1]"
   ]
  },
  {
   "cell_type": "code",
   "execution_count": null,
   "id": "49fe1cd1-4418-471d-897a-1a97b29077da",
   "metadata": {
    "tags": []
   },
   "outputs": [],
   "source": [
    "a = artifacts.json.persist(ARTIFACT_SOURCE_FB_POSTS_URL, posts)\n",
    "a.url"
   ]
  },
  {
   "cell_type": "code",
   "execution_count": null,
   "id": "42055967-ce34-49e1-bb93-b182b59666e3",
   "metadata": {},
   "outputs": [],
   "source": [
    "all_persisted = group_by.persist_facebook_posts(cur_run_params.art_url_reg, posts, SCRAPE_START_DATE, SCRAPE_END_DATE)\n",
    "for a in all_persisted:\n",
    "    print(a.url)"
   ]
  }
 ],
 "metadata": {
  "celltoolbar": "Tags",
  "kernelspec": {
   "display_name": "Python 3",
   "language": "python",
   "name": "python3"
  },
  "language_info": {
   "codemirror_mode": {
    "name": "ipython",
    "version": 3
   },
   "file_extension": ".py",
   "mimetype": "text/x-python",
   "name": "python",
   "nbconvert_exporter": "python",
   "pygments_lexer": "ipython3",
   "version": "3.9.2"
  }
 },
 "nbformat": 4,
 "nbformat_minor": 5
}
