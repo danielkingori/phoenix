{
 "cells": [
  {
   "cell_type": "markdown",
   "id": "948a6dcf-c6d8-470b-ab9e-d5cf53d20f08",
   "metadata": {},
   "source": [
    "# Twitter Keyword Search\n",
    "\n",
    "Get data from twitter based on keyword queries\n",
    "\n",
    "Requires enviornment variables:\n",
    "- TWITTER_CONSUMER_KEY\n",
    "- TWITTER_CONSUMER_SECRET\n",
    "- TWITTER_APPLICATION_TOKEN\n",
    "- TWITTER_APPLICATION_SECRET"
   ]
  },
  {
   "cell_type": "code",
   "execution_count": null,
   "id": "b1298287-27ee-4920-8732-8ce86d7749f7",
   "metadata": {},
   "outputs": [],
   "source": [
    "%load_ext autoreload\n",
    "%autoreload 2"
   ]
  },
  {
   "cell_type": "code",
   "execution_count": null,
   "id": "15df2f90-6384-4856-8410-fba66525ab91",
   "metadata": {},
   "outputs": [],
   "source": [
    "import datetime\n",
    "\n",
    "from phoenix.scrape import twitter_queries\n",
    "from phoenix.scrape import twitter_utilities\n",
    "from phoenix.scrape import scrape\n",
    "\n",
    "from phoenix.common import artifacts\n",
    "from phoenix.common import utils"
   ]
  },
  {
   "cell_type": "code",
   "execution_count": null,
   "id": "61cd7ad7-f641-4338-8946-4981a87154ea",
   "metadata": {},
   "outputs": [],
   "source": [
    "utils.setup_notebook_output()\n",
    "utils.setup_notebook_logging()"
   ]
  },
  {
   "cell_type": "code",
   "execution_count": null,
   "id": "97243da9-3768-4f7d-9c58-91f336cc7918",
   "metadata": {
    "tags": [
     "parameters"
    ]
   },
   "outputs": [],
   "source": [
    "# Parametrise the run execution date.\n",
    "# Format of the run date\n",
    "RUN_DATE_FORMAT = \"%Y-%m-%d\"\n",
    "# This can be overwritten at execution time by Papermill to enable historic runs and backfills etc.\n",
    "RUN_ISO_TIMESTAMP = datetime.datetime.now().isoformat()\n",
    "run_iso_datetime = datetime.datetime.fromisoformat(RUN_ISO_TIMESTAMP)\n",
    "RUN_DATE = datetime.datetime.today().strftime(RUN_DATE_FORMAT)\n",
    "\n",
    "# Set Artefacts URL\n",
    "aur = artifacts.registry.ArtifactURLRegistry(run_iso_datetime, \"local\")\n",
    "ARTIFACT_SOURCE_TWEETS_URL = aur.get_url(\"source-keyword_tweets\")\n",
    "ARTIFACT_BASE_TWEETS_URL = aur.get_url(\"base-to_process_keyword_tweets\")\n",
    "\n",
    "#The type of query: \"users\" or \"keywords\"\n",
    "QUERY_TYPE = \"keywords\"\n",
    "QUERIES_CSV_PATH = f\"{artifacts.urls.get_static_config()}twitter_query_keywords.csv\"\n",
    "# The query: list of users for \"users\" query and list of keyword queries for \"keywords\"\n",
    "# Number of days back to scrape\n",
    "SINCE_DAYS = 3\n",
    "# Total number of items, 0 for infinite\n",
    "NUM_ITEMS = 0 "
   ]
  },
  {
   "cell_type": "code",
   "execution_count": null,
   "id": "74f14fe9-7cd9-49bf-b24e-5041a17644ac",
   "metadata": {},
   "outputs": [],
   "source": [
    "print(\n",
    "ARTIFACT_SOURCE_TWEETS_URL,\n",
    "ARTIFACT_BASE_TWEETS_URL,\n",
    "RUN_ISO_TIMESTAMP,\n",
    "RUN_DATE,\n",
    "QUERY_TYPE,\n",
    "QUERIES_CSV_PATH,\n",
    "SINCE_DAYS,\n",
    "NUM_ITEMS,\n",
    "sep='\\n')"
   ]
  },
  {
   "cell_type": "code",
   "execution_count": null,
   "id": "37de1043-b797-4d3f-95c5-ed426000bbee",
   "metadata": {},
   "outputs": [],
   "source": [
    "queries = twitter_utilities.load_queries_from_csv(QUERIES_CSV_PATH)\n",
    "print(queries)"
   ]
  },
  {
   "cell_type": "code",
   "execution_count": null,
   "id": "f68a4aae-fd41-492e-8597-636bcf579615",
   "metadata": {},
   "outputs": [],
   "source": [
    "tweets_json=twitter_queries.get_tweets_json(QUERY_TYPE, queries, NUM_ITEMS, SINCE_DAYS)\n",
    "len(tweets_json)"
   ]
  },
  {
   "cell_type": "code",
   "execution_count": null,
   "id": "ca3c47fa-af35-4bfe-811f-e4d24332dd7a",
   "metadata": {},
   "outputs": [],
   "source": [
    "a = artifacts.json.persist(ARTIFACT_SOURCE_TWEETS_URL, tweets_json);\n",
    "a.url"
   ]
  },
  {
   "cell_type": "code",
   "execution_count": null,
   "id": "4f977eaf-4353-4ad8-bff9-ce57f3a39ab2",
   "metadata": {},
   "outputs": [],
   "source": [
    "a = artifacts.json.persist(ARTIFACT_BASE_TWEETS_URL, tweets_json);\n",
    "a.url"
   ]
  }
 ],
 "metadata": {
  "kernelspec": {
   "display_name": "Python 3",
   "language": "python",
   "name": "python3"
  },
  "language_info": {
   "codemirror_mode": {
    "name": "ipython",
    "version": 3
   },
   "file_extension": ".py",
   "mimetype": "text/x-python",
   "name": "python",
   "nbconvert_exporter": "python",
   "pygments_lexer": "ipython3",
   "version": "3.9.2"
  },
  "toc-autonumbering": false,
  "toc-showcode": false,
  "toc-showmarkdowntxt": false,
  "toc-showtags": true
 },
 "nbformat": 4,
 "nbformat_minor": 5
}
