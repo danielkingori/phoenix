{
 "cells": [
  {
   "cell_type": "code",
   "execution_count": null,
   "id": "imposed-leader",
   "metadata": {},
   "outputs": [],
   "source": [
    "%load_ext autoreload\n",
    "%autoreload 2"
   ]
  },
  {
   "cell_type": "code",
   "execution_count": null,
   "id": "solar-matrix",
   "metadata": {},
   "outputs": [],
   "source": [
    "import datetime\n",
    "\n",
    "import pandas as pd\n",
    "\n",
    "from phoenix.common import artifacts\n",
    "from phoenix.common import utils\n",
    "from phoenix.scrape import scrape\n",
    "from phoenix.scrape import crowdtangle"
   ]
  },
  {
   "cell_type": "code",
   "execution_count": null,
   "id": "variable-supply",
   "metadata": {},
   "outputs": [],
   "source": [
    "utils.setup_notebook_output()\n",
    "utils.setup_notebook_logging()"
   ]
  },
  {
   "cell_type": "code",
   "execution_count": null,
   "id": "social-destiny",
   "metadata": {
    "tags": [
     "parameters"
    ]
   },
   "outputs": [],
   "source": [
    "# Parametrise the run execution date.\n",
    "# Format of the run date\n",
    "RUN_DATE_FORMAT = \"%Y-%m-%d\"\n",
    "# This can be overwritten at execution time by Papermill to enable historic runs and backfills etc.\n",
    "RUN_DATE = datetime.datetime.today().strftime(RUN_DATE_FORMAT)\n",
    "\n",
    "# Set Artefacts URL\n",
    "ARTIFACTS_BASE_URL = f\"{artifacts.urls.get_local()}{RUN_DATE}/{scrape.PROCESSOR_NAME}/\"\n",
    "\n",
    "# The period you want to scrape\n",
    "# Default to day before run date\n",
    "SCRAPE_START_DATE = datetime.datetime.strptime(RUN_DATE, RUN_DATE_FORMAT) - datetime.timedelta(days=1)\n",
    "SCRAPE_END_DATE = datetime.datetime.strptime(RUN_DATE, RUN_DATE_FORMAT)\n",
    "SCRAPE_LIST_IDS = [\"1531680\"]"
   ]
  },
  {
   "cell_type": "code",
   "execution_count": null,
   "id": "annual-douglas",
   "metadata": {},
   "outputs": [],
   "source": [
    "# Display params.\n",
    "print(\n",
    "ARTIFACTS_BASE_URL,\n",
    "RUN_DATE,\n",
    "SCRAPE_START_DATE,\n",
    "SCRAPE_END_DATE,\n",
    "SCRAPE_LIST_IDS,\n",
    "sep='\\n',\n",
    ")"
   ]
  },
  {
   "cell_type": "code",
   "execution_count": null,
   "id": "simple-surface",
   "metadata": {},
   "outputs": [],
   "source": [
    "# Scrape code will go here\n",
    "posts = crowdtangle.get_all_posts(SCRAPE_START_DATE, SCRAPE_END_DATE, SCRAPE_LIST_IDS)\n",
    "len(posts)"
   ]
  },
  {
   "cell_type": "code",
   "execution_count": null,
   "id": "diagnostic-quebec",
   "metadata": {
    "tags": []
   },
   "outputs": [],
   "source": [
    "posts[0:1]"
   ]
  },
  {
   "cell_type": "code",
   "execution_count": null,
   "id": "49fe1cd1-4418-471d-897a-1a97b29077da",
   "metadata": {
    "tags": []
   },
   "outputs": [],
   "source": [
    "artifacts.json.persist(artifacts.json.url(ARTIFACTS_BASE_URL, \"posts\"), posts)\n",
    "# posts_get = artifacts.json.get(artifacts.json.url(ARTIFACTS_BASE_URL, \"posts\"))\n",
    "# posts_get.obj[0].keys()"
   ]
  },
  {
   "cell_type": "code",
   "execution_count": null,
   "id": "721919f1-c1c4-47e8-9036-178bf509f26e",
   "metadata": {},
   "outputs": [],
   "source": [
    "posts_df = pd.DataFrame(posts, columns=posts[0].keys())\n",
    "# posts_df = pd.DataFrame(posts_get.obj, columns=posts_get.obj[0].keys())"
   ]
  },
  {
   "cell_type": "code",
   "execution_count": null,
   "id": "1151a729-e3b9-4322-912a-208346ac4482",
   "metadata": {},
   "outputs": [],
   "source": [
    "posts_df.head()"
   ]
  },
  {
   "cell_type": "code",
   "execution_count": null,
   "id": "a3265e2b-6c93-466d-8527-3bf1bd0241df",
   "metadata": {
    "tags": []
   },
   "outputs": [],
   "source": [
    "artifacts.dataframes.persist(artifacts.dataframes.url(ARTIFACTS_BASE_URL, \"posts\"), posts_df)"
   ]
  },
  {
   "cell_type": "code",
   "execution_count": null,
   "id": "42055967-ce34-49e1-bb93-b182b59666e3",
   "metadata": {},
   "outputs": [],
   "source": []
  }
 ],
 "metadata": {
  "celltoolbar": "Tags",
  "kernelspec": {
   "display_name": "Python 3",
   "language": "python",
   "name": "python3"
  },
  "language_info": {
   "codemirror_mode": {
    "name": "ipython",
    "version": 3
   },
   "file_extension": ".py",
   "mimetype": "text/x-python",
   "name": "python",
   "nbconvert_exporter": "python",
   "pygments_lexer": "ipython3",
   "version": "3.9.2"
  }
 },
 "nbformat": 4,
 "nbformat_minor": 5
}
