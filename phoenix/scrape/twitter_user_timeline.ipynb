{
 "cells": [
  {
   "cell_type": "code",
   "execution_count": null,
   "id": "c6da3bfe-3acf-4d60-a7c9-a254739bbea8",
   "metadata": {},
   "outputs": [],
   "source": [
    "%load_ext autoreload\n",
    "%autoreload 2"
   ]
  },
  {
   "cell_type": "code",
   "execution_count": null,
   "id": "15df2f90-6384-4856-8410-fba66525ab91",
   "metadata": {},
   "outputs": [],
   "source": [
    "import datetime\n",
    "import pandas as pd\n",
    "\n",
    "from phoenix.scrape import twitter_queries\n",
    "from phoenix.scrape import scrape\n",
    "\n",
    "from phoenix.common import artifacts\n",
    "from phoenix.common import utils"
   ]
  },
  {
   "cell_type": "code",
   "execution_count": null,
   "id": "61cd7ad7-f641-4338-8946-4981a87154ea",
   "metadata": {},
   "outputs": [],
   "source": [
    "utils.setup_notebook_output()\n",
    "utils.setup_notebook_logging()"
   ]
  },
  {
   "cell_type": "code",
   "execution_count": null,
   "id": "97243da9-3768-4f7d-9c58-91f336cc7918",
   "metadata": {},
   "outputs": [],
   "source": [
    "# Parametrise the run execution date.\n",
    "# Format of the run date\n",
    "RUN_DATE_FORMAT = \"%Y-%m-%d\"\n",
    "# This can be overwritten at execution time by Papermill to enable historic runs and backfills etc.\n",
    "RUN_DATE = datetime.datetime.today().strftime(RUN_DATE_FORMAT)\n",
    "\n",
    "# Set Artefacts URL\n",
    "ARTIFACTS_BASE_URL = f\"{artifacts.urls.get_local()}{RUN_DATE}/{scrape.PROCESSOR_NAME}/\"\n",
    "\n",
    "#The type of query: \"users\" or \"keywords\"\n",
    "QUERY_TYPE = \"users\"\n",
    "# The query: list of users for \"users\" query and list of keyword queries for \"keywords\"\n",
    "QUERIES = [\"UN_Lebanon\", \"howtobuildpeace\"]\n",
    "# Number of days back to scrape\n",
    "SINCE_DAYS = 1\n",
    "# Total number of items, 0 for infinite\n",
    "NUM_ITEMS = 0"
   ]
  },
  {
   "cell_type": "code",
   "execution_count": null,
   "id": "74f14fe9-7cd9-49bf-b24e-5041a17644ac",
   "metadata": {},
   "outputs": [],
   "source": [
    "print(\n",
    "ARTIFACTS_BASE_URL,\n",
    "QUERY_TYPE,\n",
    "QUERIES,\n",
    "SINCE_DAYS,\n",
    "NUM_ITEMS,\n",
    "sep='\\n')"
   ]
  },
  {
   "cell_type": "code",
   "execution_count": null,
   "id": "f68a4aae-fd41-492e-8597-636bcf579615",
   "metadata": {},
   "outputs": [],
   "source": [
    "tweets_df=twitter_queries.get_tweets_dataframe(QUERY_TYPE, QUERIES, NUM_ITEMS, SINCE_DAYS)"
   ]
  },
  {
   "cell_type": "code",
   "execution_count": null,
   "id": "0709d996-d658-4a5f-b471-b3a9422bac2e",
   "metadata": {},
   "outputs": [],
   "source": [
    "len(tweets_df)"
   ]
  },
  {
   "cell_type": "code",
   "execution_count": null,
   "id": "ca3c47fa-af35-4bfe-811f-e4d24332dd7a",
   "metadata": {},
   "outputs": [],
   "source": [
    "tweets_df.head()"
   ]
  },
  {
   "cell_type": "code",
   "execution_count": null,
   "id": "4f977eaf-4353-4ad8-bff9-ce57f3a39ab2",
   "metadata": {},
   "outputs": [],
   "source": [
    "artifacts.dataframes.persist(artifacts.dataframes.url(ARTIFACTS_BASE_URL, \"tweets\"), tweets_df)"
   ]
  }
 ],
 "metadata": {
  "kernelspec": {
   "display_name": "Python 3",
   "language": "python",
   "name": "python3"
  },
  "language_info": {
   "codemirror_mode": {
    "name": "ipython",
    "version": 3
   },
   "file_extension": ".py",
   "mimetype": "text/x-python",
   "name": "python",
   "nbconvert_exporter": "python",
   "pygments_lexer": "ipython3",
   "version": "3.9.2"
  }
 },
 "nbformat": 4,
 "nbformat_minor": 5
}
