{
 "cells": [
  {
   "cell_type": "markdown",
   "id": "26f7bbe1-5ea6-454b-b2d9-17ee2ba933ab",
   "metadata": {},
   "source": [
    "# Twitter User Search\n",
    "Get timeline data from twitter based on usernames\n",
    "\n",
    "Requires enviornment variables:\n",
    "\n",
    "- TWITTER_CONSUMER_KEY\n",
    "- TWITTER_CONSUMER_SECRET\n",
    "- TWITTER_APPLICATION_TOKEN\n",
    "- TWITTER_APPLICATION_SECRET"
   ]
  },
  {
   "cell_type": "code",
   "execution_count": null,
   "id": "c6da3bfe-3acf-4d60-a7c9-a254739bbea8",
   "metadata": {},
   "outputs": [],
   "source": [
    "%load_ext autoreload\n",
    "%autoreload 2"
   ]
  },
  {
   "cell_type": "code",
   "execution_count": null,
   "id": "15df2f90-6384-4856-8410-fba66525ab91",
   "metadata": {},
   "outputs": [],
   "source": [
    "import datetime\n",
    "\n",
    "from phoenix.scrape import twitter_queries\n",
    "from phoenix.scrape import twitter_utilities\n",
    "from phoenix.scrape import scrape\n",
    "from phoenix.scrape import group_by\n",
    "from phoenix.common import run_datetime\n",
    "from phoenix.common import artifacts\n",
    "from phoenix.common import utils"
   ]
  },
  {
   "cell_type": "code",
   "execution_count": null,
   "id": "61cd7ad7-f641-4338-8946-4981a87154ea",
   "metadata": {},
   "outputs": [],
   "source": [
    "utils.setup_notebook_output()\n",
    "utils.setup_notebook_logging()"
   ]
  },
  {
   "cell_type": "code",
   "execution_count": null,
   "id": "3a32d7dd-39f0-4828-9c8e-54f61a24c34b",
   "metadata": {
    "tags": [
     "parameters"
    ]
   },
   "outputs": [],
   "source": [
    "# Parameters\n",
    "RUN_DATETIME = None\n",
    "\n",
    "ARTIFACTS_ENVIRONMENT_KEY = \"local\"\n",
    "ARTIFACT_SOURCE_TWEETS_URL = None\n",
    "\n",
    "#The type of query: \"user\" or \"keyword\"\n",
    "QUERY_TYPE = \"user\"\n",
    "QUERIES_CSV_PATH = f\"{artifacts.urls.get_static_config()}twitter_query_users.csv\"\n",
    "# The query: list of users for \"user\" query and list of keyword queries for \"keyword\"\n",
    "# Number of days back to scrape\n",
    "SINCE_DAYS = 3\n",
    "# Total number of items, 0 for infinite\n",
    "NUM_ITEMS = 0"
   ]
  },
  {
   "cell_type": "code",
   "execution_count": null,
   "id": "f490dc20-d49b-47a6-81bc-1488cae89903",
   "metadata": {},
   "outputs": [],
   "source": [
    "# DEFAULTS\n",
    "if RUN_DATETIME:\n",
    "    run_dt = run_datetime.from_file_safe_str(RUN_DATETIME)\n",
    "else:\n",
    "    run_dt = run_datetime.create_run_datetime_now()\n",
    "    \n",
    "aur = artifacts.registry.ArtifactURLRegistry(run_dt, ARTIFACTS_ENVIRONMENT_KEY)\n",
    "# Set Artefacts URL\n",
    "if ARTIFACT_SOURCE_TWEETS_URL is None:\n",
    "    ARTIFACT_SOURCE_TWEETS_URL = aur.get_url(\"source-user_tweets\")"
   ]
  },
  {
   "cell_type": "code",
   "execution_count": null,
   "id": "74f14fe9-7cd9-49bf-b24e-5041a17644ac",
   "metadata": {},
   "outputs": [],
   "source": [
    "print(\n",
    "ARTIFACT_SOURCE_TWEETS_URL,\n",
    "ARTIFACT_BASE_TWEETS_URL,\n",
    "run_dt.dt,\n",
    "QUERY_TYPE,\n",
    "QUERIES_CSV_PATH,\n",
    "SINCE_DAYS,\n",
    "NUM_ITEMS,\n",
    "sep='\\n')"
   ]
  },
  {
   "cell_type": "code",
   "execution_count": null,
   "id": "f68a4aae-fd41-492e-8597-636bcf579615",
   "metadata": {},
   "outputs": [],
   "source": [
    "queries = twitter_utilities.load_queries_from_csv(QUERIES_CSV_PATH)\n",
    "print(queries)"
   ]
  },
  {
   "cell_type": "code",
   "execution_count": null,
   "id": "0709d996-d658-4a5f-b471-b3a9422bac2e",
   "metadata": {},
   "outputs": [],
   "source": [
    "tweets_json=twitter_queries.get_tweets_json(QUERY_TYPE, queries, NUM_ITEMS, SINCE_DAYS)\n",
    "len(tweets_json)"
   ]
  },
  {
   "cell_type": "code",
   "execution_count": null,
   "id": "ca3c47fa-af35-4bfe-811f-e4d24332dd7a",
   "metadata": {},
   "outputs": [],
   "source": [
    "a = artifacts.json.persist(ARTIFACT_SOURCE_TWEETS_URL, tweets_json);\n",
    "a.url"
   ]
  },
  {
   "cell_type": "code",
   "execution_count": null,
   "id": "4f977eaf-4353-4ad8-bff9-ce57f3a39ab2",
   "metadata": {},
   "outputs": [],
   "source": [
    "all_persisted = group_by.persist_tweets(aur, \"user\", tweets_json, run_dt, SINCE_DAYS)\n",
    "for a in all_persisted:\n",
    "    print(a.url)"
   ]
  },
  {
   "cell_type": "code",
   "execution_count": null,
   "id": "4b2d748b-5256-4111-bdda-0b4e932e2d4e",
   "metadata": {},
   "outputs": [],
   "source": []
  }
 ],
 "metadata": {
  "kernelspec": {
   "display_name": "Python 3 (ipykernel)",
   "language": "python",
   "name": "python3"
  },
  "language_info": {
   "codemirror_mode": {
    "name": "ipython",
    "version": 3
   },
   "file_extension": ".py",
   "mimetype": "text/x-python",
   "name": "python",
   "nbconvert_exporter": "python",
   "pygments_lexer": "ipython3",
   "version": "3.9.2"
  }
 },
 "nbformat": 4,
 "nbformat_minor": 5
}
