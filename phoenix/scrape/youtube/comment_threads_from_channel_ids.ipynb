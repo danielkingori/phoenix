{
 "cells": [
  {
   "cell_type": "markdown",
   "id": "3e8eebcb-65cf-4bb3-a3fe-16eab3833aca",
   "metadata": {},
   "source": [
    "# YouTube API - comment threads from channel ids\n",
    "Get source data comment threads for a list of channels\n",
    "\n",
    "See docs: docs/youtube.md"
   ]
  },
  {
   "cell_type": "code",
   "execution_count": null,
   "id": "imposed-leader",
   "metadata": {},
   "outputs": [],
   "source": [
    "%load_ext autoreload\n",
    "%autoreload 2"
   ]
  },
  {
   "cell_type": "code",
   "execution_count": null,
   "id": "solar-matrix",
   "metadata": {},
   "outputs": [],
   "source": [
    "import pandas as pd\n",
    "import pprint\n",
    "\n",
    "from phoenix.common import artifacts\n",
    "from phoenix.common import utils\n",
    "from phoenix.scrape import youtube"
   ]
  },
  {
   "cell_type": "code",
   "execution_count": null,
   "id": "variable-supply",
   "metadata": {},
   "outputs": [],
   "source": [
    "utils.setup_notebook_output()\n",
    "utils.setup_notebook_logging()"
   ]
  },
  {
   "cell_type": "code",
   "execution_count": null,
   "id": "social-destiny",
   "metadata": {
    "tags": [
     "parameters"
    ]
   },
   "outputs": [],
   "source": [
    "# Parameters\n",
    "RUN_DATETIME = None\n",
    "TENANT_ID = \"testing\"\n",
    "ARTIFACTS_ENVIRONMENT_KEY = \"local\"\n",
    "MAX_PAGES = None"
   ]
  },
  {
   "cell_type": "code",
   "execution_count": null,
   "id": "5a5abe6d-37fc-4af2-8a42-104eb4260736",
   "metadata": {},
   "outputs": [],
   "source": [
    "# Run Params\n",
    "run_params = youtube.run_params.comment_threads_from_channel_ids.create(\n",
    "    ARTIFACTS_ENVIRONMENT_KEY,\n",
    "    TENANT_ID,\n",
    "    RUN_DATETIME,\n",
    "    MAX_PAGES,\n",
    ")"
   ]
  },
  {
   "cell_type": "code",
   "execution_count": null,
   "id": "annual-douglas",
   "metadata": {},
   "outputs": [],
   "source": [
    "# Display params.\n",
    "pprint.pprint(run_params)"
   ]
  },
  {
   "cell_type": "code",
   "execution_count": null,
   "id": "496ccc36-8740-484f-88ce-923dfb2517e6",
   "metadata": {},
   "outputs": [],
   "source": [
    "channels_config = youtube.channels_config.get_channels_to_scrape(run_params.urls.static_youtube_channels)"
   ]
  },
  {
   "cell_type": "code",
   "execution_count": null,
   "id": "simple-surface",
   "metadata": {},
   "outputs": [],
   "source": [
    "comment_threads = youtube.comment_threads.get_comment_threads_for_channels_config(channels_config)\n",
    "len(comment_threads)"
   ]
  },
  {
   "cell_type": "code",
   "execution_count": null,
   "id": "diagnostic-quebec",
   "metadata": {
    "tags": []
   },
   "outputs": [],
   "source": [
    "# Show the first result\n",
    "comment_threads[0:1]"
   ]
  },
  {
   "cell_type": "code",
   "execution_count": null,
   "id": "49fe1cd1-4418-471d-897a-1a97b29077da",
   "metadata": {
    "tags": []
   },
   "outputs": [],
   "source": [
    "a = artifacts.json.persist(run_params.urls.source_youtube_comment_threads_from_channel_ids, comment_threads)\n",
    "a.url"
   ]
  },
  {
   "cell_type": "code",
   "execution_count": null,
   "id": "42055967-ce34-49e1-bb93-b182b59666e3",
   "metadata": {},
   "outputs": [],
   "source": [
    "a = artifacts.json.persist(run_params.urls.base_youtube_comment_threads, comment_threads)\n",
    "a.url"
   ]
  }
 ],
 "metadata": {
  "celltoolbar": "Tags",
  "kernelspec": {
   "display_name": "Python 3 (ipykernel)",
   "language": "python",
   "name": "python3"
  },
  "language_info": {
   "codemirror_mode": {
    "name": "ipython",
    "version": 3
   },
   "file_extension": ".py",
   "mimetype": "text/x-python",
   "name": "python",
   "nbconvert_exporter": "python",
   "pygments_lexer": "ipython3",
   "version": "3.9.2"
  }
 },
 "nbformat": 4,
 "nbformat_minor": 5
}
