{
 "cells": [
  {
   "cell_type": "markdown",
   "id": "ee6b9aae-e9ca-427a-9e6f-08d8a92633c9",
   "metadata": {},
   "source": [
    "# Migration of the language_sentiment_dataset"
   ]
  },
  {
   "cell_type": "code",
   "execution_count": null,
   "id": "d20f471a-a32b-4071-84d1-64cf435ceb27",
   "metadata": {},
   "outputs": [],
   "source": [
    "%load_ext autoreload\n",
    "%autoreload 2"
   ]
  },
  {
   "cell_type": "code",
   "execution_count": null,
   "id": "72f8c18b-ddf0-4b81-87a0-2c6947ad6d06",
   "metadata": {},
   "outputs": [],
   "source": [
    "import pandas as pd\n",
    "\n",
    "from phoenix.common import artifacts, run_params\n",
    "from phoenix.common import utils\n",
    "from phoenix.tag.third_party_models.aws_async import language_sentiment_dataset"
   ]
  },
  {
   "cell_type": "code",
   "execution_count": null,
   "id": "f6e5ba25-e8b3-43de-ac2e-f9969d6da660",
   "metadata": {},
   "outputs": [],
   "source": [
    "utils.setup_notebook_output()\n",
    "utils.setup_notebook_logging()"
   ]
  },
  {
   "cell_type": "code",
   "execution_count": null,
   "id": "7f0f8264-bba9-4f73-bde8-fa415edebb0f",
   "metadata": {
    "tags": [
     "parameters"
    ]
   },
   "outputs": [],
   "source": [
    "# Parameters\n",
    "# See phoenix/common/run_datetime.py expected format of parameter\n",
    "RUN_DATETIME = None\n",
    "TENANT_ID = None\n",
    "\n",
    "# See phoenix/common/artifacts/registry_environment.py expected format of parameter\n",
    "ARTIFACTS_ENVIRONMENT_KEY = \"local\"\n",
    "\n",
    "# Filters for batch\n",
    "YEAR_FILTER = 2021\n",
    "# Without zero padding\n",
    "MONTH_FILTER = 8\n",
    "OBJECT_TYPE = \"facebook_comments\""
   ]
  },
  {
   "cell_type": "code",
   "execution_count": null,
   "id": "00420e0c-45a5-43de-b900-5478f2fd994b",
   "metadata": {},
   "outputs": [],
   "source": [
    "cur_run_params = run_params.general.create(ARTIFACTS_ENVIRONMENT_KEY, TENANT_ID, RUN_DATETIME)\n",
    "    \n",
    "url_config = {\n",
    "    \"YEAR_FILTER\": int(YEAR_FILTER),\n",
    "    \"MONTH_FILTER\": int(MONTH_FILTER),\n",
    "    \"OBJECT_TYPE\": OBJECT_TYPE\n",
    "}\n",
    "\n",
    "TAGGING_RUNS_URL_LANGUAGE_SENTIMENT_OBJECTS = cur_run_params.art_url_reg.get_url(\"tagging_runs-language_sentiment_objects\", url_config)\n",
    "LEGACY_URL_LANGUAGE_SENTIMENT_OBJECTS = cur_run_params.art_url_reg.get_url(\"legacy-language_sentiment_objects\", url_config)"
   ]
  },
  {
   "cell_type": "code",
   "execution_count": null,
   "id": "eb190492-9a3c-4114-8bce-2729d6e9210a",
   "metadata": {},
   "outputs": [],
   "source": [
    "# Display params.\n",
    "print(\n",
    "LEGACY_URL_LANGUAGE_SENTIMENT_OBJECTS,\n",
    "TAGGING_RUNS_URL_LANGUAGE_SENTIMENT_OBJECTS,\n",
    "cur_run_params.run_dt.dt,\n",
    "sep='\\n',\n",
    ")"
   ]
  },
  {
   "cell_type": "code",
   "execution_count": null,
   "id": "cc5d1522-198b-42af-959a-ab128c6392ec",
   "metadata": {},
   "outputs": [],
   "source": [
    "legacy_art_langauge_sentiment_objects = artifacts.dataframes.get(LEGACY_URL_LANGUAGE_SENTIMENT_OBJECTS)"
   ]
  },
  {
   "cell_type": "code",
   "execution_count": null,
   "id": "38193ae8-7128-4b9f-8da4-a4c899e42b82",
   "metadata": {},
   "outputs": [],
   "source": [
    "legacy_art_langauge_sentiment_objects.dataframe.head()"
   ]
  },
  {
   "cell_type": "code",
   "execution_count": null,
   "id": "f855c39e-175d-470f-9409-f357c96a2b49",
   "metadata": {},
   "outputs": [],
   "source": [
    "language_sentiment_objects = language_sentiment_dataset.persist(\n",
    "    TAGGING_RUNS_URL_LANGUAGE_SENTIMENT_OBJECTS,\n",
    "    legacy_art_langauge_sentiment_objects.dataframe,\n",
    "    cur_run_params.run_dt,\n",
    ")\n",
    "language_sentiment_objects.url"
   ]
  },
  {
   "cell_type": "code",
   "execution_count": null,
   "id": "961b6adf-94ef-4447-9e1e-203f4ce5f2fb",
   "metadata": {},
   "outputs": [],
   "source": [
    "language_sentiment_objects.dataframe.head()"
   ]
  },
  {
   "cell_type": "code",
   "execution_count": null,
   "id": "ea64719b-79d8-42e8-8e91-5bd5da456b60",
   "metadata": {},
   "outputs": [],
   "source": [
    "language_sentiment_objects_new = language_sentiment_dataset.get(TAGGING_RUNS_URL_LANGUAGE_SENTIMENT_OBJECTS)"
   ]
  },
  {
   "cell_type": "code",
   "execution_count": null,
   "id": "f736d0c6-6d2c-4426-bf6e-37430cbc924c",
   "metadata": {},
   "outputs": [],
   "source": [
    "pd.testing.assert_frame_equal(legacy_art_langauge_sentiment_objects.dataframe, language_sentiment_objects_new)"
   ]
  },
  {
   "cell_type": "code",
   "execution_count": null,
   "id": "32384d10-a4a0-412f-bf44-60f5349bb8ad",
   "metadata": {},
   "outputs": [],
   "source": [
    "artifacts.dataframes.delete(legacy_art_langauge_sentiment_objects)"
   ]
  }
 ],
 "metadata": {
  "kernelspec": {
   "display_name": "Python 3 (ipykernel)",
   "language": "python",
   "name": "python3"
  },
  "language_info": {
   "codemirror_mode": {
    "name": "ipython",
    "version": 3
   },
   "file_extension": ".py",
   "mimetype": "text/x-python",
   "name": "python",
   "nbconvert_exporter": "python",
   "pygments_lexer": "ipython3",
   "version": "3.9.2"
  }
 },
 "nbformat": 4,
 "nbformat_minor": 5
}
